{
 "cells": [
  {
   "cell_type": "markdown",
   "metadata": {},
   "source": [
    "### Bert"
   ]
  },
  {
   "cell_type": "code",
   "execution_count": null,
   "metadata": {},
   "outputs": [],
   "source": [
    "from CC.trainer import NERTrainer\n",
    "\n",
    "args = {\n",
    "    'num_epochs': 30,\n",
    "    'num_gpus': [0],\n",
    "    'bert_config_file_name': './model/chinese_wwm_ext/bert_config.json',\n",
    "    'pretrained_file_name': './model/chinese_wwm_ext/pytorch_model.bin',\n",
    "    'hidden_dim': 300,\n",
    "    'train_file': './data/ccks/conll/train.txt',\n",
    "    'eval_file': './data/ccks/conll/dev.txt',\n",
    "    'test_file': './data/ccks/subtask1_test.txt',\n",
    "    'bert_vocab_file': './model/chinese_wwm_ext/vocab.txt',\n",
    "    'tag_file': 'data/ccks/ccks_tags_list.txt',\n",
    "    'loader_name': 'cn_loader',\n",
    "    'output_eval':True,\n",
    "    \"default_tag\":\"O\",\n",
    "    'batch_size': 8,\n",
    "    'eval_batch_size': 64,\n",
    "    'do_shuffle': True,\n",
    "    \"use_gpu\": True,\n",
    "    \"debug\": True,\n",
    "    'model_name': 'Bert',\n",
    "    'classify':'lstm_crf',\n",
    "    'task_name': 'ccks_bert_lstm_crf_1',\n",
    "\n",
    "}\n",
    "\n",
    "# Trainer\n",
    "trainer = NERTrainer(**args)\n",
    "\n",
    "for i in trainer(lr2=1e-2):\n",
    "    a = i"
   ]
  },
  {
   "cell_type": "code",
   "execution_count": null,
   "metadata": {},
   "outputs": [],
   "source": [
    "args[\"task_name\"] = \"ccks_bert_lstm_crf_2\"\n",
    "\n",
    "trainer = NERTrainer(**args)\n",
    "\n",
    "for i in trainer(lr2=1e-2):\n",
    "    a = i"
   ]
  },
  {
   "cell_type": "code",
   "execution_count": null,
   "metadata": {},
   "outputs": [],
   "source": [
    "args[\"task_name\"] = \"ccks_bert_lstm_crf_3\"\n",
    "\n",
    "trainer = NERTrainer(**args)\n",
    "\n",
    "for i in trainer(lr2=1e-2):\n",
    "    a = i"
   ]
  },
  {
   "cell_type": "code",
   "execution_count": null,
   "metadata": {},
   "outputs": [],
   "source": [
    "args[\"task_name\"] = \"ccks_bert_lstm_crf_4\"\n",
    "\n",
    "trainer = NERTrainer(**args)\n",
    "\n",
    "for i in trainer(lr2=1e-2):\n",
    "    a = i"
   ]
  },
  {
   "cell_type": "code",
   "execution_count": null,
   "metadata": {},
   "outputs": [],
   "source": [
    "args[\"task_name\"] = \"ccks_bert_lstm_crf_5\"\n",
    "\n",
    "trainer = NERTrainer(**args)\n",
    "\n",
    "for i in trainer(lr2=1e-2):\n",
    "    a = i"
   ]
  },
  {
   "cell_type": "markdown",
   "metadata": {},
   "source": [
    "### LEBert"
   ]
  },
  {
   "cell_type": "code",
   "execution_count": 1,
   "metadata": {},
   "outputs": [
    {
     "name": "stdout",
     "output_type": "stream",
     "text": [
      "kwargs parser: {\n",
      "    \"batch_size\": 8,\n",
      "    \"eval_batch_size\": 64,\n",
      "    \"test_batch_size\": 16,\n",
      "    \"word_embedding_file\": \"./data/tencent/word_embedding.txt\",\n",
      "    \"word_vocab_file\": \"./data/tencent/tencent_vocab.txt\",\n",
      "    \"train_file\": \"./data/ccks/train.json\",\n",
      "    \"eval_file\": \"./data/ccks/dev.json\",\n",
      "    \"test_file\": \"./data/ccks/subtask1_test.json\",\n",
      "    \"tag_file\": \"data/ccks/ccks_tags_list.txt\",\n",
      "    \"bert_vocab_file\": \"./model/chinese_wwm_ext/vocab.txt\",\n",
      "    \"output_eval\": true,\n",
      "    \"max_scan_num\": 1000000,\n",
      "    \"add_seq_vocab\": false,\n",
      "    \"max_seq_length\": 150,\n",
      "    \"max_word_num\": 5,\n",
      "    \"default_tag\": \"O\",\n",
      "    \"use_test\": false,\n",
      "    \"do_shuffle\": true,\n",
      "    \"do_predict\": false,\n",
      "    \"task_name\": \"ccks_LEBert_crf_1\"\n",
      "}\n"
     ]
    },
    {
     "name": "stderr",
     "output_type": "stream",
     "text": [
      "calculate ./data/ccks/train.json etag: 100%|██████████| 4.00M/4.00M [00:00<00:00, 312MB/s]\n",
      "calculate ./data/ccks/dev.json etag: 100%|██████████| 974k/974k [00:00<00:00, 339MB/s]\n",
      "calculate ./data/ccks/subtask1_test.json etag: 100%|██████████| 1.57M/1.57M [00:00<00:00, 362MB/s]\n",
      "calculate data/ccks/ccks_tags_list.txt etag: 100%|██████████| 85.0/85.0 [00:00<00:00, 157kB/s]\n",
      "count line size ./data/tencent/tencent_vocab.txt: 8824306L [00:01, 6827556.50L/s]\n",
      "build line mapper: 8824306L [00:03, 2578631.46L/s][00:00<?, ?it/s]\n",
      "load vocabs into trie: 100%|██████████| 1000000/1000000 [00:14<00:00, 66936.92it/s]\n",
      "build trie: 100%|██████████| 1000000/1000000 [00:12<00:00, 80352.54it/s]\n",
      "count line size ./data/ccks/train.json: 801L [00:00, 177252.16L/s]\n",
      "load dataset matched word: 100%|█████████▉| 800/801 [00:01<00:00, 455.48it/s]\n",
      "count line size ./data/ccks/dev.json: 201L [00:00, 153673.92L/s]\n",
      "load dataset matched word: 100%|█████████▉| 200/201 [00:00<00:00, 479.48it/s]\n",
      "count line size ./data/ccks/subtask1_test.json: 380L [00:00, 230189.99L/s]\n",
      "load dataset matched word: 100%|█████████▉| 379/380 [00:00<00:00, 583.02it/s]\n",
      "load vocab from list: 100%|██████████| 20462/20462 [00:00<00:00, 660793.41it/s]\n",
      "count line size data/ccks/ccks_tags_list.txt: 13L [00:00, 98422.30L/s]\n",
      "build line mapper: 13L [00:00, 24616.68L/s]3 [00:00<?, ?it/s]\n",
      "load vocab from files: 100%|██████████| 13/13 [00:00<00:00, 3628.53it/s]\n",
      "load vocab from list: 100%|██████████| 13/13 [00:00<00:00, 125925.99it/s]\n",
      "count line size ./data/tencent/word_embedding.txt: 8824332L [00:21, 412135.14L/s]\n",
      "build line mapper: 8824332L [00:29, 300608.43L/s]0 [00:00<?, ?it/s]\n",
      "load word embedding...:   1%|          | 6123/1000000 [00:29<46:19, 357.53it/s]  "
     ]
    },
    {
     "name": "stdout",
     "output_type": "stream",
     "text": [
      "['-0.073052', '-0.454791', '-0.136675', '0.258515', '0.011885', '0.041317', '0.041896', '0.128609', '-0.163152', '0.246874', '0.092835', '-0.126660', '0.178079', '-0.286865', '0.027544', '-0.119339', '-0.007087', '-0.189252', '0.377924', '0.023270', '-0.367283', '-0.070051', '0.030247', '0.319996', '0.058990', '0.139447', '-0.126480', '0.268859', '-0.023930', '0.227637', '0.044645', '0.301265', '-0.234713', '0.074171', '-0.306097', '-0.403798', '0.140713', '-0.101598', '0.047656', '-0.276438', '-0.080730', '0.143143', '0.189617', '0.129756', '0.185805', '0.133780', '-0.318322', '-0.483692', '0.408157', '0.031308', '-0.311013', '0.059570', '-0.224590', '0.414112', '0.384909', '-0.305530', '0.131048', '0.119147', '0.059128', '-0.248051', '-0.138340', '-0.000503', '-0.100918', '0.304257', '-0.368741', '0.131073', '-0.237684', '-0.029870', '-0.244446', '-0.151965', '-0.221822', '0.489918', '0.114530', '0.175746', '-0.040124', '-0.295019', '-0.063676', '0.157994', '-0.011577', '-0.144796', '0.072814', '0.670234', '0.158069', '0.444338', '0.187207', '-0.178194', '0.441387', '-0.113229', '-0.311998', '-0.262850', '0.166731', '-0.074662', '-0.120234', '-0.557770', '0.217205', '-0.100354', '-0.315967', '-0.199034', '0.044077', '0.072797', '-0.041775', '0.057079', '0.252978', '0.155448', '-0.151973', '0.304786', '0.286322', '-0.461290', '-0.391043', '-0.356367', '0.050163', '-0.301053', '-0.258514', '0.085645', '0.219664', '-0.164307', '0.024513', '-0.077458', '-0.200825', '-0.418520', '0.258938', '-0.140829', '0.152272', '0.176600', '0.340460', '0.357031', '-0.039533', '0.113248', '0.152953', '-0.136520', '-0.167888', '-0.033082', '0.532537', '-0.086386', '-0.234421', '-0.337486', '-0.016323', '-0.018524', '-0.000276', '-0.252389', '-0.395252', '-0.324214', '-0.259109', '0.308163', '0.353517', '-0.195429', '0.319425', '-0.014722', '0.196231', '0.051138', '-0.161133', '-0.056247', '0.262345', '-0.192682', '0.272561', '0.010028', '0.139295', '-0.224138', '0.507957', '0.109516', '0.273037', '0.105556', '-0.182561', '0.069247', '0.102232', '-0.009683', '-0.127744', '0.224196', '-0.027222', '-0.057221', '0.096212', '0.126842', '-0.309821', '-0.031813', '0.135091', '-0.046443', '0.000263', '0.098762', '0.394687', '-0.081866', '0.021604', '0.033224', '-0.121693', '0.001640', '-0.080564', '0.109319', '-0.128558', '0.327593', '0.000599', '0.335171', '0.104823', '0.229730', '0.158929', '-0.203982', '0.355367', '0.507303', '-0.173355', '-0.388700', '-0.324610', '0.296036'] embedding error\n"
     ]
    },
    {
     "name": "stderr",
     "output_type": "stream",
     "text": [
      "load word embedding...: 100%|██████████| 1000000/1000000 [01:01<00:00, 16217.37it/s]\n",
      "load vocab embedding: 20469it [00:01, 12522.78it/s]\n",
      "/home/zl/anaconda3/envs/NER/lib/python3.7/site-packages/transformers/tokenization_utils_base.py:1643: FutureWarning: Calling BertTokenizer.from_pretrained() with the path to a single file or url is deprecated and won't be possible anymore in v5. Use a model identifier or the path to a directory instead.\n",
      "  FutureWarning,\n",
      "load dataset from ./data/ccks/train.json: 100%|██████████| 800/800 [00:01<00:00, 444.80it/s]\n",
      "load dataset from ./data/ccks/dev.json: 100%|██████████| 200/200 [00:00<00:00, 451.56it/s]\n"
     ]
    },
    {
     "name": "stdout",
     "output_type": "stream",
     "text": [
      "Load pretrained embedding from file.........\n"
     ]
    },
    {
     "name": "stderr",
     "output_type": "stream",
     "text": [
      "Some weights of the model checkpoint at ./model/chinese_wwm_ext/pytorch_model.bin were not used when initializing LEBertModel: ['cls.predictions.bias', 'cls.predictions.transform.LayerNorm.bias', 'cls.predictions.transform.LayerNorm.weight', 'cls.predictions.decoder.weight', 'cls.predictions.transform.dense.weight', 'cls.seq_relationship.weight', 'cls.seq_relationship.bias', 'cls.predictions.transform.dense.bias']\n",
      "- This IS expected if you are initializing LEBertModel from the checkpoint of a model trained on another task or with another architecture (e.g. initializing a BertForSequenceClassification model from a BertForPreTraining model).\n",
      "- This IS NOT expected if you are initializing LEBertModel from the checkpoint of a model that you expect to be exactly identical (initializing a BertForSequenceClassification model from a BertForSequenceClassification model).\n",
      "Some weights of LEBertModel were not initialized from the model checkpoint at ./model/chinese_wwm_ext/pytorch_model.bin and are newly initialized: ['bert.encoder.layer.0.word_word_weight.bias', 'bert.encoder.layer.0.attn_W', 'bert.encoder.layer.0.fuse_layernorm.bias', 'bert.encoder.layer.0.fuse_layernorm.weight', 'bert.embeddings.position_ids', 'bert.encoder.layer.0.word_word_weight.weight', 'word_embeddings.weight', 'bert.encoder.layer.0.word_transform.bias', 'bert.encoder.layer.0.word_transform.weight']\n",
      "You should probably TRAIN this model on a down-stream task to be able to use it for predictions and inference.\n",
      "Epoch: 1/30 Train:  22%|██▏       | 22/100 [00:08<00:25,  3.04it/s, F1=0.00267, train_acc=0.189, train_loss=387, train_precision=0.0018, train_recall=0.0112]     /home/zl/anaconda3/envs/NER/lib/python3.7/site-packages/seqeval/metrics/v1.py:57: UndefinedMetricWarning: Precision is ill-defined and being set to 0.0 due to no predicted samples. Use `zero_division` parameter to control this behavior.\n",
      "  _warn_prf(average, modifier, msg_start, len(result))\n",
      "Epoch: 1/30 Train: 100%|██████████| 100/100 [00:35<00:00,  2.81it/s, F1=0.134, train_acc=0.7, train_loss=151, train_precision=0.112, train_recall=0.174]       \n",
      "Eval Result: 100%|██████████| 4/4 [00:01<00:00,  2.31it/s, F1=0.47, eval_acc=0.934, eval_loss=30.3, eval_precision=0.409, eval_recall=0.554] \n",
      "Epoch: 2/30 Train: 100%|██████████| 100/100 [00:34<00:00,  2.88it/s, F1=0.532, train_acc=0.935, train_loss=29.7, train_precision=0.485, train_recall=0.596]\n",
      "Eval Result: 100%|██████████| 4/4 [00:01<00:00,  2.32it/s, F1=0.712, eval_acc=0.961, eval_loss=17.5, eval_precision=0.686, eval_recall=0.74] \n",
      "Epoch: 3/30 Train: 100%|██████████| 100/100 [00:36<00:00,  2.72it/s, F1=0.694, train_acc=0.954, train_loss=18.6, train_precision=0.668, train_recall=0.725]\n",
      "Eval Result: 100%|██████████| 4/4 [00:01<00:00,  2.31it/s, F1=0.741, eval_acc=0.957, eval_loss=19.1, eval_precision=0.732, eval_recall=0.752]\n",
      "Epoch: 4/30 Train: 100%|██████████| 100/100 [00:34<00:00,  2.92it/s, F1=0.772, train_acc=0.964, train_loss=13.2, train_precision=0.759, train_recall=0.787]\n",
      "Eval Result: 100%|██████████| 4/4 [00:01<00:00,  2.35it/s, F1=0.725, eval_acc=0.941, eval_loss=25.5, eval_precision=0.7, eval_recall=0.753]  \n",
      "Epoch: 5/30 Train: 100%|██████████| 100/100 [00:34<00:00,  2.91it/s, F1=0.798, train_acc=0.968, train_loss=11, train_precision=0.79, train_recall=0.808]  \n",
      "Eval Result: 100%|██████████| 4/4 [00:01<00:00,  2.28it/s, F1=0.769, eval_acc=0.952, eval_loss=20, eval_precision=0.754, eval_recall=0.785]  \n",
      "Epoch: 6/30 Train: 100%|██████████| 100/100 [00:36<00:00,  2.75it/s, F1=0.837, train_acc=0.975, train_loss=8.45, train_precision=0.835, train_recall=0.84]\n",
      "Eval Result: 100%|██████████| 4/4 [00:01<00:00,  2.26it/s, F1=0.783, eval_acc=0.957, eval_loss=16, eval_precision=0.768, eval_recall=0.8]    \n",
      "Epoch: 7/30 Train: 100%|██████████| 100/100 [00:34<00:00,  2.89it/s, F1=0.853, train_acc=0.978, train_loss=6.89, train_precision=0.851, train_recall=0.855]\n",
      "Eval Result: 100%|██████████| 4/4 [00:01<00:00,  2.32it/s, F1=0.776, eval_acc=0.955, eval_loss=19.4, eval_precision=0.766, eval_recall=0.786]\n",
      "Epoch: 8/30 Train: 100%|██████████| 100/100 [00:34<00:00,  2.91it/s, F1=0.869, train_acc=0.98, train_loss=6.2, train_precision=0.866, train_recall=0.872] \n",
      "Eval Result: 100%|██████████| 4/4 [00:01<00:00,  2.32it/s, F1=0.774, eval_acc=0.951, eval_loss=21.5, eval_precision=0.755, eval_recall=0.793]\n",
      "Epoch: 9/30 Train: 100%|██████████| 100/100 [00:34<00:00,  2.87it/s, F1=0.882, train_acc=0.983, train_loss=5.05, train_precision=0.88, train_recall=0.884]\n",
      "Eval Result: 100%|██████████| 4/4 [00:01<00:00,  2.30it/s, F1=0.789, eval_acc=0.955, eval_loss=19.4, eval_precision=0.788, eval_recall=0.79] \n",
      "Epoch: 10/30 Train: 100%|██████████| 100/100 [00:35<00:00,  2.81it/s, F1=0.892, train_acc=0.983, train_loss=4.68, train_precision=0.89, train_recall=0.895]\n",
      "Eval Result: 100%|██████████| 4/4 [00:01<00:00,  2.28it/s, F1=0.792, eval_acc=0.958, eval_loss=17.8, eval_precision=0.789, eval_recall=0.795]\n",
      "Epoch: 11/30 Train: 100%|██████████| 100/100 [00:34<00:00,  2.87it/s, F1=0.908, train_acc=0.985, train_loss=4.27, train_precision=0.908, train_recall=0.91]\n",
      "Eval Result: 100%|██████████| 4/4 [00:01<00:00,  2.20it/s, F1=0.807, eval_acc=0.963, eval_loss=17.1, eval_precision=0.813, eval_recall=0.8] \n",
      "Epoch: 12/30 Train: 100%|██████████| 100/100 [00:35<00:00,  2.83it/s, F1=0.904, train_acc=0.986, train_loss=3.98, train_precision=0.9, train_recall=0.909] \n",
      "Eval Result: 100%|██████████| 4/4 [00:01<00:00,  2.31it/s, F1=0.809, eval_acc=0.96, eval_loss=16.7, eval_precision=0.817, eval_recall=0.801] \n",
      "Epoch: 13/30 Train: 100%|██████████| 100/100 [00:34<00:00,  2.87it/s, F1=0.922, train_acc=0.989, train_loss=3.27, train_precision=0.922, train_recall=0.923]\n",
      "Eval Result: 100%|██████████| 4/4 [00:01<00:00,  2.27it/s, F1=0.811, eval_acc=0.963, eval_loss=15.5, eval_precision=0.801, eval_recall=0.821]\n",
      "Epoch: 14/30 Train: 100%|██████████| 100/100 [00:34<00:00,  2.87it/s, F1=0.922, train_acc=0.99, train_loss=3, train_precision=0.922, train_recall=0.923]   \n",
      "Eval Result: 100%|██████████| 4/4 [00:01<00:00,  2.29it/s, F1=0.822, eval_acc=0.966, eval_loss=16.3, eval_precision=0.811, eval_recall=0.834]\n",
      "Epoch: 15/30 Train: 100%|██████████| 100/100 [00:36<00:00,  2.74it/s, F1=0.938, train_acc=0.992, train_loss=2.25, train_precision=0.938, train_recall=0.939]\n",
      "Eval Result: 100%|██████████| 4/4 [00:01<00:00,  2.44it/s, F1=0.819, eval_acc=0.965, eval_loss=17.6, eval_precision=0.807, eval_recall=0.832]\n",
      "Epoch: 16/30 Train: 100%|██████████| 100/100 [00:35<00:00,  2.78it/s, F1=0.952, train_acc=0.994, train_loss=1.81, train_precision=0.952, train_recall=0.953]\n",
      "Eval Result: 100%|██████████| 4/4 [00:01<00:00,  2.25it/s, F1=0.822, eval_acc=0.966, eval_loss=17.8, eval_precision=0.813, eval_recall=0.83] \n",
      "Epoch: 17/30 Train: 100%|██████████| 100/100 [00:36<00:00,  2.77it/s, F1=0.955, train_acc=0.994, train_loss=1.83, train_precision=0.954, train_recall=0.955]\n",
      "Eval Result: 100%|██████████| 4/4 [00:01<00:00,  2.30it/s, F1=0.79, eval_acc=0.959, eval_loss=22.1, eval_precision=0.789, eval_recall=0.791] \n",
      "Epoch: 18/30 Train: 100%|██████████| 100/100 [00:34<00:00,  2.87it/s, F1=0.952, train_acc=0.992, train_loss=2.41, train_precision=0.95, train_recall=0.954]\n",
      "Eval Result: 100%|██████████| 4/4 [00:01<00:00,  2.30it/s, F1=0.781, eval_acc=0.953, eval_loss=24.5, eval_precision=0.767, eval_recall=0.795]\n",
      "Epoch: 19/30 Train: 100%|██████████| 100/100 [00:35<00:00,  2.79it/s, F1=0.951, train_acc=0.993, train_loss=2.27, train_precision=0.949, train_recall=0.953]\n",
      "Eval Result: 100%|██████████| 4/4 [00:01<00:00,  2.17it/s, F1=0.793, eval_acc=0.954, eval_loss=22.3, eval_precision=0.781, eval_recall=0.806]\n",
      "Epoch: 20/30 Train: 100%|██████████| 100/100 [00:34<00:00,  2.89it/s, F1=0.95, train_acc=0.992, train_loss=2.02, train_precision=0.949, train_recall=0.952]\n",
      "Eval Result: 100%|██████████| 4/4 [00:01<00:00,  2.26it/s, F1=0.787, eval_acc=0.958, eval_loss=24.1, eval_precision=0.778, eval_recall=0.796]\n",
      "Epoch: 21/30 Train: 100%|██████████| 100/100 [00:34<00:00,  2.89it/s, F1=0.956, train_acc=0.994, train_loss=1.88, train_precision=0.955, train_recall=0.957]\n",
      "Eval Result: 100%|██████████| 4/4 [00:01<00:00,  2.30it/s, F1=0.812, eval_acc=0.959, eval_loss=20.4, eval_precision=0.809, eval_recall=0.814]\n",
      "Epoch: 22/30 Train: 100%|██████████| 100/100 [00:34<00:00,  2.87it/s, F1=0.965, train_acc=0.995, train_loss=1.51, train_precision=0.966, train_recall=0.964]\n",
      "Eval Result: 100%|██████████| 4/4 [00:01<00:00,  2.31it/s, F1=0.821, eval_acc=0.962, eval_loss=20, eval_precision=0.815, eval_recall=0.828]  \n",
      "Epoch: 23/30 Train: 100%|██████████| 100/100 [00:35<00:00,  2.80it/s, F1=0.972, train_acc=0.996, train_loss=1.13, train_precision=0.972, train_recall=0.972]\n",
      "Eval Result: 100%|██████████| 4/4 [00:01<00:00,  2.24it/s, F1=0.822, eval_acc=0.963, eval_loss=21.1, eval_precision=0.811, eval_recall=0.834]\n",
      "Epoch: 24/30 Train: 100%|██████████| 100/100 [00:34<00:00,  2.90it/s, F1=0.973, train_acc=0.996, train_loss=1.12, train_precision=0.972, train_recall=0.974]\n",
      "Eval Result: 100%|██████████| 4/4 [00:01<00:00,  2.27it/s, F1=0.819, eval_acc=0.962, eval_loss=20.8, eval_precision=0.814, eval_recall=0.825]\n",
      "Epoch: 25/30 Train: 100%|██████████| 100/100 [00:35<00:00,  2.85it/s, F1=0.978, train_acc=0.997, train_loss=0.766, train_precision=0.978, train_recall=0.979]\n",
      "Eval Result: 100%|██████████| 4/4 [00:01<00:00,  2.01it/s, F1=0.828, eval_acc=0.966, eval_loss=22, eval_precision=0.82, eval_recall=0.835]   \n",
      "Epoch: 26/30 Train: 100%|██████████| 100/100 [00:35<00:00,  2.83it/s, F1=0.979, train_acc=0.998, train_loss=0.76, train_precision=0.979, train_recall=0.98] \n",
      "Eval Result: 100%|██████████| 4/4 [00:01<00:00,  2.43it/s, F1=0.81, eval_acc=0.964, eval_loss=22.1, eval_precision=0.802, eval_recall=0.819] \n",
      "Epoch: 27/30 Train: 100%|██████████| 100/100 [00:34<00:00,  2.89it/s, F1=0.979, train_acc=0.997, train_loss=0.784, train_precision=0.978, train_recall=0.981]\n",
      "Eval Result: 100%|██████████| 4/4 [00:01<00:00,  2.26it/s, F1=0.817, eval_acc=0.965, eval_loss=22.4, eval_precision=0.809, eval_recall=0.826]\n",
      "Epoch: 28/30 Train: 100%|██████████| 100/100 [00:34<00:00,  2.88it/s, F1=0.976, train_acc=0.996, train_loss=1.17, train_precision=0.975, train_recall=0.977]\n",
      "Eval Result: 100%|██████████| 4/4 [00:01<00:00,  2.32it/s, F1=0.809, eval_acc=0.963, eval_loss=23.4, eval_precision=0.795, eval_recall=0.824]\n",
      "Epoch: 29/30 Train: 100%|██████████| 100/100 [00:34<00:00,  2.89it/s, F1=0.979, train_acc=0.997, train_loss=0.84, train_precision=0.979, train_recall=0.979]\n",
      "Eval Result: 100%|██████████| 4/4 [00:01<00:00,  2.37it/s, F1=0.805, eval_acc=0.964, eval_loss=23.8, eval_precision=0.795, eval_recall=0.814]\n",
      "Epoch: 30/30 Train: 100%|██████████| 100/100 [00:34<00:00,  2.89it/s, F1=0.981, train_acc=0.997, train_loss=0.755, train_precision=0.98, train_recall=0.981]\n",
      "Eval Result: 100%|██████████| 4/4 [00:01<00:00,  2.12it/s, F1=0.834, eval_acc=0.966, eval_loss=21.6, eval_precision=0.827, eval_recall=0.841]\n"
     ]
    }
   ],
   "source": [
    "from CC.trainer import NERTrainer\n",
    "\n",
    "args = {\n",
    "    'num_epochs': 30,\n",
    "    'num_gpus': [0],\n",
    "    'bert_config_file_name': './model/chinese_wwm_ext/bert_config.json',\n",
    "    'pretrained_file_name': './model/chinese_wwm_ext/pytorch_model.bin',\n",
    "    'hidden_dim': 300,\n",
    "    'max_seq_length': 150,\n",
    "    'max_scan_num': 1000000,\n",
    "    # 'inter_max_scan_num': 3000,\n",
    "    'train_file': './data/ccks/train.json',\n",
    "    'eval_file': './data/ccks/dev.json',\n",
    "    'test_file': './data/ccks/subtask1_test.json',\n",
    "    'bert_vocab_file': './model/chinese_wwm_ext/vocab.txt',\n",
    "    'tag_file': 'data/ccks/ccks_tags_list.txt',\n",
    "    # 'loader_name': 'le_loader_zl',\n",
    "    'loader_name': 'le_loader',\n",
    "    'output_eval':True,\n",
    "    \"word_embedding_file\":\"./data/tencent/word_embedding.txt\",\n",
    "    \"word_vocab_file\":\"./data/tencent/tencent_vocab.txt\",\n",
    "    # \"inter_knowledge_file\":\"./data/tencent/THUOCL_FN_medical.txt\",\n",
    "    \"default_tag\":\"O\",\n",
    "    'batch_size': 8,\n",
    "    'eval_batch_size': 64,\n",
    "    'do_shuffle': True,\n",
    "    \"use_gpu\": True,\n",
    "    \"debug\": True,\n",
    "    'model_name': 'LEBert',\n",
    "    'classify':'crf',\n",
    "    'task_name': 'ccks_LEBert_crf_1'\n",
    "}\n",
    "\n",
    "# Trainer\n",
    "trainer = NERTrainer(**args)\n",
    "\n",
    "for i in trainer(lr2=1e-2):\n",
    "    a = i"
   ]
  },
  {
   "cell_type": "code",
   "execution_count": 2,
   "metadata": {},
   "outputs": [
    {
     "name": "stdout",
     "output_type": "stream",
     "text": [
      "kwargs parser: {\n",
      "    \"batch_size\": 8,\n",
      "    \"eval_batch_size\": 64,\n",
      "    \"test_batch_size\": 16,\n",
      "    \"word_embedding_file\": \"./data/tencent/word_embedding.txt\",\n",
      "    \"word_vocab_file\": \"./data/tencent/tencent_vocab.txt\",\n",
      "    \"train_file\": \"./data/ccks/train.json\",\n",
      "    \"eval_file\": \"./data/ccks/dev.json\",\n",
      "    \"test_file\": \"./data/ccks/subtask1_test.json\",\n",
      "    \"tag_file\": \"data/ccks/ccks_tags_list.txt\",\n",
      "    \"bert_vocab_file\": \"./model/chinese_wwm_ext/vocab.txt\",\n",
      "    \"output_eval\": true,\n",
      "    \"max_scan_num\": 1000000,\n",
      "    \"add_seq_vocab\": false,\n",
      "    \"max_seq_length\": 150,\n",
      "    \"max_word_num\": 5,\n",
      "    \"default_tag\": \"O\",\n",
      "    \"use_test\": false,\n",
      "    \"do_shuffle\": true,\n",
      "    \"do_predict\": false,\n",
      "    \"task_name\": \"ccks_LEBert_crf_2\"\n",
      "}\n"
     ]
    },
    {
     "name": "stderr",
     "output_type": "stream",
     "text": [
      "calculate ./data/ccks/train.json etag: 100%|██████████| 4.00M/4.00M [00:00<00:00, 138MB/s]\n",
      "calculate ./data/ccks/dev.json etag: 100%|██████████| 974k/974k [00:00<00:00, 315MB/s]\n",
      "calculate ./data/ccks/subtask1_test.json etag: 100%|██████████| 1.57M/1.57M [00:00<00:00, 345MB/s]\n",
      "calculate data/ccks/ccks_tags_list.txt etag: 100%|██████████| 85.0/85.0 [00:00<00:00, 261kB/s]\n"
     ]
    },
    {
     "name": "stdout",
     "output_type": "stream",
     "text": [
      "load cached ./temp/246297de6538baa20f8e5de7ee2cec98_4cd7a2a292ec1ac1e74827f54118b8e5_cda3479a91a9c4fc8b0c534e972e99e8_9c02c6b5f9f31c0f8b66d34ba80dcf4e/1000000/lexicon_tree\n",
      "load cached ./temp/246297de6538baa20f8e5de7ee2cec98_4cd7a2a292ec1ac1e74827f54118b8e5_cda3479a91a9c4fc8b0c534e972e99e8_9c02c6b5f9f31c0f8b66d34ba80dcf4e/1000000/matched_words\n",
      "load cached ./temp/246297de6538baa20f8e5de7ee2cec98_4cd7a2a292ec1ac1e74827f54118b8e5_cda3479a91a9c4fc8b0c534e972e99e8_9c02c6b5f9f31c0f8b66d34ba80dcf4e/1000000/word_vocab\n"
     ]
    },
    {
     "name": "stderr",
     "output_type": "stream",
     "text": [
      "count line size data/ccks/ccks_tags_list.txt: 13L [00:00, 33328.82L/s]\n",
      "build line mapper: 13L [00:00, 25185.20L/s]3 [00:00<?, ?it/s]\n",
      "load vocab from files: 100%|██████████| 13/13 [00:00<00:00, 3556.12it/s]\n",
      "load vocab from list: 100%|██████████| 13/13 [00:00<00:00, 154464.45it/s]"
     ]
    },
    {
     "name": "stdout",
     "output_type": "stream",
     "text": [
      "load cached ./temp/246297de6538baa20f8e5de7ee2cec98_4cd7a2a292ec1ac1e74827f54118b8e5_cda3479a91a9c4fc8b0c534e972e99e8_9c02c6b5f9f31c0f8b66d34ba80dcf4e/1000000/vocab_embedding\n"
     ]
    },
    {
     "name": "stderr",
     "output_type": "stream",
     "text": [
      "\n",
      "load dataset from ./data/ccks/train.json: 100%|██████████| 800/800 [00:01<00:00, 450.48it/s]\n",
      "load dataset from ./data/ccks/dev.json: 100%|██████████| 200/200 [00:00<00:00, 438.70it/s]\n"
     ]
    },
    {
     "name": "stdout",
     "output_type": "stream",
     "text": [
      "Load pretrained embedding from file.........\n"
     ]
    },
    {
     "name": "stderr",
     "output_type": "stream",
     "text": [
      "Some weights of the model checkpoint at ./model/chinese_wwm_ext/pytorch_model.bin were not used when initializing LEBertModel: ['cls.predictions.bias', 'cls.predictions.transform.LayerNorm.bias', 'cls.predictions.transform.LayerNorm.weight', 'cls.predictions.decoder.weight', 'cls.predictions.transform.dense.weight', 'cls.seq_relationship.weight', 'cls.seq_relationship.bias', 'cls.predictions.transform.dense.bias']\n",
      "- This IS expected if you are initializing LEBertModel from the checkpoint of a model trained on another task or with another architecture (e.g. initializing a BertForSequenceClassification model from a BertForPreTraining model).\n",
      "- This IS NOT expected if you are initializing LEBertModel from the checkpoint of a model that you expect to be exactly identical (initializing a BertForSequenceClassification model from a BertForSequenceClassification model).\n",
      "Some weights of LEBertModel were not initialized from the model checkpoint at ./model/chinese_wwm_ext/pytorch_model.bin and are newly initialized: ['bert.encoder.layer.0.word_word_weight.bias', 'bert.encoder.layer.0.attn_W', 'bert.encoder.layer.0.fuse_layernorm.bias', 'bert.encoder.layer.0.fuse_layernorm.weight', 'bert.embeddings.position_ids', 'bert.encoder.layer.0.word_word_weight.weight', 'word_embeddings.weight', 'bert.encoder.layer.0.word_transform.bias', 'bert.encoder.layer.0.word_transform.weight']\n",
      "You should probably TRAIN this model on a down-stream task to be able to use it for predictions and inference.\n",
      "Epoch: 1/30 Train: 100%|██████████| 100/100 [00:34<00:00,  2.87it/s, F1=0.106, train_acc=0.722, train_loss=186, train_precision=0.0788, train_recall=0.169]      \n",
      "Eval Result: 100%|██████████| 4/4 [00:01<00:00,  2.28it/s, F1=0.376, eval_acc=0.929, eval_loss=40.8, eval_precision=0.288, eval_recall=0.545]\n",
      "Epoch: 2/30 Train: 100%|██████████| 100/100 [00:34<00:00,  2.88it/s, F1=0.453, train_acc=0.931, train_loss=39.2, train_precision=0.38, train_recall=0.573]\n",
      "Eval Result: 100%|██████████| 4/4 [00:01<00:00,  2.30it/s, F1=0.585, eval_acc=0.949, eval_loss=28.3, eval_precision=0.494, eval_recall=0.719]\n",
      "Epoch: 3/30 Train: 100%|██████████| 100/100 [00:34<00:00,  2.89it/s, F1=0.621, train_acc=0.953, train_loss=24.4, train_precision=0.564, train_recall=0.698]\n",
      "Eval Result: 100%|██████████| 4/4 [00:01<00:00,  2.30it/s, F1=0.672, eval_acc=0.947, eval_loss=30.6, eval_precision=0.601, eval_recall=0.761]\n",
      "Epoch: 4/30 Train: 100%|██████████| 100/100 [00:34<00:00,  2.87it/s, F1=0.71, train_acc=0.961, train_loss=18.5, train_precision=0.676, train_recall=0.75] \n",
      "Eval Result: 100%|██████████| 4/4 [00:01<00:00,  2.35it/s, F1=0.731, eval_acc=0.956, eval_loss=21.9, eval_precision=0.693, eval_recall=0.776]\n",
      "Epoch: 5/30 Train: 100%|██████████| 100/100 [00:34<00:00,  2.86it/s, F1=0.78, train_acc=0.969, train_loss=13, train_precision=0.761, train_recall=0.801]  \n",
      "Eval Result: 100%|██████████| 4/4 [00:01<00:00,  2.31it/s, F1=0.804, eval_acc=0.965, eval_loss=18.1, eval_precision=0.807, eval_recall=0.802]\n",
      "Epoch: 6/30 Train: 100%|██████████| 100/100 [00:34<00:00,  2.88it/s, F1=0.832, train_acc=0.976, train_loss=9.29, train_precision=0.821, train_recall=0.843]\n",
      "Eval Result: 100%|██████████| 4/4 [00:01<00:00,  2.29it/s, F1=0.795, eval_acc=0.963, eval_loss=17.6, eval_precision=0.783, eval_recall=0.808]\n",
      "Epoch: 7/30 Train: 100%|██████████| 100/100 [00:34<00:00,  2.88it/s, F1=0.842, train_acc=0.978, train_loss=8.23, train_precision=0.834, train_recall=0.851]\n",
      "Eval Result: 100%|██████████| 4/4 [00:01<00:00,  2.33it/s, F1=0.79, eval_acc=0.961, eval_loss=18.9, eval_precision=0.773, eval_recall=0.808] \n",
      "Epoch: 8/30 Train: 100%|██████████| 100/100 [00:34<00:00,  2.89it/s, F1=0.864, train_acc=0.981, train_loss=6.72, train_precision=0.858, train_recall=0.87]\n",
      "Eval Result: 100%|██████████| 4/4 [00:01<00:00,  2.30it/s, F1=0.797, eval_acc=0.962, eval_loss=18.4, eval_precision=0.777, eval_recall=0.819]\n",
      "Epoch: 9/30 Train: 100%|██████████| 100/100 [00:34<00:00,  2.88it/s, F1=0.886, train_acc=0.984, train_loss=5.52, train_precision=0.883, train_recall=0.889]\n",
      "Eval Result: 100%|██████████| 4/4 [00:01<00:00,  2.23it/s, F1=0.798, eval_acc=0.961, eval_loss=20.2, eval_precision=0.78, eval_recall=0.819] \n",
      "Epoch: 10/30 Train: 100%|██████████| 100/100 [00:34<00:00,  2.86it/s, F1=0.888, train_acc=0.985, train_loss=4.96, train_precision=0.885, train_recall=0.891]\n",
      "Eval Result: 100%|██████████| 4/4 [00:01<00:00,  2.29it/s, F1=0.786, eval_acc=0.958, eval_loss=22.5, eval_precision=0.762, eval_recall=0.811]\n",
      "Epoch: 11/30 Train: 100%|██████████| 100/100 [00:34<00:00,  2.89it/s, F1=0.887, train_acc=0.985, train_loss=5.04, train_precision=0.882, train_recall=0.892]\n",
      "Eval Result: 100%|██████████| 4/4 [00:01<00:00,  2.30it/s, F1=0.806, eval_acc=0.963, eval_loss=19.2, eval_precision=0.791, eval_recall=0.822]\n",
      "Epoch: 12/30 Train: 100%|██████████| 100/100 [00:36<00:00,  2.76it/s, F1=0.9, train_acc=0.987, train_loss=3.93, train_precision=0.897, train_recall=0.905] \n",
      "Eval Result: 100%|██████████| 4/4 [00:01<00:00,  2.19it/s, F1=0.766, eval_acc=0.956, eval_loss=25.6, eval_precision=0.737, eval_recall=0.798]\n",
      "Epoch: 13/30 Train: 100%|██████████| 100/100 [00:35<00:00,  2.85it/s, F1=0.91, train_acc=0.989, train_loss=3.64, train_precision=0.908, train_recall=0.913]\n",
      "Eval Result: 100%|██████████| 4/4 [00:01<00:00,  2.25it/s, F1=0.796, eval_acc=0.96, eval_loss=20.6, eval_precision=0.773, eval_recall=0.821] \n",
      "Epoch: 14/30 Train: 100%|██████████| 100/100 [00:36<00:00,  2.77it/s, F1=0.919, train_acc=0.989, train_loss=3.28, train_precision=0.917, train_recall=0.922]\n",
      "Eval Result: 100%|██████████| 4/4 [00:01<00:00,  2.23it/s, F1=0.795, eval_acc=0.958, eval_loss=21.6, eval_precision=0.767, eval_recall=0.826]\n",
      "Epoch: 15/30 Train: 100%|██████████| 100/100 [00:35<00:00,  2.82it/s, F1=0.922, train_acc=0.989, train_loss=3.29, train_precision=0.921, train_recall=0.923]\n",
      "Eval Result: 100%|██████████| 4/4 [00:01<00:00,  2.29it/s, F1=0.802, eval_acc=0.96, eval_loss=21.9, eval_precision=0.774, eval_recall=0.831] \n",
      "Epoch: 16/30 Train: 100%|██████████| 100/100 [00:35<00:00,  2.79it/s, F1=0.931, train_acc=0.991, train_loss=3.02, train_precision=0.929, train_recall=0.934]\n",
      "Eval Result: 100%|██████████| 4/4 [00:01<00:00,  2.30it/s, F1=0.823, eval_acc=0.965, eval_loss=20.8, eval_precision=0.825, eval_recall=0.821]\n",
      "Epoch: 17/30 Train: 100%|██████████| 100/100 [00:35<00:00,  2.80it/s, F1=0.939, train_acc=0.992, train_loss=2.58, train_precision=0.938, train_recall=0.94]\n",
      "Eval Result: 100%|██████████| 4/4 [00:01<00:00,  2.33it/s, F1=0.815, eval_acc=0.963, eval_loss=23.3, eval_precision=0.815, eval_recall=0.814]\n",
      "Epoch: 18/30 Train: 100%|██████████| 100/100 [00:34<00:00,  2.88it/s, F1=0.945, train_acc=0.992, train_loss=2.58, train_precision=0.943, train_recall=0.948]\n",
      "Eval Result: 100%|██████████| 4/4 [00:01<00:00,  2.31it/s, F1=0.832, eval_acc=0.965, eval_loss=20.9, eval_precision=0.832, eval_recall=0.832]\n",
      "Epoch: 19/30 Train: 100%|██████████| 100/100 [00:34<00:00,  2.89it/s, F1=0.937, train_acc=0.991, train_loss=3.16, train_precision=0.934, train_recall=0.94]\n",
      "Eval Result: 100%|██████████| 4/4 [00:01<00:00,  2.23it/s, F1=0.83, eval_acc=0.965, eval_loss=18, eval_precision=0.826, eval_recall=0.834]   \n",
      "Epoch: 20/30 Train: 100%|██████████| 100/100 [00:34<00:00,  2.88it/s, F1=0.942, train_acc=0.991, train_loss=2.83, train_precision=0.94, train_recall=0.945]\n",
      "Eval Result: 100%|██████████| 4/4 [00:01<00:00,  2.39it/s, F1=0.828, eval_acc=0.964, eval_loss=19.8, eval_precision=0.819, eval_recall=0.837]\n",
      "Epoch: 21/30 Train: 100%|██████████| 100/100 [00:34<00:00,  2.87it/s, F1=0.942, train_acc=0.992, train_loss=2.93, train_precision=0.94, train_recall=0.944]\n",
      "Eval Result: 100%|██████████| 4/4 [00:01<00:00,  2.28it/s, F1=0.804, eval_acc=0.961, eval_loss=20.4, eval_precision=0.806, eval_recall=0.802]\n",
      "Epoch: 22/30 Train: 100%|██████████| 100/100 [00:34<00:00,  2.87it/s, F1=0.947, train_acc=0.993, train_loss=2.33, train_precision=0.946, train_recall=0.949]\n",
      "Eval Result: 100%|██████████| 4/4 [00:01<00:00,  2.29it/s, F1=0.807, eval_acc=0.961, eval_loss=23.6, eval_precision=0.8, eval_recall=0.815]  \n",
      "Epoch: 23/30 Train: 100%|██████████| 100/100 [00:34<00:00,  2.87it/s, F1=0.963, train_acc=0.995, train_loss=1.54, train_precision=0.962, train_recall=0.964]\n",
      "Eval Result: 100%|██████████| 4/4 [00:01<00:00,  2.27it/s, F1=0.814, eval_acc=0.961, eval_loss=21.4, eval_precision=0.799, eval_recall=0.831]\n",
      "Epoch: 24/30 Train: 100%|██████████| 100/100 [00:35<00:00,  2.83it/s, F1=0.966, train_acc=0.996, train_loss=1.43, train_precision=0.966, train_recall=0.967]\n",
      "Eval Result: 100%|██████████| 4/4 [00:01<00:00,  2.26it/s, F1=0.8, eval_acc=0.959, eval_loss=27.3, eval_precision=0.794, eval_recall=0.806]  \n",
      "Epoch: 25/30 Train: 100%|██████████| 100/100 [00:36<00:00,  2.77it/s, F1=0.961, train_acc=0.995, train_loss=1.87, train_precision=0.96, train_recall=0.963] \n",
      "Eval Result: 100%|██████████| 4/4 [00:01<00:00,  2.25it/s, F1=0.783, eval_acc=0.954, eval_loss=25.1, eval_precision=0.774, eval_recall=0.793]\n",
      "Epoch: 26/30 Train: 100%|██████████| 100/100 [00:35<00:00,  2.81it/s, F1=0.964, train_acc=0.995, train_loss=1.55, train_precision=0.963, train_recall=0.965]\n",
      "Eval Result: 100%|██████████| 4/4 [00:01<00:00,  2.27it/s, F1=0.806, eval_acc=0.959, eval_loss=25.2, eval_precision=0.794, eval_recall=0.819]\n",
      "Epoch: 27/30 Train: 100%|██████████| 100/100 [00:35<00:00,  2.83it/s, F1=0.972, train_acc=0.996, train_loss=1.29, train_precision=0.971, train_recall=0.973]\n",
      "Eval Result: 100%|██████████| 4/4 [00:01<00:00,  2.18it/s, F1=0.812, eval_acc=0.961, eval_loss=25.8, eval_precision=0.796, eval_recall=0.829]\n",
      "Epoch: 28/30 Train: 100%|██████████| 100/100 [00:35<00:00,  2.79it/s, F1=0.972, train_acc=0.996, train_loss=1.25, train_precision=0.972, train_recall=0.973]\n",
      "Eval Result: 100%|██████████| 4/4 [00:01<00:00,  2.30it/s, F1=0.819, eval_acc=0.961, eval_loss=23.1, eval_precision=0.807, eval_recall=0.832]\n",
      "Epoch: 29/30 Train: 100%|██████████| 100/100 [00:35<00:00,  2.85it/s, F1=0.975, train_acc=0.997, train_loss=1.09, train_precision=0.975, train_recall=0.976]\n",
      "Eval Result: 100%|██████████| 4/4 [00:01<00:00,  2.12it/s, F1=0.833, eval_acc=0.962, eval_loss=21.9, eval_precision=0.82, eval_recall=0.846] \n",
      "Epoch: 30/30 Train: 100%|██████████| 100/100 [00:36<00:00,  2.77it/s, F1=0.98, train_acc=0.997, train_loss=0.971, train_precision=0.979, train_recall=0.98] \n",
      "Eval Result: 100%|██████████| 4/4 [00:01<00:00,  2.31it/s, F1=0.816, eval_acc=0.962, eval_loss=23.1, eval_precision=0.808, eval_recall=0.825]\n"
     ]
    }
   ],
   "source": [
    "args[\"task_name\"] = \"ccks_LEBert_crf_2\"\n",
    "\n",
    "trainer = NERTrainer(**args)\n",
    "\n",
    "for i in trainer(lr2=1e-2):\n",
    "    a = i"
   ]
  },
  {
   "cell_type": "code",
   "execution_count": 3,
   "metadata": {},
   "outputs": [
    {
     "name": "stdout",
     "output_type": "stream",
     "text": [
      "kwargs parser: {\n",
      "    \"batch_size\": 8,\n",
      "    \"eval_batch_size\": 64,\n",
      "    \"test_batch_size\": 16,\n",
      "    \"word_embedding_file\": \"./data/tencent/word_embedding.txt\",\n",
      "    \"word_vocab_file\": \"./data/tencent/tencent_vocab.txt\",\n",
      "    \"train_file\": \"./data/ccks/train.json\",\n",
      "    \"eval_file\": \"./data/ccks/dev.json\",\n",
      "    \"test_file\": \"./data/ccks/subtask1_test.json\",\n",
      "    \"tag_file\": \"data/ccks/ccks_tags_list.txt\",\n",
      "    \"bert_vocab_file\": \"./model/chinese_wwm_ext/vocab.txt\",\n",
      "    \"output_eval\": true,\n",
      "    \"max_scan_num\": 1000000,\n",
      "    \"add_seq_vocab\": false,\n",
      "    \"max_seq_length\": 150,\n",
      "    \"max_word_num\": 5,\n",
      "    \"default_tag\": \"O\",\n",
      "    \"use_test\": false,\n",
      "    \"do_shuffle\": true,\n",
      "    \"do_predict\": false,\n",
      "    \"task_name\": \"ccks_LEBert_crf_3\"\n",
      "}\n"
     ]
    },
    {
     "name": "stderr",
     "output_type": "stream",
     "text": [
      "calculate ./data/ccks/train.json etag: 100%|██████████| 4.00M/4.00M [00:00<00:00, 316MB/s]\n",
      "calculate ./data/ccks/dev.json etag: 100%|██████████| 974k/974k [00:00<00:00, 282MB/s]\n",
      "calculate ./data/ccks/subtask1_test.json etag: 100%|██████████| 1.57M/1.57M [00:00<00:00, 319MB/s]\n",
      "calculate data/ccks/ccks_tags_list.txt etag: 100%|██████████| 85.0/85.0 [00:00<00:00, 200kB/s]\n"
     ]
    },
    {
     "name": "stdout",
     "output_type": "stream",
     "text": [
      "load cached ./temp/246297de6538baa20f8e5de7ee2cec98_4cd7a2a292ec1ac1e74827f54118b8e5_cda3479a91a9c4fc8b0c534e972e99e8_9c02c6b5f9f31c0f8b66d34ba80dcf4e/1000000/lexicon_tree\n",
      "load cached ./temp/246297de6538baa20f8e5de7ee2cec98_4cd7a2a292ec1ac1e74827f54118b8e5_cda3479a91a9c4fc8b0c534e972e99e8_9c02c6b5f9f31c0f8b66d34ba80dcf4e/1000000/matched_words\n",
      "load cached ./temp/246297de6538baa20f8e5de7ee2cec98_4cd7a2a292ec1ac1e74827f54118b8e5_cda3479a91a9c4fc8b0c534e972e99e8_9c02c6b5f9f31c0f8b66d34ba80dcf4e/1000000/word_vocab\n"
     ]
    },
    {
     "name": "stderr",
     "output_type": "stream",
     "text": [
      "count line size data/ccks/ccks_tags_list.txt: 13L [00:00, 38023.68L/s]\n",
      "build line mapper: 13L [00:00, 76047.35L/s]3 [00:00<?, ?it/s]\n",
      "load vocab from files: 100%|██████████| 13/13 [00:00<00:00, 3515.31it/s]\n",
      "load vocab from list: 100%|██████████| 13/13 [00:00<00:00, 153162.79it/s]\n"
     ]
    },
    {
     "name": "stdout",
     "output_type": "stream",
     "text": [
      "load cached ./temp/246297de6538baa20f8e5de7ee2cec98_4cd7a2a292ec1ac1e74827f54118b8e5_cda3479a91a9c4fc8b0c534e972e99e8_9c02c6b5f9f31c0f8b66d34ba80dcf4e/1000000/vocab_embedding\n"
     ]
    },
    {
     "name": "stderr",
     "output_type": "stream",
     "text": [
      "load dataset from ./data/ccks/train.json: 100%|██████████| 800/800 [00:01<00:00, 439.70it/s]\n",
      "load dataset from ./data/ccks/dev.json: 100%|██████████| 200/200 [00:00<00:00, 446.23it/s]\n"
     ]
    },
    {
     "name": "stdout",
     "output_type": "stream",
     "text": [
      "Load pretrained embedding from file.........\n"
     ]
    },
    {
     "name": "stderr",
     "output_type": "stream",
     "text": [
      "Some weights of the model checkpoint at ./model/chinese_wwm_ext/pytorch_model.bin were not used when initializing LEBertModel: ['cls.predictions.bias', 'cls.predictions.transform.LayerNorm.bias', 'cls.predictions.transform.LayerNorm.weight', 'cls.predictions.decoder.weight', 'cls.predictions.transform.dense.weight', 'cls.seq_relationship.weight', 'cls.seq_relationship.bias', 'cls.predictions.transform.dense.bias']\n",
      "- This IS expected if you are initializing LEBertModel from the checkpoint of a model trained on another task or with another architecture (e.g. initializing a BertForSequenceClassification model from a BertForPreTraining model).\n",
      "- This IS NOT expected if you are initializing LEBertModel from the checkpoint of a model that you expect to be exactly identical (initializing a BertForSequenceClassification model from a BertForSequenceClassification model).\n",
      "Some weights of LEBertModel were not initialized from the model checkpoint at ./model/chinese_wwm_ext/pytorch_model.bin and are newly initialized: ['bert.encoder.layer.0.word_word_weight.bias', 'bert.encoder.layer.0.attn_W', 'bert.encoder.layer.0.fuse_layernorm.bias', 'bert.encoder.layer.0.fuse_layernorm.weight', 'bert.embeddings.position_ids', 'bert.encoder.layer.0.word_word_weight.weight', 'word_embeddings.weight', 'bert.encoder.layer.0.word_transform.bias', 'bert.encoder.layer.0.word_transform.weight']\n",
      "You should probably TRAIN this model on a down-stream task to be able to use it for predictions and inference.\n",
      "Epoch: 1/30 Train: 100%|██████████| 100/100 [00:36<00:00,  2.78it/s, F1=0.138, train_acc=0.731, train_loss=158, train_precision=0.11, train_recall=0.193]        \n",
      "Eval Result: 100%|██████████| 4/4 [00:01<00:00,  2.13it/s, F1=0.478, eval_acc=0.936, eval_loss=34.2, eval_precision=0.407, eval_recall=0.581]\n",
      "Epoch: 2/30 Train: 100%|██████████| 100/100 [00:36<00:00,  2.73it/s, F1=0.512, train_acc=0.934, train_loss=34.3, train_precision=0.45, train_recall=0.601]\n",
      "Eval Result: 100%|██████████| 4/4 [00:01<00:00,  2.32it/s, F1=0.648, eval_acc=0.954, eval_loss=21.2, eval_precision=0.587, eval_recall=0.724]\n",
      "Epoch: 3/30 Train: 100%|██████████| 100/100 [00:35<00:00,  2.85it/s, F1=0.656, train_acc=0.954, train_loss=21.4, train_precision=0.613, train_recall=0.709]\n",
      "Eval Result: 100%|██████████| 4/4 [00:01<00:00,  2.31it/s, F1=0.699, eval_acc=0.957, eval_loss=18.3, eval_precision=0.658, eval_recall=0.745]\n",
      "Epoch: 4/30 Train: 100%|██████████| 100/100 [00:37<00:00,  2.67it/s, F1=0.754, train_acc=0.966, train_loss=14.5, train_precision=0.732, train_recall=0.778]\n",
      "Eval Result: 100%|██████████| 4/4 [00:01<00:00,  2.31it/s, F1=0.717, eval_acc=0.953, eval_loss=19.9, eval_precision=0.69, eval_recall=0.745] \n",
      "Epoch: 5/30 Train: 100%|██████████| 100/100 [00:35<00:00,  2.84it/s, F1=0.795, train_acc=0.971, train_loss=11.3, train_precision=0.785, train_recall=0.807]\n",
      "Eval Result: 100%|██████████| 4/4 [00:01<00:00,  2.30it/s, F1=0.742, eval_acc=0.954, eval_loss=17.7, eval_precision=0.705, eval_recall=0.784]\n",
      "Epoch: 6/30 Train: 100%|██████████| 100/100 [00:35<00:00,  2.81it/s, F1=0.812, train_acc=0.972, train_loss=9.92, train_precision=0.803, train_recall=0.823]\n",
      "Eval Result: 100%|██████████| 4/4 [00:01<00:00,  2.35it/s, F1=0.808, eval_acc=0.963, eval_loss=15.3, eval_precision=0.795, eval_recall=0.822]\n",
      "Epoch: 7/30 Train: 100%|██████████| 100/100 [00:35<00:00,  2.85it/s, F1=0.829, train_acc=0.975, train_loss=9.32, train_precision=0.823, train_recall=0.836]\n",
      "Eval Result: 100%|██████████| 4/4 [00:01<00:00,  2.36it/s, F1=0.802, eval_acc=0.963, eval_loss=14.8, eval_precision=0.792, eval_recall=0.811]\n",
      "Epoch: 8/30 Train: 100%|██████████| 100/100 [00:37<00:00,  2.66it/s, F1=0.858, train_acc=0.979, train_loss=7.06, train_precision=0.854, train_recall=0.864]\n",
      "Eval Result: 100%|██████████| 4/4 [00:01<00:00,  2.14it/s, F1=0.781, eval_acc=0.953, eval_loss=18, eval_precision=0.774, eval_recall=0.788]  \n",
      "Epoch: 9/30 Train: 100%|██████████| 100/100 [00:35<00:00,  2.82it/s, F1=0.866, train_acc=0.981, train_loss=5.92, train_precision=0.862, train_recall=0.871]\n",
      "Eval Result: 100%|██████████| 4/4 [00:01<00:00,  2.27it/s, F1=0.745, eval_acc=0.944, eval_loss=22.8, eval_precision=0.726, eval_recall=0.764]\n",
      "Epoch: 10/30 Train: 100%|██████████| 100/100 [00:35<00:00,  2.83it/s, F1=0.88, train_acc=0.983, train_loss=5.18, train_precision=0.877, train_recall=0.882]\n",
      "Eval Result: 100%|██████████| 4/4 [00:01<00:00,  2.33it/s, F1=0.78, eval_acc=0.956, eval_loss=18.9, eval_precision=0.766, eval_recall=0.795] \n",
      "Epoch: 11/30 Train: 100%|██████████| 100/100 [00:35<00:00,  2.82it/s, F1=0.903, train_acc=0.986, train_loss=4.4, train_precision=0.902, train_recall=0.905]\n",
      "Eval Result: 100%|██████████| 4/4 [00:01<00:00,  2.19it/s, F1=0.767, eval_acc=0.952, eval_loss=19.9, eval_precision=0.744, eval_recall=0.792]\n",
      "Epoch: 12/30 Train: 100%|██████████| 100/100 [00:35<00:00,  2.79it/s, F1=0.908, train_acc=0.987, train_loss=4.37, train_precision=0.904, train_recall=0.912]\n",
      "Eval Result: 100%|██████████| 4/4 [00:01<00:00,  2.32it/s, F1=0.739, eval_acc=0.947, eval_loss=19.8, eval_precision=0.713, eval_recall=0.767]\n",
      "Epoch: 13/30 Train: 100%|██████████| 100/100 [00:35<00:00,  2.82it/s, F1=0.911, train_acc=0.988, train_loss=3.77, train_precision=0.908, train_recall=0.915]\n",
      "Eval Result: 100%|██████████| 4/4 [00:01<00:00,  2.45it/s, F1=0.808, eval_acc=0.965, eval_loss=16.5, eval_precision=0.806, eval_recall=0.811]\n",
      "Epoch: 14/30 Train: 100%|██████████| 100/100 [00:36<00:00,  2.77it/s, F1=0.929, train_acc=0.991, train_loss=2.56, train_precision=0.927, train_recall=0.931]\n",
      "Eval Result: 100%|██████████| 4/4 [00:01<00:00,  2.27it/s, F1=0.797, eval_acc=0.961, eval_loss=17.7, eval_precision=0.784, eval_recall=0.812]\n",
      "Epoch: 15/30 Train: 100%|██████████| 100/100 [00:35<00:00,  2.79it/s, F1=0.937, train_acc=0.992, train_loss=2.52, train_precision=0.936, train_recall=0.938]\n",
      "Eval Result: 100%|██████████| 4/4 [00:01<00:00,  2.31it/s, F1=0.787, eval_acc=0.958, eval_loss=17.9, eval_precision=0.761, eval_recall=0.815]\n",
      "Epoch: 16/30 Train: 100%|██████████| 100/100 [00:35<00:00,  2.78it/s, F1=0.95, train_acc=0.994, train_loss=1.8, train_precision=0.949, train_recall=0.952] \n",
      "Eval Result: 100%|██████████| 4/4 [00:01<00:00,  2.29it/s, F1=0.804, eval_acc=0.961, eval_loss=18.1, eval_precision=0.794, eval_recall=0.814]\n",
      "Epoch: 17/30 Train: 100%|██████████| 100/100 [00:34<00:00,  2.87it/s, F1=0.959, train_acc=0.995, train_loss=1.5, train_precision=0.959, train_recall=0.96] \n",
      "Eval Result: 100%|██████████| 4/4 [00:01<00:00,  2.31it/s, F1=0.781, eval_acc=0.956, eval_loss=22, eval_precision=0.757, eval_recall=0.806]  \n",
      "Epoch: 18/30 Train: 100%|██████████| 100/100 [00:36<00:00,  2.71it/s, F1=0.961, train_acc=0.995, train_loss=1.54, train_precision=0.959, train_recall=0.962]\n",
      "Eval Result: 100%|██████████| 4/4 [00:02<00:00,  1.99it/s, F1=0.815, eval_acc=0.963, eval_loss=20.9, eval_precision=0.796, eval_recall=0.835]\n",
      "Epoch: 19/30 Train: 100%|██████████| 100/100 [00:35<00:00,  2.78it/s, F1=0.962, train_acc=0.995, train_loss=1.45, train_precision=0.961, train_recall=0.963]\n",
      "Eval Result: 100%|██████████| 4/4 [00:01<00:00,  2.28it/s, F1=0.824, eval_acc=0.964, eval_loss=18.6, eval_precision=0.81, eval_recall=0.839] \n",
      "Epoch: 20/30 Train: 100%|██████████| 100/100 [00:34<00:00,  2.88it/s, F1=0.964, train_acc=0.995, train_loss=1.37, train_precision=0.965, train_recall=0.963]\n",
      "Eval Result: 100%|██████████| 4/4 [00:01<00:00,  2.28it/s, F1=0.813, eval_acc=0.964, eval_loss=21.3, eval_precision=0.798, eval_recall=0.829]\n",
      "Epoch: 21/30 Train: 100%|██████████| 100/100 [00:36<00:00,  2.76it/s, F1=0.965, train_acc=0.995, train_loss=1.3, train_precision=0.963, train_recall=0.967] \n",
      "Eval Result: 100%|██████████| 4/4 [00:01<00:00,  2.19it/s, F1=0.816, eval_acc=0.965, eval_loss=20.8, eval_precision=0.799, eval_recall=0.833]\n",
      "Epoch: 22/30 Train: 100%|██████████| 100/100 [00:34<00:00,  2.86it/s, F1=0.97, train_acc=0.996, train_loss=1.23, train_precision=0.969, train_recall=0.971]\n",
      "Eval Result: 100%|██████████| 4/4 [00:01<00:00,  2.31it/s, F1=0.825, eval_acc=0.966, eval_loss=20.8, eval_precision=0.818, eval_recall=0.833]\n",
      "Epoch: 23/30 Train: 100%|██████████| 100/100 [00:34<00:00,  2.91it/s, F1=0.97, train_acc=0.996, train_loss=1.28, train_precision=0.97, train_recall=0.971] \n",
      "Eval Result: 100%|██████████| 4/4 [00:01<00:00,  2.24it/s, F1=0.794, eval_acc=0.96, eval_loss=21.8, eval_precision=0.774, eval_recall=0.816]\n",
      "Epoch: 24/30 Train: 100%|██████████| 100/100 [00:34<00:00,  2.87it/s, F1=0.958, train_acc=0.993, train_loss=1.88, train_precision=0.958, train_recall=0.959]\n",
      "Eval Result: 100%|██████████| 4/4 [00:01<00:00,  2.31it/s, F1=0.786, eval_acc=0.957, eval_loss=21.1, eval_precision=0.77, eval_recall=0.802] \n",
      "Epoch: 25/30 Train: 100%|██████████| 100/100 [00:34<00:00,  2.87it/s, F1=0.968, train_acc=0.995, train_loss=1.39, train_precision=0.966, train_recall=0.969]\n",
      "Eval Result: 100%|██████████| 4/4 [00:01<00:00,  2.34it/s, F1=0.807, eval_acc=0.965, eval_loss=21.3, eval_precision=0.803, eval_recall=0.812]\n",
      "Epoch: 26/30 Train: 100%|██████████| 100/100 [00:35<00:00,  2.80it/s, F1=0.974, train_acc=0.997, train_loss=0.962, train_precision=0.973, train_recall=0.975]\n",
      "Eval Result: 100%|██████████| 4/4 [00:01<00:00,  2.25it/s, F1=0.795, eval_acc=0.957, eval_loss=28.9, eval_precision=0.778, eval_recall=0.812]\n",
      "Epoch: 27/30 Train: 100%|██████████| 100/100 [00:36<00:00,  2.75it/s, F1=0.973, train_acc=0.996, train_loss=1.19, train_precision=0.971, train_recall=0.974]\n",
      "Eval Result: 100%|██████████| 4/4 [00:01<00:00,  2.31it/s, F1=0.808, eval_acc=0.962, eval_loss=22.2, eval_precision=0.795, eval_recall=0.821]\n",
      "Epoch: 28/30 Train: 100%|██████████| 100/100 [00:34<00:00,  2.87it/s, F1=0.978, train_acc=0.997, train_loss=0.895, train_precision=0.978, train_recall=0.978]\n",
      "Eval Result: 100%|██████████| 4/4 [00:01<00:00,  2.16it/s, F1=0.795, eval_acc=0.96, eval_loss=27.4, eval_precision=0.781, eval_recall=0.809] \n",
      "Epoch: 29/30 Train: 100%|██████████| 100/100 [00:34<00:00,  2.89it/s, F1=0.978, train_acc=0.997, train_loss=0.846, train_precision=0.979, train_recall=0.978]\n",
      "Eval Result: 100%|██████████| 4/4 [00:01<00:00,  2.28it/s, F1=0.794, eval_acc=0.955, eval_loss=30, eval_precision=0.781, eval_recall=0.807]  \n",
      "Epoch: 30/30 Train: 100%|██████████| 100/100 [00:34<00:00,  2.89it/s, F1=0.972, train_acc=0.996, train_loss=1.2, train_precision=0.971, train_recall=0.973] \n",
      "Eval Result: 100%|██████████| 4/4 [00:01<00:00,  2.30it/s, F1=0.783, eval_acc=0.957, eval_loss=26.6, eval_precision=0.759, eval_recall=0.81] \n"
     ]
    }
   ],
   "source": [
    "args[\"task_name\"] = \"ccks_LEBert_crf_3\"\n",
    "\n",
    "trainer = NERTrainer(**args)\n",
    "\n",
    "for i in trainer(lr2=1e-2):\n",
    "    a = i"
   ]
  },
  {
   "cell_type": "code",
   "execution_count": 4,
   "metadata": {},
   "outputs": [
    {
     "name": "stdout",
     "output_type": "stream",
     "text": [
      "kwargs parser: {\n",
      "    \"batch_size\": 8,\n",
      "    \"eval_batch_size\": 64,\n",
      "    \"test_batch_size\": 16,\n",
      "    \"word_embedding_file\": \"./data/tencent/word_embedding.txt\",\n",
      "    \"word_vocab_file\": \"./data/tencent/tencent_vocab.txt\",\n",
      "    \"train_file\": \"./data/ccks/train.json\",\n",
      "    \"eval_file\": \"./data/ccks/dev.json\",\n",
      "    \"test_file\": \"./data/ccks/subtask1_test.json\",\n",
      "    \"tag_file\": \"data/ccks/ccks_tags_list.txt\",\n",
      "    \"bert_vocab_file\": \"./model/chinese_wwm_ext/vocab.txt\",\n",
      "    \"output_eval\": true,\n",
      "    \"max_scan_num\": 1000000,\n",
      "    \"add_seq_vocab\": false,\n",
      "    \"max_seq_length\": 150,\n",
      "    \"max_word_num\": 5,\n",
      "    \"default_tag\": \"O\",\n",
      "    \"use_test\": false,\n",
      "    \"do_shuffle\": true,\n",
      "    \"do_predict\": false,\n",
      "    \"task_name\": \"ccks_LEBert_crf_4\"\n",
      "}\n"
     ]
    },
    {
     "name": "stderr",
     "output_type": "stream",
     "text": [
      "calculate ./data/ccks/train.json etag: 100%|██████████| 4.00M/4.00M [00:00<00:00, 134MB/s]\n",
      "calculate ./data/ccks/dev.json etag: 100%|██████████| 974k/974k [00:00<00:00, 323MB/s]\n",
      "calculate ./data/ccks/subtask1_test.json etag: 100%|██████████| 1.57M/1.57M [00:00<00:00, 360MB/s]\n",
      "calculate data/ccks/ccks_tags_list.txt etag: 100%|██████████| 85.0/85.0 [00:00<00:00, 258kB/s]\n"
     ]
    },
    {
     "name": "stdout",
     "output_type": "stream",
     "text": [
      "load cached ./temp/246297de6538baa20f8e5de7ee2cec98_4cd7a2a292ec1ac1e74827f54118b8e5_cda3479a91a9c4fc8b0c534e972e99e8_9c02c6b5f9f31c0f8b66d34ba80dcf4e/1000000/lexicon_tree\n",
      "load cached ./temp/246297de6538baa20f8e5de7ee2cec98_4cd7a2a292ec1ac1e74827f54118b8e5_cda3479a91a9c4fc8b0c534e972e99e8_9c02c6b5f9f31c0f8b66d34ba80dcf4e/1000000/matched_words\n",
      "load cached ./temp/246297de6538baa20f8e5de7ee2cec98_4cd7a2a292ec1ac1e74827f54118b8e5_cda3479a91a9c4fc8b0c534e972e99e8_9c02c6b5f9f31c0f8b66d34ba80dcf4e/1000000/word_vocab\n"
     ]
    },
    {
     "name": "stderr",
     "output_type": "stream",
     "text": [
      "count line size data/ccks/ccks_tags_list.txt: 13L [00:00, 33616.49L/s]\n",
      "build line mapper: 13L [00:00, 24966.10L/s]3 [00:00<?, ?it/s]\n",
      "load vocab from files: 100%|██████████| 13/13 [00:00<00:00, 3583.46it/s]\n",
      "load vocab from list: 100%|██████████| 13/13 [00:00<00:00, 152733.76it/s]"
     ]
    },
    {
     "name": "stdout",
     "output_type": "stream",
     "text": [
      "load cached ./temp/246297de6538baa20f8e5de7ee2cec98_4cd7a2a292ec1ac1e74827f54118b8e5_cda3479a91a9c4fc8b0c534e972e99e8_9c02c6b5f9f31c0f8b66d34ba80dcf4e/1000000/vocab_embedding\n"
     ]
    },
    {
     "name": "stderr",
     "output_type": "stream",
     "text": [
      "\n",
      "load dataset from ./data/ccks/train.json: 100%|██████████| 800/800 [00:01<00:00, 436.45it/s]\n",
      "load dataset from ./data/ccks/dev.json: 100%|██████████| 200/200 [00:00<00:00, 437.63it/s]\n"
     ]
    },
    {
     "name": "stdout",
     "output_type": "stream",
     "text": [
      "Load pretrained embedding from file.........\n"
     ]
    },
    {
     "name": "stderr",
     "output_type": "stream",
     "text": [
      "Some weights of the model checkpoint at ./model/chinese_wwm_ext/pytorch_model.bin were not used when initializing LEBertModel: ['cls.predictions.bias', 'cls.predictions.transform.LayerNorm.bias', 'cls.predictions.transform.LayerNorm.weight', 'cls.predictions.decoder.weight', 'cls.predictions.transform.dense.weight', 'cls.seq_relationship.weight', 'cls.seq_relationship.bias', 'cls.predictions.transform.dense.bias']\n",
      "- This IS expected if you are initializing LEBertModel from the checkpoint of a model trained on another task or with another architecture (e.g. initializing a BertForSequenceClassification model from a BertForPreTraining model).\n",
      "- This IS NOT expected if you are initializing LEBertModel from the checkpoint of a model that you expect to be exactly identical (initializing a BertForSequenceClassification model from a BertForSequenceClassification model).\n",
      "Some weights of LEBertModel were not initialized from the model checkpoint at ./model/chinese_wwm_ext/pytorch_model.bin and are newly initialized: ['bert.encoder.layer.0.word_word_weight.bias', 'bert.encoder.layer.0.attn_W', 'bert.encoder.layer.0.fuse_layernorm.bias', 'bert.encoder.layer.0.fuse_layernorm.weight', 'bert.embeddings.position_ids', 'bert.encoder.layer.0.word_word_weight.weight', 'word_embeddings.weight', 'bert.encoder.layer.0.word_transform.bias', 'bert.encoder.layer.0.word_transform.weight']\n",
      "You should probably TRAIN this model on a down-stream task to be able to use it for predictions and inference.\n",
      "Epoch: 1/30 Train: 100%|██████████| 100/100 [00:34<00:00,  2.88it/s, F1=0.206, train_acc=0.804, train_loss=94.2, train_precision=0.201, train_recall=0.215]      \n",
      "Eval Result: 100%|██████████| 4/4 [00:01<00:00,  2.33it/s, F1=0.576, eval_acc=0.943, eval_loss=23.6, eval_precision=0.546, eval_recall=0.611]\n",
      "Epoch: 2/30 Train: 100%|██████████| 100/100 [00:34<00:00,  2.87it/s, F1=0.626, train_acc=0.939, train_loss=24.3, train_precision=0.61, train_recall=0.646]\n",
      "Eval Result: 100%|██████████| 4/4 [00:01<00:00,  2.44it/s, F1=0.735, eval_acc=0.958, eval_loss=14.8, eval_precision=0.719, eval_recall=0.752]\n",
      "Epoch: 3/30 Train: 100%|██████████| 100/100 [00:35<00:00,  2.85it/s, F1=0.75, train_acc=0.958, train_loss=15.1, train_precision=0.741, train_recall=0.76] \n",
      "Eval Result: 100%|██████████| 4/4 [00:01<00:00,  2.30it/s, F1=0.768, eval_acc=0.957, eval_loss=13.6, eval_precision=0.767, eval_recall=0.769]\n",
      "Epoch: 4/30 Train: 100%|██████████| 100/100 [00:35<00:00,  2.85it/s, F1=0.796, train_acc=0.966, train_loss=10.9, train_precision=0.792, train_recall=0.802]\n",
      "Eval Result: 100%|██████████| 4/4 [00:01<00:00,  2.29it/s, F1=0.781, eval_acc=0.959, eval_loss=12.6, eval_precision=0.776, eval_recall=0.786]\n",
      "Epoch: 5/30 Train: 100%|██████████| 100/100 [00:35<00:00,  2.82it/s, F1=0.834, train_acc=0.972, train_loss=8.28, train_precision=0.833, train_recall=0.838]\n",
      "Eval Result: 100%|██████████| 4/4 [00:01<00:00,  2.26it/s, F1=0.788, eval_acc=0.96, eval_loss=13.3, eval_precision=0.785, eval_recall=0.791] \n",
      "Epoch: 6/30 Train: 100%|██████████| 100/100 [00:35<00:00,  2.80it/s, F1=0.849, train_acc=0.975, train_loss=7.29, train_precision=0.849, train_recall=0.851]\n",
      "Eval Result: 100%|██████████| 4/4 [00:01<00:00,  2.24it/s, F1=0.776, eval_acc=0.952, eval_loss=14.2, eval_precision=0.775, eval_recall=0.777]\n",
      "Epoch: 7/30 Train: 100%|██████████| 100/100 [00:34<00:00,  2.87it/s, F1=0.862, train_acc=0.977, train_loss=6.59, train_precision=0.86, train_recall=0.866]\n",
      "Eval Result: 100%|██████████| 4/4 [00:01<00:00,  2.20it/s, F1=0.773, eval_acc=0.954, eval_loss=13.7, eval_precision=0.767, eval_recall=0.78] \n",
      "Epoch: 8/30 Train: 100%|██████████| 100/100 [00:37<00:00,  2.70it/s, F1=0.877, train_acc=0.979, train_loss=5.86, train_precision=0.876, train_recall=0.88]\n",
      "Eval Result: 100%|██████████| 4/4 [00:01<00:00,  2.30it/s, F1=0.822, eval_acc=0.958, eval_loss=11.7, eval_precision=0.825, eval_recall=0.819]\n",
      "Epoch: 9/30 Train: 100%|██████████| 100/100 [00:35<00:00,  2.85it/s, F1=0.896, train_acc=0.984, train_loss=4.38, train_precision=0.897, train_recall=0.897]\n",
      "Eval Result: 100%|██████████| 4/4 [00:01<00:00,  2.31it/s, F1=0.811, eval_acc=0.962, eval_loss=13.1, eval_precision=0.806, eval_recall=0.815]\n",
      "Epoch: 10/30 Train: 100%|██████████| 100/100 [00:36<00:00,  2.78it/s, F1=0.911, train_acc=0.986, train_loss=3.77, train_precision=0.907, train_recall=0.915]\n",
      "Eval Result: 100%|██████████| 4/4 [00:01<00:00,  2.28it/s, F1=0.83, eval_acc=0.965, eval_loss=13.8, eval_precision=0.826, eval_recall=0.835] \n",
      "Epoch: 11/30 Train: 100%|██████████| 100/100 [00:36<00:00,  2.78it/s, F1=0.914, train_acc=0.987, train_loss=3.31, train_precision=0.913, train_recall=0.916]\n",
      "Eval Result: 100%|██████████| 4/4 [00:01<00:00,  2.31it/s, F1=0.797, eval_acc=0.958, eval_loss=15.5, eval_precision=0.783, eval_recall=0.813]\n",
      "Epoch: 12/30 Train: 100%|██████████| 100/100 [00:35<00:00,  2.85it/s, F1=0.926, train_acc=0.989, train_loss=2.85, train_precision=0.924, train_recall=0.928]\n",
      "Eval Result: 100%|██████████| 4/4 [00:01<00:00,  2.21it/s, F1=0.809, eval_acc=0.961, eval_loss=15.3, eval_precision=0.797, eval_recall=0.821]\n",
      "Epoch: 13/30 Train: 100%|██████████| 100/100 [00:34<00:00,  2.89it/s, F1=0.925, train_acc=0.989, train_loss=2.87, train_precision=0.926, train_recall=0.926]\n",
      "Eval Result: 100%|██████████| 4/4 [00:01<00:00,  2.29it/s, F1=0.817, eval_acc=0.962, eval_loss=16.6, eval_precision=0.814, eval_recall=0.82] \n",
      "Epoch: 14/30 Train: 100%|██████████| 100/100 [00:34<00:00,  2.88it/s, F1=0.942, train_acc=0.99, train_loss=2.74, train_precision=0.941, train_recall=0.943]\n",
      "Eval Result: 100%|██████████| 4/4 [00:01<00:00,  2.25it/s, F1=0.812, eval_acc=0.959, eval_loss=15, eval_precision=0.815, eval_recall=0.81]  \n",
      "Epoch: 15/30 Train: 100%|██████████| 100/100 [00:34<00:00,  2.88it/s, F1=0.946, train_acc=0.992, train_loss=2.27, train_precision=0.945, train_recall=0.947]\n",
      "Eval Result: 100%|██████████| 4/4 [00:01<00:00,  2.34it/s, F1=0.825, eval_acc=0.964, eval_loss=17.1, eval_precision=0.821, eval_recall=0.829]\n",
      "Epoch: 16/30 Train: 100%|██████████| 100/100 [00:34<00:00,  2.88it/s, F1=0.945, train_acc=0.992, train_loss=2.1, train_precision=0.944, train_recall=0.946]\n",
      "Eval Result: 100%|██████████| 4/4 [00:01<00:00,  2.33it/s, F1=0.82, eval_acc=0.965, eval_loss=19.2, eval_precision=0.814, eval_recall=0.826] \n",
      "Epoch: 17/30 Train: 100%|██████████| 100/100 [00:34<00:00,  2.87it/s, F1=0.942, train_acc=0.991, train_loss=2.47, train_precision=0.939, train_recall=0.945]\n",
      "Eval Result: 100%|██████████| 4/4 [00:01<00:00,  2.30it/s, F1=0.798, eval_acc=0.96, eval_loss=21.3, eval_precision=0.791, eval_recall=0.805] \n",
      "Epoch: 18/30 Train: 100%|██████████| 100/100 [00:34<00:00,  2.89it/s, F1=0.945, train_acc=0.992, train_loss=2.21, train_precision=0.943, train_recall=0.948]\n",
      "Eval Result: 100%|██████████| 4/4 [00:01<00:00,  2.29it/s, F1=0.81, eval_acc=0.961, eval_loss=20.5, eval_precision=0.808, eval_recall=0.813] \n",
      "Epoch: 19/30 Train: 100%|██████████| 100/100 [00:35<00:00,  2.84it/s, F1=0.949, train_acc=0.992, train_loss=2.29, train_precision=0.947, train_recall=0.951]\n",
      "Eval Result: 100%|██████████| 4/4 [00:01<00:00,  2.28it/s, F1=0.832, eval_acc=0.965, eval_loss=15.9, eval_precision=0.838, eval_recall=0.827]\n",
      "Epoch: 20/30 Train: 100%|██████████| 100/100 [00:34<00:00,  2.88it/s, F1=0.961, train_acc=0.994, train_loss=1.62, train_precision=0.96, train_recall=0.963]\n",
      "Eval Result: 100%|██████████| 4/4 [00:01<00:00,  2.28it/s, F1=0.824, eval_acc=0.964, eval_loss=19, eval_precision=0.833, eval_recall=0.815]  \n",
      "Epoch: 21/30 Train: 100%|██████████| 100/100 [00:35<00:00,  2.80it/s, F1=0.963, train_acc=0.994, train_loss=1.5, train_precision=0.961, train_recall=0.965]\n",
      "Eval Result: 100%|██████████| 4/4 [00:01<00:00,  2.28it/s, F1=0.829, eval_acc=0.964, eval_loss=17.8, eval_precision=0.831, eval_recall=0.826]\n",
      "Epoch: 22/30 Train: 100%|██████████| 100/100 [00:35<00:00,  2.85it/s, F1=0.963, train_acc=0.994, train_loss=1.39, train_precision=0.962, train_recall=0.964]\n",
      "Eval Result: 100%|██████████| 4/4 [00:01<00:00,  2.31it/s, F1=0.822, eval_acc=0.963, eval_loss=17.4, eval_precision=0.821, eval_recall=0.823]\n",
      "Epoch: 23/30 Train: 100%|██████████| 100/100 [00:34<00:00,  2.91it/s, F1=0.962, train_acc=0.994, train_loss=1.44, train_precision=0.961, train_recall=0.963]\n",
      "Eval Result: 100%|██████████| 4/4 [00:01<00:00,  2.30it/s, F1=0.829, eval_acc=0.965, eval_loss=17.6, eval_precision=0.836, eval_recall=0.821]\n",
      "Epoch: 24/30 Train: 100%|██████████| 100/100 [00:34<00:00,  2.87it/s, F1=0.967, train_acc=0.995, train_loss=1.26, train_precision=0.966, train_recall=0.968]\n",
      "Eval Result: 100%|██████████| 4/4 [00:01<00:00,  2.25it/s, F1=0.827, eval_acc=0.963, eval_loss=18.5, eval_precision=0.831, eval_recall=0.823]\n",
      "Epoch: 25/30 Train: 100%|██████████| 100/100 [00:34<00:00,  2.87it/s, F1=0.966, train_acc=0.995, train_loss=1.42, train_precision=0.965, train_recall=0.967]\n",
      "Eval Result: 100%|██████████| 4/4 [00:01<00:00,  2.28it/s, F1=0.825, eval_acc=0.963, eval_loss=20.3, eval_precision=0.819, eval_recall=0.832]\n",
      "Epoch: 26/30 Train: 100%|██████████| 100/100 [00:35<00:00,  2.81it/s, F1=0.974, train_acc=0.995, train_loss=1.3, train_precision=0.973, train_recall=0.975] \n",
      "Eval Result: 100%|██████████| 4/4 [00:01<00:00,  2.30it/s, F1=0.813, eval_acc=0.961, eval_loss=22.2, eval_precision=0.811, eval_recall=0.816]\n",
      "Epoch: 27/30 Train: 100%|██████████| 100/100 [00:34<00:00,  2.89it/s, F1=0.971, train_acc=0.995, train_loss=1.35, train_precision=0.971, train_recall=0.972]\n",
      "Eval Result: 100%|██████████| 4/4 [00:01<00:00,  2.19it/s, F1=0.814, eval_acc=0.963, eval_loss=21.7, eval_precision=0.808, eval_recall=0.821]\n",
      "Epoch: 28/30 Train: 100%|██████████| 100/100 [00:35<00:00,  2.80it/s, F1=0.974, train_acc=0.995, train_loss=1.32, train_precision=0.973, train_recall=0.975]\n",
      "Eval Result: 100%|██████████| 4/4 [00:01<00:00,  2.33it/s, F1=0.806, eval_acc=0.96, eval_loss=23.4, eval_precision=0.804, eval_recall=0.808] \n",
      "Epoch: 29/30 Train: 100%|██████████| 100/100 [00:35<00:00,  2.80it/s, F1=0.966, train_acc=0.995, train_loss=1.36, train_precision=0.965, train_recall=0.968]\n",
      "Eval Result: 100%|██████████| 4/4 [00:01<00:00,  2.29it/s, F1=0.812, eval_acc=0.961, eval_loss=20.1, eval_precision=0.802, eval_recall=0.822]\n",
      "Epoch: 30/30 Train: 100%|██████████| 100/100 [00:34<00:00,  2.86it/s, F1=0.978, train_acc=0.996, train_loss=1, train_precision=0.978, train_recall=0.979]   \n",
      "Eval Result: 100%|██████████| 4/4 [00:01<00:00,  2.15it/s, F1=0.82, eval_acc=0.962, eval_loss=22.9, eval_precision=0.813, eval_recall=0.827] \n"
     ]
    }
   ],
   "source": [
    "args[\"task_name\"] = \"ccks_LEBert_crf_4\"\n",
    "\n",
    "trainer = NERTrainer(**args)\n",
    "\n",
    "for i in trainer(lr2=1e-2):\n",
    "    a = i"
   ]
  },
  {
   "cell_type": "code",
   "execution_count": 5,
   "metadata": {},
   "outputs": [
    {
     "name": "stdout",
     "output_type": "stream",
     "text": [
      "kwargs parser: {\n",
      "    \"batch_size\": 8,\n",
      "    \"eval_batch_size\": 64,\n",
      "    \"test_batch_size\": 16,\n",
      "    \"word_embedding_file\": \"./data/tencent/word_embedding.txt\",\n",
      "    \"word_vocab_file\": \"./data/tencent/tencent_vocab.txt\",\n",
      "    \"train_file\": \"./data/ccks/train.json\",\n",
      "    \"eval_file\": \"./data/ccks/dev.json\",\n",
      "    \"test_file\": \"./data/ccks/subtask1_test.json\",\n",
      "    \"tag_file\": \"data/ccks/ccks_tags_list.txt\",\n",
      "    \"bert_vocab_file\": \"./model/chinese_wwm_ext/vocab.txt\",\n",
      "    \"output_eval\": true,\n",
      "    \"max_scan_num\": 1000000,\n",
      "    \"add_seq_vocab\": false,\n",
      "    \"max_seq_length\": 150,\n",
      "    \"max_word_num\": 5,\n",
      "    \"default_tag\": \"O\",\n",
      "    \"use_test\": false,\n",
      "    \"do_shuffle\": true,\n",
      "    \"do_predict\": false,\n",
      "    \"task_name\": \"ccks_LEBert_crf_5\"\n",
      "}\n"
     ]
    },
    {
     "name": "stderr",
     "output_type": "stream",
     "text": [
      "calculate ./data/ccks/train.json etag: 100%|██████████| 4.00M/4.00M [00:00<00:00, 352MB/s]\n",
      "calculate ./data/ccks/dev.json etag: 100%|██████████| 974k/974k [00:00<00:00, 318MB/s]\n",
      "calculate ./data/ccks/subtask1_test.json etag: 100%|██████████| 1.57M/1.57M [00:00<00:00, 330MB/s]\n",
      "calculate data/ccks/ccks_tags_list.txt etag: 100%|██████████| 85.0/85.0 [00:00<00:00, 137kB/s]\n"
     ]
    },
    {
     "name": "stdout",
     "output_type": "stream",
     "text": [
      "load cached ./temp/246297de6538baa20f8e5de7ee2cec98_4cd7a2a292ec1ac1e74827f54118b8e5_cda3479a91a9c4fc8b0c534e972e99e8_9c02c6b5f9f31c0f8b66d34ba80dcf4e/1000000/lexicon_tree\n",
      "load cached ./temp/246297de6538baa20f8e5de7ee2cec98_4cd7a2a292ec1ac1e74827f54118b8e5_cda3479a91a9c4fc8b0c534e972e99e8_9c02c6b5f9f31c0f8b66d34ba80dcf4e/1000000/matched_words\n",
      "load cached ./temp/246297de6538baa20f8e5de7ee2cec98_4cd7a2a292ec1ac1e74827f54118b8e5_cda3479a91a9c4fc8b0c534e972e99e8_9c02c6b5f9f31c0f8b66d34ba80dcf4e/1000000/word_vocab\n"
     ]
    },
    {
     "name": "stderr",
     "output_type": "stream",
     "text": [
      "count line size data/ccks/ccks_tags_list.txt: 13L [00:00, 105059.64L/s]\n",
      "build line mapper: 13L [00:00, 25138.75L/s]3 [00:00<?, ?it/s]\n",
      "load vocab from files: 100%|██████████| 13/13 [00:00<00:00, 3398.74it/s]\n",
      "load vocab from list: 100%|██████████| 13/13 [00:00<00:00, 132024.10it/s]\n"
     ]
    },
    {
     "name": "stdout",
     "output_type": "stream",
     "text": [
      "load cached ./temp/246297de6538baa20f8e5de7ee2cec98_4cd7a2a292ec1ac1e74827f54118b8e5_cda3479a91a9c4fc8b0c534e972e99e8_9c02c6b5f9f31c0f8b66d34ba80dcf4e/1000000/vocab_embedding\n"
     ]
    },
    {
     "name": "stderr",
     "output_type": "stream",
     "text": [
      "load dataset from ./data/ccks/train.json: 100%|██████████| 800/800 [00:01<00:00, 442.06it/s]\n",
      "load dataset from ./data/ccks/dev.json: 100%|██████████| 200/200 [00:00<00:00, 452.76it/s]\n"
     ]
    },
    {
     "name": "stdout",
     "output_type": "stream",
     "text": [
      "Load pretrained embedding from file.........\n"
     ]
    },
    {
     "name": "stderr",
     "output_type": "stream",
     "text": [
      "Some weights of the model checkpoint at ./model/chinese_wwm_ext/pytorch_model.bin were not used when initializing LEBertModel: ['cls.predictions.bias', 'cls.predictions.transform.LayerNorm.bias', 'cls.predictions.transform.LayerNorm.weight', 'cls.predictions.decoder.weight', 'cls.predictions.transform.dense.weight', 'cls.seq_relationship.weight', 'cls.seq_relationship.bias', 'cls.predictions.transform.dense.bias']\n",
      "- This IS expected if you are initializing LEBertModel from the checkpoint of a model trained on another task or with another architecture (e.g. initializing a BertForSequenceClassification model from a BertForPreTraining model).\n",
      "- This IS NOT expected if you are initializing LEBertModel from the checkpoint of a model that you expect to be exactly identical (initializing a BertForSequenceClassification model from a BertForSequenceClassification model).\n",
      "Some weights of LEBertModel were not initialized from the model checkpoint at ./model/chinese_wwm_ext/pytorch_model.bin and are newly initialized: ['bert.encoder.layer.0.word_word_weight.bias', 'bert.encoder.layer.0.attn_W', 'bert.encoder.layer.0.fuse_layernorm.bias', 'bert.encoder.layer.0.fuse_layernorm.weight', 'bert.embeddings.position_ids', 'bert.encoder.layer.0.word_word_weight.weight', 'word_embeddings.weight', 'bert.encoder.layer.0.word_transform.bias', 'bert.encoder.layer.0.word_transform.weight']\n",
      "You should probably TRAIN this model on a down-stream task to be able to use it for predictions and inference.\n",
      "Epoch: 1/30 Train: 100%|██████████| 100/100 [00:35<00:00,  2.81it/s, F1=0.162, train_acc=0.732, train_loss=133, train_precision=0.145, train_recall=0.193]     \n",
      "Eval Result: 100%|██████████| 4/4 [00:01<00:00,  2.30it/s, F1=0.513, eval_acc=0.939, eval_loss=28.5, eval_precision=0.457, eval_recall=0.587]\n",
      "Epoch: 2/30 Train: 100%|██████████| 100/100 [00:35<00:00,  2.81it/s, F1=0.557, train_acc=0.934, train_loss=28.3, train_precision=0.528, train_recall=0.595]\n",
      "Eval Result: 100%|██████████| 4/4 [00:01<00:00,  2.25it/s, F1=0.709, eval_acc=0.959, eval_loss=16.7, eval_precision=0.69, eval_recall=0.731] \n",
      "Epoch: 3/30 Train: 100%|██████████| 100/100 [00:34<00:00,  2.88it/s, F1=0.698, train_acc=0.952, train_loss=18.9, train_precision=0.684, train_recall=0.716]\n",
      "Eval Result: 100%|██████████| 4/4 [00:01<00:00,  2.32it/s, F1=0.753, eval_acc=0.958, eval_loss=15.6, eval_precision=0.744, eval_recall=0.763]\n",
      "Epoch: 4/30 Train: 100%|██████████| 100/100 [00:34<00:00,  2.87it/s, F1=0.771, train_acc=0.962, train_loss=13.4, train_precision=0.766, train_recall=0.779]\n",
      "Eval Result: 100%|██████████| 4/4 [00:01<00:00,  2.32it/s, F1=0.766, eval_acc=0.96, eval_loss=14.9, eval_precision=0.752, eval_recall=0.782] \n",
      "Epoch: 5/30 Train: 100%|██████████| 100/100 [00:34<00:00,  2.89it/s, F1=0.821, train_acc=0.971, train_loss=9.63, train_precision=0.819, train_recall=0.825]\n",
      "Eval Result: 100%|██████████| 4/4 [00:01<00:00,  2.24it/s, F1=0.769, eval_acc=0.958, eval_loss=15.5, eval_precision=0.757, eval_recall=0.781]\n",
      "Epoch: 6/30 Train: 100%|██████████| 100/100 [00:34<00:00,  2.89it/s, F1=0.837, train_acc=0.973, train_loss=8.45, train_precision=0.835, train_recall=0.841]\n",
      "Eval Result: 100%|██████████| 4/4 [00:01<00:00,  2.26it/s, F1=0.799, eval_acc=0.963, eval_loss=13.7, eval_precision=0.783, eval_recall=0.816]\n",
      "Epoch: 7/30 Train: 100%|██████████| 100/100 [00:34<00:00,  2.87it/s, F1=0.854, train_acc=0.976, train_loss=7.19, train_precision=0.853, train_recall=0.857]\n",
      "Eval Result: 100%|██████████| 4/4 [00:01<00:00,  2.33it/s, F1=0.799, eval_acc=0.963, eval_loss=13.3, eval_precision=0.791, eval_recall=0.808]\n",
      "Epoch: 8/30 Train: 100%|██████████| 100/100 [00:34<00:00,  2.87it/s, F1=0.87, train_acc=0.98, train_loss=5.76, train_precision=0.867, train_recall=0.874] \n",
      "Eval Result: 100%|██████████| 4/4 [00:01<00:00,  2.32it/s, F1=0.754, eval_acc=0.95, eval_loss=16.4, eval_precision=0.743, eval_recall=0.766] \n",
      "Epoch: 9/30 Train: 100%|██████████| 100/100 [00:34<00:00,  2.86it/s, F1=0.887, train_acc=0.982, train_loss=5.14, train_precision=0.886, train_recall=0.89]\n",
      "Eval Result: 100%|██████████| 4/4 [00:01<00:00,  2.33it/s, F1=0.807, eval_acc=0.96, eval_loss=13.8, eval_precision=0.796, eval_recall=0.82]  \n",
      "Epoch: 10/30 Train: 100%|██████████| 100/100 [00:35<00:00,  2.81it/s, F1=0.888, train_acc=0.982, train_loss=5.26, train_precision=0.885, train_recall=0.893]\n",
      "Eval Result: 100%|██████████| 4/4 [00:01<00:00,  2.31it/s, F1=0.797, eval_acc=0.96, eval_loss=14, eval_precision=0.78, eval_recall=0.816]    \n",
      "Epoch: 11/30 Train: 100%|██████████| 100/100 [00:35<00:00,  2.83it/s, F1=0.908, train_acc=0.986, train_loss=3.8, train_precision=0.906, train_recall=0.91] \n",
      "Eval Result: 100%|██████████| 4/4 [00:01<00:00,  2.18it/s, F1=0.797, eval_acc=0.961, eval_loss=14.6, eval_precision=0.78, eval_recall=0.815] \n",
      "Epoch: 12/30 Train: 100%|██████████| 100/100 [00:34<00:00,  2.89it/s, F1=0.926, train_acc=0.989, train_loss=3.02, train_precision=0.925, train_recall=0.928]\n",
      "Eval Result: 100%|██████████| 4/4 [00:01<00:00,  2.31it/s, F1=0.774, eval_acc=0.955, eval_loss=15, eval_precision=0.755, eval_recall=0.795]  \n",
      "Epoch: 13/30 Train: 100%|██████████| 100/100 [00:35<00:00,  2.83it/s, F1=0.926, train_acc=0.99, train_loss=2.83, train_precision=0.924, train_recall=0.93] \n",
      "Eval Result: 100%|██████████| 4/4 [00:01<00:00,  2.30it/s, F1=0.789, eval_acc=0.956, eval_loss=16.6, eval_precision=0.782, eval_recall=0.796]\n",
      "Epoch: 14/30 Train: 100%|██████████| 100/100 [00:35<00:00,  2.81it/s, F1=0.939, train_acc=0.991, train_loss=2.41, train_precision=0.937, train_recall=0.942]\n",
      "Eval Result: 100%|██████████| 4/4 [00:01<00:00,  2.38it/s, F1=0.816, eval_acc=0.963, eval_loss=16.4, eval_precision=0.805, eval_recall=0.827]\n",
      "Epoch: 15/30 Train: 100%|██████████| 100/100 [00:35<00:00,  2.81it/s, F1=0.942, train_acc=0.991, train_loss=2.37, train_precision=0.941, train_recall=0.945]\n",
      "Eval Result: 100%|██████████| 4/4 [00:01<00:00,  2.32it/s, F1=0.811, eval_acc=0.962, eval_loss=15.9, eval_precision=0.802, eval_recall=0.821]\n",
      "Epoch: 16/30 Train: 100%|██████████| 100/100 [00:35<00:00,  2.83it/s, F1=0.948, train_acc=0.993, train_loss=1.98, train_precision=0.946, train_recall=0.95]\n",
      "Eval Result: 100%|██████████| 4/4 [00:01<00:00,  2.30it/s, F1=0.805, eval_acc=0.96, eval_loss=17.4, eval_precision=0.791, eval_recall=0.82]  \n",
      "Epoch: 17/30 Train: 100%|██████████| 100/100 [00:35<00:00,  2.82it/s, F1=0.95, train_acc=0.993, train_loss=1.86, train_precision=0.95, train_recall=0.952]  \n",
      "Eval Result: 100%|██████████| 4/4 [00:01<00:00,  2.24it/s, F1=0.805, eval_acc=0.96, eval_loss=18.1, eval_precision=0.787, eval_recall=0.824]\n",
      "Epoch: 18/30 Train: 100%|██████████| 100/100 [00:35<00:00,  2.84it/s, F1=0.958, train_acc=0.994, train_loss=1.69, train_precision=0.956, train_recall=0.96]\n",
      "Eval Result: 100%|██████████| 4/4 [00:01<00:00,  2.26it/s, F1=0.795, eval_acc=0.959, eval_loss=18.9, eval_precision=0.781, eval_recall=0.809]\n",
      "Epoch: 19/30 Train: 100%|██████████| 100/100 [00:35<00:00,  2.81it/s, F1=0.963, train_acc=0.995, train_loss=1.36, train_precision=0.964, train_recall=0.963]\n",
      "Eval Result: 100%|██████████| 4/4 [00:01<00:00,  2.32it/s, F1=0.801, eval_acc=0.96, eval_loss=20.5, eval_precision=0.787, eval_recall=0.816] \n",
      "Epoch: 20/30 Train: 100%|██████████| 100/100 [00:34<00:00,  2.86it/s, F1=0.964, train_acc=0.995, train_loss=1.29, train_precision=0.963, train_recall=0.965]\n",
      "Eval Result: 100%|██████████| 4/4 [00:01<00:00,  2.31it/s, F1=0.797, eval_acc=0.958, eval_loss=19.2, eval_precision=0.786, eval_recall=0.809]\n",
      "Epoch: 21/30 Train: 100%|██████████| 100/100 [00:35<00:00,  2.84it/s, F1=0.967, train_acc=0.995, train_loss=1.18, train_precision=0.968, train_recall=0.967]\n",
      "Eval Result: 100%|██████████| 4/4 [00:01<00:00,  2.14it/s, F1=0.792, eval_acc=0.956, eval_loss=21.4, eval_precision=0.769, eval_recall=0.817]\n",
      "Epoch: 22/30 Train: 100%|██████████| 100/100 [00:36<00:00,  2.76it/s, F1=0.967, train_acc=0.995, train_loss=1.33, train_precision=0.966, train_recall=0.968]\n",
      "Eval Result: 100%|██████████| 4/4 [00:01<00:00,  2.47it/s, F1=0.794, eval_acc=0.959, eval_loss=19.5, eval_precision=0.779, eval_recall=0.808]\n",
      "Epoch: 23/30 Train: 100%|██████████| 100/100 [00:35<00:00,  2.81it/s, F1=0.961, train_acc=0.993, train_loss=2.15, train_precision=0.96, train_recall=0.962]\n",
      "Eval Result: 100%|██████████| 4/4 [00:01<00:00,  2.31it/s, F1=0.8, eval_acc=0.96, eval_loss=20, eval_precision=0.78, eval_recall=0.822]     \n",
      "Epoch: 24/30 Train: 100%|██████████| 100/100 [00:34<00:00,  2.86it/s, F1=0.97, train_acc=0.996, train_loss=1.12, train_precision=0.97, train_recall=0.97]   \n",
      "Eval Result: 100%|██████████| 4/4 [00:01<00:00,  2.08it/s, F1=0.805, eval_acc=0.96, eval_loss=20.7, eval_precision=0.789, eval_recall=0.821] \n",
      "Epoch: 25/30 Train: 100%|██████████| 100/100 [00:35<00:00,  2.81it/s, F1=0.974, train_acc=0.996, train_loss=0.948, train_precision=0.974, train_recall=0.973]\n",
      "Eval Result: 100%|██████████| 4/4 [00:01<00:00,  2.33it/s, F1=0.803, eval_acc=0.956, eval_loss=20.3, eval_precision=0.789, eval_recall=0.819]\n",
      "Epoch: 26/30 Train: 100%|██████████| 100/100 [00:35<00:00,  2.84it/s, F1=0.971, train_acc=0.995, train_loss=1.48, train_precision=0.968, train_recall=0.974]\n",
      "Eval Result: 100%|██████████| 4/4 [00:01<00:00,  2.22it/s, F1=0.795, eval_acc=0.961, eval_loss=19.4, eval_precision=0.789, eval_recall=0.802]\n",
      "Epoch: 27/30 Train: 100%|██████████| 100/100 [00:36<00:00,  2.71it/s, F1=0.963, train_acc=0.995, train_loss=1.39, train_precision=0.963, train_recall=0.963]\n",
      "Eval Result: 100%|██████████| 4/4 [00:01<00:00,  2.25it/s, F1=0.799, eval_acc=0.96, eval_loss=22, eval_precision=0.78, eval_recall=0.819]    \n",
      "Epoch: 28/30 Train: 100%|██████████| 100/100 [00:35<00:00,  2.84it/s, F1=0.973, train_acc=0.995, train_loss=1.32, train_precision=0.973, train_recall=0.973]\n",
      "Eval Result: 100%|██████████| 4/4 [00:01<00:00,  2.06it/s, F1=0.811, eval_acc=0.96, eval_loss=22.9, eval_precision=0.8, eval_recall=0.824]  \n",
      "Epoch: 29/30 Train: 100%|██████████| 100/100 [00:35<00:00,  2.83it/s, F1=0.976, train_acc=0.997, train_loss=0.915, train_precision=0.975, train_recall=0.977]\n",
      "Eval Result: 100%|██████████| 4/4 [00:01<00:00,  2.38it/s, F1=0.814, eval_acc=0.96, eval_loss=24.3, eval_precision=0.802, eval_recall=0.827]\n",
      "Epoch: 30/30 Train: 100%|██████████| 100/100 [00:35<00:00,  2.79it/s, F1=0.979, train_acc=0.997, train_loss=0.89, train_precision=0.979, train_recall=0.979]\n",
      "Eval Result: 100%|██████████| 4/4 [00:01<00:00,  2.37it/s, F1=0.813, eval_acc=0.961, eval_loss=25.8, eval_precision=0.795, eval_recall=0.832]\n"
     ]
    }
   ],
   "source": [
    "args[\"task_name\"] = \"ccks_LEBert_crf_5\"\n",
    "\n",
    "trainer = NERTrainer(**args)\n",
    "\n",
    "for i in trainer(lr2=1e-2):\n",
    "    a = i"
   ]
  },
  {
   "cell_type": "markdown",
   "metadata": {},
   "source": [
    "### v1"
   ]
  },
  {
   "cell_type": "code",
   "execution_count": 6,
   "metadata": {},
   "outputs": [
    {
     "name": "stdout",
     "output_type": "stream",
     "text": [
      "kwargs parser: {\n",
      "    \"batch_size\": 8,\n",
      "    \"eval_batch_size\": 64,\n",
      "    \"test_batch_size\": 16,\n",
      "    \"word_embedding_file\": \"./data/tencent/word_embedding.txt\",\n",
      "    \"word_vocab_file\": \"./data/tencent/tencent_vocab.txt\",\n",
      "    \"train_file\": \"./data/ccks/train.json\",\n",
      "    \"eval_file\": \"./data/ccks/dev.json\",\n",
      "    \"test_file\": \"./data/ccks/subtask1_test.json\",\n",
      "    \"tag_file\": \"data/ccks/ccks_tags_list.txt\",\n",
      "    \"inter_knowledge_file\": \"./data/tencent/THUOCL_FN_medical.txt\",\n",
      "    \"bert_vocab_file\": \"./model/chinese_wwm_ext/vocab.txt\",\n",
      "    \"output_eval\": true,\n",
      "    \"max_scan_num\": 1000000,\n",
      "    \"inter_max_scan_num\": 20000,\n",
      "    \"add_seq_vocab\": false,\n",
      "    \"max_seq_length\": 150,\n",
      "    \"max_word_num\": 5,\n",
      "    \"default_tag\": \"O\",\n",
      "    \"use_test\": false,\n",
      "    \"do_shuffle\": true,\n",
      "    \"do_predict\": false,\n",
      "    \"task_name\": \"ccks_v1_ZLEBert_1\"\n",
      "}\n"
     ]
    },
    {
     "name": "stderr",
     "output_type": "stream",
     "text": [
      "calculate ./data/ccks/train.json etag: 100%|██████████| 4.00M/4.00M [00:00<00:00, 317MB/s]\n",
      "calculate ./data/ccks/dev.json etag: 100%|██████████| 974k/974k [00:00<00:00, 311MB/s]\n",
      "calculate ./data/ccks/subtask1_test.json etag: 100%|██████████| 1.57M/1.57M [00:00<00:00, 336MB/s]\n",
      "calculate data/ccks/ccks_tags_list.txt etag: 100%|██████████| 85.0/85.0 [00:00<00:00, 257kB/s]\n"
     ]
    },
    {
     "name": "stdout",
     "output_type": "stream",
     "text": [
      "load cached ./temp/246297de6538baa20f8e5de7ee2cec98_4cd7a2a292ec1ac1e74827f54118b8e5_cda3479a91a9c4fc8b0c534e972e99e8_9c02c6b5f9f31c0f8b66d34ba80dcf4e/1000000/lexicon_tree\n",
      "load cached ./temp/246297de6538baa20f8e5de7ee2cec98_4cd7a2a292ec1ac1e74827f54118b8e5_cda3479a91a9c4fc8b0c534e972e99e8_9c02c6b5f9f31c0f8b66d34ba80dcf4e/1000000/matched_words\n",
      "load cached ./temp/246297de6538baa20f8e5de7ee2cec98_4cd7a2a292ec1ac1e74827f54118b8e5_cda3479a91a9c4fc8b0c534e972e99e8_9c02c6b5f9f31c0f8b66d34ba80dcf4e/1000000/word_vocab\n"
     ]
    },
    {
     "name": "stderr",
     "output_type": "stream",
     "text": [
      "count line size data/ccks/ccks_tags_list.txt: 13L [00:00, 106704.41L/s]\n",
      "build line mapper: 13L [00:00, 114071.03L/s] [00:00<?, ?it/s]\n",
      "load vocab from files: 100%|██████████| 13/13 [00:00<00:00, 3777.08it/s]\n",
      "load vocab from list: 100%|██████████| 13/13 [00:00<00:00, 162764.04it/s]\n"
     ]
    },
    {
     "name": "stdout",
     "output_type": "stream",
     "text": [
      "load cached ./temp/246297de6538baa20f8e5de7ee2cec98_4cd7a2a292ec1ac1e74827f54118b8e5_cda3479a91a9c4fc8b0c534e972e99e8_9c02c6b5f9f31c0f8b66d34ba80dcf4e/1000000/vocab_embedding\n"
     ]
    },
    {
     "name": "stderr",
     "output_type": "stream",
     "text": [
      "count line size ./data/tencent/THUOCL_FN_medical.txt: 22219L [00:00, 26581072.61L/s]\n",
      "build line mapper: 22219L [00:00, 2675429.64L/s][00:00<?, ?it/s]\n",
      "load vocabs into trie: 100%|██████████| 20000/20000 [00:00<00:00, 74334.14it/s]\n",
      "build trie: 100%|██████████| 19446/19446 [00:00<00:00, 110512.37it/s]\n",
      "count line size ./data/ccks/train.json: 801L [00:00, 200875.19L/s]\n",
      "load dataset matched word: 100%|█████████▉| 800/801 [00:01<00:00, 679.22it/s]\n",
      "count line size ./data/ccks/dev.json: 201L [00:00, 216501.05L/s]\n",
      "load dataset matched word: 100%|█████████▉| 200/201 [00:00<00:00, 744.07it/s]\n",
      "count line size ./data/ccks/subtask1_test.json: 380L [00:00, 268232.16L/s]\n",
      "load dataset matched word: 100%|█████████▉| 379/380 [00:00<00:00, 885.15it/s]\n",
      "load vocab from list: 100%|██████████| 2137/2137 [00:00<00:00, 670147.86it/s]\n",
      "count line size ./data/tencent/word_embedding.txt: 8824332L [00:13, 646740.38L/s]\n",
      "build line mapper: 8824332L [00:29, 304056.85L/s][00:00<?, ?it/s]\n",
      "load word embedding...:  27%|██▋       | 5415/20000 [00:29<00:45, 320.19it/s]"
     ]
    },
    {
     "name": "stdout",
     "output_type": "stream",
     "text": [
      "['-0.073052', '-0.454791', '-0.136675', '0.258515', '0.011885', '0.041317', '0.041896', '0.128609', '-0.163152', '0.246874', '0.092835', '-0.126660', '0.178079', '-0.286865', '0.027544', '-0.119339', '-0.007087', '-0.189252', '0.377924', '0.023270', '-0.367283', '-0.070051', '0.030247', '0.319996', '0.058990', '0.139447', '-0.126480', '0.268859', '-0.023930', '0.227637', '0.044645', '0.301265', '-0.234713', '0.074171', '-0.306097', '-0.403798', '0.140713', '-0.101598', '0.047656', '-0.276438', '-0.080730', '0.143143', '0.189617', '0.129756', '0.185805', '0.133780', '-0.318322', '-0.483692', '0.408157', '0.031308', '-0.311013', '0.059570', '-0.224590', '0.414112', '0.384909', '-0.305530', '0.131048', '0.119147', '0.059128', '-0.248051', '-0.138340', '-0.000503', '-0.100918', '0.304257', '-0.368741', '0.131073', '-0.237684', '-0.029870', '-0.244446', '-0.151965', '-0.221822', '0.489918', '0.114530', '0.175746', '-0.040124', '-0.295019', '-0.063676', '0.157994', '-0.011577', '-0.144796', '0.072814', '0.670234', '0.158069', '0.444338', '0.187207', '-0.178194', '0.441387', '-0.113229', '-0.311998', '-0.262850', '0.166731', '-0.074662', '-0.120234', '-0.557770', '0.217205', '-0.100354', '-0.315967', '-0.199034', '0.044077', '0.072797', '-0.041775', '0.057079', '0.252978', '0.155448', '-0.151973', '0.304786', '0.286322', '-0.461290', '-0.391043', '-0.356367', '0.050163', '-0.301053', '-0.258514', '0.085645', '0.219664', '-0.164307', '0.024513', '-0.077458', '-0.200825', '-0.418520', '0.258938', '-0.140829', '0.152272', '0.176600', '0.340460', '0.357031', '-0.039533', '0.113248', '0.152953', '-0.136520', '-0.167888', '-0.033082', '0.532537', '-0.086386', '-0.234421', '-0.337486', '-0.016323', '-0.018524', '-0.000276', '-0.252389', '-0.395252', '-0.324214', '-0.259109', '0.308163', '0.353517', '-0.195429', '0.319425', '-0.014722', '0.196231', '0.051138', '-0.161133', '-0.056247', '0.262345', '-0.192682', '0.272561', '0.010028', '0.139295', '-0.224138', '0.507957', '0.109516', '0.273037', '0.105556', '-0.182561', '0.069247', '0.102232', '-0.009683', '-0.127744', '0.224196', '-0.027222', '-0.057221', '0.096212', '0.126842', '-0.309821', '-0.031813', '0.135091', '-0.046443', '0.000263', '0.098762', '0.394687', '-0.081866', '0.021604', '0.033224', '-0.121693', '0.001640', '-0.080564', '0.109319', '-0.128558', '0.327593', '0.000599', '0.335171', '0.104823', '0.229730', '0.158929', '-0.203982', '0.355367', '0.507303', '-0.173355', '-0.388700', '-0.324610', '0.296036'] embedding error\n"
     ]
    },
    {
     "name": "stderr",
     "output_type": "stream",
     "text": [
      "load word embedding...: 100%|██████████| 20000/20000 [00:29<00:00, 672.27it/s] \n",
      "load vocab embedding: 2144it [00:00, 54817.14it/s]\n",
      "load dataset from ./data/ccks/train.json: 100%|██████████| 800/800 [00:02<00:00, 276.25it/s]\n",
      "load dataset from ./data/ccks/dev.json: 100%|██████████| 200/200 [00:00<00:00, 289.23it/s]\n"
     ]
    },
    {
     "name": "stdout",
     "output_type": "stream",
     "text": [
      "Load pretrained embedding from file.........\n"
     ]
    },
    {
     "name": "stderr",
     "output_type": "stream",
     "text": [
      "Some weights of the model checkpoint at ./model/chinese_wwm_ext/pytorch_model.bin were not used when initializing ZLEBertModel: ['cls.predictions.bias', 'cls.predictions.transform.LayerNorm.bias', 'cls.predictions.transform.LayerNorm.weight', 'cls.predictions.decoder.weight', 'cls.predictions.transform.dense.weight', 'cls.seq_relationship.weight', 'cls.seq_relationship.bias', 'cls.predictions.transform.dense.bias']\n",
      "- This IS expected if you are initializing ZLEBertModel from the checkpoint of a model trained on another task or with another architecture (e.g. initializing a BertForSequenceClassification model from a BertForPreTraining model).\n",
      "- This IS NOT expected if you are initializing ZLEBertModel from the checkpoint of a model that you expect to be exactly identical (initializing a BertForSequenceClassification model from a BertForSequenceClassification model).\n",
      "Some weights of ZLEBertModel were not initialized from the model checkpoint at ./model/chinese_wwm_ext/pytorch_model.bin and are newly initialized: ['inter_word_embeddings.weight', 'bert.encoder.layer.0.word_word_weight.bias', 'bert.encoder.layer.0.attn_W', 'bert.encoder.layer.0.word_transform.bias', 'bert.encoder.layer.0.fuse_layernorm.bias', 'bert.encoder.layer.0.fuse_layernorm.weight', 'bert.encoder.layer.0.word_word_weight.weight', 'word_embeddings.weight', 'bert.embeddings.position_ids', 'bert.encoder.layer.0.word_transform.weight']\n",
      "You should probably TRAIN this model on a down-stream task to be able to use it for predictions and inference.\n",
      "Epoch: 1/30 Train: 100%|██████████| 100/100 [00:39<00:00,  2.56it/s, F1=0.229, train_acc=0.815, train_loss=82.3, train_precision=0.228, train_recall=0.234]       \n",
      "Eval Result: 100%|██████████| 4/4 [00:02<00:00,  2.00it/s, F1=0.645, eval_acc=0.952, eval_loss=20, eval_precision=0.629, eval_recall=0.662]  \n",
      "Epoch: 2/30 Train: 100%|██████████| 100/100 [00:39<00:00,  2.53it/s, F1=0.656, train_acc=0.944, train_loss=22.1, train_precision=0.644, train_recall=0.672]\n",
      "Eval Result: 100%|██████████| 4/4 [00:01<00:00,  2.05it/s, F1=0.757, eval_acc=0.959, eval_loss=13.8, eval_precision=0.736, eval_recall=0.779]\n",
      "Epoch: 3/30 Train: 100%|██████████| 100/100 [00:38<00:00,  2.60it/s, F1=0.774, train_acc=0.962, train_loss=13.9, train_precision=0.77, train_recall=0.781]\n",
      "Eval Result: 100%|██████████| 4/4 [00:02<00:00,  1.98it/s, F1=0.799, eval_acc=0.961, eval_loss=11.2, eval_precision=0.796, eval_recall=0.801]\n",
      "Epoch: 4/30 Train: 100%|██████████| 100/100 [00:39<00:00,  2.56it/s, F1=0.827, train_acc=0.969, train_loss=10, train_precision=0.828, train_recall=0.827] \n",
      "Eval Result: 100%|██████████| 4/4 [00:02<00:00,  1.98it/s, F1=0.778, eval_acc=0.953, eval_loss=12.1, eval_precision=0.754, eval_recall=0.804]\n",
      "Epoch: 5/30 Train: 100%|██████████| 100/100 [00:39<00:00,  2.55it/s, F1=0.844, train_acc=0.971, train_loss=8.45, train_precision=0.846, train_recall=0.844]\n",
      "Eval Result: 100%|██████████| 4/4 [00:02<00:00,  1.99it/s, F1=0.797, eval_acc=0.961, eval_loss=10.3, eval_precision=0.788, eval_recall=0.807]\n",
      "Epoch: 6/30 Train: 100%|██████████| 100/100 [00:41<00:00,  2.41it/s, F1=0.88, train_acc=0.978, train_loss=6.22, train_precision=0.882, train_recall=0.878]\n",
      "Eval Result: 100%|██████████| 4/4 [00:01<00:00,  2.09it/s, F1=0.823, eval_acc=0.966, eval_loss=9.7, eval_precision=0.819, eval_recall=0.827] \n",
      "Epoch: 7/30 Train: 100%|██████████| 100/100 [00:38<00:00,  2.57it/s, F1=0.907, train_acc=0.984, train_loss=4.78, train_precision=0.907, train_recall=0.907]\n",
      "Eval Result: 100%|██████████| 4/4 [00:02<00:00,  1.97it/s, F1=0.794, eval_acc=0.956, eval_loss=11.6, eval_precision=0.783, eval_recall=0.805]\n",
      "Epoch: 8/30 Train: 100%|██████████| 100/100 [00:39<00:00,  2.56it/s, F1=0.911, train_acc=0.985, train_loss=4.3, train_precision=0.915, train_recall=0.909]\n",
      "Eval Result: 100%|██████████| 4/4 [00:01<00:00,  2.05it/s, F1=0.806, eval_acc=0.96, eval_loss=10.9, eval_precision=0.804, eval_recall=0.808] \n",
      "Epoch: 9/30 Train: 100%|██████████| 100/100 [00:40<00:00,  2.46it/s, F1=0.925, train_acc=0.987, train_loss=3.71, train_precision=0.925, train_recall=0.926]\n",
      "Eval Result: 100%|██████████| 4/4 [00:01<00:00,  2.06it/s, F1=0.821, eval_acc=0.96, eval_loss=10.6, eval_precision=0.819, eval_recall=0.824] \n",
      "Epoch: 10/30 Train: 100%|██████████| 100/100 [00:42<00:00,  2.36it/s, F1=0.938, train_acc=0.99, train_loss=3.11, train_precision=0.94, train_recall=0.937] \n",
      "Eval Result: 100%|██████████| 4/4 [00:02<00:00,  1.95it/s, F1=0.808, eval_acc=0.961, eval_loss=11.8, eval_precision=0.799, eval_recall=0.818]\n",
      "Epoch: 11/30 Train: 100%|██████████| 100/100 [00:40<00:00,  2.49it/s, F1=0.946, train_acc=0.992, train_loss=2.61, train_precision=0.946, train_recall=0.946]\n",
      "Eval Result: 100%|██████████| 4/4 [00:01<00:00,  2.04it/s, F1=0.805, eval_acc=0.961, eval_loss=12.1, eval_precision=0.795, eval_recall=0.815]\n",
      "Epoch: 12/30 Train: 100%|██████████| 100/100 [00:39<00:00,  2.55it/s, F1=0.95, train_acc=0.992, train_loss=2.37, train_precision=0.951, train_recall=0.949]\n",
      "Eval Result: 100%|██████████| 4/4 [00:01<00:00,  2.03it/s, F1=0.763, eval_acc=0.95, eval_loss=14.2, eval_precision=0.746, eval_recall=0.78]  \n",
      "Epoch: 13/30 Train: 100%|██████████| 100/100 [00:42<00:00,  2.37it/s, F1=0.959, train_acc=0.994, train_loss=2.11, train_precision=0.958, train_recall=0.961]\n",
      "Eval Result: 100%|██████████| 4/4 [00:01<00:00,  2.02it/s, F1=0.797, eval_acc=0.956, eval_loss=12.2, eval_precision=0.788, eval_recall=0.806]\n",
      "Epoch: 14/30 Train: 100%|██████████| 100/100 [00:42<00:00,  2.36it/s, F1=0.961, train_acc=0.994, train_loss=2.13, train_precision=0.96, train_recall=0.963]\n",
      "Eval Result: 100%|██████████| 4/4 [00:01<00:00,  2.09it/s, F1=0.79, eval_acc=0.958, eval_loss=11.9, eval_precision=0.791, eval_recall=0.789] \n",
      "Epoch: 15/30 Train: 100%|██████████| 100/100 [00:41<00:00,  2.38it/s, F1=0.959, train_acc=0.994, train_loss=2.09, train_precision=0.959, train_recall=0.959]\n",
      "Eval Result: 100%|██████████| 4/4 [00:02<00:00,  1.97it/s, F1=0.814, eval_acc=0.961, eval_loss=12.6, eval_precision=0.813, eval_recall=0.815]\n",
      "Epoch: 16/30 Train: 100%|██████████| 100/100 [00:41<00:00,  2.38it/s, F1=0.966, train_acc=0.994, train_loss=1.88, train_precision=0.965, train_recall=0.967]\n",
      "Eval Result: 100%|██████████| 4/4 [00:01<00:00,  2.05it/s, F1=0.796, eval_acc=0.956, eval_loss=13.6, eval_precision=0.788, eval_recall=0.805]\n",
      "Epoch: 17/30 Train: 100%|██████████| 100/100 [00:38<00:00,  2.59it/s, F1=0.966, train_acc=0.994, train_loss=2.05, train_precision=0.966, train_recall=0.965]\n",
      "Eval Result: 100%|██████████| 4/4 [00:01<00:00,  2.05it/s, F1=0.81, eval_acc=0.96, eval_loss=12.3, eval_precision=0.804, eval_recall=0.815]  \n",
      "Epoch: 18/30 Train: 100%|██████████| 100/100 [00:39<00:00,  2.54it/s, F1=0.969, train_acc=0.994, train_loss=1.95, train_precision=0.969, train_recall=0.969]\n",
      "Eval Result: 100%|██████████| 4/4 [00:01<00:00,  2.06it/s, F1=0.814, eval_acc=0.962, eval_loss=12.3, eval_precision=0.814, eval_recall=0.815]\n",
      "Epoch: 19/30 Train: 100%|██████████| 100/100 [00:39<00:00,  2.56it/s, F1=0.964, train_acc=0.994, train_loss=2.22, train_precision=0.964, train_recall=0.965]\n",
      "Eval Result: 100%|██████████| 4/4 [00:01<00:00,  2.06it/s, F1=0.825, eval_acc=0.962, eval_loss=13.5, eval_precision=0.821, eval_recall=0.829]\n",
      "Epoch: 20/30 Train: 100%|██████████| 100/100 [00:40<00:00,  2.46it/s, F1=0.972, train_acc=0.995, train_loss=1.84, train_precision=0.971, train_recall=0.972]\n",
      "Eval Result: 100%|██████████| 4/4 [00:01<00:00,  2.03it/s, F1=0.819, eval_acc=0.961, eval_loss=13.9, eval_precision=0.809, eval_recall=0.83] \n",
      "Epoch: 21/30 Train: 100%|██████████| 100/100 [00:40<00:00,  2.45it/s, F1=0.975, train_acc=0.996, train_loss=1.47, train_precision=0.975, train_recall=0.974]\n",
      "Eval Result: 100%|██████████| 4/4 [00:02<00:00,  1.98it/s, F1=0.815, eval_acc=0.962, eval_loss=13.8, eval_precision=0.805, eval_recall=0.826]\n",
      "Epoch: 22/30 Train: 100%|██████████| 100/100 [00:41<00:00,  2.40it/s, F1=0.979, train_acc=0.997, train_loss=1.27, train_precision=0.978, train_recall=0.98] \n",
      "Eval Result: 100%|██████████| 4/4 [00:01<00:00,  2.08it/s, F1=0.809, eval_acc=0.959, eval_loss=14.4, eval_precision=0.798, eval_recall=0.82] \n",
      "Epoch: 23/30 Train: 100%|██████████| 100/100 [00:38<00:00,  2.59it/s, F1=0.978, train_acc=0.996, train_loss=1.37, train_precision=0.977, train_recall=0.98]\n",
      "Eval Result: 100%|██████████| 4/4 [00:01<00:00,  2.08it/s, F1=0.831, eval_acc=0.965, eval_loss=12.6, eval_precision=0.825, eval_recall=0.837]\n",
      "Epoch: 24/30 Train: 100%|██████████| 100/100 [00:38<00:00,  2.60it/s, F1=0.98, train_acc=0.996, train_loss=1.24, train_precision=0.981, train_recall=0.98]  \n",
      "Eval Result: 100%|██████████| 4/4 [00:01<00:00,  2.12it/s, F1=0.809, eval_acc=0.96, eval_loss=15.3, eval_precision=0.801, eval_recall=0.816] \n",
      "Epoch: 25/30 Train: 100%|██████████| 100/100 [00:39<00:00,  2.51it/s, F1=0.983, train_acc=0.997, train_loss=1.04, train_precision=0.984, train_recall=0.983]\n",
      "Eval Result: 100%|██████████| 4/4 [00:02<00:00,  1.99it/s, F1=0.805, eval_acc=0.96, eval_loss=15.1, eval_precision=0.8, eval_recall=0.809]   \n",
      "Epoch: 26/30 Train: 100%|██████████| 100/100 [00:38<00:00,  2.57it/s, F1=0.985, train_acc=0.998, train_loss=0.922, train_precision=0.985, train_recall=0.985]\n",
      "Eval Result: 100%|██████████| 4/4 [00:01<00:00,  2.10it/s, F1=0.815, eval_acc=0.962, eval_loss=15.5, eval_precision=0.81, eval_recall=0.821] \n",
      "Epoch: 27/30 Train: 100%|██████████| 100/100 [00:41<00:00,  2.42it/s, F1=0.986, train_acc=0.997, train_loss=1, train_precision=0.986, train_recall=0.986]   \n",
      "Eval Result: 100%|██████████| 4/4 [00:01<00:00,  2.02it/s, F1=0.823, eval_acc=0.962, eval_loss=15.2, eval_precision=0.821, eval_recall=0.825]\n",
      "Epoch: 28/30 Train: 100%|██████████| 100/100 [00:38<00:00,  2.58it/s, F1=0.985, train_acc=0.998, train_loss=0.967, train_precision=0.985, train_recall=0.984]\n",
      "Eval Result: 100%|██████████| 4/4 [00:01<00:00,  2.24it/s, F1=0.804, eval_acc=0.96, eval_loss=14, eval_precision=0.813, eval_recall=0.795]   \n",
      "Epoch: 29/30 Train: 100%|██████████| 100/100 [00:39<00:00,  2.55it/s, F1=0.987, train_acc=0.998, train_loss=0.791, train_precision=0.987, train_recall=0.987]\n",
      "Eval Result: 100%|██████████| 4/4 [00:02<00:00,  1.99it/s, F1=0.813, eval_acc=0.962, eval_loss=16.2, eval_precision=0.815, eval_recall=0.811]\n",
      "Epoch: 30/30 Train: 100%|██████████| 100/100 [00:39<00:00,  2.56it/s, F1=0.983, train_acc=0.997, train_loss=1.05, train_precision=0.983, train_recall=0.984]\n",
      "Eval Result: 100%|██████████| 4/4 [00:02<00:00,  1.89it/s, F1=0.811, eval_acc=0.962, eval_loss=15.3, eval_precision=0.799, eval_recall=0.823]\n"
     ]
    }
   ],
   "source": [
    "from CC.trainer import NERTrainer\n",
    "\n",
    "args = {\n",
    "    'num_epochs': 30,\n",
    "    'num_gpus': [0],\n",
    "    'bert_config_file_name': './model/chinese_wwm_ext/bert_config.json',\n",
    "    'pretrained_file_name': './model/chinese_wwm_ext/pytorch_model.bin',\n",
    "    'hidden_dim': 300,\n",
    "    'max_seq_length': 150,\n",
    "    'max_scan_num': 1000000,\n",
    "    'inter_max_scan_num': 20000,\n",
    "    'train_file': './data/ccks/train.json',\n",
    "    'eval_file': './data/ccks/dev.json',\n",
    "    'test_file': './data/ccks/subtask1_test.json',\n",
    "    'bert_vocab_file': './model/chinese_wwm_ext/vocab.txt',\n",
    "    'tag_file': 'data/ccks/ccks_tags_list.txt',\n",
    "    'loader_name': 'le_loader_zl',\n",
    "    'output_eval':True,\n",
    "    \"word_embedding_file\":\"./data/tencent/word_embedding.txt\",\n",
    "    \"word_vocab_file\":\"./data/tencent/tencent_vocab.txt\",\n",
    "    \"inter_knowledge_file\":\"./data/tencent/THUOCL_FN_medical.txt\",\n",
    "    \"default_tag\":\"O\",\n",
    "    'batch_size': 8,\n",
    "    'eval_batch_size': 64,\n",
    "    'do_shuffle': True,\n",
    "    \"use_gpu\": True,\n",
    "    \"debug\": True,\n",
    "    'model_name': 'ZLEBert',\n",
    "    'classify':'lstm_crf',\n",
    "    'task_name': 'ccks_v1_ZLEBert_1'\n",
    "}\n",
    "\n",
    "# Trainer\n",
    "trainer = NERTrainer(**args)\n",
    "\n",
    "for i in trainer(lr2=1e-2):\n",
    "    a = i"
   ]
  },
  {
   "cell_type": "code",
   "execution_count": 7,
   "metadata": {},
   "outputs": [
    {
     "name": "stdout",
     "output_type": "stream",
     "text": [
      "kwargs parser: {\n",
      "    \"batch_size\": 8,\n",
      "    \"eval_batch_size\": 64,\n",
      "    \"test_batch_size\": 16,\n",
      "    \"word_embedding_file\": \"./data/tencent/word_embedding.txt\",\n",
      "    \"word_vocab_file\": \"./data/tencent/tencent_vocab.txt\",\n",
      "    \"train_file\": \"./data/ccks/train.json\",\n",
      "    \"eval_file\": \"./data/ccks/dev.json\",\n",
      "    \"test_file\": \"./data/ccks/subtask1_test.json\",\n",
      "    \"tag_file\": \"data/ccks/ccks_tags_list.txt\",\n",
      "    \"inter_knowledge_file\": \"./data/tencent/THUOCL_FN_medical.txt\",\n",
      "    \"bert_vocab_file\": \"./model/chinese_wwm_ext/vocab.txt\",\n",
      "    \"output_eval\": true,\n",
      "    \"max_scan_num\": 1000000,\n",
      "    \"inter_max_scan_num\": 20000,\n",
      "    \"add_seq_vocab\": false,\n",
      "    \"max_seq_length\": 150,\n",
      "    \"max_word_num\": 5,\n",
      "    \"default_tag\": \"O\",\n",
      "    \"use_test\": false,\n",
      "    \"do_shuffle\": true,\n",
      "    \"do_predict\": false,\n",
      "    \"task_name\": \"ccks_v1_ZLEBert_2\"\n",
      "}\n"
     ]
    },
    {
     "name": "stderr",
     "output_type": "stream",
     "text": [
      "calculate ./data/ccks/train.json etag: 100%|██████████| 4.00M/4.00M [00:00<00:00, 355MB/s]\n",
      "calculate ./data/ccks/dev.json etag: 100%|██████████| 974k/974k [00:00<00:00, 313MB/s]\n",
      "calculate ./data/ccks/subtask1_test.json etag: 100%|██████████| 1.57M/1.57M [00:00<00:00, 350MB/s]\n",
      "calculate data/ccks/ccks_tags_list.txt etag: 100%|██████████| 85.0/85.0 [00:00<00:00, 244kB/s]\n"
     ]
    },
    {
     "name": "stdout",
     "output_type": "stream",
     "text": [
      "load cached ./temp/246297de6538baa20f8e5de7ee2cec98_4cd7a2a292ec1ac1e74827f54118b8e5_cda3479a91a9c4fc8b0c534e972e99e8_9c02c6b5f9f31c0f8b66d34ba80dcf4e/1000000/lexicon_tree\n",
      "load cached ./temp/246297de6538baa20f8e5de7ee2cec98_4cd7a2a292ec1ac1e74827f54118b8e5_cda3479a91a9c4fc8b0c534e972e99e8_9c02c6b5f9f31c0f8b66d34ba80dcf4e/1000000/matched_words\n",
      "load cached ./temp/246297de6538baa20f8e5de7ee2cec98_4cd7a2a292ec1ac1e74827f54118b8e5_cda3479a91a9c4fc8b0c534e972e99e8_9c02c6b5f9f31c0f8b66d34ba80dcf4e/1000000/word_vocab\n"
     ]
    },
    {
     "name": "stderr",
     "output_type": "stream",
     "text": [
      "count line size data/ccks/ccks_tags_list.txt: 13L [00:00, 34142.74L/s]\n",
      "build line mapper: 13L [00:00, 98068.26L/s]3 [00:00<?, ?it/s]\n",
      "load vocab from files: 100%|██████████| 13/13 [00:00<00:00, 3673.27it/s]\n",
      "load vocab from list: 100%|██████████| 13/13 [00:00<00:00, 136656.52it/s]"
     ]
    },
    {
     "name": "stdout",
     "output_type": "stream",
     "text": [
      "load cached ./temp/246297de6538baa20f8e5de7ee2cec98_4cd7a2a292ec1ac1e74827f54118b8e5_cda3479a91a9c4fc8b0c534e972e99e8_9c02c6b5f9f31c0f8b66d34ba80dcf4e/1000000/vocab_embedding\n",
      "load cached ./temp/246297de6538baa20f8e5de7ee2cec98_4cd7a2a292ec1ac1e74827f54118b8e5_cda3479a91a9c4fc8b0c534e972e99e8_9c02c6b5f9f31c0f8b66d34ba80dcf4e/1000000/inter_lexicon_tree\n"
     ]
    },
    {
     "name": "stderr",
     "output_type": "stream",
     "text": [
      "\n"
     ]
    },
    {
     "name": "stdout",
     "output_type": "stream",
     "text": [
      "load cached ./temp/246297de6538baa20f8e5de7ee2cec98_4cd7a2a292ec1ac1e74827f54118b8e5_cda3479a91a9c4fc8b0c534e972e99e8_9c02c6b5f9f31c0f8b66d34ba80dcf4e/1000000/inter_matched_words\n",
      "load cached ./temp/246297de6538baa20f8e5de7ee2cec98_4cd7a2a292ec1ac1e74827f54118b8e5_cda3479a91a9c4fc8b0c534e972e99e8_9c02c6b5f9f31c0f8b66d34ba80dcf4e/1000000/inter_word_vocab\n",
      "load cached ./temp/246297de6538baa20f8e5de7ee2cec98_4cd7a2a292ec1ac1e74827f54118b8e5_cda3479a91a9c4fc8b0c534e972e99e8_9c02c6b5f9f31c0f8b66d34ba80dcf4e/1000000/inter_embedding\n"
     ]
    },
    {
     "name": "stderr",
     "output_type": "stream",
     "text": [
      "load dataset from ./data/ccks/train.json: 100%|██████████| 800/800 [00:02<00:00, 280.20it/s]\n",
      "load dataset from ./data/ccks/dev.json: 100%|██████████| 200/200 [00:00<00:00, 271.81it/s]\n"
     ]
    },
    {
     "name": "stdout",
     "output_type": "stream",
     "text": [
      "Load pretrained embedding from file.........\n"
     ]
    },
    {
     "name": "stderr",
     "output_type": "stream",
     "text": [
      "Some weights of the model checkpoint at ./model/chinese_wwm_ext/pytorch_model.bin were not used when initializing ZLEBertModel: ['cls.predictions.bias', 'cls.predictions.transform.LayerNorm.bias', 'cls.predictions.transform.LayerNorm.weight', 'cls.predictions.decoder.weight', 'cls.predictions.transform.dense.weight', 'cls.seq_relationship.weight', 'cls.seq_relationship.bias', 'cls.predictions.transform.dense.bias']\n",
      "- This IS expected if you are initializing ZLEBertModel from the checkpoint of a model trained on another task or with another architecture (e.g. initializing a BertForSequenceClassification model from a BertForPreTraining model).\n",
      "- This IS NOT expected if you are initializing ZLEBertModel from the checkpoint of a model that you expect to be exactly identical (initializing a BertForSequenceClassification model from a BertForSequenceClassification model).\n",
      "Some weights of ZLEBertModel were not initialized from the model checkpoint at ./model/chinese_wwm_ext/pytorch_model.bin and are newly initialized: ['inter_word_embeddings.weight', 'bert.encoder.layer.0.word_word_weight.bias', 'bert.encoder.layer.0.attn_W', 'bert.encoder.layer.0.word_transform.bias', 'bert.encoder.layer.0.fuse_layernorm.bias', 'bert.encoder.layer.0.fuse_layernorm.weight', 'bert.encoder.layer.0.word_word_weight.weight', 'word_embeddings.weight', 'bert.embeddings.position_ids', 'bert.encoder.layer.0.word_transform.weight']\n",
      "You should probably TRAIN this model on a down-stream task to be able to use it for predictions and inference.\n",
      "Epoch: 1/30 Train: 100%|██████████| 100/100 [00:42<00:00,  2.37it/s, F1=0.187, train_acc=0.792, train_loss=102, train_precision=0.183, train_recall=0.196]     \n",
      "Eval Result: 100%|██████████| 4/4 [00:01<00:00,  2.09it/s, F1=0.596, eval_acc=0.946, eval_loss=22.5, eval_precision=0.553, eval_recall=0.65] \n",
      "Epoch: 2/30 Train: 100%|██████████| 100/100 [00:39<00:00,  2.52it/s, F1=0.655, train_acc=0.945, train_loss=22.1, train_precision=0.635, train_recall=0.68]\n",
      "Eval Result: 100%|██████████| 4/4 [00:02<00:00,  1.97it/s, F1=0.742, eval_acc=0.96, eval_loss=15, eval_precision=0.717, eval_recall=0.77]    \n",
      "Epoch: 3/30 Train: 100%|██████████| 100/100 [00:40<00:00,  2.46it/s, F1=0.761, train_acc=0.96, train_loss=14.6, train_precision=0.753, train_recall=0.77] \n",
      "Eval Result: 100%|██████████| 4/4 [00:02<00:00,  1.98it/s, F1=0.767, eval_acc=0.959, eval_loss=14, eval_precision=0.756, eval_recall=0.779]  \n",
      "Epoch: 4/30 Train: 100%|██████████| 100/100 [00:41<00:00,  2.44it/s, F1=0.8, train_acc=0.964, train_loss=11.8, train_precision=0.795, train_recall=0.805] \n",
      "Eval Result: 100%|██████████| 4/4 [00:01<00:00,  2.04it/s, F1=0.786, eval_acc=0.953, eval_loss=12.4, eval_precision=0.765, eval_recall=0.809]\n",
      "Epoch: 5/30 Train: 100%|██████████| 100/100 [00:41<00:00,  2.44it/s, F1=0.846, train_acc=0.973, train_loss=8.38, train_precision=0.845, train_recall=0.847]\n",
      "Eval Result: 100%|██████████| 4/4 [00:01<00:00,  2.09it/s, F1=0.792, eval_acc=0.95, eval_loss=14.1, eval_precision=0.767, eval_recall=0.818] \n",
      "Epoch: 6/30 Train: 100%|██████████| 100/100 [00:39<00:00,  2.52it/s, F1=0.874, train_acc=0.979, train_loss=6.59, train_precision=0.874, train_recall=0.874]\n",
      "Eval Result: 100%|██████████| 4/4 [00:01<00:00,  2.09it/s, F1=0.776, eval_acc=0.953, eval_loss=14, eval_precision=0.762, eval_recall=0.791]  \n",
      "Epoch: 7/30 Train: 100%|██████████| 100/100 [00:41<00:00,  2.43it/s, F1=0.893, train_acc=0.982, train_loss=5.36, train_precision=0.893, train_recall=0.893]\n",
      "Eval Result: 100%|██████████| 4/4 [00:01<00:00,  2.01it/s, F1=0.779, eval_acc=0.953, eval_loss=15.2, eval_precision=0.746, eval_recall=0.815]\n",
      "Epoch: 8/30 Train: 100%|██████████| 100/100 [00:38<00:00,  2.57it/s, F1=0.903, train_acc=0.984, train_loss=4.85, train_precision=0.902, train_recall=0.905]\n",
      "Eval Result: 100%|██████████| 4/4 [00:01<00:00,  2.10it/s, F1=0.819, eval_acc=0.959, eval_loss=12.9, eval_precision=0.8, eval_recall=0.839]  \n",
      "Epoch: 9/30 Train: 100%|██████████| 100/100 [00:41<00:00,  2.42it/s, F1=0.923, train_acc=0.987, train_loss=3.93, train_precision=0.925, train_recall=0.921]\n",
      "Eval Result: 100%|██████████| 4/4 [00:02<00:00,  1.99it/s, F1=0.81, eval_acc=0.96, eval_loss=13.2, eval_precision=0.796, eval_recall=0.826]  \n",
      "Epoch: 10/30 Train: 100%|██████████| 100/100 [00:39<00:00,  2.53it/s, F1=0.93, train_acc=0.988, train_loss=3.66, train_precision=0.928, train_recall=0.932]\n",
      "Eval Result: 100%|██████████| 4/4 [00:01<00:00,  2.05it/s, F1=0.81, eval_acc=0.96, eval_loss=13.6, eval_precision=0.791, eval_recall=0.829]  \n",
      "Epoch: 11/30 Train: 100%|██████████| 100/100 [00:39<00:00,  2.56it/s, F1=0.921, train_acc=0.986, train_loss=4.37, train_precision=0.919, train_recall=0.923]\n",
      "Eval Result: 100%|██████████| 4/4 [00:01<00:00,  2.08it/s, F1=0.808, eval_acc=0.959, eval_loss=15, eval_precision=0.799, eval_recall=0.818]  \n",
      "Epoch: 12/30 Train: 100%|██████████| 100/100 [00:39<00:00,  2.55it/s, F1=0.927, train_acc=0.986, train_loss=3.84, train_precision=0.926, train_recall=0.929]\n",
      "Eval Result: 100%|██████████| 4/4 [00:01<00:00,  2.09it/s, F1=0.819, eval_acc=0.962, eval_loss=12.2, eval_precision=0.813, eval_recall=0.826]\n",
      "Epoch: 13/30 Train: 100%|██████████| 100/100 [00:39<00:00,  2.54it/s, F1=0.936, train_acc=0.988, train_loss=3.5, train_precision=0.937, train_recall=0.935]\n",
      "Eval Result: 100%|██████████| 4/4 [00:01<00:00,  2.07it/s, F1=0.819, eval_acc=0.962, eval_loss=14.3, eval_precision=0.815, eval_recall=0.823]\n",
      "Epoch: 14/30 Train: 100%|██████████| 100/100 [00:39<00:00,  2.56it/s, F1=0.952, train_acc=0.992, train_loss=2.59, train_precision=0.952, train_recall=0.953]\n",
      "Eval Result: 100%|██████████| 4/4 [00:02<00:00,  1.87it/s, F1=0.806, eval_acc=0.961, eval_loss=12.1, eval_precision=0.818, eval_recall=0.794]\n",
      "Epoch: 15/30 Train: 100%|██████████| 100/100 [00:39<00:00,  2.56it/s, F1=0.956, train_acc=0.993, train_loss=2.04, train_precision=0.955, train_recall=0.957]\n",
      "Eval Result: 100%|██████████| 4/4 [00:01<00:00,  2.07it/s, F1=0.812, eval_acc=0.962, eval_loss=13.5, eval_precision=0.808, eval_recall=0.817]\n",
      "Epoch: 16/30 Train: 100%|██████████| 100/100 [00:38<00:00,  2.60it/s, F1=0.959, train_acc=0.993, train_loss=2.18, train_precision=0.958, train_recall=0.96]\n",
      "Eval Result: 100%|██████████| 4/4 [00:01<00:00,  2.09it/s, F1=0.814, eval_acc=0.962, eval_loss=12.4, eval_precision=0.813, eval_recall=0.815]\n",
      "Epoch: 17/30 Train: 100%|██████████| 100/100 [00:38<00:00,  2.59it/s, F1=0.962, train_acc=0.994, train_loss=1.96, train_precision=0.963, train_recall=0.962]\n",
      "Eval Result: 100%|██████████| 4/4 [00:01<00:00,  2.08it/s, F1=0.815, eval_acc=0.961, eval_loss=13, eval_precision=0.813, eval_recall=0.818] \n",
      "Epoch: 18/30 Train: 100%|██████████| 100/100 [00:38<00:00,  2.57it/s, F1=0.967, train_acc=0.995, train_loss=1.84, train_precision=0.966, train_recall=0.968]\n",
      "Eval Result: 100%|██████████| 4/4 [00:01<00:00,  2.20it/s, F1=0.821, eval_acc=0.964, eval_loss=13.9, eval_precision=0.818, eval_recall=0.824]\n",
      "Epoch: 19/30 Train: 100%|██████████| 100/100 [00:39<00:00,  2.55it/s, F1=0.97, train_acc=0.994, train_loss=1.72, train_precision=0.969, train_recall=0.971]\n",
      "Eval Result: 100%|██████████| 4/4 [00:01<00:00,  2.09it/s, F1=0.768, eval_acc=0.947, eval_loss=16.9, eval_precision=0.765, eval_recall=0.772]\n",
      "Epoch: 20/30 Train: 100%|██████████| 100/100 [00:41<00:00,  2.40it/s, F1=0.968, train_acc=0.995, train_loss=1.54, train_precision=0.967, train_recall=0.969]\n",
      "Eval Result: 100%|██████████| 4/4 [00:02<00:00,  1.97it/s, F1=0.82, eval_acc=0.96, eval_loss=13.7, eval_precision=0.818, eval_recall=0.822]  \n",
      "Epoch: 21/30 Train: 100%|██████████| 100/100 [00:38<00:00,  2.59it/s, F1=0.974, train_acc=0.996, train_loss=1.38, train_precision=0.974, train_recall=0.974]\n",
      "Eval Result: 100%|██████████| 4/4 [00:01<00:00,  2.09it/s, F1=0.815, eval_acc=0.956, eval_loss=16, eval_precision=0.804, eval_recall=0.826]  \n",
      "Epoch: 22/30 Train: 100%|██████████| 100/100 [00:39<00:00,  2.55it/s, F1=0.976, train_acc=0.996, train_loss=1.35, train_precision=0.976, train_recall=0.976]\n",
      "Eval Result: 100%|██████████| 4/4 [00:02<00:00,  1.82it/s, F1=0.819, eval_acc=0.963, eval_loss=14.4, eval_precision=0.82, eval_recall=0.819] \n",
      "Epoch: 23/30 Train: 100%|██████████| 100/100 [00:40<00:00,  2.46it/s, F1=0.98, train_acc=0.996, train_loss=1.24, train_precision=0.979, train_recall=0.981]\n",
      "Eval Result: 100%|██████████| 4/4 [00:02<00:00,  1.97it/s, F1=0.824, eval_acc=0.964, eval_loss=13.6, eval_precision=0.822, eval_recall=0.826]\n",
      "Epoch: 24/30 Train: 100%|██████████| 100/100 [00:40<00:00,  2.45it/s, F1=0.977, train_acc=0.997, train_loss=1.26, train_precision=0.977, train_recall=0.978]\n",
      "Eval Result: 100%|██████████| 4/4 [00:01<00:00,  2.04it/s, F1=0.807, eval_acc=0.961, eval_loss=14.7, eval_precision=0.8, eval_recall=0.815]  \n",
      "Epoch: 25/30 Train: 100%|██████████| 100/100 [00:38<00:00,  2.57it/s, F1=0.981, train_acc=0.997, train_loss=0.965, train_precision=0.979, train_recall=0.982]\n",
      "Eval Result: 100%|██████████| 4/4 [00:01<00:00,  2.01it/s, F1=0.794, eval_acc=0.959, eval_loss=15.4, eval_precision=0.794, eval_recall=0.794]\n",
      "Epoch: 26/30 Train: 100%|██████████| 100/100 [00:38<00:00,  2.59it/s, F1=0.983, train_acc=0.997, train_loss=1.06, train_precision=0.983, train_recall=0.983]\n",
      "Eval Result: 100%|██████████| 4/4 [00:01<00:00,  2.03it/s, F1=0.793, eval_acc=0.961, eval_loss=14.7, eval_precision=0.781, eval_recall=0.805]\n",
      "Epoch: 27/30 Train: 100%|██████████| 100/100 [00:38<00:00,  2.57it/s, F1=0.983, train_acc=0.998, train_loss=0.954, train_precision=0.983, train_recall=0.984]\n",
      "Eval Result: 100%|██████████| 4/4 [00:01<00:00,  2.03it/s, F1=0.797, eval_acc=0.957, eval_loss=14.5, eval_precision=0.782, eval_recall=0.812]\n",
      "Epoch: 28/30 Train: 100%|██████████| 100/100 [00:39<00:00,  2.56it/s, F1=0.982, train_acc=0.997, train_loss=1.25, train_precision=0.982, train_recall=0.981]\n",
      "Eval Result: 100%|██████████| 4/4 [00:01<00:00,  2.03it/s, F1=0.803, eval_acc=0.959, eval_loss=14.4, eval_precision=0.789, eval_recall=0.816]\n",
      "Epoch: 29/30 Train: 100%|██████████| 100/100 [00:40<00:00,  2.46it/s, F1=0.987, train_acc=0.998, train_loss=0.834, train_precision=0.987, train_recall=0.988]\n",
      "Eval Result: 100%|██████████| 4/4 [00:02<00:00,  1.97it/s, F1=0.818, eval_acc=0.965, eval_loss=15.6, eval_precision=0.81, eval_recall=0.827] \n",
      "Epoch: 30/30 Train: 100%|██████████| 100/100 [00:39<00:00,  2.56it/s, F1=0.987, train_acc=0.998, train_loss=0.856, train_precision=0.987, train_recall=0.987]\n",
      "Eval Result: 100%|██████████| 4/4 [00:01<00:00,  2.08it/s, F1=0.789, eval_acc=0.957, eval_loss=15.5, eval_precision=0.773, eval_recall=0.805]\n"
     ]
    }
   ],
   "source": [
    "args[\"task_name\"] = \"ccks_v1_ZLEBert_2\"\n",
    "\n",
    "trainer = NERTrainer(**args)\n",
    "\n",
    "for i in trainer(lr2=1e-2):\n",
    "    a = i"
   ]
  },
  {
   "cell_type": "code",
   "execution_count": 8,
   "metadata": {},
   "outputs": [
    {
     "name": "stdout",
     "output_type": "stream",
     "text": [
      "kwargs parser: {\n",
      "    \"batch_size\": 8,\n",
      "    \"eval_batch_size\": 64,\n",
      "    \"test_batch_size\": 16,\n",
      "    \"word_embedding_file\": \"./data/tencent/word_embedding.txt\",\n",
      "    \"word_vocab_file\": \"./data/tencent/tencent_vocab.txt\",\n",
      "    \"train_file\": \"./data/ccks/train.json\",\n",
      "    \"eval_file\": \"./data/ccks/dev.json\",\n",
      "    \"test_file\": \"./data/ccks/subtask1_test.json\",\n",
      "    \"tag_file\": \"data/ccks/ccks_tags_list.txt\",\n",
      "    \"inter_knowledge_file\": \"./data/tencent/THUOCL_FN_medical.txt\",\n",
      "    \"bert_vocab_file\": \"./model/chinese_wwm_ext/vocab.txt\",\n",
      "    \"output_eval\": true,\n",
      "    \"max_scan_num\": 1000000,\n",
      "    \"inter_max_scan_num\": 20000,\n",
      "    \"add_seq_vocab\": false,\n",
      "    \"max_seq_length\": 150,\n",
      "    \"max_word_num\": 5,\n",
      "    \"default_tag\": \"O\",\n",
      "    \"use_test\": false,\n",
      "    \"do_shuffle\": true,\n",
      "    \"do_predict\": false,\n",
      "    \"task_name\": \"ccks_v1_ZLEBert_3\"\n",
      "}\n"
     ]
    },
    {
     "name": "stderr",
     "output_type": "stream",
     "text": [
      "calculate ./data/ccks/train.json etag: 100%|██████████| 4.00M/4.00M [00:00<00:00, 354MB/s]\n",
      "calculate ./data/ccks/dev.json etag: 100%|██████████| 974k/974k [00:00<00:00, 304MB/s]\n",
      "calculate ./data/ccks/subtask1_test.json etag: 100%|██████████| 1.57M/1.57M [00:00<00:00, 323MB/s]\n",
      "calculate data/ccks/ccks_tags_list.txt etag: 100%|██████████| 85.0/85.0 [00:00<00:00, 177kB/s]\n"
     ]
    },
    {
     "name": "stdout",
     "output_type": "stream",
     "text": [
      "load cached ./temp/246297de6538baa20f8e5de7ee2cec98_4cd7a2a292ec1ac1e74827f54118b8e5_cda3479a91a9c4fc8b0c534e972e99e8_9c02c6b5f9f31c0f8b66d34ba80dcf4e/1000000/lexicon_tree\n",
      "load cached ./temp/246297de6538baa20f8e5de7ee2cec98_4cd7a2a292ec1ac1e74827f54118b8e5_cda3479a91a9c4fc8b0c534e972e99e8_9c02c6b5f9f31c0f8b66d34ba80dcf4e/1000000/matched_words\n",
      "load cached ./temp/246297de6538baa20f8e5de7ee2cec98_4cd7a2a292ec1ac1e74827f54118b8e5_cda3479a91a9c4fc8b0c534e972e99e8_9c02c6b5f9f31c0f8b66d34ba80dcf4e/1000000/word_vocab\n"
     ]
    },
    {
     "name": "stderr",
     "output_type": "stream",
     "text": [
      "count line size data/ccks/ccks_tags_list.txt: 13L [00:00, 103661.51L/s]\n",
      "build line mapper: 13L [00:00, 98422.30L/s]3 [00:00<?, ?it/s]\n",
      "load vocab from files: 100%|██████████| 13/13 [00:00<00:00, 3606.69it/s]\n",
      "load vocab from list: 100%|██████████| 13/13 [00:00<00:00, 158505.67it/s]"
     ]
    },
    {
     "name": "stdout",
     "output_type": "stream",
     "text": [
      "load cached ./temp/246297de6538baa20f8e5de7ee2cec98_4cd7a2a292ec1ac1e74827f54118b8e5_cda3479a91a9c4fc8b0c534e972e99e8_9c02c6b5f9f31c0f8b66d34ba80dcf4e/1000000/vocab_embedding\n",
      "load cached ./temp/246297de6538baa20f8e5de7ee2cec98_4cd7a2a292ec1ac1e74827f54118b8e5_cda3479a91a9c4fc8b0c534e972e99e8_9c02c6b5f9f31c0f8b66d34ba80dcf4e/1000000/inter_lexicon_tree\n"
     ]
    },
    {
     "name": "stderr",
     "output_type": "stream",
     "text": [
      "\n"
     ]
    },
    {
     "name": "stdout",
     "output_type": "stream",
     "text": [
      "load cached ./temp/246297de6538baa20f8e5de7ee2cec98_4cd7a2a292ec1ac1e74827f54118b8e5_cda3479a91a9c4fc8b0c534e972e99e8_9c02c6b5f9f31c0f8b66d34ba80dcf4e/1000000/inter_matched_words\n",
      "load cached ./temp/246297de6538baa20f8e5de7ee2cec98_4cd7a2a292ec1ac1e74827f54118b8e5_cda3479a91a9c4fc8b0c534e972e99e8_9c02c6b5f9f31c0f8b66d34ba80dcf4e/1000000/inter_word_vocab\n",
      "load cached ./temp/246297de6538baa20f8e5de7ee2cec98_4cd7a2a292ec1ac1e74827f54118b8e5_cda3479a91a9c4fc8b0c534e972e99e8_9c02c6b5f9f31c0f8b66d34ba80dcf4e/1000000/inter_embedding\n"
     ]
    },
    {
     "name": "stderr",
     "output_type": "stream",
     "text": [
      "load dataset from ./data/ccks/train.json: 100%|██████████| 800/800 [00:02<00:00, 284.02it/s]\n",
      "load dataset from ./data/ccks/dev.json: 100%|██████████| 200/200 [00:00<00:00, 280.96it/s]\n"
     ]
    },
    {
     "name": "stdout",
     "output_type": "stream",
     "text": [
      "Load pretrained embedding from file.........\n"
     ]
    },
    {
     "name": "stderr",
     "output_type": "stream",
     "text": [
      "Some weights of the model checkpoint at ./model/chinese_wwm_ext/pytorch_model.bin were not used when initializing ZLEBertModel: ['cls.predictions.bias', 'cls.predictions.transform.LayerNorm.bias', 'cls.predictions.transform.LayerNorm.weight', 'cls.predictions.decoder.weight', 'cls.predictions.transform.dense.weight', 'cls.seq_relationship.weight', 'cls.seq_relationship.bias', 'cls.predictions.transform.dense.bias']\n",
      "- This IS expected if you are initializing ZLEBertModel from the checkpoint of a model trained on another task or with another architecture (e.g. initializing a BertForSequenceClassification model from a BertForPreTraining model).\n",
      "- This IS NOT expected if you are initializing ZLEBertModel from the checkpoint of a model that you expect to be exactly identical (initializing a BertForSequenceClassification model from a BertForSequenceClassification model).\n",
      "Some weights of ZLEBertModel were not initialized from the model checkpoint at ./model/chinese_wwm_ext/pytorch_model.bin and are newly initialized: ['inter_word_embeddings.weight', 'bert.encoder.layer.0.word_word_weight.bias', 'bert.encoder.layer.0.attn_W', 'bert.encoder.layer.0.word_transform.bias', 'bert.encoder.layer.0.fuse_layernorm.bias', 'bert.encoder.layer.0.fuse_layernorm.weight', 'bert.encoder.layer.0.word_word_weight.weight', 'word_embeddings.weight', 'bert.embeddings.position_ids', 'bert.encoder.layer.0.word_transform.weight']\n",
      "You should probably TRAIN this model on a down-stream task to be able to use it for predictions and inference.\n",
      "Epoch: 1/30 Train: 100%|██████████| 100/100 [00:40<00:00,  2.44it/s, F1=0.199, train_acc=0.806, train_loss=97.4, train_precision=0.187, train_recall=0.218]    \n",
      "Eval Result: 100%|██████████| 4/4 [00:01<00:00,  2.03it/s, F1=0.554, eval_acc=0.934, eval_loss=28.1, eval_precision=0.504, eval_recall=0.617]\n",
      "Epoch: 2/30 Train: 100%|██████████| 100/100 [00:41<00:00,  2.43it/s, F1=0.64, train_acc=0.946, train_loss=25.2, train_precision=0.613, train_recall=0.674]\n",
      "Eval Result: 100%|██████████| 4/4 [00:02<00:00,  2.00it/s, F1=0.695, eval_acc=0.947, eval_loss=19.4, eval_precision=0.655, eval_recall=0.741]\n",
      "Epoch: 3/30 Train: 100%|██████████| 100/100 [00:40<00:00,  2.50it/s, F1=0.755, train_acc=0.96, train_loss=16.9, train_precision=0.744, train_recall=0.768]\n",
      "Eval Result: 100%|██████████| 4/4 [00:02<00:00,  1.98it/s, F1=0.801, eval_acc=0.963, eval_loss=12.6, eval_precision=0.79, eval_recall=0.812] \n",
      "Epoch: 4/30 Train: 100%|██████████| 100/100 [00:39<00:00,  2.55it/s, F1=0.804, train_acc=0.966, train_loss=12.1, train_precision=0.799, train_recall=0.811]\n",
      "Eval Result: 100%|██████████| 4/4 [00:01<00:00,  2.09it/s, F1=0.811, eval_acc=0.964, eval_loss=11.5, eval_precision=0.806, eval_recall=0.816]\n",
      "Epoch: 5/30 Train: 100%|██████████| 100/100 [00:42<00:00,  2.37it/s, F1=0.845, train_acc=0.974, train_loss=9.15, train_precision=0.844, train_recall=0.848]\n",
      "Eval Result: 100%|██████████| 4/4 [00:01<00:00,  2.06it/s, F1=0.815, eval_acc=0.963, eval_loss=10.7, eval_precision=0.804, eval_recall=0.827]\n",
      "Epoch: 6/30 Train: 100%|██████████| 100/100 [00:39<00:00,  2.56it/s, F1=0.876, train_acc=0.98, train_loss=7.13, train_precision=0.874, train_recall=0.88] \n",
      "Eval Result: 100%|██████████| 4/4 [00:01<00:00,  2.01it/s, F1=0.815, eval_acc=0.965, eval_loss=10.8, eval_precision=0.806, eval_recall=0.825]\n",
      "Epoch: 7/30 Train: 100%|██████████| 100/100 [00:41<00:00,  2.43it/s, F1=0.887, train_acc=0.981, train_loss=6, train_precision=0.888, train_recall=0.887]  \n",
      "Eval Result: 100%|██████████| 4/4 [00:01<00:00,  2.07it/s, F1=0.816, eval_acc=0.96, eval_loss=11.4, eval_precision=0.807, eval_recall=0.826] \n",
      "Epoch: 8/30 Train: 100%|██████████| 100/100 [00:39<00:00,  2.53it/s, F1=0.904, train_acc=0.984, train_loss=4.93, train_precision=0.903, train_recall=0.905]\n",
      "Eval Result: 100%|██████████| 4/4 [00:01<00:00,  2.07it/s, F1=0.811, eval_acc=0.964, eval_loss=10.7, eval_precision=0.817, eval_recall=0.806]\n",
      "Epoch: 9/30 Train: 100%|██████████| 100/100 [00:41<00:00,  2.43it/s, F1=0.923, train_acc=0.988, train_loss=4, train_precision=0.923, train_recall=0.923]  \n",
      "Eval Result: 100%|██████████| 4/4 [00:02<00:00,  1.99it/s, F1=0.782, eval_acc=0.96, eval_loss=12.5, eval_precision=0.778, eval_recall=0.787] \n",
      "Epoch: 10/30 Train: 100%|██████████| 100/100 [00:38<00:00,  2.57it/s, F1=0.928, train_acc=0.988, train_loss=3.94, train_precision=0.928, train_recall=0.928]\n",
      "Eval Result: 100%|██████████| 4/4 [00:02<00:00,  1.88it/s, F1=0.794, eval_acc=0.956, eval_loss=13.9, eval_precision=0.788, eval_recall=0.801]\n",
      "Epoch: 11/30 Train: 100%|██████████| 100/100 [00:41<00:00,  2.39it/s, F1=0.933, train_acc=0.989, train_loss=3.69, train_precision=0.935, train_recall=0.932]\n",
      "Eval Result: 100%|██████████| 4/4 [00:01<00:00,  2.07it/s, F1=0.788, eval_acc=0.954, eval_loss=14.4, eval_precision=0.777, eval_recall=0.799]\n",
      "Epoch: 12/30 Train: 100%|██████████| 100/100 [00:40<00:00,  2.49it/s, F1=0.938, train_acc=0.989, train_loss=3.72, train_precision=0.939, train_recall=0.937]\n",
      "Eval Result: 100%|██████████| 4/4 [00:01<00:00,  2.07it/s, F1=0.8, eval_acc=0.96, eval_loss=15.1, eval_precision=0.786, eval_recall=0.814]   \n",
      "Epoch: 13/30 Train: 100%|██████████| 100/100 [00:41<00:00,  2.43it/s, F1=0.941, train_acc=0.99, train_loss=3.66, train_precision=0.94, train_recall=0.943] \n",
      "Eval Result: 100%|██████████| 4/4 [00:01<00:00,  2.02it/s, F1=0.785, eval_acc=0.956, eval_loss=15.8, eval_precision=0.77, eval_recall=0.802] \n",
      "Epoch: 14/30 Train: 100%|██████████| 100/100 [00:41<00:00,  2.40it/s, F1=0.948, train_acc=0.991, train_loss=3.27, train_precision=0.947, train_recall=0.949]\n",
      "Eval Result: 100%|██████████| 4/4 [00:02<00:00,  1.97it/s, F1=0.774, eval_acc=0.949, eval_loss=16.3, eval_precision=0.744, eval_recall=0.806]\n",
      "Epoch: 15/30 Train: 100%|██████████| 100/100 [00:40<00:00,  2.49it/s, F1=0.949, train_acc=0.992, train_loss=2.9, train_precision=0.949, train_recall=0.949]\n",
      "Eval Result: 100%|██████████| 4/4 [00:01<00:00,  2.06it/s, F1=0.792, eval_acc=0.953, eval_loss=15.6, eval_precision=0.777, eval_recall=0.809]\n",
      "Epoch: 16/30 Train: 100%|██████████| 100/100 [00:40<00:00,  2.48it/s, F1=0.951, train_acc=0.993, train_loss=2.78, train_precision=0.951, train_recall=0.952]\n",
      "Eval Result: 100%|██████████| 4/4 [00:02<00:00,  1.91it/s, F1=0.805, eval_acc=0.959, eval_loss=14.9, eval_precision=0.785, eval_recall=0.826]\n",
      "Epoch: 17/30 Train: 100%|██████████| 100/100 [00:39<00:00,  2.54it/s, F1=0.958, train_acc=0.994, train_loss=2.32, train_precision=0.958, train_recall=0.959]\n",
      "Eval Result: 100%|██████████| 4/4 [00:01<00:00,  2.07it/s, F1=0.823, eval_acc=0.964, eval_loss=15, eval_precision=0.812, eval_recall=0.835]  \n",
      "Epoch: 18/30 Train: 100%|██████████| 100/100 [00:39<00:00,  2.56it/s, F1=0.968, train_acc=0.995, train_loss=1.85, train_precision=0.968, train_recall=0.967]\n",
      "Eval Result: 100%|██████████| 4/4 [00:01<00:00,  2.04it/s, F1=0.807, eval_acc=0.959, eval_loss=17.3, eval_precision=0.795, eval_recall=0.82] \n",
      "Epoch: 19/30 Train: 100%|██████████| 100/100 [00:40<00:00,  2.47it/s, F1=0.968, train_acc=0.996, train_loss=1.81, train_precision=0.969, train_recall=0.968]\n",
      "Eval Result: 100%|██████████| 4/4 [00:01<00:00,  2.08it/s, F1=0.816, eval_acc=0.96, eval_loss=15, eval_precision=0.816, eval_recall=0.816]  \n",
      "Epoch: 20/30 Train: 100%|██████████| 100/100 [00:38<00:00,  2.60it/s, F1=0.973, train_acc=0.996, train_loss=1.56, train_precision=0.974, train_recall=0.973]\n",
      "Eval Result: 100%|██████████| 4/4 [00:02<00:00,  1.86it/s, F1=0.828, eval_acc=0.964, eval_loss=16.9, eval_precision=0.825, eval_recall=0.832]\n",
      "Epoch: 21/30 Train: 100%|██████████| 100/100 [00:40<00:00,  2.49it/s, F1=0.975, train_acc=0.996, train_loss=1.54, train_precision=0.975, train_recall=0.975]\n",
      "Eval Result: 100%|██████████| 4/4 [00:01<00:00,  2.08it/s, F1=0.83, eval_acc=0.963, eval_loss=15, eval_precision=0.829, eval_recall=0.832]  \n",
      "Epoch: 22/30 Train: 100%|██████████| 100/100 [00:38<00:00,  2.59it/s, F1=0.979, train_acc=0.997, train_loss=1.25, train_precision=0.979, train_recall=0.979]\n",
      "Eval Result: 100%|██████████| 4/4 [00:01<00:00,  2.08it/s, F1=0.82, eval_acc=0.965, eval_loss=14.9, eval_precision=0.819, eval_recall=0.821] \n",
      "Epoch: 23/30 Train: 100%|██████████| 100/100 [00:38<00:00,  2.57it/s, F1=0.983, train_acc=0.998, train_loss=1.04, train_precision=0.983, train_recall=0.983]\n",
      "Eval Result: 100%|██████████| 4/4 [00:01<00:00,  2.06it/s, F1=0.815, eval_acc=0.961, eval_loss=15.2, eval_precision=0.815, eval_recall=0.815]\n",
      "Epoch: 24/30 Train: 100%|██████████| 100/100 [00:38<00:00,  2.59it/s, F1=0.983, train_acc=0.997, train_loss=1.07, train_precision=0.983, train_recall=0.984]\n",
      "Eval Result: 100%|██████████| 4/4 [00:01<00:00,  2.01it/s, F1=0.821, eval_acc=0.962, eval_loss=16.2, eval_precision=0.826, eval_recall=0.817]\n",
      "Epoch: 25/30 Train: 100%|██████████| 100/100 [00:39<00:00,  2.54it/s, F1=0.986, train_acc=0.998, train_loss=1.01, train_precision=0.986, train_recall=0.986]\n",
      "Eval Result: 100%|██████████| 4/4 [00:01<00:00,  2.09it/s, F1=0.814, eval_acc=0.961, eval_loss=15.2, eval_precision=0.824, eval_recall=0.804]\n",
      "Epoch: 26/30 Train: 100%|██████████| 100/100 [00:41<00:00,  2.39it/s, F1=0.984, train_acc=0.997, train_loss=1.22, train_precision=0.984, train_recall=0.983]\n",
      "Eval Result: 100%|██████████| 4/4 [00:01<00:00,  2.04it/s, F1=0.824, eval_acc=0.959, eval_loss=13, eval_precision=0.826, eval_recall=0.822]  \n",
      "Epoch: 27/30 Train: 100%|██████████| 100/100 [00:40<00:00,  2.48it/s, F1=0.986, train_acc=0.998, train_loss=1.04, train_precision=0.986, train_recall=0.987]\n",
      "Eval Result: 100%|██████████| 4/4 [00:01<00:00,  2.00it/s, F1=0.821, eval_acc=0.959, eval_loss=16, eval_precision=0.836, eval_recall=0.808]  \n",
      "Epoch: 28/30 Train: 100%|██████████| 100/100 [00:41<00:00,  2.39it/s, F1=0.983, train_acc=0.997, train_loss=1.08, train_precision=0.982, train_recall=0.983]\n",
      "Eval Result: 100%|██████████| 4/4 [00:02<00:00,  1.95it/s, F1=0.827, eval_acc=0.958, eval_loss=15.9, eval_precision=0.835, eval_recall=0.82] \n",
      "Epoch: 29/30 Train: 100%|██████████| 100/100 [00:40<00:00,  2.46it/s, F1=0.986, train_acc=0.998, train_loss=0.958, train_precision=0.986, train_recall=0.986]\n",
      "Eval Result: 100%|██████████| 4/4 [00:01<00:00,  2.04it/s, F1=0.822, eval_acc=0.959, eval_loss=15.4, eval_precision=0.823, eval_recall=0.821]\n",
      "Epoch: 30/30 Train: 100%|██████████| 100/100 [00:38<00:00,  2.59it/s, F1=0.983, train_acc=0.997, train_loss=1.23, train_precision=0.984, train_recall=0.983]\n",
      "Eval Result: 100%|██████████| 4/4 [00:01<00:00,  2.08it/s, F1=0.818, eval_acc=0.959, eval_loss=14.5, eval_precision=0.816, eval_recall=0.821]\n"
     ]
    }
   ],
   "source": [
    "args[\"task_name\"] = \"ccks_v1_ZLEBert_3\"\n",
    "\n",
    "trainer = NERTrainer(**args)\n",
    "\n",
    "for i in trainer(lr2=1e-2):\n",
    "    a = i"
   ]
  },
  {
   "cell_type": "code",
   "execution_count": 9,
   "metadata": {},
   "outputs": [
    {
     "name": "stdout",
     "output_type": "stream",
     "text": [
      "kwargs parser: {\n",
      "    \"batch_size\": 8,\n",
      "    \"eval_batch_size\": 64,\n",
      "    \"test_batch_size\": 16,\n",
      "    \"word_embedding_file\": \"./data/tencent/word_embedding.txt\",\n",
      "    \"word_vocab_file\": \"./data/tencent/tencent_vocab.txt\",\n",
      "    \"train_file\": \"./data/ccks/train.json\",\n",
      "    \"eval_file\": \"./data/ccks/dev.json\",\n",
      "    \"test_file\": \"./data/ccks/subtask1_test.json\",\n",
      "    \"tag_file\": \"data/ccks/ccks_tags_list.txt\",\n",
      "    \"inter_knowledge_file\": \"./data/tencent/THUOCL_FN_medical.txt\",\n",
      "    \"bert_vocab_file\": \"./model/chinese_wwm_ext/vocab.txt\",\n",
      "    \"output_eval\": true,\n",
      "    \"max_scan_num\": 1000000,\n",
      "    \"inter_max_scan_num\": 20000,\n",
      "    \"add_seq_vocab\": false,\n",
      "    \"max_seq_length\": 150,\n",
      "    \"max_word_num\": 5,\n",
      "    \"default_tag\": \"O\",\n",
      "    \"use_test\": false,\n",
      "    \"do_shuffle\": true,\n",
      "    \"do_predict\": false,\n",
      "    \"task_name\": \"ccks_v1_ZLEBert_4\"\n",
      "}\n"
     ]
    },
    {
     "name": "stderr",
     "output_type": "stream",
     "text": [
      "calculate ./data/ccks/train.json etag: 100%|██████████| 4.00M/4.00M [00:00<00:00, 318MB/s]\n",
      "calculate ./data/ccks/dev.json etag: 100%|██████████| 974k/974k [00:00<00:00, 311MB/s]\n",
      "calculate ./data/ccks/subtask1_test.json etag: 100%|██████████| 1.57M/1.57M [00:00<00:00, 331MB/s]\n",
      "calculate data/ccks/ccks_tags_list.txt etag: 100%|██████████| 85.0/85.0 [00:00<00:00, 136kB/s]\n"
     ]
    },
    {
     "name": "stdout",
     "output_type": "stream",
     "text": [
      "load cached ./temp/246297de6538baa20f8e5de7ee2cec98_4cd7a2a292ec1ac1e74827f54118b8e5_cda3479a91a9c4fc8b0c534e972e99e8_9c02c6b5f9f31c0f8b66d34ba80dcf4e/1000000/lexicon_tree\n",
      "load cached ./temp/246297de6538baa20f8e5de7ee2cec98_4cd7a2a292ec1ac1e74827f54118b8e5_cda3479a91a9c4fc8b0c534e972e99e8_9c02c6b5f9f31c0f8b66d34ba80dcf4e/1000000/matched_words\n",
      "load cached ./temp/246297de6538baa20f8e5de7ee2cec98_4cd7a2a292ec1ac1e74827f54118b8e5_cda3479a91a9c4fc8b0c534e972e99e8_9c02c6b5f9f31c0f8b66d34ba80dcf4e/1000000/word_vocab\n"
     ]
    },
    {
     "name": "stderr",
     "output_type": "stream",
     "text": [
      "count line size data/ccks/ccks_tags_list.txt: 13L [00:00, 34597.69L/s]\n",
      "build line mapper: 13L [00:00, 94992.95L/s]3 [00:00<?, ?it/s]\n",
      "load vocab from files: 100%|██████████| 13/13 [00:00<00:00, 3523.49it/s]\n",
      "load vocab from list: 100%|██████████| 13/13 [00:00<00:00, 162764.04it/s]"
     ]
    },
    {
     "name": "stdout",
     "output_type": "stream",
     "text": [
      "load cached ./temp/246297de6538baa20f8e5de7ee2cec98_4cd7a2a292ec1ac1e74827f54118b8e5_cda3479a91a9c4fc8b0c534e972e99e8_9c02c6b5f9f31c0f8b66d34ba80dcf4e/1000000/vocab_embedding\n",
      "load cached ./temp/246297de6538baa20f8e5de7ee2cec98_4cd7a2a292ec1ac1e74827f54118b8e5_cda3479a91a9c4fc8b0c534e972e99e8_9c02c6b5f9f31c0f8b66d34ba80dcf4e/1000000/inter_lexicon_tree\n"
     ]
    },
    {
     "name": "stderr",
     "output_type": "stream",
     "text": [
      "\n"
     ]
    },
    {
     "name": "stdout",
     "output_type": "stream",
     "text": [
      "load cached ./temp/246297de6538baa20f8e5de7ee2cec98_4cd7a2a292ec1ac1e74827f54118b8e5_cda3479a91a9c4fc8b0c534e972e99e8_9c02c6b5f9f31c0f8b66d34ba80dcf4e/1000000/inter_matched_words\n",
      "load cached ./temp/246297de6538baa20f8e5de7ee2cec98_4cd7a2a292ec1ac1e74827f54118b8e5_cda3479a91a9c4fc8b0c534e972e99e8_9c02c6b5f9f31c0f8b66d34ba80dcf4e/1000000/inter_word_vocab\n",
      "load cached ./temp/246297de6538baa20f8e5de7ee2cec98_4cd7a2a292ec1ac1e74827f54118b8e5_cda3479a91a9c4fc8b0c534e972e99e8_9c02c6b5f9f31c0f8b66d34ba80dcf4e/1000000/inter_embedding\n"
     ]
    },
    {
     "name": "stderr",
     "output_type": "stream",
     "text": [
      "load dataset from ./data/ccks/train.json: 100%|██████████| 800/800 [00:02<00:00, 279.97it/s]\n",
      "load dataset from ./data/ccks/dev.json: 100%|██████████| 200/200 [00:00<00:00, 282.58it/s]\n"
     ]
    },
    {
     "name": "stdout",
     "output_type": "stream",
     "text": [
      "Load pretrained embedding from file.........\n"
     ]
    },
    {
     "name": "stderr",
     "output_type": "stream",
     "text": [
      "Some weights of the model checkpoint at ./model/chinese_wwm_ext/pytorch_model.bin were not used when initializing ZLEBertModel: ['cls.predictions.bias', 'cls.predictions.transform.LayerNorm.bias', 'cls.predictions.transform.LayerNorm.weight', 'cls.predictions.decoder.weight', 'cls.predictions.transform.dense.weight', 'cls.seq_relationship.weight', 'cls.seq_relationship.bias', 'cls.predictions.transform.dense.bias']\n",
      "- This IS expected if you are initializing ZLEBertModel from the checkpoint of a model trained on another task or with another architecture (e.g. initializing a BertForSequenceClassification model from a BertForPreTraining model).\n",
      "- This IS NOT expected if you are initializing ZLEBertModel from the checkpoint of a model that you expect to be exactly identical (initializing a BertForSequenceClassification model from a BertForSequenceClassification model).\n",
      "Some weights of ZLEBertModel were not initialized from the model checkpoint at ./model/chinese_wwm_ext/pytorch_model.bin and are newly initialized: ['inter_word_embeddings.weight', 'bert.encoder.layer.0.word_word_weight.bias', 'bert.encoder.layer.0.attn_W', 'bert.encoder.layer.0.word_transform.bias', 'bert.encoder.layer.0.fuse_layernorm.bias', 'bert.encoder.layer.0.fuse_layernorm.weight', 'bert.encoder.layer.0.word_word_weight.weight', 'word_embeddings.weight', 'bert.embeddings.position_ids', 'bert.encoder.layer.0.word_transform.weight']\n",
      "You should probably TRAIN this model on a down-stream task to be able to use it for predictions and inference.\n",
      "Epoch: 1/30 Train: 100%|██████████| 100/100 [00:42<00:00,  2.33it/s, F1=0.157, train_acc=0.772, train_loss=143, train_precision=0.136, train_recall=0.189]        \n",
      "Eval Result: 100%|██████████| 4/4 [00:02<00:00,  1.96it/s, F1=0.526, eval_acc=0.939, eval_loss=30.9, eval_precision=0.484, eval_recall=0.578]\n",
      "Epoch: 2/30 Train: 100%|██████████| 100/100 [00:46<00:00,  2.15it/s, F1=0.6, train_acc=0.943, train_loss=30.5, train_precision=0.557, train_recall=0.654] \n",
      "Eval Result: 100%|██████████| 4/4 [00:02<00:00,  1.93it/s, F1=0.724, eval_acc=0.959, eval_loss=18.7, eval_precision=0.704, eval_recall=0.746]\n",
      "Epoch: 3/30 Train: 100%|██████████| 100/100 [00:44<00:00,  2.25it/s, F1=0.718, train_acc=0.958, train_loss=19.8, train_precision=0.698, train_recall=0.741]\n",
      "Eval Result: 100%|██████████| 4/4 [00:01<00:00,  2.01it/s, F1=0.699, eval_acc=0.952, eval_loss=19, eval_precision=0.662, eval_recall=0.739]  \n",
      "Epoch: 4/30 Train: 100%|██████████| 100/100 [00:48<00:00,  2.05it/s, F1=0.768, train_acc=0.964, train_loss=15.1, train_precision=0.759, train_recall=0.779]\n",
      "Eval Result: 100%|██████████| 4/4 [00:02<00:00,  1.90it/s, F1=0.774, eval_acc=0.959, eval_loss=18.6, eval_precision=0.748, eval_recall=0.803]\n",
      "Epoch: 5/30 Train: 100%|██████████| 100/100 [00:46<00:00,  2.15it/s, F1=0.809, train_acc=0.968, train_loss=12.2, train_precision=0.804, train_recall=0.815]\n",
      "Eval Result: 100%|██████████| 4/4 [00:02<00:00,  1.82it/s, F1=0.8, eval_acc=0.963, eval_loss=15.6, eval_precision=0.786, eval_recall=0.815]  \n",
      "Epoch: 6/30 Train: 100%|██████████| 100/100 [00:45<00:00,  2.19it/s, F1=0.849, train_acc=0.976, train_loss=8.59, train_precision=0.847, train_recall=0.853]\n",
      "Eval Result: 100%|██████████| 4/4 [00:02<00:00,  1.93it/s, F1=0.784, eval_acc=0.957, eval_loss=14.8, eval_precision=0.768, eval_recall=0.802]\n",
      "Epoch: 7/30 Train: 100%|██████████| 100/100 [00:45<00:00,  2.19it/s, F1=0.875, train_acc=0.98, train_loss=6.67, train_precision=0.874, train_recall=0.878]\n",
      "Eval Result: 100%|██████████| 4/4 [00:03<00:00,  1.19it/s, F1=0.811, eval_acc=0.965, eval_loss=13, eval_precision=0.798, eval_recall=0.825]  \n",
      "Epoch: 8/30 Train: 100%|██████████| 100/100 [00:44<00:00,  2.22it/s, F1=0.896, train_acc=0.984, train_loss=5.46, train_precision=0.895, train_recall=0.897]\n",
      "Eval Result: 100%|██████████| 4/4 [00:02<00:00,  1.90it/s, F1=0.819, eval_acc=0.964, eval_loss=13.1, eval_precision=0.814, eval_recall=0.824]\n",
      "Epoch: 9/30 Train: 100%|██████████| 100/100 [00:40<00:00,  2.47it/s, F1=0.905, train_acc=0.985, train_loss=4.93, train_precision=0.903, train_recall=0.909]\n",
      "Eval Result: 100%|██████████| 4/4 [00:02<00:00,  1.98it/s, F1=0.814, eval_acc=0.962, eval_loss=12.8, eval_precision=0.801, eval_recall=0.827]\n",
      "Epoch: 10/30 Train: 100%|██████████| 100/100 [00:40<00:00,  2.49it/s, F1=0.912, train_acc=0.986, train_loss=4.2, train_precision=0.912, train_recall=0.914]\n",
      "Eval Result: 100%|██████████| 4/4 [00:01<00:00,  2.02it/s, F1=0.804, eval_acc=0.96, eval_loss=14.2, eval_precision=0.788, eval_recall=0.821] \n",
      "Epoch: 11/30 Train: 100%|██████████| 100/100 [00:42<00:00,  2.36it/s, F1=0.925, train_acc=0.988, train_loss=3.62, train_precision=0.924, train_recall=0.927]\n",
      "Eval Result: 100%|██████████| 4/4 [00:01<00:00,  2.03it/s, F1=0.791, eval_acc=0.949, eval_loss=13.5, eval_precision=0.775, eval_recall=0.806]\n",
      "Epoch: 12/30 Train: 100%|██████████| 100/100 [00:40<00:00,  2.50it/s, F1=0.93, train_acc=0.99, train_loss=3.36, train_precision=0.929, train_recall=0.933] \n",
      "Eval Result: 100%|██████████| 4/4 [00:01<00:00,  2.03it/s, F1=0.814, eval_acc=0.961, eval_loss=13.7, eval_precision=0.799, eval_recall=0.829]\n",
      "Epoch: 13/30 Train: 100%|██████████| 100/100 [00:38<00:00,  2.58it/s, F1=0.929, train_acc=0.99, train_loss=3.32, train_precision=0.929, train_recall=0.93] \n",
      "Eval Result: 100%|██████████| 4/4 [00:01<00:00,  2.08it/s, F1=0.797, eval_acc=0.953, eval_loss=17.4, eval_precision=0.778, eval_recall=0.817]\n",
      "Epoch: 14/30 Train: 100%|██████████| 100/100 [00:38<00:00,  2.57it/s, F1=0.939, train_acc=0.99, train_loss=3.27, train_precision=0.937, train_recall=0.94] \n",
      "Eval Result: 100%|██████████| 4/4 [00:01<00:00,  2.06it/s, F1=0.793, eval_acc=0.944, eval_loss=14.4, eval_precision=0.785, eval_recall=0.801]\n",
      "Epoch: 15/30 Train: 100%|██████████| 100/100 [00:39<00:00,  2.51it/s, F1=0.941, train_acc=0.99, train_loss=2.97, train_precision=0.94, train_recall=0.942] \n",
      "Eval Result: 100%|██████████| 4/4 [00:01<00:00,  2.06it/s, F1=0.79, eval_acc=0.956, eval_loss=15.7, eval_precision=0.784, eval_recall=0.797]\n",
      "Epoch: 16/30 Train: 100%|██████████| 100/100 [00:41<00:00,  2.42it/s, F1=0.938, train_acc=0.991, train_loss=2.96, train_precision=0.936, train_recall=0.94]\n",
      "Eval Result: 100%|██████████| 4/4 [00:01<00:00,  2.00it/s, F1=0.806, eval_acc=0.96, eval_loss=14, eval_precision=0.804, eval_recall=0.809]   \n",
      "Epoch: 17/30 Train: 100%|██████████| 100/100 [00:38<00:00,  2.58it/s, F1=0.944, train_acc=0.99, train_loss=3.11, train_precision=0.943, train_recall=0.946]\n",
      "Eval Result: 100%|██████████| 4/4 [00:02<00:00,  1.98it/s, F1=0.804, eval_acc=0.956, eval_loss=14.2, eval_precision=0.798, eval_recall=0.81]\n",
      "Epoch: 18/30 Train: 100%|██████████| 100/100 [00:39<00:00,  2.56it/s, F1=0.943, train_acc=0.992, train_loss=2.82, train_precision=0.942, train_recall=0.945]\n",
      "Eval Result: 100%|██████████| 4/4 [00:02<00:00,  1.96it/s, F1=0.801, eval_acc=0.961, eval_loss=15, eval_precision=0.791, eval_recall=0.812]  \n",
      "Epoch: 19/30 Train: 100%|██████████| 100/100 [00:39<00:00,  2.51it/s, F1=0.949, train_acc=0.993, train_loss=2.5, train_precision=0.948, train_recall=0.95] \n",
      "Eval Result: 100%|██████████| 4/4 [00:01<00:00,  2.06it/s, F1=0.814, eval_acc=0.962, eval_loss=16.3, eval_precision=0.806, eval_recall=0.823]\n",
      "Epoch: 20/30 Train: 100%|██████████| 100/100 [00:41<00:00,  2.40it/s, F1=0.955, train_acc=0.994, train_loss=2.18, train_precision=0.954, train_recall=0.956]\n",
      "Eval Result: 100%|██████████| 4/4 [00:01<00:00,  2.09it/s, F1=0.797, eval_acc=0.955, eval_loss=16.9, eval_precision=0.792, eval_recall=0.803]\n",
      "Epoch: 21/30 Train: 100%|██████████| 100/100 [00:38<00:00,  2.59it/s, F1=0.955, train_acc=0.993, train_loss=2.54, train_precision=0.952, train_recall=0.959]\n",
      "Eval Result: 100%|██████████| 4/4 [00:01<00:00,  2.09it/s, F1=0.815, eval_acc=0.96, eval_loss=15.4, eval_precision=0.813, eval_recall=0.818] \n",
      "Epoch: 22/30 Train: 100%|██████████| 100/100 [00:38<00:00,  2.59it/s, F1=0.96, train_acc=0.994, train_loss=2.15, train_precision=0.959, train_recall=0.961]\n",
      "Eval Result: 100%|██████████| 4/4 [00:01<00:00,  2.08it/s, F1=0.82, eval_acc=0.963, eval_loss=16.7, eval_precision=0.815, eval_recall=0.826] \n",
      "Epoch: 23/30 Train: 100%|██████████| 100/100 [00:39<00:00,  2.53it/s, F1=0.957, train_acc=0.994, train_loss=2.05, train_precision=0.958, train_recall=0.957]\n",
      "Eval Result: 100%|██████████| 4/4 [00:02<00:00,  1.93it/s, F1=0.812, eval_acc=0.963, eval_loss=16.9, eval_precision=0.81, eval_recall=0.814] \n",
      "Epoch: 24/30 Train: 100%|██████████| 100/100 [00:40<00:00,  2.48it/s, F1=0.965, train_acc=0.995, train_loss=1.83, train_precision=0.965, train_recall=0.965]\n",
      "Eval Result: 100%|██████████| 4/4 [00:01<00:00,  2.02it/s, F1=0.792, eval_acc=0.953, eval_loss=18.1, eval_precision=0.782, eval_recall=0.803]\n",
      "Epoch: 25/30 Train: 100%|██████████| 100/100 [00:38<00:00,  2.59it/s, F1=0.967, train_acc=0.995, train_loss=1.61, train_precision=0.966, train_recall=0.969]\n",
      "Eval Result: 100%|██████████| 4/4 [00:01<00:00,  2.05it/s, F1=0.803, eval_acc=0.955, eval_loss=18.4, eval_precision=0.79, eval_recall=0.817] \n",
      "Epoch: 26/30 Train: 100%|██████████| 100/100 [00:39<00:00,  2.56it/s, F1=0.97, train_acc=0.995, train_loss=1.88, train_precision=0.968, train_recall=0.972]\n",
      "Eval Result: 100%|██████████| 4/4 [00:02<00:00,  1.96it/s, F1=0.812, eval_acc=0.961, eval_loss=16.6, eval_precision=0.807, eval_recall=0.817]\n",
      "Epoch: 27/30 Train: 100%|██████████| 100/100 [00:41<00:00,  2.43it/s, F1=0.969, train_acc=0.995, train_loss=1.74, train_precision=0.968, train_recall=0.97]\n",
      "Eval Result: 100%|██████████| 4/4 [00:01<00:00,  2.04it/s, F1=0.814, eval_acc=0.963, eval_loss=17.1, eval_precision=0.801, eval_recall=0.827]\n",
      "Epoch: 28/30 Train: 100%|██████████| 100/100 [00:40<00:00,  2.46it/s, F1=0.977, train_acc=0.997, train_loss=1.22, train_precision=0.978, train_recall=0.977]\n",
      "Eval Result: 100%|██████████| 4/4 [00:02<00:00,  1.99it/s, F1=0.804, eval_acc=0.96, eval_loss=16.4, eval_precision=0.8, eval_recall=0.808]   \n",
      "Epoch: 29/30 Train: 100%|██████████| 100/100 [00:39<00:00,  2.51it/s, F1=0.983, train_acc=0.998, train_loss=0.929, train_precision=0.982, train_recall=0.983]\n",
      "Eval Result: 100%|██████████| 4/4 [00:01<00:00,  2.08it/s, F1=0.81, eval_acc=0.962, eval_loss=17.7, eval_precision=0.813, eval_recall=0.807] \n",
      "Epoch: 30/30 Train: 100%|██████████| 100/100 [00:39<00:00,  2.55it/s, F1=0.983, train_acc=0.997, train_loss=0.899, train_precision=0.983, train_recall=0.983]\n",
      "Eval Result: 100%|██████████| 4/4 [00:01<00:00,  2.08it/s, F1=0.82, eval_acc=0.965, eval_loss=19, eval_precision=0.823, eval_recall=0.818]   \n"
     ]
    }
   ],
   "source": [
    "args[\"task_name\"] = \"ccks_v1_ZLEBert_4\"\n",
    "\n",
    "trainer = NERTrainer(**args)\n",
    "\n",
    "for i in trainer(lr2=1e-2):\n",
    "    a = i"
   ]
  },
  {
   "cell_type": "code",
   "execution_count": 10,
   "metadata": {},
   "outputs": [
    {
     "name": "stdout",
     "output_type": "stream",
     "text": [
      "kwargs parser: {\n",
      "    \"batch_size\": 8,\n",
      "    \"eval_batch_size\": 64,\n",
      "    \"test_batch_size\": 16,\n",
      "    \"word_embedding_file\": \"./data/tencent/word_embedding.txt\",\n",
      "    \"word_vocab_file\": \"./data/tencent/tencent_vocab.txt\",\n",
      "    \"train_file\": \"./data/ccks/train.json\",\n",
      "    \"eval_file\": \"./data/ccks/dev.json\",\n",
      "    \"test_file\": \"./data/ccks/subtask1_test.json\",\n",
      "    \"tag_file\": \"data/ccks/ccks_tags_list.txt\",\n",
      "    \"inter_knowledge_file\": \"./data/tencent/THUOCL_FN_medical.txt\",\n",
      "    \"bert_vocab_file\": \"./model/chinese_wwm_ext/vocab.txt\",\n",
      "    \"output_eval\": true,\n",
      "    \"max_scan_num\": 1000000,\n",
      "    \"inter_max_scan_num\": 20000,\n",
      "    \"add_seq_vocab\": false,\n",
      "    \"max_seq_length\": 150,\n",
      "    \"max_word_num\": 5,\n",
      "    \"default_tag\": \"O\",\n",
      "    \"use_test\": false,\n",
      "    \"do_shuffle\": true,\n",
      "    \"do_predict\": false,\n",
      "    \"task_name\": \"ccks_v1_ZLEBert_5\"\n",
      "}\n"
     ]
    },
    {
     "name": "stderr",
     "output_type": "stream",
     "text": [
      "calculate ./data/ccks/train.json etag: 100%|██████████| 4.00M/4.00M [00:00<00:00, 320MB/s]\n",
      "calculate ./data/ccks/dev.json etag: 100%|██████████| 974k/974k [00:00<00:00, 325MB/s]\n",
      "calculate ./data/ccks/subtask1_test.json etag: 100%|██████████| 1.57M/1.57M [00:00<00:00, 359MB/s]\n",
      "calculate data/ccks/ccks_tags_list.txt etag: 100%|██████████| 85.0/85.0 [00:00<00:00, 268kB/s]\n"
     ]
    },
    {
     "name": "stdout",
     "output_type": "stream",
     "text": [
      "load cached ./temp/246297de6538baa20f8e5de7ee2cec98_4cd7a2a292ec1ac1e74827f54118b8e5_cda3479a91a9c4fc8b0c534e972e99e8_9c02c6b5f9f31c0f8b66d34ba80dcf4e/1000000/lexicon_tree\n",
      "load cached ./temp/246297de6538baa20f8e5de7ee2cec98_4cd7a2a292ec1ac1e74827f54118b8e5_cda3479a91a9c4fc8b0c534e972e99e8_9c02c6b5f9f31c0f8b66d34ba80dcf4e/1000000/matched_words\n",
      "load cached ./temp/246297de6538baa20f8e5de7ee2cec98_4cd7a2a292ec1ac1e74827f54118b8e5_cda3479a91a9c4fc8b0c534e972e99e8_9c02c6b5f9f31c0f8b66d34ba80dcf4e/1000000/word_vocab\n"
     ]
    },
    {
     "name": "stderr",
     "output_type": "stream",
     "text": [
      "count line size data/ccks/ccks_tags_list.txt: 13L [00:00, 27876.25L/s]\n",
      "build line mapper: 13L [00:00, 24661.22L/s]3 [00:00<?, ?it/s]\n",
      "load vocab from files: 100%|██████████| 13/13 [00:00<00:00, 3505.36it/s]\n",
      "load vocab from list: 100%|██████████| 13/13 [00:00<00:00, 128902.96it/s]"
     ]
    },
    {
     "name": "stdout",
     "output_type": "stream",
     "text": [
      "load cached ./temp/246297de6538baa20f8e5de7ee2cec98_4cd7a2a292ec1ac1e74827f54118b8e5_cda3479a91a9c4fc8b0c534e972e99e8_9c02c6b5f9f31c0f8b66d34ba80dcf4e/1000000/vocab_embedding\n",
      "load cached ./temp/246297de6538baa20f8e5de7ee2cec98_4cd7a2a292ec1ac1e74827f54118b8e5_cda3479a91a9c4fc8b0c534e972e99e8_9c02c6b5f9f31c0f8b66d34ba80dcf4e/1000000/inter_lexicon_tree\n"
     ]
    },
    {
     "name": "stderr",
     "output_type": "stream",
     "text": [
      "\n"
     ]
    },
    {
     "name": "stdout",
     "output_type": "stream",
     "text": [
      "load cached ./temp/246297de6538baa20f8e5de7ee2cec98_4cd7a2a292ec1ac1e74827f54118b8e5_cda3479a91a9c4fc8b0c534e972e99e8_9c02c6b5f9f31c0f8b66d34ba80dcf4e/1000000/inter_matched_words\n",
      "load cached ./temp/246297de6538baa20f8e5de7ee2cec98_4cd7a2a292ec1ac1e74827f54118b8e5_cda3479a91a9c4fc8b0c534e972e99e8_9c02c6b5f9f31c0f8b66d34ba80dcf4e/1000000/inter_word_vocab\n",
      "load cached ./temp/246297de6538baa20f8e5de7ee2cec98_4cd7a2a292ec1ac1e74827f54118b8e5_cda3479a91a9c4fc8b0c534e972e99e8_9c02c6b5f9f31c0f8b66d34ba80dcf4e/1000000/inter_embedding\n"
     ]
    },
    {
     "name": "stderr",
     "output_type": "stream",
     "text": [
      "load dataset from ./data/ccks/train.json: 100%|██████████| 800/800 [00:02<00:00, 284.96it/s]\n",
      "load dataset from ./data/ccks/dev.json: 100%|██████████| 200/200 [00:00<00:00, 276.36it/s]\n"
     ]
    },
    {
     "name": "stdout",
     "output_type": "stream",
     "text": [
      "Load pretrained embedding from file.........\n"
     ]
    },
    {
     "name": "stderr",
     "output_type": "stream",
     "text": [
      "Some weights of the model checkpoint at ./model/chinese_wwm_ext/pytorch_model.bin were not used when initializing ZLEBertModel: ['cls.predictions.bias', 'cls.predictions.transform.LayerNorm.bias', 'cls.predictions.transform.LayerNorm.weight', 'cls.predictions.decoder.weight', 'cls.predictions.transform.dense.weight', 'cls.seq_relationship.weight', 'cls.seq_relationship.bias', 'cls.predictions.transform.dense.bias']\n",
      "- This IS expected if you are initializing ZLEBertModel from the checkpoint of a model trained on another task or with another architecture (e.g. initializing a BertForSequenceClassification model from a BertForPreTraining model).\n",
      "- This IS NOT expected if you are initializing ZLEBertModel from the checkpoint of a model that you expect to be exactly identical (initializing a BertForSequenceClassification model from a BertForSequenceClassification model).\n",
      "Some weights of ZLEBertModel were not initialized from the model checkpoint at ./model/chinese_wwm_ext/pytorch_model.bin and are newly initialized: ['inter_word_embeddings.weight', 'bert.encoder.layer.0.word_word_weight.bias', 'bert.encoder.layer.0.attn_W', 'bert.encoder.layer.0.word_transform.bias', 'bert.encoder.layer.0.fuse_layernorm.bias', 'bert.encoder.layer.0.fuse_layernorm.weight', 'bert.encoder.layer.0.word_word_weight.weight', 'word_embeddings.weight', 'bert.embeddings.position_ids', 'bert.encoder.layer.0.word_transform.weight']\n",
      "You should probably TRAIN this model on a down-stream task to be able to use it for predictions and inference.\n",
      "Epoch: 1/30 Train: 100%|██████████| 100/100 [00:40<00:00,  2.46it/s, F1=0.207, train_acc=0.772, train_loss=119, train_precision=0.203, train_recall=0.229]    \n",
      "Eval Result: 100%|██████████| 4/4 [00:01<00:00,  2.16it/s, F1=0.564, eval_acc=0.944, eval_loss=26.7, eval_precision=0.499, eval_recall=0.651]\n",
      "Epoch: 2/30 Train: 100%|██████████| 100/100 [00:38<00:00,  2.59it/s, F1=0.615, train_acc=0.943, train_loss=25.5, train_precision=0.576, train_recall=0.663]\n",
      "Eval Result: 100%|██████████| 4/4 [00:01<00:00,  2.05it/s, F1=0.722, eval_acc=0.956, eval_loss=18.1, eval_precision=0.687, eval_recall=0.761]\n",
      "Epoch: 3/30 Train: 100%|██████████| 100/100 [00:38<00:00,  2.59it/s, F1=0.736, train_acc=0.959, train_loss=16.8, train_precision=0.718, train_recall=0.757]\n",
      "Eval Result: 100%|██████████| 4/4 [00:01<00:00,  2.09it/s, F1=0.784, eval_acc=0.961, eval_loss=14, eval_precision=0.767, eval_recall=0.801]  \n",
      "Epoch: 4/30 Train: 100%|██████████| 100/100 [00:39<00:00,  2.52it/s, F1=0.805, train_acc=0.969, train_loss=11.8, train_precision=0.798, train_recall=0.814]\n",
      "Eval Result: 100%|██████████| 4/4 [00:01<00:00,  2.09it/s, F1=0.806, eval_acc=0.965, eval_loss=12.2, eval_precision=0.797, eval_recall=0.816]\n",
      "Epoch: 5/30 Train: 100%|██████████| 100/100 [00:39<00:00,  2.51it/s, F1=0.826, train_acc=0.97, train_loss=10.1, train_precision=0.82, train_recall=0.834] \n",
      "Eval Result: 100%|██████████| 4/4 [00:01<00:00,  2.08it/s, F1=0.803, eval_acc=0.961, eval_loss=12.8, eval_precision=0.797, eval_recall=0.809]\n",
      "Epoch: 6/30 Train: 100%|██████████| 100/100 [00:41<00:00,  2.40it/s, F1=0.853, train_acc=0.972, train_loss=8.42, train_precision=0.848, train_recall=0.858]\n",
      "Eval Result: 100%|██████████| 4/4 [00:01<00:00,  2.09it/s, F1=0.805, eval_acc=0.961, eval_loss=12.4, eval_precision=0.802, eval_recall=0.808]\n",
      "Epoch: 7/30 Train: 100%|██████████| 100/100 [00:38<00:00,  2.58it/s, F1=0.88, train_acc=0.98, train_loss=6.13, train_precision=0.878, train_recall=0.882] \n",
      "Eval Result: 100%|██████████| 4/4 [00:01<00:00,  2.05it/s, F1=0.821, eval_acc=0.967, eval_loss=11.1, eval_precision=0.818, eval_recall=0.825]\n",
      "Epoch: 8/30 Train: 100%|██████████| 100/100 [00:38<00:00,  2.58it/s, F1=0.896, train_acc=0.982, train_loss=5, train_precision=0.893, train_recall=0.899]  \n",
      "Eval Result: 100%|██████████| 4/4 [00:01<00:00,  2.03it/s, F1=0.83, eval_acc=0.965, eval_loss=12.1, eval_precision=0.826, eval_recall=0.834] \n",
      "Epoch: 9/30 Train: 100%|██████████| 100/100 [00:39<00:00,  2.50it/s, F1=0.915, train_acc=0.986, train_loss=4.04, train_precision=0.914, train_recall=0.916]\n",
      "Eval Result: 100%|██████████| 4/4 [00:02<00:00,  1.91it/s, F1=0.816, eval_acc=0.962, eval_loss=11.8, eval_precision=0.819, eval_recall=0.813]\n",
      "Epoch: 10/30 Train: 100%|██████████| 100/100 [00:39<00:00,  2.53it/s, F1=0.921, train_acc=0.987, train_loss=3.72, train_precision=0.919, train_recall=0.922]\n",
      "Eval Result: 100%|██████████| 4/4 [00:01<00:00,  2.08it/s, F1=0.819, eval_acc=0.965, eval_loss=12.1, eval_precision=0.819, eval_recall=0.819]\n",
      "Epoch: 11/30 Train: 100%|██████████| 100/100 [00:38<00:00,  2.59it/s, F1=0.926, train_acc=0.988, train_loss=3.08, train_precision=0.925, train_recall=0.928]\n",
      "Eval Result: 100%|██████████| 4/4 [00:01<00:00,  2.07it/s, F1=0.815, eval_acc=0.964, eval_loss=13.5, eval_precision=0.823, eval_recall=0.808]\n",
      "Epoch: 12/30 Train: 100%|██████████| 100/100 [00:38<00:00,  2.58it/s, F1=0.935, train_acc=0.989, train_loss=3.09, train_precision=0.933, train_recall=0.936]\n",
      "Eval Result: 100%|██████████| 4/4 [00:01<00:00,  2.07it/s, F1=0.819, eval_acc=0.961, eval_loss=14.3, eval_precision=0.816, eval_recall=0.822]\n",
      "Epoch: 13/30 Train: 100%|██████████| 100/100 [00:39<00:00,  2.55it/s, F1=0.935, train_acc=0.989, train_loss=3.01, train_precision=0.935, train_recall=0.936]\n",
      "Eval Result: 100%|██████████| 4/4 [00:01<00:00,  2.05it/s, F1=0.8, eval_acc=0.953, eval_loss=15.2, eval_precision=0.795, eval_recall=0.804]  \n",
      "Epoch: 14/30 Train: 100%|██████████| 100/100 [00:38<00:00,  2.59it/s, F1=0.937, train_acc=0.99, train_loss=2.96, train_precision=0.937, train_recall=0.938]\n",
      "Eval Result: 100%|██████████| 4/4 [00:01<00:00,  2.08it/s, F1=0.808, eval_acc=0.961, eval_loss=15.9, eval_precision=0.807, eval_recall=0.809]\n",
      "Epoch: 15/30 Train: 100%|██████████| 100/100 [00:39<00:00,  2.56it/s, F1=0.945, train_acc=0.991, train_loss=2.66, train_precision=0.944, train_recall=0.946]\n",
      "Eval Result: 100%|██████████| 4/4 [00:01<00:00,  2.05it/s, F1=0.802, eval_acc=0.957, eval_loss=16.1, eval_precision=0.793, eval_recall=0.811]\n",
      "Epoch: 16/30 Train: 100%|██████████| 100/100 [00:38<00:00,  2.58it/s, F1=0.95, train_acc=0.992, train_loss=2.37, train_precision=0.948, train_recall=0.951]\n",
      "Eval Result: 100%|██████████| 4/4 [00:02<00:00,  1.95it/s, F1=0.789, eval_acc=0.954, eval_loss=17.7, eval_precision=0.785, eval_recall=0.793]\n",
      "Epoch: 17/30 Train: 100%|██████████| 100/100 [00:38<00:00,  2.57it/s, F1=0.95, train_acc=0.992, train_loss=2.36, train_precision=0.95, train_recall=0.95]  \n",
      "Eval Result: 100%|██████████| 4/4 [00:02<00:00,  1.97it/s, F1=0.774, eval_acc=0.947, eval_loss=18.9, eval_precision=0.788, eval_recall=0.761]\n",
      "Epoch: 18/30 Train: 100%|██████████| 100/100 [00:38<00:00,  2.57it/s, F1=0.954, train_acc=0.993, train_loss=2.21, train_precision=0.954, train_recall=0.954]\n",
      "Eval Result: 100%|██████████| 4/4 [00:01<00:00,  2.09it/s, F1=0.779, eval_acc=0.942, eval_loss=16.2, eval_precision=0.775, eval_recall=0.783]\n",
      "Epoch: 19/30 Train: 100%|██████████| 100/100 [00:38<00:00,  2.59it/s, F1=0.953, train_acc=0.992, train_loss=2.32, train_precision=0.953, train_recall=0.953]\n",
      "Eval Result: 100%|██████████| 4/4 [00:01<00:00,  2.07it/s, F1=0.822, eval_acc=0.963, eval_loss=13.9, eval_precision=0.821, eval_recall=0.824]\n",
      "Epoch: 20/30 Train: 100%|██████████| 100/100 [00:39<00:00,  2.55it/s, F1=0.956, train_acc=0.993, train_loss=2.05, train_precision=0.955, train_recall=0.958]\n",
      "Eval Result: 100%|██████████| 4/4 [00:01<00:00,  2.05it/s, F1=0.798, eval_acc=0.949, eval_loss=15, eval_precision=0.793, eval_recall=0.804]  \n",
      "Epoch: 21/30 Train: 100%|██████████| 100/100 [00:38<00:00,  2.58it/s, F1=0.961, train_acc=0.994, train_loss=1.68, train_precision=0.961, train_recall=0.962]\n",
      "Eval Result: 100%|██████████| 4/4 [00:02<00:00,  1.93it/s, F1=0.819, eval_acc=0.961, eval_loss=14.2, eval_precision=0.815, eval_recall=0.824]\n",
      "Epoch: 22/30 Train: 100%|██████████| 100/100 [00:38<00:00,  2.57it/s, F1=0.973, train_acc=0.996, train_loss=1.25, train_precision=0.972, train_recall=0.974]\n",
      "Eval Result: 100%|██████████| 4/4 [00:01<00:00,  2.08it/s, F1=0.82, eval_acc=0.96, eval_loss=14.3, eval_precision=0.82, eval_recall=0.82]    \n",
      "Epoch: 23/30 Train: 100%|██████████| 100/100 [00:38<00:00,  2.58it/s, F1=0.978, train_acc=0.996, train_loss=1.15, train_precision=0.977, train_recall=0.979]\n",
      "Eval Result: 100%|██████████| 4/4 [00:01<00:00,  2.06it/s, F1=0.813, eval_acc=0.962, eval_loss=17.4, eval_precision=0.802, eval_recall=0.823]\n",
      "Epoch: 24/30 Train: 100%|██████████| 100/100 [00:40<00:00,  2.47it/s, F1=0.976, train_acc=0.997, train_loss=1.03, train_precision=0.976, train_recall=0.977]\n",
      "Eval Result: 100%|██████████| 4/4 [00:01<00:00,  2.06it/s, F1=0.825, eval_acc=0.964, eval_loss=15.4, eval_precision=0.821, eval_recall=0.829]\n",
      "Epoch: 25/30 Train: 100%|██████████| 100/100 [00:38<00:00,  2.57it/s, F1=0.979, train_acc=0.996, train_loss=0.973, train_precision=0.979, train_recall=0.979]\n",
      "Eval Result: 100%|██████████| 4/4 [00:01<00:00,  2.11it/s, F1=0.825, eval_acc=0.963, eval_loss=15.8, eval_precision=0.821, eval_recall=0.829]\n",
      "Epoch: 26/30 Train: 100%|██████████| 100/100 [00:40<00:00,  2.47it/s, F1=0.981, train_acc=0.996, train_loss=1.15, train_precision=0.98, train_recall=0.982]\n",
      "Eval Result: 100%|██████████| 4/4 [00:02<00:00,  1.95it/s, F1=0.82, eval_acc=0.962, eval_loss=16.1, eval_precision=0.808, eval_recall=0.832] \n",
      "Epoch: 27/30 Train: 100%|██████████| 100/100 [00:39<00:00,  2.56it/s, F1=0.979, train_acc=0.996, train_loss=1.03, train_precision=0.979, train_recall=0.979]\n",
      "Eval Result: 100%|██████████| 4/4 [00:01<00:00,  2.07it/s, F1=0.813, eval_acc=0.962, eval_loss=16.6, eval_precision=0.809, eval_recall=0.818]\n",
      "Epoch: 28/30 Train: 100%|██████████| 100/100 [00:40<00:00,  2.45it/s, F1=0.984, train_acc=0.998, train_loss=0.768, train_precision=0.984, train_recall=0.985]\n",
      "Eval Result: 100%|██████████| 4/4 [00:02<00:00,  1.97it/s, F1=0.825, eval_acc=0.964, eval_loss=16.5, eval_precision=0.82, eval_recall=0.83]  \n",
      "Epoch: 29/30 Train: 100%|██████████| 100/100 [00:39<00:00,  2.56it/s, F1=0.985, train_acc=0.997, train_loss=0.849, train_precision=0.985, train_recall=0.986]\n",
      "Eval Result: 100%|██████████| 4/4 [00:01<00:00,  2.02it/s, F1=0.827, eval_acc=0.965, eval_loss=15.4, eval_precision=0.827, eval_recall=0.828]\n",
      "Epoch: 30/30 Train: 100%|██████████| 100/100 [00:40<00:00,  2.49it/s, F1=0.989, train_acc=0.998, train_loss=0.573, train_precision=0.988, train_recall=0.989]\n",
      "Eval Result: 100%|██████████| 4/4 [00:01<00:00,  2.02it/s, F1=0.829, eval_acc=0.965, eval_loss=16.8, eval_precision=0.822, eval_recall=0.836]\n"
     ]
    }
   ],
   "source": [
    "args[\"task_name\"] = \"ccks_v1_ZLEBert_5\"\n",
    "\n",
    "trainer = NERTrainer(**args)\n",
    "\n",
    "for i in trainer(lr2=1e-2):\n",
    "    a = i"
   ]
  }
 ],
 "metadata": {
  "interpreter": {
   "hash": "c9392d1f0914889243d058bb73f0d89e61311fd6d751bbc8fa50e38d7d4ff811"
  },
  "kernelspec": {
   "display_name": "Python 3.7.11 64-bit ('NER': conda)",
   "language": "python",
   "name": "python3"
  },
  "language_info": {
   "codemirror_mode": {
    "name": "ipython",
    "version": 3
   },
   "file_extension": ".py",
   "mimetype": "text/x-python",
   "name": "python",
   "nbconvert_exporter": "python",
   "pygments_lexer": "ipython3",
   "version": "3.7.11"
  },
  "orig_nbformat": 4
 },
 "nbformat": 4,
 "nbformat_minor": 2
}
