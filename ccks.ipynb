{
 "cells": [
  {
   "cell_type": "markdown",
   "metadata": {},
   "source": [
    "### Bert"
   ]
  },
  {
   "cell_type": "code",
   "execution_count": 1,
   "metadata": {},
   "outputs": [
    {
     "name": "stderr",
     "output_type": "stream",
     "text": [
      "Some weights of the model checkpoint at ./model/chinese_wwm_ext/pytorch_model.bin were not used when initializing BertBaseModel: ['cls.predictions.transform.dense.bias', 'cls.seq_relationship.weight', 'cls.seq_relationship.bias', 'cls.predictions.transform.dense.weight', 'cls.predictions.decoder.weight', 'cls.predictions.transform.LayerNorm.weight', 'cls.predictions.bias', 'cls.predictions.transform.LayerNorm.bias']\n",
      "- This IS expected if you are initializing BertBaseModel from the checkpoint of a model trained on another task or with another architecture (e.g. initializing a BertForSequenceClassification model from a BertForPreTraining model).\n",
      "- This IS NOT expected if you are initializing BertBaseModel from the checkpoint of a model that you expect to be exactly identical (initializing a BertForSequenceClassification model from a BertForSequenceClassification model).\n",
      "Some weights of BertBaseModel were not initialized from the model checkpoint at ./model/chinese_wwm_ext/pytorch_model.bin and are newly initialized: ['bert.embeddings.position_ids']\n",
      "You should probably TRAIN this model on a down-stream task to be able to use it for predictions and inference.\n",
      "Epoch: 1/30 Train:   3%|▎         | 17/502 [00:04<02:03,  3.92it/s, F1=0, train_acc=0.181, train_loss=71.2, train_precision=0, train_recall=0] /home/zl/anaconda3/envs/NER/lib/python3.7/site-packages/seqeval/metrics/v1.py:57: UndefinedMetricWarning: Precision is ill-defined and being set to 0.0 due to no predicted samples. Use `zero_division` parameter to control this behavior.\n",
      "  _warn_prf(average, modifier, msg_start, len(result))\n",
      "Epoch: 1/30 Train: 100%|██████████| 502/502 [02:18<00:00,  3.63it/s, F1=0.475, train_acc=0.899, train_loss=10.5, train_precision=0.455, train_recall=0.52]        \n",
      "Eval Result: 100%|██████████| 18/18 [00:07<00:00,  2.26it/s, F1=0.713, eval_acc=0.958, eval_loss=3.92, eval_precision=0.708, eval_recall=0.721]\n",
      "Epoch: 2/30 Train: 100%|██████████| 502/502 [02:16<00:00,  3.67it/s, F1=0.786, train_acc=0.965, train_loss=2.5, train_precision=0.793, train_recall=0.789] \n",
      "Eval Result: 100%|██████████| 18/18 [00:06<00:00,  2.58it/s, F1=0.808, eval_acc=0.968, eval_loss=2.56, eval_precision=0.816, eval_recall=0.802]\n",
      "Epoch: 3/30 Train: 100%|██████████| 502/502 [02:11<00:00,  3.82it/s, F1=0.854, train_acc=0.975, train_loss=1.5, train_precision=0.862, train_recall=0.855] \n",
      "Eval Result: 100%|██████████| 18/18 [00:06<00:00,  2.63it/s, F1=0.801, eval_acc=0.966, eval_loss=2.53, eval_precision=0.81, eval_recall=0.793] \n",
      "Epoch: 4/30 Train: 100%|██████████| 502/502 [02:10<00:00,  3.83it/s, F1=0.88, train_acc=0.98, train_loss=1.16, train_precision=0.886, train_recall=0.881]   \n",
      "Eval Result: 100%|██████████| 18/18 [00:06<00:00,  2.93it/s, F1=0.819, eval_acc=0.969, eval_loss=2.57, eval_precision=0.829, eval_recall=0.81] \n",
      "Epoch: 5/30 Train: 100%|██████████| 502/502 [02:10<00:00,  3.84it/s, F1=0.885, train_acc=0.98, train_loss=1.2, train_precision=0.891, train_recall=0.885]   \n",
      "Eval Result: 100%|██████████| 18/18 [00:06<00:00,  2.85it/s, F1=0.804, eval_acc=0.965, eval_loss=3.16, eval_precision=0.822, eval_recall=0.788]\n",
      "Epoch: 6/30 Train: 100%|██████████| 502/502 [02:10<00:00,  3.85it/s, F1=0.896, train_acc=0.982, train_loss=1, train_precision=0.901, train_recall=0.896]    \n",
      "Eval Result: 100%|██████████| 18/18 [00:06<00:00,  2.67it/s, F1=0.803, eval_acc=0.967, eval_loss=3.67, eval_precision=0.795, eval_recall=0.812]\n",
      "Epoch: 7/30 Train: 100%|██████████| 502/502 [02:10<00:00,  3.84it/s, F1=0.905, train_acc=0.984, train_loss=0.972, train_precision=0.911, train_recall=0.903]\n",
      "Eval Result: 100%|██████████| 18/18 [00:06<00:00,  2.92it/s, F1=0.79, eval_acc=0.962, eval_loss=3.77, eval_precision=0.8, eval_recall=0.781]   \n",
      "Epoch: 8/30 Train: 100%|██████████| 502/502 [02:08<00:00,  3.90it/s, F1=0.915, train_acc=0.986, train_loss=0.733, train_precision=0.918, train_recall=0.917]\n",
      "Eval Result: 100%|██████████| 18/18 [00:07<00:00,  2.53it/s, F1=0.806, eval_acc=0.968, eval_loss=3.27, eval_precision=0.804, eval_recall=0.81] \n",
      "Epoch: 9/30 Train: 100%|██████████| 502/502 [02:10<00:00,  3.83it/s, F1=0.931, train_acc=0.988, train_loss=0.613, train_precision=0.934, train_recall=0.93] \n",
      "Eval Result: 100%|██████████| 18/18 [00:07<00:00,  2.53it/s, F1=0.805, eval_acc=0.966, eval_loss=2.87, eval_precision=0.805, eval_recall=0.807]\n",
      "Epoch: 10/30 Train: 100%|██████████| 502/502 [02:11<00:00,  3.82it/s, F1=0.941, train_acc=0.991, train_loss=0.482, train_precision=0.944, train_recall=0.942]\n",
      "Eval Result: 100%|██████████| 18/18 [00:05<00:00,  3.04it/s, F1=0.785, eval_acc=0.961, eval_loss=3.81, eval_precision=0.769, eval_recall=0.802]\n",
      "Epoch: 11/30 Train: 100%|██████████| 502/502 [01:54<00:00,  4.38it/s, F1=0.93, train_acc=0.988, train_loss=0.637, train_precision=0.932, train_recall=0.932] \n",
      "Eval Result: 100%|██████████| 18/18 [00:05<00:00,  3.08it/s, F1=0.806, eval_acc=0.966, eval_loss=3.67, eval_precision=0.82, eval_recall=0.795] \n",
      "Epoch: 12/30 Train: 100%|██████████| 502/502 [01:55<00:00,  4.33it/s, F1=0.943, train_acc=0.99, train_loss=0.557, train_precision=0.945, train_recall=0.944] \n",
      "Eval Result: 100%|██████████| 18/18 [00:05<00:00,  3.11it/s, F1=0.815, eval_acc=0.969, eval_loss=3.13, eval_precision=0.833, eval_recall=0.799]\n",
      "Epoch: 13/30 Train: 100%|██████████| 502/502 [01:56<00:00,  4.32it/s, F1=0.939, train_acc=0.99, train_loss=0.575, train_precision=0.942, train_recall=0.939] \n",
      "Eval Result: 100%|██████████| 18/18 [00:05<00:00,  3.23it/s, F1=0.801, eval_acc=0.965, eval_loss=4.49, eval_precision=0.794, eval_recall=0.809]\n",
      "Epoch: 14/30 Train: 100%|██████████| 502/502 [01:55<00:00,  4.33it/s, F1=0.941, train_acc=0.989, train_loss=0.637, train_precision=0.942, train_recall=0.944]\n",
      "Eval Result: 100%|██████████| 18/18 [00:05<00:00,  3.22it/s, F1=0.802, eval_acc=0.966, eval_loss=4.88, eval_precision=0.79, eval_recall=0.814] \n",
      "Epoch: 15/30 Train: 100%|██████████| 502/502 [01:53<00:00,  4.42it/s, F1=0.954, train_acc=0.992, train_loss=0.444, train_precision=0.956, train_recall=0.955]\n",
      "Eval Result: 100%|██████████| 18/18 [00:05<00:00,  3.01it/s, F1=0.811, eval_acc=0.97, eval_loss=3.77, eval_precision=0.819, eval_recall=0.804] \n",
      "Epoch: 16/30 Train: 100%|██████████| 502/502 [01:55<00:00,  4.36it/s, F1=0.946, train_acc=0.991, train_loss=0.629, train_precision=0.948, train_recall=0.947]\n",
      "Eval Result: 100%|██████████| 18/18 [00:05<00:00,  3.51it/s, F1=0.807, eval_acc=0.965, eval_loss=4.16, eval_precision=0.817, eval_recall=0.798]\n",
      "Epoch: 17/30 Train: 100%|██████████| 502/502 [01:52<00:00,  4.47it/s, F1=0.95, train_acc=0.991, train_loss=0.524, train_precision=0.951, train_recall=0.952] \n",
      "Eval Result: 100%|██████████| 18/18 [00:05<00:00,  3.16it/s, F1=0.814, eval_acc=0.969, eval_loss=4.13, eval_precision=0.815, eval_recall=0.814]\n",
      "Epoch: 18/30 Train: 100%|██████████| 502/502 [01:57<00:00,  4.29it/s, F1=0.961, train_acc=0.993, train_loss=0.373, train_precision=0.963, train_recall=0.962]\n",
      "Eval Result: 100%|██████████| 18/18 [00:05<00:00,  3.18it/s, F1=0.82, eval_acc=0.97, eval_loss=4.04, eval_precision=0.82, eval_recall=0.821]   \n",
      "Epoch: 19/30 Train: 100%|██████████| 502/502 [01:52<00:00,  4.46it/s, F1=0.968, train_acc=0.994, train_loss=0.322, train_precision=0.969, train_recall=0.969]\n",
      "Eval Result: 100%|██████████| 18/18 [00:05<00:00,  3.17it/s, F1=0.794, eval_acc=0.96, eval_loss=7.09, eval_precision=0.79, eval_recall=0.801]  \n",
      "Epoch: 20/30 Train: 100%|██████████| 502/502 [01:52<00:00,  4.47it/s, F1=0.957, train_acc=0.992, train_loss=0.494, train_precision=0.958, train_recall=0.959]\n",
      "Eval Result: 100%|██████████| 18/18 [00:06<00:00,  2.95it/s, F1=0.809, eval_acc=0.967, eval_loss=4.5, eval_precision=0.796, eval_recall=0.824] \n",
      "Epoch: 21/30 Train: 100%|██████████| 502/502 [01:51<00:00,  4.50it/s, F1=0.969, train_acc=0.995, train_loss=0.276, train_precision=0.972, train_recall=0.968]\n",
      "Eval Result: 100%|██████████| 18/18 [00:05<00:00,  3.26it/s, F1=0.819, eval_acc=0.967, eval_loss=4, eval_precision=0.822, eval_recall=0.817]   \n",
      "Epoch: 22/30 Train: 100%|██████████| 502/502 [01:53<00:00,  4.41it/s, F1=0.965, train_acc=0.994, train_loss=0.341, train_precision=0.967, train_recall=0.967]\n",
      "Eval Result: 100%|██████████| 18/18 [00:05<00:00,  3.20it/s, F1=0.815, eval_acc=0.97, eval_loss=4.57, eval_precision=0.818, eval_recall=0.813] \n",
      "Epoch: 23/30 Train: 100%|██████████| 502/502 [01:51<00:00,  4.50it/s, F1=0.971, train_acc=0.995, train_loss=0.292, train_precision=0.973, train_recall=0.972]\n",
      "Eval Result: 100%|██████████| 18/18 [00:05<00:00,  3.00it/s, F1=0.821, eval_acc=0.969, eval_loss=4.41, eval_precision=0.829, eval_recall=0.814]\n",
      "Epoch: 24/30 Train: 100%|██████████| 502/502 [01:52<00:00,  4.45it/s, F1=0.965, train_acc=0.994, train_loss=0.323, train_precision=0.966, train_recall=0.967]\n",
      "Eval Result: 100%|██████████| 18/18 [00:05<00:00,  3.03it/s, F1=0.812, eval_acc=0.966, eval_loss=5.12, eval_precision=0.817, eval_recall=0.808]\n",
      "Epoch: 25/30 Train: 100%|██████████| 502/502 [01:51<00:00,  4.49it/s, F1=0.966, train_acc=0.994, train_loss=0.352, train_precision=0.967, train_recall=0.968]\n",
      "Eval Result: 100%|██████████| 18/18 [00:05<00:00,  3.19it/s, F1=0.8, eval_acc=0.967, eval_loss=4.33, eval_precision=0.802, eval_recall=0.8]    \n",
      "Epoch: 26/30 Train: 100%|██████████| 502/502 [01:52<00:00,  4.47it/s, F1=0.966, train_acc=0.994, train_loss=0.369, train_precision=0.968, train_recall=0.968]\n",
      "Eval Result: 100%|██████████| 18/18 [00:05<00:00,  3.43it/s, F1=0.803, eval_acc=0.968, eval_loss=5.39, eval_precision=0.803, eval_recall=0.803]\n",
      "Epoch: 27/30 Train: 100%|██████████| 502/502 [01:50<00:00,  4.54it/s, F1=0.975, train_acc=0.996, train_loss=0.227, train_precision=0.975, train_recall=0.976]\n",
      "Eval Result: 100%|██████████| 18/18 [00:05<00:00,  3.09it/s, F1=0.813, eval_acc=0.967, eval_loss=5.22, eval_precision=0.821, eval_recall=0.807]\n",
      "Epoch: 28/30 Train: 100%|██████████| 502/502 [01:51<00:00,  4.49it/s, F1=0.957, train_acc=0.992, train_loss=0.566, train_precision=0.957, train_recall=0.961]\n",
      "Eval Result: 100%|██████████| 18/18 [00:05<00:00,  3.04it/s, F1=0.802, eval_acc=0.967, eval_loss=5.98, eval_precision=0.801, eval_recall=0.803]\n",
      "Epoch: 29/30 Train: 100%|██████████| 502/502 [01:51<00:00,  4.50it/s, F1=0.965, train_acc=0.994, train_loss=0.343, train_precision=0.967, train_recall=0.966]\n",
      "Eval Result: 100%|██████████| 18/18 [00:05<00:00,  3.17it/s, F1=0.814, eval_acc=0.969, eval_loss=5.48, eval_precision=0.811, eval_recall=0.82] \n",
      "Epoch: 30/30 Train: 100%|██████████| 502/502 [01:54<00:00,  4.38it/s, F1=0.973, train_acc=0.995, train_loss=0.255, train_precision=0.974, train_recall=0.975]\n",
      "Eval Result: 100%|██████████| 18/18 [00:05<00:00,  3.06it/s, F1=0.812, eval_acc=0.969, eval_loss=4.82, eval_precision=0.809, eval_recall=0.816]\n"
     ]
    }
   ],
   "source": [
    "from CC.trainer import NERTrainer\n",
    "\n",
    "args = {\n",
    "    'num_epochs': 30,\n",
    "    'num_gpus': [0],\n",
    "    'bert_config_file_name': './model/chinese_wwm_ext/bert_config.json',\n",
    "    'pretrained_file_name': './model/chinese_wwm_ext/pytorch_model.bin',\n",
    "    'hidden_dim': 300,\n",
    "    'train_file': './data/ccks/subtask1_train.txt',\n",
    "    'eval_file': './data/ccks/subtask1_test.txt',\n",
    "    'test_file': './data/ccks/subtask1_test.txt',\n",
    "    'bert_vocab_file': './model/chinese_wwm_ext/vocab.txt',\n",
    "    'tag_file': 'data/ccks/ccks_tags_list.txt',\n",
    "    'loader_name': 'cn_loader',\n",
    "    'output_eval':True,\n",
    "    \"default_tag\":\"O\",\n",
    "    'batch_size': 8,\n",
    "    'eval_batch_size': 64,\n",
    "    'do_shuffle': True,\n",
    "    \"use_gpu\": True,\n",
    "    \"debug\": True,\n",
    "    'model_name': 'Bert',\n",
    "    'classify':'crf',\n",
    "    'task_name': 'ccks_bert_crf_1'\n",
    "}\n",
    "\n",
    "# Trainer\n",
    "trainer = NERTrainer(**args)\n",
    "\n",
    "for i in trainer(lr2=1e-2):\n",
    "    a = i"
   ]
  },
  {
   "cell_type": "code",
   "execution_count": 2,
   "metadata": {},
   "outputs": [
    {
     "name": "stderr",
     "output_type": "stream",
     "text": [
      "Some weights of the model checkpoint at ./model/chinese_wwm_ext/pytorch_model.bin were not used when initializing BertBaseModel: ['cls.predictions.transform.dense.bias', 'cls.seq_relationship.weight', 'cls.seq_relationship.bias', 'cls.predictions.transform.dense.weight', 'cls.predictions.decoder.weight', 'cls.predictions.transform.LayerNorm.weight', 'cls.predictions.bias', 'cls.predictions.transform.LayerNorm.bias']\n",
      "- This IS expected if you are initializing BertBaseModel from the checkpoint of a model trained on another task or with another architecture (e.g. initializing a BertForSequenceClassification model from a BertForPreTraining model).\n",
      "- This IS NOT expected if you are initializing BertBaseModel from the checkpoint of a model that you expect to be exactly identical (initializing a BertForSequenceClassification model from a BertForSequenceClassification model).\n",
      "Some weights of BertBaseModel were not initialized from the model checkpoint at ./model/chinese_wwm_ext/pytorch_model.bin and are newly initialized: ['bert.embeddings.position_ids']\n",
      "You should probably TRAIN this model on a down-stream task to be able to use it for predictions and inference.\n",
      "Epoch: 1/30 Train: 100%|██████████| 502/502 [01:58<00:00,  4.25it/s, F1=0.486, train_acc=0.882, train_loss=13, train_precision=0.474, train_recall=0.518]       \n",
      "Eval Result: 100%|██████████| 18/18 [00:07<00:00,  2.45it/s, F1=0.728, eval_acc=0.956, eval_loss=3.08, eval_precision=0.733, eval_recall=0.726]\n",
      "Epoch: 2/30 Train: 100%|██████████| 502/502 [01:58<00:00,  4.24it/s, F1=0.785, train_acc=0.961, train_loss=2.52, train_precision=0.792, train_recall=0.786]\n",
      "Eval Result: 100%|██████████| 18/18 [00:05<00:00,  3.01it/s, F1=0.727, eval_acc=0.952, eval_loss=3.3, eval_precision=0.767, eval_recall=0.692] \n",
      "Epoch: 3/30 Train: 100%|██████████| 502/502 [01:56<00:00,  4.31it/s, F1=0.838, train_acc=0.97, train_loss=1.66, train_precision=0.849, train_recall=0.835] \n",
      "Eval Result: 100%|██████████| 18/18 [00:06<00:00,  2.91it/s, F1=0.751, eval_acc=0.953, eval_loss=3.98, eval_precision=0.8, eval_recall=0.708]  \n",
      "Epoch: 4/30 Train: 100%|██████████| 502/502 [01:59<00:00,  4.21it/s, F1=0.865, train_acc=0.975, train_loss=1.41, train_precision=0.874, train_recall=0.862]\n",
      "Eval Result: 100%|██████████| 18/18 [00:06<00:00,  2.78it/s, F1=0.799, eval_acc=0.963, eval_loss=2.51, eval_precision=0.787, eval_recall=0.812]\n",
      "Epoch: 5/30 Train: 100%|██████████| 502/502 [01:57<00:00,  4.26it/s, F1=0.877, train_acc=0.977, train_loss=1.24, train_precision=0.883, train_recall=0.877]\n",
      "Eval Result: 100%|██████████| 18/18 [00:05<00:00,  3.23it/s, F1=0.806, eval_acc=0.964, eval_loss=3.01, eval_precision=0.786, eval_recall=0.829]\n",
      "Epoch: 6/30 Train: 100%|██████████| 502/502 [01:57<00:00,  4.27it/s, F1=0.89, train_acc=0.98, train_loss=1.07, train_precision=0.897, train_recall=0.888]   \n",
      "Eval Result: 100%|██████████| 18/18 [00:05<00:00,  3.20it/s, F1=0.819, eval_acc=0.968, eval_loss=2.56, eval_precision=0.816, eval_recall=0.824]\n",
      "Epoch: 7/30 Train: 100%|██████████| 502/502 [01:58<00:00,  4.25it/s, F1=0.907, train_acc=0.983, train_loss=0.856, train_precision=0.912, train_recall=0.906]\n",
      "Eval Result: 100%|██████████| 18/18 [00:05<00:00,  3.05it/s, F1=0.793, eval_acc=0.963, eval_loss=3.29, eval_precision=0.794, eval_recall=0.794]\n",
      "Epoch: 8/30 Train: 100%|██████████| 502/502 [01:58<00:00,  4.25it/s, F1=0.906, train_acc=0.984, train_loss=0.847, train_precision=0.909, train_recall=0.906]\n",
      "Eval Result: 100%|██████████| 18/18 [00:05<00:00,  3.06it/s, F1=0.803, eval_acc=0.964, eval_loss=4.11, eval_precision=0.811, eval_recall=0.796]\n",
      "Epoch: 9/30 Train: 100%|██████████| 502/502 [01:56<00:00,  4.31it/s, F1=0.926, train_acc=0.988, train_loss=0.623, train_precision=0.932, train_recall=0.925]\n",
      "Eval Result: 100%|██████████| 18/18 [00:05<00:00,  3.12it/s, F1=0.806, eval_acc=0.966, eval_loss=3.48, eval_precision=0.813, eval_recall=0.801]\n",
      "Epoch: 10/30 Train: 100%|██████████| 502/502 [01:58<00:00,  4.24it/s, F1=0.919, train_acc=0.985, train_loss=0.861, train_precision=0.923, train_recall=0.92] \n",
      "Eval Result: 100%|██████████| 18/18 [00:05<00:00,  3.05it/s, F1=0.782, eval_acc=0.962, eval_loss=3.63, eval_precision=0.771, eval_recall=0.794]\n",
      "Epoch: 11/30 Train: 100%|██████████| 502/502 [01:56<00:00,  4.31it/s, F1=0.92, train_acc=0.986, train_loss=0.72, train_precision=0.924, train_recall=0.921]  \n",
      "Eval Result: 100%|██████████| 18/18 [00:05<00:00,  3.34it/s, F1=0.786, eval_acc=0.962, eval_loss=3.85, eval_precision=0.781, eval_recall=0.793]\n",
      "Epoch: 12/30 Train: 100%|██████████| 502/502 [01:54<00:00,  4.37it/s, F1=0.943, train_acc=0.991, train_loss=0.448, train_precision=0.947, train_recall=0.943]\n",
      "Eval Result: 100%|██████████| 18/18 [00:05<00:00,  3.17it/s, F1=0.798, eval_acc=0.964, eval_loss=4.01, eval_precision=0.806, eval_recall=0.792]\n",
      "Epoch: 13/30 Train: 100%|██████████| 502/502 [01:53<00:00,  4.43it/s, F1=0.945, train_acc=0.991, train_loss=0.484, train_precision=0.948, train_recall=0.945]\n",
      "Eval Result: 100%|██████████| 18/18 [00:06<00:00,  2.93it/s, F1=0.806, eval_acc=0.965, eval_loss=3.67, eval_precision=0.809, eval_recall=0.804]\n",
      "Epoch: 14/30 Train: 100%|██████████| 502/502 [01:53<00:00,  4.41it/s, F1=0.947, train_acc=0.991, train_loss=0.501, train_precision=0.951, train_recall=0.946]\n",
      "Eval Result: 100%|██████████| 18/18 [00:05<00:00,  3.40it/s, F1=0.815, eval_acc=0.967, eval_loss=3.21, eval_precision=0.814, eval_recall=0.818]\n",
      "Epoch: 15/30 Train: 100%|██████████| 502/502 [01:53<00:00,  4.44it/s, F1=0.956, train_acc=0.992, train_loss=0.388, train_precision=0.96, train_recall=0.956] \n",
      "Eval Result: 100%|██████████| 18/18 [00:05<00:00,  3.13it/s, F1=0.795, eval_acc=0.962, eval_loss=4.25, eval_precision=0.799, eval_recall=0.791]\n",
      "Epoch: 16/30 Train: 100%|██████████| 502/502 [01:53<00:00,  4.43it/s, F1=0.939, train_acc=0.989, train_loss=0.712, train_precision=0.942, train_recall=0.939]\n",
      "Eval Result: 100%|██████████| 18/18 [00:05<00:00,  3.29it/s, F1=0.801, eval_acc=0.967, eval_loss=4.55, eval_precision=0.785, eval_recall=0.82] \n",
      "Epoch: 17/30 Train: 100%|██████████| 502/502 [01:54<00:00,  4.40it/s, F1=0.951, train_acc=0.992, train_loss=0.487, train_precision=0.955, train_recall=0.951]\n",
      "Eval Result: 100%|██████████| 18/18 [00:05<00:00,  3.05it/s, F1=0.799, eval_acc=0.964, eval_loss=4.28, eval_precision=0.792, eval_recall=0.807]\n",
      "Epoch: 18/30 Train: 100%|██████████| 502/502 [01:53<00:00,  4.43it/s, F1=0.964, train_acc=0.994, train_loss=0.312, train_precision=0.967, train_recall=0.963]\n",
      "Eval Result: 100%|██████████| 18/18 [00:05<00:00,  3.44it/s, F1=0.818, eval_acc=0.968, eval_loss=4.05, eval_precision=0.835, eval_recall=0.803]\n",
      "Epoch: 19/30 Train: 100%|██████████| 502/502 [01:54<00:00,  4.37it/s, F1=0.952, train_acc=0.992, train_loss=0.537, train_precision=0.955, train_recall=0.952]\n",
      "Eval Result: 100%|██████████| 18/18 [00:05<00:00,  3.21it/s, F1=0.79, eval_acc=0.962, eval_loss=4.73, eval_precision=0.809, eval_recall=0.773] \n",
      "Epoch: 20/30 Train: 100%|██████████| 502/502 [01:53<00:00,  4.41it/s, F1=0.96, train_acc=0.994, train_loss=0.413, train_precision=0.963, train_recall=0.96]  \n",
      "Eval Result: 100%|██████████| 18/18 [00:05<00:00,  3.05it/s, F1=0.809, eval_acc=0.966, eval_loss=4.36, eval_precision=0.814, eval_recall=0.805]\n",
      "Epoch: 21/30 Train: 100%|██████████| 502/502 [01:55<00:00,  4.35it/s, F1=0.946, train_acc=0.991, train_loss=0.547, train_precision=0.949, train_recall=0.946]\n",
      "Eval Result: 100%|██████████| 18/18 [00:05<00:00,  3.11it/s, F1=0.802, eval_acc=0.965, eval_loss=4.99, eval_precision=0.798, eval_recall=0.808]\n",
      "Epoch: 22/30 Train: 100%|██████████| 502/502 [01:53<00:00,  4.41it/s, F1=0.958, train_acc=0.993, train_loss=0.43, train_precision=0.961, train_recall=0.958] \n",
      "Eval Result: 100%|██████████| 18/18 [00:05<00:00,  3.13it/s, F1=0.796, eval_acc=0.965, eval_loss=5.02, eval_precision=0.806, eval_recall=0.786]\n",
      "Epoch: 23/30 Train: 100%|██████████| 502/502 [01:55<00:00,  4.36it/s, F1=0.956, train_acc=0.992, train_loss=0.532, train_precision=0.958, train_recall=0.956]\n",
      "Eval Result: 100%|██████████| 18/18 [00:05<00:00,  3.07it/s, F1=0.787, eval_acc=0.966, eval_loss=4.38, eval_precision=0.812, eval_recall=0.764]\n",
      "Epoch: 24/30 Train: 100%|██████████| 502/502 [01:54<00:00,  4.37it/s, F1=0.969, train_acc=0.994, train_loss=0.311, train_precision=0.972, train_recall=0.968]\n",
      "Eval Result: 100%|██████████| 18/18 [00:05<00:00,  3.14it/s, F1=0.795, eval_acc=0.964, eval_loss=5.22, eval_precision=0.821, eval_recall=0.773]\n",
      "Epoch: 25/30 Train: 100%|██████████| 502/502 [01:55<00:00,  4.35it/s, F1=0.973, train_acc=0.995, train_loss=0.27, train_precision=0.976, train_recall=0.973] \n",
      "Eval Result: 100%|██████████| 18/18 [00:05<00:00,  3.25it/s, F1=0.809, eval_acc=0.968, eval_loss=5.03, eval_precision=0.815, eval_recall=0.804]\n",
      "Epoch: 26/30 Train: 100%|██████████| 502/502 [01:55<00:00,  4.34it/s, F1=0.974, train_acc=0.995, train_loss=0.29, train_precision=0.977, train_recall=0.973] \n",
      "Eval Result: 100%|██████████| 18/18 [00:05<00:00,  3.45it/s, F1=0.806, eval_acc=0.966, eval_loss=4.86, eval_precision=0.811, eval_recall=0.802]\n",
      "Epoch: 27/30 Train: 100%|██████████| 502/502 [01:54<00:00,  4.39it/s, F1=0.949, train_acc=0.991, train_loss=0.602, train_precision=0.952, train_recall=0.949]\n",
      "Eval Result: 100%|██████████| 18/18 [00:05<00:00,  3.00it/s, F1=0.786, eval_acc=0.963, eval_loss=6.64, eval_precision=0.78, eval_recall=0.794] \n",
      "Epoch: 28/30 Train: 100%|██████████| 502/502 [01:54<00:00,  4.39it/s, F1=0.962, train_acc=0.994, train_loss=0.424, train_precision=0.966, train_recall=0.96] \n",
      "Eval Result: 100%|██████████| 18/18 [00:05<00:00,  3.39it/s, F1=0.81, eval_acc=0.967, eval_loss=4.44, eval_precision=0.822, eval_recall=0.799] \n",
      "Epoch: 29/30 Train: 100%|██████████| 502/502 [01:54<00:00,  4.37it/s, F1=0.962, train_acc=0.993, train_loss=0.432, train_precision=0.964, train_recall=0.962]\n",
      "Eval Result: 100%|██████████| 18/18 [00:05<00:00,  3.25it/s, F1=0.817, eval_acc=0.969, eval_loss=4.93, eval_precision=0.821, eval_recall=0.813]\n",
      "Epoch: 30/30 Train: 100%|██████████| 502/502 [01:55<00:00,  4.35it/s, F1=0.973, train_acc=0.995, train_loss=0.274, train_precision=0.975, train_recall=0.973]\n",
      "Eval Result: 100%|██████████| 18/18 [00:05<00:00,  3.59it/s, F1=0.815, eval_acc=0.967, eval_loss=5.17, eval_precision=0.834, eval_recall=0.798]\n"
     ]
    }
   ],
   "source": [
    "args[\"task_name\"] = \"ccks_bert_crf_2\"\n",
    "\n",
    "trainer = NERTrainer(**args)\n",
    "\n",
    "for i in trainer(lr2=1e-2):\n",
    "    a = i"
   ]
  },
  {
   "cell_type": "code",
   "execution_count": 3,
   "metadata": {},
   "outputs": [
    {
     "name": "stderr",
     "output_type": "stream",
     "text": [
      "Some weights of the model checkpoint at ./model/chinese_wwm_ext/pytorch_model.bin were not used when initializing BertBaseModel: ['cls.predictions.transform.dense.bias', 'cls.seq_relationship.weight', 'cls.seq_relationship.bias', 'cls.predictions.transform.dense.weight', 'cls.predictions.decoder.weight', 'cls.predictions.transform.LayerNorm.weight', 'cls.predictions.bias', 'cls.predictions.transform.LayerNorm.bias']\n",
      "- This IS expected if you are initializing BertBaseModel from the checkpoint of a model trained on another task or with another architecture (e.g. initializing a BertForSequenceClassification model from a BertForPreTraining model).\n",
      "- This IS NOT expected if you are initializing BertBaseModel from the checkpoint of a model that you expect to be exactly identical (initializing a BertForSequenceClassification model from a BertForSequenceClassification model).\n",
      "Some weights of BertBaseModel were not initialized from the model checkpoint at ./model/chinese_wwm_ext/pytorch_model.bin and are newly initialized: ['bert.embeddings.position_ids']\n",
      "You should probably TRAIN this model on a down-stream task to be able to use it for predictions and inference.\n",
      "Epoch: 1/30 Train: 100%|██████████| 502/502 [01:58<00:00,  4.25it/s, F1=0.454, train_acc=0.884, train_loss=11.4, train_precision=0.443, train_recall=0.482]       \n",
      "Eval Result: 100%|██████████| 18/18 [00:06<00:00,  2.65it/s, F1=0.698, eval_acc=0.95, eval_loss=4.26, eval_precision=0.659, eval_recall=0.744] \n",
      "Epoch: 2/30 Train: 100%|██████████| 502/502 [01:58<00:00,  4.24it/s, F1=0.78, train_acc=0.962, train_loss=2.72, train_precision=0.791, train_recall=0.78]  \n",
      "Eval Result: 100%|██████████| 18/18 [00:05<00:00,  3.22it/s, F1=0.753, eval_acc=0.955, eval_loss=3.31, eval_precision=0.75, eval_recall=0.758] \n",
      "Epoch: 3/30 Train: 100%|██████████| 502/502 [01:58<00:00,  4.22it/s, F1=0.839, train_acc=0.971, train_loss=1.78, train_precision=0.851, train_recall=0.837]\n",
      "Eval Result: 100%|██████████| 18/18 [00:05<00:00,  3.06it/s, F1=0.768, eval_acc=0.958, eval_loss=3.07, eval_precision=0.754, eval_recall=0.783]\n",
      "Epoch: 4/30 Train: 100%|██████████| 502/502 [01:58<00:00,  4.24it/s, F1=0.873, train_acc=0.977, train_loss=1.28, train_precision=0.881, train_recall=0.871]\n",
      "Eval Result: 100%|██████████| 18/18 [00:06<00:00,  2.93it/s, F1=0.806, eval_acc=0.966, eval_loss=2.7, eval_precision=0.817, eval_recall=0.797] \n",
      "Epoch: 5/30 Train: 100%|██████████| 502/502 [01:57<00:00,  4.28it/s, F1=0.89, train_acc=0.98, train_loss=1.1, train_precision=0.897, train_recall=0.889]    \n",
      "Eval Result: 100%|██████████| 18/18 [00:07<00:00,  2.37it/s, F1=0.793, eval_acc=0.965, eval_loss=2.97, eval_precision=0.803, eval_recall=0.784]\n",
      "Epoch: 6/30 Train: 100%|██████████| 502/502 [01:58<00:00,  4.24it/s, F1=0.886, train_acc=0.979, train_loss=1.19, train_precision=0.893, train_recall=0.885]\n",
      "Eval Result: 100%|██████████| 18/18 [00:06<00:00,  2.59it/s, F1=0.775, eval_acc=0.956, eval_loss=3.6, eval_precision=0.76, eval_recall=0.793]  \n",
      "Epoch: 7/30 Train: 100%|██████████| 502/502 [01:57<00:00,  4.28it/s, F1=0.903, train_acc=0.983, train_loss=0.952, train_precision=0.909, train_recall=0.903]\n",
      "Eval Result: 100%|██████████| 18/18 [00:05<00:00,  3.34it/s, F1=0.797, eval_acc=0.965, eval_loss=3.25, eval_precision=0.79, eval_recall=0.805] \n",
      "Epoch: 8/30 Train: 100%|██████████| 502/502 [01:58<00:00,  4.22it/s, F1=0.919, train_acc=0.986, train_loss=0.775, train_precision=0.923, train_recall=0.919]\n",
      "Eval Result: 100%|██████████| 18/18 [00:05<00:00,  3.21it/s, F1=0.802, eval_acc=0.967, eval_loss=3.69, eval_precision=0.788, eval_recall=0.818]\n",
      "Epoch: 9/30 Train: 100%|██████████| 502/502 [01:58<00:00,  4.23it/s, F1=0.922, train_acc=0.986, train_loss=0.8, train_precision=0.927, train_recall=0.922]  \n",
      "Eval Result: 100%|██████████| 18/18 [00:05<00:00,  3.59it/s, F1=0.812, eval_acc=0.968, eval_loss=3.92, eval_precision=0.801, eval_recall=0.826]\n",
      "Epoch: 10/30 Train: 100%|██████████| 502/502 [01:57<00:00,  4.29it/s, F1=0.937, train_acc=0.989, train_loss=0.621, train_precision=0.941, train_recall=0.936]\n",
      "Eval Result: 100%|██████████| 18/18 [00:05<00:00,  3.05it/s, F1=0.812, eval_acc=0.968, eval_loss=3.88, eval_precision=0.792, eval_recall=0.836]\n",
      "Epoch: 11/30 Train: 100%|██████████| 502/502 [01:57<00:00,  4.27it/s, F1=0.935, train_acc=0.989, train_loss=0.667, train_precision=0.938, train_recall=0.935]\n",
      "Eval Result: 100%|██████████| 18/18 [00:06<00:00,  2.91it/s, F1=0.813, eval_acc=0.967, eval_loss=3.28, eval_precision=0.781, eval_recall=0.85] \n",
      "Epoch: 12/30 Train: 100%|██████████| 502/502 [01:56<00:00,  4.32it/s, F1=0.945, train_acc=0.991, train_loss=0.516, train_precision=0.947, train_recall=0.945]\n",
      "Eval Result: 100%|██████████| 18/18 [00:05<00:00,  3.02it/s, F1=0.805, eval_acc=0.966, eval_loss=3.95, eval_precision=0.799, eval_recall=0.813]\n",
      "Epoch: 13/30 Train: 100%|██████████| 502/502 [01:59<00:00,  4.21it/s, F1=0.929, train_acc=0.988, train_loss=0.763, train_precision=0.933, train_recall=0.929]\n",
      "Eval Result: 100%|██████████| 18/18 [00:05<00:00,  3.16it/s, F1=0.797, eval_acc=0.966, eval_loss=4.93, eval_precision=0.791, eval_recall=0.804]\n",
      "Epoch: 14/30 Train: 100%|██████████| 502/502 [01:57<00:00,  4.29it/s, F1=0.941, train_acc=0.989, train_loss=0.57, train_precision=0.942, train_recall=0.943] \n",
      "Eval Result: 100%|██████████| 18/18 [00:05<00:00,  3.14it/s, F1=0.814, eval_acc=0.967, eval_loss=3.82, eval_precision=0.807, eval_recall=0.824]\n",
      "Epoch: 15/30 Train: 100%|██████████| 502/502 [01:59<00:00,  4.22it/s, F1=0.946, train_acc=0.991, train_loss=0.581, train_precision=0.949, train_recall=0.947]\n",
      "Eval Result: 100%|██████████| 18/18 [00:06<00:00,  2.88it/s, F1=0.783, eval_acc=0.956, eval_loss=5.37, eval_precision=0.766, eval_recall=0.804]\n",
      "Epoch: 16/30 Train: 100%|██████████| 502/502 [01:59<00:00,  4.22it/s, F1=0.961, train_acc=0.994, train_loss=0.364, train_precision=0.964, train_recall=0.962]\n",
      "Eval Result: 100%|██████████| 18/18 [00:05<00:00,  3.08it/s, F1=0.799, eval_acc=0.965, eval_loss=4.87, eval_precision=0.801, eval_recall=0.799]\n",
      "Epoch: 17/30 Train: 100%|██████████| 502/502 [01:55<00:00,  4.33it/s, F1=0.956, train_acc=0.992, train_loss=0.457, train_precision=0.959, train_recall=0.956]\n",
      "Eval Result: 100%|██████████| 18/18 [00:05<00:00,  3.10it/s, F1=0.81, eval_acc=0.967, eval_loss=4.28, eval_precision=0.812, eval_recall=0.809] \n",
      "Epoch: 18/30 Train: 100%|██████████| 502/502 [01:55<00:00,  4.34it/s, F1=0.964, train_acc=0.994, train_loss=0.325, train_precision=0.967, train_recall=0.963]\n",
      "Eval Result: 100%|██████████| 18/18 [00:06<00:00,  2.99it/s, F1=0.817, eval_acc=0.969, eval_loss=4.04, eval_precision=0.816, eval_recall=0.819]\n",
      "Epoch: 19/30 Train: 100%|██████████| 502/502 [01:57<00:00,  4.28it/s, F1=0.959, train_acc=0.992, train_loss=0.484, train_precision=0.961, train_recall=0.96] \n",
      "Eval Result: 100%|██████████| 18/18 [00:05<00:00,  3.20it/s, F1=0.807, eval_acc=0.967, eval_loss=5.74, eval_precision=0.797, eval_recall=0.819]\n",
      "Epoch: 20/30 Train: 100%|██████████| 502/502 [01:56<00:00,  4.32it/s, F1=0.958, train_acc=0.992, train_loss=0.528, train_precision=0.961, train_recall=0.958]\n",
      "Eval Result: 100%|██████████| 18/18 [00:05<00:00,  3.29it/s, F1=0.826, eval_acc=0.97, eval_loss=3.79, eval_precision=0.825, eval_recall=0.829] \n",
      "Epoch: 21/30 Train: 100%|██████████| 502/502 [01:51<00:00,  4.49it/s, F1=0.97, train_acc=0.995, train_loss=0.248, train_precision=0.972, train_recall=0.97]  \n",
      "Eval Result: 100%|██████████| 18/18 [00:05<00:00,  3.21it/s, F1=0.81, eval_acc=0.968, eval_loss=4.5, eval_precision=0.797, eval_recall=0.825]  \n",
      "Epoch: 22/30 Train: 100%|██████████| 502/502 [01:51<00:00,  4.52it/s, F1=0.97, train_acc=0.995, train_loss=0.285, train_precision=0.971, train_recall=0.971] \n",
      "Eval Result: 100%|██████████| 18/18 [00:05<00:00,  3.18it/s, F1=0.822, eval_acc=0.967, eval_loss=4.38, eval_precision=0.809, eval_recall=0.836]\n",
      "Epoch: 23/30 Train: 100%|██████████| 502/502 [01:50<00:00,  4.54it/s, F1=0.966, train_acc=0.995, train_loss=0.305, train_precision=0.969, train_recall=0.965]\n",
      "Eval Result: 100%|██████████| 18/18 [00:05<00:00,  3.33it/s, F1=0.817, eval_acc=0.967, eval_loss=4.4, eval_precision=0.814, eval_recall=0.821] \n",
      "Epoch: 24/30 Train: 100%|██████████| 502/502 [01:50<00:00,  4.56it/s, F1=0.962, train_acc=0.992, train_loss=0.555, train_precision=0.964, train_recall=0.962]\n",
      "Eval Result: 100%|██████████| 18/18 [00:05<00:00,  3.21it/s, F1=0.818, eval_acc=0.967, eval_loss=5.42, eval_precision=0.802, eval_recall=0.836]\n",
      "Epoch: 25/30 Train: 100%|██████████| 502/502 [01:50<00:00,  4.55it/s, F1=0.965, train_acc=0.994, train_loss=0.358, train_precision=0.967, train_recall=0.966]\n",
      "Eval Result: 100%|██████████| 18/18 [00:05<00:00,  3.34it/s, F1=0.819, eval_acc=0.968, eval_loss=4.06, eval_precision=0.807, eval_recall=0.833]\n",
      "Epoch: 26/30 Train: 100%|██████████| 502/502 [01:47<00:00,  4.67it/s, F1=0.96, train_acc=0.993, train_loss=0.569, train_precision=0.961, train_recall=0.96]  \n",
      "Eval Result: 100%|██████████| 18/18 [00:05<00:00,  3.31it/s, F1=0.809, eval_acc=0.967, eval_loss=4.88, eval_precision=0.809, eval_recall=0.81] \n",
      "Epoch: 27/30 Train: 100%|██████████| 502/502 [01:46<00:00,  4.72it/s, F1=0.97, train_acc=0.995, train_loss=0.275, train_precision=0.972, train_recall=0.971] \n",
      "Eval Result: 100%|██████████| 18/18 [00:05<00:00,  3.38it/s, F1=0.821, eval_acc=0.97, eval_loss=3.94, eval_precision=0.822, eval_recall=0.821] \n",
      "Epoch: 28/30 Train: 100%|██████████| 502/502 [01:48<00:00,  4.64it/s, F1=0.976, train_acc=0.996, train_loss=0.206, train_precision=0.977, train_recall=0.976]\n",
      "Eval Result: 100%|██████████| 18/18 [00:05<00:00,  3.27it/s, F1=0.824, eval_acc=0.97, eval_loss=4.56, eval_precision=0.811, eval_recall=0.839] \n",
      "Epoch: 29/30 Train: 100%|██████████| 502/502 [01:48<00:00,  4.64it/s, F1=0.98, train_acc=0.996, train_loss=0.186, train_precision=0.981, train_recall=0.981] \n",
      "Eval Result: 100%|██████████| 18/18 [00:05<00:00,  3.40it/s, F1=0.819, eval_acc=0.969, eval_loss=4.95, eval_precision=0.807, eval_recall=0.832]\n",
      "Epoch: 30/30 Train: 100%|██████████| 502/502 [01:48<00:00,  4.65it/s, F1=0.98, train_acc=0.996, train_loss=0.206, train_precision=0.981, train_recall=0.98]  \n",
      "Eval Result: 100%|██████████| 18/18 [00:05<00:00,  3.05it/s, F1=0.809, eval_acc=0.969, eval_loss=4.65, eval_precision=0.82, eval_recall=0.8]   \n"
     ]
    }
   ],
   "source": [
    "args[\"task_name\"] = \"ccks_bert_crf_3\"\n",
    "\n",
    "trainer = NERTrainer(**args)\n",
    "\n",
    "for i in trainer(lr2=1e-2):\n",
    "    a = i"
   ]
  },
  {
   "cell_type": "code",
   "execution_count": 4,
   "metadata": {},
   "outputs": [
    {
     "name": "stderr",
     "output_type": "stream",
     "text": [
      "Some weights of the model checkpoint at ./model/chinese_wwm_ext/pytorch_model.bin were not used when initializing BertBaseModel: ['cls.predictions.transform.dense.bias', 'cls.seq_relationship.weight', 'cls.seq_relationship.bias', 'cls.predictions.transform.dense.weight', 'cls.predictions.decoder.weight', 'cls.predictions.transform.LayerNorm.weight', 'cls.predictions.bias', 'cls.predictions.transform.LayerNorm.bias']\n",
      "- This IS expected if you are initializing BertBaseModel from the checkpoint of a model trained on another task or with another architecture (e.g. initializing a BertForSequenceClassification model from a BertForPreTraining model).\n",
      "- This IS NOT expected if you are initializing BertBaseModel from the checkpoint of a model that you expect to be exactly identical (initializing a BertForSequenceClassification model from a BertForSequenceClassification model).\n",
      "Some weights of BertBaseModel were not initialized from the model checkpoint at ./model/chinese_wwm_ext/pytorch_model.bin and are newly initialized: ['bert.embeddings.position_ids']\n",
      "You should probably TRAIN this model on a down-stream task to be able to use it for predictions and inference.\n",
      "Epoch: 1/30 Train:   9%|▉         | 45/502 [00:10<01:44,  4.39it/s, F1=0.000228, train_acc=0.45, train_loss=62.7, train_precision=0.00012, train_recall=0.00222]  /home/zl/anaconda3/envs/NER/lib/python3.7/site-packages/seqeval/metrics/v1.py:57: UndefinedMetricWarning: Recall is ill-defined and being set to 0.0 due to no true samples. Use `zero_division` parameter to control this behavior.\n",
      "  _warn_prf(average, modifier, msg_start, len(result))\n",
      "Epoch: 1/30 Train: 100%|██████████| 502/502 [01:51<00:00,  4.49it/s, F1=0.508, train_acc=0.888, train_loss=11.6, train_precision=0.489, train_recall=0.545]       \n",
      "Eval Result: 100%|██████████| 18/18 [00:07<00:00,  2.40it/s, F1=0.764, eval_acc=0.96, eval_loss=3.32, eval_precision=0.768, eval_recall=0.761] \n",
      "Epoch: 2/30 Train: 100%|██████████| 502/502 [01:49<00:00,  4.58it/s, F1=0.794, train_acc=0.964, train_loss=2.49, train_precision=0.796, train_recall=0.8]  \n",
      "Eval Result: 100%|██████████| 18/18 [00:05<00:00,  3.30it/s, F1=0.776, eval_acc=0.962, eval_loss=3.38, eval_precision=0.766, eval_recall=0.787]\n",
      "Epoch: 3/30 Train: 100%|██████████| 502/502 [01:49<00:00,  4.60it/s, F1=0.835, train_acc=0.971, train_loss=1.71, train_precision=0.842, train_recall=0.835]\n",
      "Eval Result: 100%|██████████| 18/18 [00:05<00:00,  3.11it/s, F1=0.808, eval_acc=0.967, eval_loss=2.97, eval_precision=0.796, eval_recall=0.821]\n",
      "Epoch: 4/30 Train:   9%|▉         | 45/502 [00:10<01:40,  4.55it/s, F1=0.853, train_acc=0.975, train_loss=1.66, train_precision=0.867, train_recall=0.844]/home/zl/anaconda3/envs/NER/lib/python3.7/site-packages/seqeval/metrics/v1.py:160: UndefinedMetricWarning: F-score is ill-defined and being set to 0.0 due to no true nor predicted samples. Use `zero_division` parameter to control this behavior.\n",
      "  average, 'true nor predicted', 'F-score is', len(true_sum)\n",
      "Epoch: 4/30 Train: 100%|██████████| 502/502 [01:51<00:00,  4.52it/s, F1=0.871, train_acc=0.978, train_loss=1.36, train_precision=0.879, train_recall=0.868]\n",
      "Eval Result: 100%|██████████| 18/18 [00:05<00:00,  3.08it/s, F1=0.787, eval_acc=0.959, eval_loss=3.54, eval_precision=0.774, eval_recall=0.802]\n",
      "Epoch: 5/30 Train: 100%|██████████| 502/502 [01:49<00:00,  4.56it/s, F1=0.895, train_acc=0.982, train_loss=0.999, train_precision=0.903, train_recall=0.892]\n",
      "Eval Result: 100%|██████████| 18/18 [00:05<00:00,  3.41it/s, F1=0.794, eval_acc=0.963, eval_loss=2.94, eval_precision=0.79, eval_recall=0.8]   \n",
      "Epoch: 6/30 Train: 100%|██████████| 502/502 [01:49<00:00,  4.57it/s, F1=0.889, train_acc=0.982, train_loss=1.06, train_precision=0.895, train_recall=0.889] \n",
      "Eval Result: 100%|██████████| 18/18 [00:05<00:00,  3.11it/s, F1=0.81, eval_acc=0.966, eval_loss=2.93, eval_precision=0.804, eval_recall=0.818] \n",
      "Epoch: 7/30 Train: 100%|██████████| 502/502 [01:49<00:00,  4.59it/s, F1=0.886, train_acc=0.98, train_loss=1.12, train_precision=0.892, train_recall=0.884] \n",
      "Eval Result: 100%|██████████| 18/18 [00:05<00:00,  3.48it/s, F1=0.787, eval_acc=0.96, eval_loss=3.53, eval_precision=0.781, eval_recall=0.795] \n",
      "Epoch: 8/30 Train: 100%|██████████| 502/502 [01:49<00:00,  4.59it/s, F1=0.917, train_acc=0.986, train_loss=0.737, train_precision=0.923, train_recall=0.915]\n",
      "Eval Result: 100%|██████████| 18/18 [00:05<00:00,  3.15it/s, F1=0.804, eval_acc=0.966, eval_loss=3.22, eval_precision=0.794, eval_recall=0.815]\n",
      "Epoch: 9/30 Train: 100%|██████████| 502/502 [01:49<00:00,  4.59it/s, F1=0.933, train_acc=0.989, train_loss=0.589, train_precision=0.934, train_recall=0.934]\n",
      "Eval Result: 100%|██████████| 18/18 [00:05<00:00,  3.48it/s, F1=0.807, eval_acc=0.967, eval_loss=3, eval_precision=0.801, eval_recall=0.814]   \n",
      "Epoch: 10/30 Train: 100%|██████████| 502/502 [01:49<00:00,  4.59it/s, F1=0.935, train_acc=0.989, train_loss=0.639, train_precision=0.937, train_recall=0.935]\n",
      "Eval Result: 100%|██████████| 18/18 [00:05<00:00,  3.34it/s, F1=0.799, eval_acc=0.962, eval_loss=3.67, eval_precision=0.804, eval_recall=0.796]\n",
      "Epoch: 11/30 Train: 100%|██████████| 502/502 [01:48<00:00,  4.61it/s, F1=0.933, train_acc=0.99, train_loss=0.608, train_precision=0.938, train_recall=0.932] \n",
      "Eval Result: 100%|██████████| 18/18 [00:05<00:00,  3.17it/s, F1=0.78, eval_acc=0.96, eval_loss=4.64, eval_precision=0.789, eval_recall=0.773]  \n",
      "Epoch: 12/30 Train: 100%|██████████| 502/502 [01:50<00:00,  4.53it/s, F1=0.93, train_acc=0.989, train_loss=0.627, train_precision=0.931, train_recall=0.932] \n",
      "Eval Result: 100%|██████████| 18/18 [00:05<00:00,  3.34it/s, F1=0.786, eval_acc=0.962, eval_loss=3.95, eval_precision=0.78, eval_recall=0.792] \n",
      "Epoch: 13/30 Train: 100%|██████████| 502/502 [01:48<00:00,  4.64it/s, F1=0.943, train_acc=0.991, train_loss=0.58, train_precision=0.947, train_recall=0.941] \n",
      "Eval Result: 100%|██████████| 18/18 [00:05<00:00,  3.13it/s, F1=0.79, eval_acc=0.959, eval_loss=4.17, eval_precision=0.783, eval_recall=0.797] \n",
      "Epoch: 14/30 Train: 100%|██████████| 502/502 [01:49<00:00,  4.59it/s, F1=0.948, train_acc=0.992, train_loss=0.559, train_precision=0.95, train_recall=0.948] \n",
      "Eval Result: 100%|██████████| 18/18 [00:05<00:00,  3.53it/s, F1=0.795, eval_acc=0.964, eval_loss=4.31, eval_precision=0.816, eval_recall=0.776]\n",
      "Epoch: 15/30 Train: 100%|██████████| 502/502 [01:50<00:00,  4.55it/s, F1=0.946, train_acc=0.991, train_loss=0.554, train_precision=0.95, train_recall=0.944] \n",
      "Eval Result: 100%|██████████| 18/18 [00:05<00:00,  3.23it/s, F1=0.809, eval_acc=0.965, eval_loss=4.13, eval_precision=0.799, eval_recall=0.821]\n",
      "Epoch: 16/30 Train: 100%|██████████| 502/502 [01:48<00:00,  4.61it/s, F1=0.946, train_acc=0.99, train_loss=0.612, train_precision=0.951, train_recall=0.945] \n",
      "Eval Result: 100%|██████████| 18/18 [00:05<00:00,  3.26it/s, F1=0.805, eval_acc=0.964, eval_loss=3.83, eval_precision=0.796, eval_recall=0.815]\n",
      "Epoch: 17/30 Train: 100%|██████████| 502/502 [01:46<00:00,  4.71it/s, F1=0.957, train_acc=0.993, train_loss=0.458, train_precision=0.96, train_recall=0.956] \n",
      "Eval Result: 100%|██████████| 18/18 [00:05<00:00,  3.16it/s, F1=0.809, eval_acc=0.965, eval_loss=4.28, eval_precision=0.8, eval_recall=0.819]  \n",
      "Epoch: 18/30 Train: 100%|██████████| 502/502 [01:48<00:00,  4.61it/s, F1=0.945, train_acc=0.99, train_loss=0.682, train_precision=0.948, train_recall=0.944] \n",
      "Eval Result: 100%|██████████| 18/18 [00:05<00:00,  3.07it/s, F1=0.804, eval_acc=0.963, eval_loss=4.01, eval_precision=0.801, eval_recall=0.809]\n",
      "Epoch: 19/30 Train: 100%|██████████| 502/502 [01:48<00:00,  4.64it/s, F1=0.952, train_acc=0.992, train_loss=0.541, train_precision=0.956, train_recall=0.951]\n",
      "Eval Result: 100%|██████████| 18/18 [00:05<00:00,  3.30it/s, F1=0.814, eval_acc=0.968, eval_loss=3.4, eval_precision=0.799, eval_recall=0.831] \n",
      "Epoch: 20/30 Train: 100%|██████████| 502/502 [01:52<00:00,  4.48it/s, F1=0.965, train_acc=0.994, train_loss=0.325, train_precision=0.968, train_recall=0.964]\n",
      "Eval Result: 100%|██████████| 18/18 [00:05<00:00,  3.37it/s, F1=0.811, eval_acc=0.967, eval_loss=4.31, eval_precision=0.807, eval_recall=0.816]\n",
      "Epoch: 21/30 Train: 100%|██████████| 502/502 [01:48<00:00,  4.61it/s, F1=0.966, train_acc=0.995, train_loss=0.333, train_precision=0.97, train_recall=0.964] \n",
      "Eval Result: 100%|██████████| 18/18 [00:05<00:00,  3.19it/s, F1=0.818, eval_acc=0.969, eval_loss=3.94, eval_precision=0.815, eval_recall=0.823]\n",
      "Epoch: 22/30 Train: 100%|██████████| 502/502 [01:49<00:00,  4.60it/s, F1=0.957, train_acc=0.993, train_loss=0.497, train_precision=0.958, train_recall=0.957]\n",
      "Eval Result: 100%|██████████| 18/18 [00:05<00:00,  3.03it/s, F1=0.787, eval_acc=0.965, eval_loss=4.55, eval_precision=0.769, eval_recall=0.807]\n",
      "Epoch: 23/30 Train: 100%|██████████| 502/502 [01:50<00:00,  4.55it/s, F1=0.96, train_acc=0.993, train_loss=0.422, train_precision=0.963, train_recall=0.96]  \n",
      "Eval Result: 100%|██████████| 18/18 [00:05<00:00,  3.08it/s, F1=0.815, eval_acc=0.966, eval_loss=3.77, eval_precision=0.815, eval_recall=0.815]\n",
      "Epoch: 24/30 Train: 100%|██████████| 502/502 [01:50<00:00,  4.56it/s, F1=0.97, train_acc=0.995, train_loss=0.3, train_precision=0.972, train_recall=0.97]    \n",
      "Eval Result: 100%|██████████| 18/18 [00:05<00:00,  3.11it/s, F1=0.813, eval_acc=0.969, eval_loss=3.85, eval_precision=0.82, eval_recall=0.807] \n",
      "Epoch: 25/30 Train: 100%|██████████| 502/502 [01:49<00:00,  4.60it/s, F1=0.969, train_acc=0.995, train_loss=0.301, train_precision=0.972, train_recall=0.967]\n",
      "Eval Result: 100%|██████████| 18/18 [00:05<00:00,  3.34it/s, F1=0.813, eval_acc=0.965, eval_loss=4, eval_precision=0.825, eval_recall=0.802]   \n",
      "Epoch: 26/30 Train: 100%|██████████| 502/502 [01:47<00:00,  4.65it/s, F1=0.963, train_acc=0.995, train_loss=0.313, train_precision=0.966, train_recall=0.963]\n",
      "Eval Result: 100%|██████████| 18/18 [00:05<00:00,  3.04it/s, F1=0.806, eval_acc=0.966, eval_loss=4.4, eval_precision=0.803, eval_recall=0.81]  \n",
      "Epoch: 27/30 Train: 100%|██████████| 502/502 [01:49<00:00,  4.60it/s, F1=0.97, train_acc=0.995, train_loss=0.272, train_precision=0.973, train_recall=0.97]  \n",
      "Eval Result: 100%|██████████| 18/18 [00:05<00:00,  3.12it/s, F1=0.823, eval_acc=0.967, eval_loss=4.42, eval_precision=0.815, eval_recall=0.832]\n",
      "Epoch: 28/30 Train: 100%|██████████| 502/502 [01:48<00:00,  4.62it/s, F1=0.969, train_acc=0.995, train_loss=0.302, train_precision=0.973, train_recall=0.968]\n",
      "Eval Result: 100%|██████████| 18/18 [00:05<00:00,  3.30it/s, F1=0.808, eval_acc=0.966, eval_loss=4.53, eval_precision=0.805, eval_recall=0.812]\n",
      "Epoch: 29/30 Train: 100%|██████████| 502/502 [01:48<00:00,  4.62it/s, F1=0.975, train_acc=0.996, train_loss=0.252, train_precision=0.978, train_recall=0.974]\n",
      "Eval Result: 100%|██████████| 18/18 [00:05<00:00,  3.05it/s, F1=0.818, eval_acc=0.967, eval_loss=4.89, eval_precision=0.82, eval_recall=0.818] \n",
      "Epoch: 30/30 Train: 100%|██████████| 502/502 [01:46<00:00,  4.69it/s, F1=0.959, train_acc=0.993, train_loss=0.43, train_precision=0.963, train_recall=0.958] \n",
      "Eval Result: 100%|██████████| 18/18 [00:05<00:00,  3.36it/s, F1=0.808, eval_acc=0.966, eval_loss=4.73, eval_precision=0.796, eval_recall=0.82] \n"
     ]
    }
   ],
   "source": [
    "args[\"task_name\"] = \"ccks_bert_crf_4\"\n",
    "\n",
    "trainer = NERTrainer(**args)\n",
    "\n",
    "for i in trainer(lr2=1e-2):\n",
    "    a = i"
   ]
  },
  {
   "cell_type": "code",
   "execution_count": 5,
   "metadata": {},
   "outputs": [
    {
     "name": "stderr",
     "output_type": "stream",
     "text": [
      "Some weights of the model checkpoint at ./model/chinese_wwm_ext/pytorch_model.bin were not used when initializing BertBaseModel: ['cls.predictions.transform.dense.bias', 'cls.seq_relationship.weight', 'cls.seq_relationship.bias', 'cls.predictions.transform.dense.weight', 'cls.predictions.decoder.weight', 'cls.predictions.transform.LayerNorm.weight', 'cls.predictions.bias', 'cls.predictions.transform.LayerNorm.bias']\n",
      "- This IS expected if you are initializing BertBaseModel from the checkpoint of a model trained on another task or with another architecture (e.g. initializing a BertForSequenceClassification model from a BertForPreTraining model).\n",
      "- This IS NOT expected if you are initializing BertBaseModel from the checkpoint of a model that you expect to be exactly identical (initializing a BertForSequenceClassification model from a BertForSequenceClassification model).\n",
      "Some weights of BertBaseModel were not initialized from the model checkpoint at ./model/chinese_wwm_ext/pytorch_model.bin and are newly initialized: ['bert.embeddings.position_ids']\n",
      "You should probably TRAIN this model on a down-stream task to be able to use it for predictions and inference.\n",
      "Epoch: 1/30 Train: 100%|██████████| 502/502 [01:48<00:00,  4.64it/s, F1=0.543, train_acc=0.901, train_loss=8.64, train_precision=0.549, train_recall=0.553]       \n",
      "Eval Result: 100%|██████████| 18/18 [00:06<00:00,  2.77it/s, F1=0.78, eval_acc=0.961, eval_loss=2.92, eval_precision=0.768, eval_recall=0.795] \n",
      "Epoch: 2/30 Train: 100%|██████████| 502/502 [01:48<00:00,  4.64it/s, F1=0.802, train_acc=0.964, train_loss=2.22, train_precision=0.813, train_recall=0.8]  \n",
      "Eval Result: 100%|██████████| 18/18 [00:05<00:00,  3.42it/s, F1=0.8, eval_acc=0.966, eval_loss=2.75, eval_precision=0.775, eval_recall=0.829]  \n",
      "Epoch: 3/30 Train: 100%|██████████| 502/502 [01:49<00:00,  4.59it/s, F1=0.847, train_acc=0.972, train_loss=1.57, train_precision=0.857, train_recall=0.844]\n",
      "Eval Result: 100%|██████████| 18/18 [00:05<00:00,  3.06it/s, F1=0.773, eval_acc=0.96, eval_loss=4.12, eval_precision=0.768, eval_recall=0.78]  \n",
      "Epoch: 4/30 Train: 100%|██████████| 502/502 [01:50<00:00,  4.55it/s, F1=0.877, train_acc=0.978, train_loss=1.15, train_precision=0.885, train_recall=0.875]\n",
      "Eval Result: 100%|██████████| 18/18 [00:05<00:00,  3.21it/s, F1=0.797, eval_acc=0.963, eval_loss=3.41, eval_precision=0.807, eval_recall=0.788]\n",
      "Epoch: 5/30 Train: 100%|██████████| 502/502 [01:49<00:00,  4.60it/s, F1=0.86, train_acc=0.974, train_loss=1.72, train_precision=0.868, train_recall=0.861] \n",
      "Eval Result: 100%|██████████| 18/18 [00:05<00:00,  3.36it/s, F1=0.8, eval_acc=0.966, eval_loss=3.31, eval_precision=0.797, eval_recall=0.804]  \n",
      "Epoch: 6/30 Train: 100%|██████████| 502/502 [01:50<00:00,  4.54it/s, F1=0.9, train_acc=0.982, train_loss=0.883, train_precision=0.907, train_recall=0.899]  \n",
      "Eval Result: 100%|██████████| 18/18 [00:05<00:00,  3.25it/s, F1=0.815, eval_acc=0.969, eval_loss=3.14, eval_precision=0.814, eval_recall=0.817]\n",
      "Epoch: 7/30 Train: 100%|██████████| 502/502 [01:47<00:00,  4.68it/s, F1=0.921, train_acc=0.986, train_loss=0.766, train_precision=0.925, train_recall=0.921]\n",
      "Eval Result: 100%|██████████| 18/18 [00:05<00:00,  3.37it/s, F1=0.799, eval_acc=0.966, eval_loss=3.57, eval_precision=0.791, eval_recall=0.809]\n",
      "Epoch: 8/30 Train: 100%|██████████| 502/502 [01:47<00:00,  4.66it/s, F1=0.931, train_acc=0.988, train_loss=0.646, train_precision=0.934, train_recall=0.932]\n",
      "Eval Result: 100%|██████████| 18/18 [00:05<00:00,  3.07it/s, F1=0.79, eval_acc=0.963, eval_loss=3.76, eval_precision=0.803, eval_recall=0.78]  \n",
      "Epoch: 9/30 Train: 100%|██████████| 502/502 [01:49<00:00,  4.57it/s, F1=0.927, train_acc=0.987, train_loss=0.724, train_precision=0.93, train_recall=0.928] \n",
      "Eval Result: 100%|██████████| 18/18 [00:05<00:00,  3.13it/s, F1=0.803, eval_acc=0.966, eval_loss=3.8, eval_precision=0.818, eval_recall=0.79]  \n",
      "Epoch: 10/30 Train: 100%|██████████| 502/502 [01:51<00:00,  4.50it/s, F1=0.934, train_acc=0.988, train_loss=0.666, train_precision=0.938, train_recall=0.934]\n",
      "Eval Result: 100%|██████████| 18/18 [00:05<00:00,  3.51it/s, F1=0.806, eval_acc=0.965, eval_loss=3.49, eval_precision=0.802, eval_recall=0.811]\n",
      "Epoch: 11/30 Train: 100%|██████████| 502/502 [01:49<00:00,  4.59it/s, F1=0.936, train_acc=0.988, train_loss=0.646, train_precision=0.94, train_recall=0.935] \n",
      "Eval Result: 100%|██████████| 18/18 [00:05<00:00,  3.59it/s, F1=0.804, eval_acc=0.964, eval_loss=4.77, eval_precision=0.81, eval_recall=0.799] \n",
      "Epoch: 12/30 Train: 100%|██████████| 502/502 [01:50<00:00,  4.56it/s, F1=0.948, train_acc=0.991, train_loss=0.485, train_precision=0.952, train_recall=0.947]\n",
      "Eval Result: 100%|██████████| 18/18 [00:05<00:00,  3.35it/s, F1=0.806, eval_acc=0.966, eval_loss=4.4, eval_precision=0.793, eval_recall=0.821] \n",
      "Epoch: 13/30 Train: 100%|██████████| 502/502 [01:49<00:00,  4.59it/s, F1=0.942, train_acc=0.99, train_loss=0.652, train_precision=0.945, train_recall=0.943] \n",
      "Eval Result: 100%|██████████| 18/18 [00:05<00:00,  3.25it/s, F1=0.796, eval_acc=0.964, eval_loss=4.51, eval_precision=0.8, eval_recall=0.793]  \n",
      "Epoch: 14/30 Train: 100%|██████████| 502/502 [01:47<00:00,  4.65it/s, F1=0.946, train_acc=0.991, train_loss=0.504, train_precision=0.949, train_recall=0.946]\n",
      "Eval Result: 100%|██████████| 18/18 [00:05<00:00,  3.26it/s, F1=0.818, eval_acc=0.97, eval_loss=4.43, eval_precision=0.827, eval_recall=0.81]  \n",
      "Epoch: 15/30 Train: 100%|██████████| 502/502 [01:48<00:00,  4.61it/s, F1=0.942, train_acc=0.989, train_loss=0.637, train_precision=0.942, train_recall=0.944]\n",
      "Eval Result: 100%|██████████| 18/18 [00:05<00:00,  3.12it/s, F1=0.822, eval_acc=0.969, eval_loss=3.92, eval_precision=0.828, eval_recall=0.818]\n",
      "Epoch: 16/30 Train: 100%|██████████| 502/502 [01:49<00:00,  4.60it/s, F1=0.954, train_acc=0.993, train_loss=0.395, train_precision=0.958, train_recall=0.954]\n",
      "Eval Result: 100%|██████████| 18/18 [00:05<00:00,  3.39it/s, F1=0.818, eval_acc=0.969, eval_loss=3.78, eval_precision=0.829, eval_recall=0.809]\n",
      "Epoch: 17/30 Train: 100%|██████████| 502/502 [01:49<00:00,  4.59it/s, F1=0.96, train_acc=0.994, train_loss=0.311, train_precision=0.962, train_recall=0.96]  \n",
      "Eval Result: 100%|██████████| 18/18 [00:05<00:00,  3.43it/s, F1=0.824, eval_acc=0.969, eval_loss=4.88, eval_precision=0.829, eval_recall=0.821]\n",
      "Epoch: 18/30 Train: 100%|██████████| 502/502 [01:47<00:00,  4.67it/s, F1=0.946, train_acc=0.991, train_loss=0.505, train_precision=0.948, train_recall=0.947]\n",
      "Eval Result: 100%|██████████| 18/18 [00:05<00:00,  3.04it/s, F1=0.813, eval_acc=0.967, eval_loss=4.54, eval_precision=0.814, eval_recall=0.814]\n",
      "Epoch: 19/30 Train: 100%|██████████| 502/502 [01:50<00:00,  4.53it/s, F1=0.95, train_acc=0.991, train_loss=0.551, train_precision=0.95, train_recall=0.952]  \n",
      "Eval Result: 100%|██████████| 18/18 [00:05<00:00,  3.39it/s, F1=0.817, eval_acc=0.967, eval_loss=4.47, eval_precision=0.82, eval_recall=0.815] \n",
      "Epoch: 20/30 Train: 100%|██████████| 502/502 [01:48<00:00,  4.63it/s, F1=0.967, train_acc=0.994, train_loss=0.349, train_precision=0.969, train_recall=0.968]\n",
      "Eval Result: 100%|██████████| 18/18 [00:05<00:00,  3.05it/s, F1=0.832, eval_acc=0.971, eval_loss=4.72, eval_precision=0.826, eval_recall=0.84] \n",
      "Epoch: 21/30 Train: 100%|██████████| 502/502 [01:49<00:00,  4.60it/s, F1=0.969, train_acc=0.995, train_loss=0.335, train_precision=0.972, train_recall=0.968]\n",
      "Eval Result: 100%|██████████| 18/18 [00:05<00:00,  3.42it/s, F1=0.819, eval_acc=0.968, eval_loss=4.63, eval_precision=0.818, eval_recall=0.821]\n",
      "Epoch: 22/30 Train: 100%|██████████| 502/502 [01:49<00:00,  4.57it/s, F1=0.954, train_acc=0.991, train_loss=0.521, train_precision=0.957, train_recall=0.953]\n",
      "Eval Result: 100%|██████████| 18/18 [00:05<00:00,  3.22it/s, F1=0.821, eval_acc=0.97, eval_loss=5.74, eval_precision=0.829, eval_recall=0.814] \n",
      "Epoch: 23/30 Train: 100%|██████████| 502/502 [01:47<00:00,  4.66it/s, F1=0.965, train_acc=0.994, train_loss=0.343, train_precision=0.967, train_recall=0.964]\n",
      "Eval Result: 100%|██████████| 18/18 [00:05<00:00,  3.16it/s, F1=0.83, eval_acc=0.971, eval_loss=4.85, eval_precision=0.849, eval_recall=0.814] \n",
      "Epoch: 24/30 Train: 100%|██████████| 502/502 [01:48<00:00,  4.62it/s, F1=0.968, train_acc=0.994, train_loss=0.296, train_precision=0.971, train_recall=0.967]\n",
      "Eval Result: 100%|██████████| 18/18 [00:05<00:00,  3.47it/s, F1=0.813, eval_acc=0.968, eval_loss=5.54, eval_precision=0.82, eval_recall=0.806] \n",
      "Epoch: 25/30 Train: 100%|██████████| 502/502 [01:47<00:00,  4.68it/s, F1=0.963, train_acc=0.993, train_loss=0.425, train_precision=0.963, train_recall=0.965]\n",
      "Eval Result: 100%|██████████| 18/18 [00:05<00:00,  3.19it/s, F1=0.822, eval_acc=0.97, eval_loss=5.45, eval_precision=0.822, eval_recall=0.823] \n",
      "Epoch: 26/30 Train: 100%|██████████| 502/502 [01:48<00:00,  4.64it/s, F1=0.965, train_acc=0.994, train_loss=0.372, train_precision=0.969, train_recall=0.964]\n",
      "Eval Result: 100%|██████████| 18/18 [00:05<00:00,  3.38it/s, F1=0.813, eval_acc=0.967, eval_loss=4.78, eval_precision=0.806, eval_recall=0.822]\n",
      "Epoch: 27/30 Train: 100%|██████████| 502/502 [01:47<00:00,  4.67it/s, F1=0.969, train_acc=0.994, train_loss=0.32, train_precision=0.97, train_recall=0.969]  \n",
      "Eval Result: 100%|██████████| 18/18 [00:05<00:00,  3.56it/s, F1=0.826, eval_acc=0.969, eval_loss=5.27, eval_precision=0.839, eval_recall=0.814]\n",
      "Epoch: 28/30 Train: 100%|██████████| 502/502 [01:48<00:00,  4.64it/s, F1=0.968, train_acc=0.994, train_loss=0.395, train_precision=0.969, train_recall=0.97] \n",
      "Eval Result: 100%|██████████| 18/18 [00:05<00:00,  3.19it/s, F1=0.825, eval_acc=0.97, eval_loss=5.23, eval_precision=0.833, eval_recall=0.818] \n",
      "Epoch: 29/30 Train: 100%|██████████| 502/502 [01:46<00:00,  4.71it/s, F1=0.975, train_acc=0.996, train_loss=0.242, train_precision=0.977, train_recall=0.974]\n",
      "Eval Result: 100%|██████████| 18/18 [00:05<00:00,  3.07it/s, F1=0.823, eval_acc=0.97, eval_loss=5.86, eval_precision=0.837, eval_recall=0.81]  \n",
      "Epoch: 30/30 Train: 100%|██████████| 502/502 [01:48<00:00,  4.63it/s, F1=0.974, train_acc=0.995, train_loss=0.239, train_precision=0.976, train_recall=0.974]\n",
      "Eval Result: 100%|██████████| 18/18 [00:05<00:00,  3.04it/s, F1=0.815, eval_acc=0.968, eval_loss=5.35, eval_precision=0.822, eval_recall=0.81] \n"
     ]
    }
   ],
   "source": [
    "args[\"task_name\"] = \"ccks_bert_crf_5\"\n",
    "\n",
    "trainer = NERTrainer(**args)\n",
    "\n",
    "for i in trainer(lr2=1e-2):\n",
    "    a = i"
   ]
  },
  {
   "cell_type": "markdown",
   "metadata": {},
   "source": [
    "### LEBert"
   ]
  },
  {
   "cell_type": "code",
   "execution_count": null,
   "metadata": {},
   "outputs": [],
   "source": [
    "from CC.trainer import NERTrainer\n",
    "\n",
    "args = {\n",
    "    'num_epochs': 30,\n",
    "    'num_gpus': [0],\n",
    "    'bert_config_file_name': './model/chinese_wwm_ext/bert_config.json',\n",
    "    'pretrained_file_name': './model/chinese_wwm_ext/pytorch_model.bin',\n",
    "    'hidden_dim': 300,\n",
    "    'max_seq_length': 150,\n",
    "    'max_scan_num': 1000000,\n",
    "    # 'inter_max_scan_num': 3000,\n",
    "    'train_file': './data/ccks/subtask1_train.json',\n",
    "    'eval_file': './data/ccks/subtask1_test.json',\n",
    "    'test_file': './data/ccks/subtask1_test.json',\n",
    "    'bert_vocab_file': './model/chinese_wwm_ext/vocab.txt',\n",
    "    'tag_file': 'data/ccks/ccks_tags_list.txt',\n",
    "    # 'loader_name': 'le_loader_zl',\n",
    "    'loader_name': 'le_loader',\n",
    "    'output_eval':True,\n",
    "    \"word_embedding_file\":\"./data/tencent/word_embedding.txt\",\n",
    "    \"inter_knowledge_file\":\"./data/tencent/THUOCL_FN_medical.txt\",\n",
    "    \"default_tag\":\"O\",\n",
    "    'batch_size': 8,\n",
    "    'eval_batch_size': 64,\n",
    "    'do_shuffle': True,\n",
    "    \"use_gpu\": True,\n",
    "    \"debug\": True,\n",
    "    'model_name': 'LEBert',\n",
    "    'classify':'crf',\n",
    "    'task_name': 'ccks_LEBert_crf_1'\n",
    "}\n",
    "\n",
    "# Trainer\n",
    "trainer = NERTrainer(**args)\n",
    "\n",
    "for i in trainer(lr2=1e-2):\n",
    "    a = i"
   ]
  },
  {
   "cell_type": "code",
   "execution_count": null,
   "metadata": {},
   "outputs": [],
   "source": [
    "args[\"task_name\"] = \"ccks_LEBert_crf_2\"\n",
    "\n",
    "trainer = NERTrainer(**args)\n",
    "\n",
    "for i in trainer(lr2=1e-2):\n",
    "    a = i"
   ]
  },
  {
   "cell_type": "code",
   "execution_count": null,
   "metadata": {},
   "outputs": [],
   "source": [
    "args[\"task_name\"] = \"ccks_LEBert_crf_3\"\n",
    "\n",
    "trainer = NERTrainer(**args)\n",
    "\n",
    "for i in trainer(lr2=1e-2):\n",
    "    a = i"
   ]
  },
  {
   "cell_type": "code",
   "execution_count": null,
   "metadata": {},
   "outputs": [],
   "source": [
    "args[\"task_name\"] = \"ccks_LEBert_crf_4\"\n",
    "\n",
    "trainer = NERTrainer(**args)\n",
    "\n",
    "for i in trainer(lr2=1e-2):\n",
    "    a = i"
   ]
  },
  {
   "cell_type": "code",
   "execution_count": null,
   "metadata": {},
   "outputs": [],
   "source": [
    "args[\"task_name\"] = \"ccks_LEBert_crf_5\"\n",
    "\n",
    "trainer = NERTrainer(**args)\n",
    "\n",
    "for i in trainer(lr2=1e-2):\n",
    "    a = i"
   ]
  },
  {
   "cell_type": "markdown",
   "metadata": {},
   "source": [
    "### v1"
   ]
  },
  {
   "cell_type": "code",
   "execution_count": 1,
   "metadata": {},
   "outputs": [
    {
     "name": "stdout",
     "output_type": "stream",
     "text": [
      "kwargs parser: {\n",
      "    \"batch_size\": 8,\n",
      "    \"eval_batch_size\": 64,\n",
      "    \"test_batch_size\": 16,\n",
      "    \"word_embedding_file\": \"./data/tencent/word_embedding.txt\",\n",
      "    \"word_vocab_file\": \"./data/tencent/tencent_vocab.txt\",\n",
      "    \"train_file\": \"./data/ccks/subtask1_train.json\",\n",
      "    \"eval_file\": \"./data/ccks/subtask1_test.json\",\n",
      "    \"test_file\": \"./data/ccks/subtask1_test.json\",\n",
      "    \"tag_file\": \"data/ccks/ccks_tags_list.txt\",\n",
      "    \"inter_knowledge_file\": \"./data/tencent/THUOCL_FN_medical.txt\",\n",
      "    \"bert_vocab_file\": \"./model/chinese_wwm_ext/vocab.txt\",\n",
      "    \"output_eval\": true,\n",
      "    \"max_scan_num\": 1000000,\n",
      "    \"inter_max_scan_num\": 20000,\n",
      "    \"add_seq_vocab\": false,\n",
      "    \"max_seq_length\": 150,\n",
      "    \"max_word_num\": 5,\n",
      "    \"default_tag\": \"O\",\n",
      "    \"use_test\": false,\n",
      "    \"do_shuffle\": true,\n",
      "    \"do_predict\": false,\n",
      "    \"task_name\": \"ccks_v1_ZLEBert_crf_1\"\n",
      "}\n"
     ]
    },
    {
     "name": "stderr",
     "output_type": "stream",
     "text": [
      "calculate ./data/ccks/subtask1_train.json etag: 100%|██████████| 4.95M/4.95M [00:00<00:00, 304MB/s]\n",
      "calculate ./data/ccks/subtask1_test.json etag: 100%|██████████| 1.57M/1.57M [00:00<00:00, 214MB/s]\n",
      "calculate ./data/ccks/subtask1_test.json etag: 100%|██████████| 1.57M/1.57M [00:00<00:00, 322MB/s]\n",
      "calculate data/ccks/ccks_tags_list.txt etag: 100%|██████████| 85.0/85.0 [00:00<00:00, 146kB/s]"
     ]
    },
    {
     "name": "stdout",
     "output_type": "stream",
     "text": [
      "load cached ./temp/c55a6e9342a983cfaa98d71c0e69617d_cda3479a91a9c4fc8b0c534e972e99e8_cda3479a91a9c4fc8b0c534e972e99e8_9c02c6b5f9f31c0f8b66d34ba80dcf4e/1000000/lexicon_tree\n"
     ]
    },
    {
     "name": "stderr",
     "output_type": "stream",
     "text": [
      "\n"
     ]
    },
    {
     "name": "stdout",
     "output_type": "stream",
     "text": [
      "load cached ./temp/c55a6e9342a983cfaa98d71c0e69617d_cda3479a91a9c4fc8b0c534e972e99e8_cda3479a91a9c4fc8b0c534e972e99e8_9c02c6b5f9f31c0f8b66d34ba80dcf4e/1000000/matched_words\n",
      "load cached ./temp/c55a6e9342a983cfaa98d71c0e69617d_cda3479a91a9c4fc8b0c534e972e99e8_cda3479a91a9c4fc8b0c534e972e99e8_9c02c6b5f9f31c0f8b66d34ba80dcf4e/1000000/word_vocab\n"
     ]
    },
    {
     "name": "stderr",
     "output_type": "stream",
     "text": [
      "count line size data/ccks/ccks_tags_list.txt: 13L [00:00, 31390.88L/s]\n",
      "build line mapper: 13L [00:00, 17784.07L/s]3 [00:00<?, ?it/s]\n",
      "load vocab from files: 100%|██████████| 13/13 [00:00<00:00, 3361.23it/s]\n",
      "load vocab from list: 100%|██████████| 13/13 [00:00<00:00, 124773.35it/s]"
     ]
    },
    {
     "name": "stdout",
     "output_type": "stream",
     "text": [
      "load cached ./temp/c55a6e9342a983cfaa98d71c0e69617d_cda3479a91a9c4fc8b0c534e972e99e8_cda3479a91a9c4fc8b0c534e972e99e8_9c02c6b5f9f31c0f8b66d34ba80dcf4e/1000000/vocab_embedding\n",
      "load cached ./temp/c55a6e9342a983cfaa98d71c0e69617d_cda3479a91a9c4fc8b0c534e972e99e8_cda3479a91a9c4fc8b0c534e972e99e8_9c02c6b5f9f31c0f8b66d34ba80dcf4e/1000000/inter_lexicon_tree\n"
     ]
    },
    {
     "name": "stderr",
     "output_type": "stream",
     "text": [
      "\n",
      "/home/zl/anaconda3/envs/NER/lib/python3.7/site-packages/transformers/tokenization_utils_base.py:1643: FutureWarning: Calling BertTokenizer.from_pretrained() with the path to a single file or url is deprecated and won't be possible anymore in v5. Use a model identifier or the path to a directory instead.\n",
      "  FutureWarning,\n"
     ]
    },
    {
     "name": "stdout",
     "output_type": "stream",
     "text": [
      "load cached ./temp/c55a6e9342a983cfaa98d71c0e69617d_cda3479a91a9c4fc8b0c534e972e99e8_cda3479a91a9c4fc8b0c534e972e99e8_9c02c6b5f9f31c0f8b66d34ba80dcf4e/1000000/inter_matched_words\n",
      "load cached ./temp/c55a6e9342a983cfaa98d71c0e69617d_cda3479a91a9c4fc8b0c534e972e99e8_cda3479a91a9c4fc8b0c534e972e99e8_9c02c6b5f9f31c0f8b66d34ba80dcf4e/1000000/inter_word_vocab\n",
      "load cached ./temp/c55a6e9342a983cfaa98d71c0e69617d_cda3479a91a9c4fc8b0c534e972e99e8_cda3479a91a9c4fc8b0c534e972e99e8_9c02c6b5f9f31c0f8b66d34ba80dcf4e/1000000/inter_embedding\n"
     ]
    },
    {
     "name": "stderr",
     "output_type": "stream",
     "text": [
      "load dataset from ./data/ccks/subtask1_train.json: 100%|██████████| 1000/1000 [00:05<00:00, 197.87it/s]\n",
      "load dataset from ./data/ccks/subtask1_test.json: 100%|██████████| 379/379 [00:01<00:00, 218.77it/s]\n"
     ]
    },
    {
     "name": "stdout",
     "output_type": "stream",
     "text": [
      "Load pretrained embedding from file.........\n"
     ]
    },
    {
     "name": "stderr",
     "output_type": "stream",
     "text": [
      "Some weights of the model checkpoint at ./model/chinese_wwm_ext/pytorch_model.bin were not used when initializing ZLEBertModel: ['cls.seq_relationship.bias', 'cls.predictions.transform.LayerNorm.weight', 'cls.predictions.transform.dense.weight', 'cls.predictions.bias', 'cls.predictions.decoder.weight', 'cls.predictions.transform.LayerNorm.bias', 'cls.predictions.transform.dense.bias', 'cls.seq_relationship.weight']\n",
      "- This IS expected if you are initializing ZLEBertModel from the checkpoint of a model trained on another task or with another architecture (e.g. initializing a BertForSequenceClassification model from a BertForPreTraining model).\n",
      "- This IS NOT expected if you are initializing ZLEBertModel from the checkpoint of a model that you expect to be exactly identical (initializing a BertForSequenceClassification model from a BertForSequenceClassification model).\n",
      "Some weights of ZLEBertModel were not initialized from the model checkpoint at ./model/chinese_wwm_ext/pytorch_model.bin and are newly initialized: ['bert.encoder.layer.0.fuse_layernorm.bias', 'bert.embeddings.position_ids', 'bert.encoder.layer.0.fuse_layernorm.weight', 'inter_word_embeddings.weight', 'bert.encoder.layer.0.word_word_weight.weight', 'bert.encoder.layer.0.word_word_weight.bias', 'bert.encoder.layer.0.word_transform.weight', 'word_embeddings.weight', 'bert.encoder.layer.0.attn_W', 'bert.encoder.layer.0.word_transform.bias']\n",
      "You should probably TRAIN this model on a down-stream task to be able to use it for predictions and inference.\n",
      "Epoch: 1/30 Train:  22%|██▏       | 27/125 [00:10<00:38,  2.57it/s, F1=0.0156, train_acc=0.229, train_loss=438, train_precision=0.0667, train_recall=0.0367]      /home/zl/anaconda3/envs/NER/lib/python3.7/site-packages/seqeval/metrics/v1.py:57: UndefinedMetricWarning: Precision is ill-defined and being set to 0.0 due to no predicted samples. Use `zero_division` parameter to control this behavior.\n",
      "  _warn_prf(average, modifier, msg_start, len(result))\n",
      "Epoch: 1/30 Train: 100%|██████████| 125/125 [00:48<00:00,  2.60it/s, F1=0.198, train_acc=0.723, train_loss=154, train_precision=0.182, train_recall=0.252]  \n",
      "Eval Result: 100%|██████████| 6/6 [00:03<00:00,  1.86it/s, F1=0.577, eval_acc=0.942, eval_loss=28.7, eval_precision=0.51, eval_recall=0.668] \n",
      "Epoch: 2/30 Train: 100%|██████████| 125/125 [00:47<00:00,  2.65it/s, F1=0.591, train_acc=0.941, train_loss=24.3, train_precision=0.547, train_recall=0.646]\n",
      "Eval Result: 100%|██████████| 6/6 [00:03<00:00,  1.95it/s, F1=0.711, eval_acc=0.96, eval_loss=17.7, eval_precision=0.669, eval_recall=0.76]  \n",
      "Epoch: 3/30 Train: 100%|██████████| 125/125 [00:45<00:00,  2.76it/s, F1=0.715, train_acc=0.956, train_loss=16.4, train_precision=0.691, train_recall=0.744]\n",
      "Eval Result: 100%|██████████| 6/6 [00:03<00:00,  1.93it/s, F1=0.74, eval_acc=0.96, eval_loss=17.5, eval_precision=0.71, eval_recall=0.773]   \n",
      "Epoch: 4/30 Train: 100%|██████████| 125/125 [00:45<00:00,  2.75it/s, F1=0.768, train_acc=0.962, train_loss=13.2, train_precision=0.754, train_recall=0.785]\n",
      "Eval Result: 100%|██████████| 6/6 [00:03<00:00,  1.92it/s, F1=0.766, eval_acc=0.962, eval_loss=18.4, eval_precision=0.746, eval_recall=0.788]\n",
      "Epoch: 5/30 Train: 100%|██████████| 125/125 [00:44<00:00,  2.78it/s, F1=0.806, train_acc=0.968, train_loss=10, train_precision=0.798, train_recall=0.814]  \n",
      "Eval Result: 100%|██████████| 6/6 [00:03<00:00,  1.93it/s, F1=0.799, eval_acc=0.964, eval_loss=16.6, eval_precision=0.791, eval_recall=0.809]\n",
      "Epoch: 6/30 Train: 100%|██████████| 125/125 [00:46<00:00,  2.71it/s, F1=0.825, train_acc=0.972, train_loss=8.23, train_precision=0.82, train_recall=0.832] \n",
      "Eval Result: 100%|██████████| 6/6 [00:03<00:00,  1.76it/s, F1=0.786, eval_acc=0.958, eval_loss=16.6, eval_precision=0.776, eval_recall=0.796]\n",
      "Epoch: 7/30 Train: 100%|██████████| 125/125 [00:46<00:00,  2.71it/s, F1=0.855, train_acc=0.975, train_loss=6.61, train_precision=0.852, train_recall=0.859]\n",
      "Eval Result: 100%|██████████| 6/6 [00:03<00:00,  1.94it/s, F1=0.8, eval_acc=0.96, eval_loss=16.9, eval_precision=0.794, eval_recall=0.806]  \n",
      "Epoch: 8/30 Train: 100%|██████████| 125/125 [00:44<00:00,  2.78it/s, F1=0.874, train_acc=0.981, train_loss=5.26, train_precision=0.872, train_recall=0.877]\n",
      "Eval Result: 100%|██████████| 6/6 [00:03<00:00,  1.91it/s, F1=0.796, eval_acc=0.961, eval_loss=17.7, eval_precision=0.783, eval_recall=0.81] \n",
      "Epoch: 9/30 Train: 100%|██████████| 125/125 [00:45<00:00,  2.76it/s, F1=0.884, train_acc=0.981, train_loss=4.69, train_precision=0.883, train_recall=0.886]\n",
      "Eval Result: 100%|██████████| 6/6 [00:03<00:00,  1.90it/s, F1=0.766, eval_acc=0.95, eval_loss=21, eval_precision=0.747, eval_recall=0.786]   \n",
      "Epoch: 10/30 Train: 100%|██████████| 125/125 [00:45<00:00,  2.77it/s, F1=0.901, train_acc=0.986, train_loss=3.78, train_precision=0.898, train_recall=0.905]\n",
      "Eval Result: 100%|██████████| 6/6 [00:03<00:00,  1.96it/s, F1=0.79, eval_acc=0.956, eval_loss=17.3, eval_precision=0.775, eval_recall=0.807] \n",
      "Epoch: 11/30 Train: 100%|██████████| 125/125 [00:45<00:00,  2.75it/s, F1=0.915, train_acc=0.988, train_loss=3.02, train_precision=0.914, train_recall=0.916]\n",
      "Eval Result: 100%|██████████| 6/6 [00:03<00:00,  1.90it/s, F1=0.777, eval_acc=0.95, eval_loss=21.3, eval_precision=0.755, eval_recall=0.801] \n",
      "Epoch: 12/30 Train: 100%|██████████| 125/125 [00:44<00:00,  2.79it/s, F1=0.915, train_acc=0.989, train_loss=2.89, train_precision=0.914, train_recall=0.916]\n",
      "Eval Result: 100%|██████████| 6/6 [00:03<00:00,  1.88it/s, F1=0.79, eval_acc=0.958, eval_loss=18.9, eval_precision=0.768, eval_recall=0.814] \n",
      "Epoch: 13/30 Train: 100%|██████████| 125/125 [00:44<00:00,  2.79it/s, F1=0.916, train_acc=0.987, train_loss=3.41, train_precision=0.913, train_recall=0.92] \n",
      "Eval Result: 100%|██████████| 6/6 [00:03<00:00,  1.88it/s, F1=0.777, eval_acc=0.952, eval_loss=19.6, eval_precision=0.767, eval_recall=0.787]\n",
      "Epoch: 14/30 Train: 100%|██████████| 125/125 [00:44<00:00,  2.81it/s, F1=0.924, train_acc=0.988, train_loss=2.85, train_precision=0.921, train_recall=0.927]\n",
      "Eval Result: 100%|██████████| 6/6 [00:03<00:00,  1.94it/s, F1=0.778, eval_acc=0.95, eval_loss=22.1, eval_precision=0.774, eval_recall=0.781] \n",
      "Epoch: 15/30 Train: 100%|██████████| 125/125 [00:45<00:00,  2.76it/s, F1=0.928, train_acc=0.989, train_loss=2.84, train_precision=0.926, train_recall=0.93] \n",
      "Eval Result: 100%|██████████| 6/6 [00:03<00:00,  1.90it/s, F1=0.799, eval_acc=0.965, eval_loss=19, eval_precision=0.791, eval_recall=0.809]  \n",
      "Epoch: 16/30 Train: 100%|██████████| 125/125 [00:45<00:00,  2.76it/s, F1=0.926, train_acc=0.988, train_loss=3.04, train_precision=0.924, train_recall=0.928]\n",
      "Eval Result: 100%|██████████| 6/6 [00:03<00:00,  1.91it/s, F1=0.773, eval_acc=0.951, eval_loss=22.4, eval_precision=0.769, eval_recall=0.776]\n",
      "Epoch: 17/30 Train: 100%|██████████| 125/125 [00:45<00:00,  2.76it/s, F1=0.928, train_acc=0.989, train_loss=2.75, train_precision=0.924, train_recall=0.932]\n",
      "Eval Result: 100%|██████████| 6/6 [00:03<00:00,  1.92it/s, F1=0.816, eval_acc=0.967, eval_loss=18.3, eval_precision=0.813, eval_recall=0.819]\n",
      "Epoch: 18/30 Train: 100%|██████████| 125/125 [00:44<00:00,  2.82it/s, F1=0.935, train_acc=0.99, train_loss=2.77, train_precision=0.934, train_recall=0.937] \n",
      "Eval Result: 100%|██████████| 6/6 [00:03<00:00,  1.85it/s, F1=0.815, eval_acc=0.968, eval_loss=19.9, eval_precision=0.813, eval_recall=0.816]\n",
      "Epoch: 19/30 Train: 100%|██████████| 125/125 [00:45<00:00,  2.74it/s, F1=0.93, train_acc=0.988, train_loss=3.03, train_precision=0.928, train_recall=0.932] \n",
      "Eval Result: 100%|██████████| 6/6 [00:03<00:00,  1.94it/s, F1=0.808, eval_acc=0.966, eval_loss=21.2, eval_precision=0.805, eval_recall=0.812]\n",
      "Epoch: 20/30 Train: 100%|██████████| 125/125 [00:38<00:00,  3.26it/s, F1=0.943, train_acc=0.991, train_loss=2.46, train_precision=0.943, train_recall=0.944]\n",
      "Eval Result: 100%|██████████| 6/6 [00:02<00:00,  2.26it/s, F1=0.811, eval_acc=0.967, eval_loss=20.9, eval_precision=0.794, eval_recall=0.828]\n",
      "Epoch: 21/30 Train: 100%|██████████| 125/125 [00:36<00:00,  3.44it/s, F1=0.954, train_acc=0.993, train_loss=1.7, train_precision=0.954, train_recall=0.955] \n",
      "Eval Result: 100%|██████████| 6/6 [00:03<00:00,  1.91it/s, F1=0.804, eval_acc=0.966, eval_loss=21.8, eval_precision=0.79, eval_recall=0.818] \n",
      "Epoch: 22/30 Train: 100%|██████████| 125/125 [00:38<00:00,  3.28it/s, F1=0.967, train_acc=0.995, train_loss=1.18, train_precision=0.966, train_recall=0.968]\n",
      "Eval Result: 100%|██████████| 6/6 [00:02<00:00,  2.24it/s, F1=0.805, eval_acc=0.965, eval_loss=22.2, eval_precision=0.793, eval_recall=0.819]\n",
      "Epoch: 23/30 Train: 100%|██████████| 125/125 [00:39<00:00,  3.14it/s, F1=0.969, train_acc=0.996, train_loss=0.998, train_precision=0.969, train_recall=0.969]\n",
      "Eval Result: 100%|██████████| 6/6 [00:03<00:00,  1.98it/s, F1=0.806, eval_acc=0.966, eval_loss=23.5, eval_precision=0.795, eval_recall=0.817]\n",
      "Epoch: 24/30 Train: 100%|██████████| 125/125 [00:41<00:00,  3.02it/s, F1=0.966, train_acc=0.994, train_loss=1.58, train_precision=0.965, train_recall=0.967]\n",
      "Eval Result: 100%|██████████| 6/6 [00:02<00:00,  2.04it/s, F1=0.799, eval_acc=0.963, eval_loss=22.6, eval_precision=0.786, eval_recall=0.813]\n",
      "Epoch: 25/30 Train: 100%|██████████| 125/125 [00:40<00:00,  3.09it/s, F1=0.966, train_acc=0.995, train_loss=1.32, train_precision=0.964, train_recall=0.968]\n",
      "Eval Result: 100%|██████████| 6/6 [00:02<00:00,  2.10it/s, F1=0.804, eval_acc=0.964, eval_loss=21.3, eval_precision=0.797, eval_recall=0.811]\n",
      "Epoch: 26/30 Train: 100%|██████████| 125/125 [00:40<00:00,  3.11it/s, F1=0.972, train_acc=0.996, train_loss=1.13, train_precision=0.972, train_recall=0.973]\n",
      "Eval Result: 100%|██████████| 6/6 [00:02<00:00,  2.02it/s, F1=0.805, eval_acc=0.967, eval_loss=20.8, eval_precision=0.803, eval_recall=0.809]\n",
      "Epoch: 27/30 Train: 100%|██████████| 125/125 [00:40<00:00,  3.06it/s, F1=0.973, train_acc=0.996, train_loss=0.855, train_precision=0.973, train_recall=0.974]\n",
      "Eval Result: 100%|██████████| 6/6 [00:02<00:00,  2.02it/s, F1=0.794, eval_acc=0.961, eval_loss=24.9, eval_precision=0.771, eval_recall=0.817]\n",
      "Epoch: 28/30 Train: 100%|██████████| 125/125 [00:41<00:00,  3.02it/s, F1=0.973, train_acc=0.996, train_loss=1.18, train_precision=0.972, train_recall=0.974]\n",
      "Eval Result: 100%|██████████| 6/6 [00:02<00:00,  2.03it/s, F1=0.798, eval_acc=0.964, eval_loss=21.7, eval_precision=0.779, eval_recall=0.817]\n",
      "Epoch: 29/30 Train: 100%|██████████| 125/125 [00:41<00:00,  3.02it/s, F1=0.977, train_acc=0.997, train_loss=0.783, train_precision=0.978, train_recall=0.977]\n",
      "Eval Result: 100%|██████████| 6/6 [00:02<00:00,  2.02it/s, F1=0.803, eval_acc=0.966, eval_loss=23.7, eval_precision=0.796, eval_recall=0.811]\n",
      "Epoch: 30/30 Train: 100%|██████████| 125/125 [00:40<00:00,  3.05it/s, F1=0.975, train_acc=0.997, train_loss=0.911, train_precision=0.975, train_recall=0.977]\n",
      "Eval Result: 100%|██████████| 6/6 [00:02<00:00,  2.13it/s, F1=0.815, eval_acc=0.968, eval_loss=22, eval_precision=0.813, eval_recall=0.817] \n"
     ]
    }
   ],
   "source": [
    "os.environ['CUDA_VISIBLE_DEVICES']='1'\n",
    "from CC.trainer import NERTrainer\n",
    "\n",
    "args = {\n",
    "    'num_epochs': 30,\n",
    "    'num_gpus': [0],\n",
    "    'bert_config_file_name': './model/chinese_wwm_ext/bert_config.json',\n",
    "    'pretrained_file_name': './model/chinese_wwm_ext/pytorch_model.bin',\n",
    "    'hidden_dim': 300,\n",
    "    'max_seq_length': 150,\n",
    "    'max_scan_num': 1000000,\n",
    "    'inter_max_scan_num': 20000,\n",
    "    'train_file': './data/ccks/subtask1_train.json',\n",
    "    'eval_file': './data/ccks/subtask1_test.json',\n",
    "    'test_file': './data/ccks/subtask1_test.json',\n",
    "    'bert_vocab_file': './model/chinese_wwm_ext/vocab.txt',\n",
    "    'tag_file': 'data/ccks/ccks_tags_list.txt',\n",
    "    'loader_name': 'le_loader_zl',\n",
    "    'output_eval':True,\n",
    "    \"word_embedding_file\":\"./data/tencent/word_embedding.txt\",\n",
    "    \"word_vocab_file\":\"./data/tencent/tencent_vocab.txt\",\n",
    "    \"inter_knowledge_file\":\"./data/tencent/THUOCL_FN_medical.txt\",\n",
    "    \"default_tag\":\"O\",\n",
    "    'batch_size': 8,\n",
    "    'eval_batch_size': 64,\n",
    "    'do_shuffle': True,\n",
    "    \"use_gpu\": True,\n",
    "    \"debug\": True,\n",
    "    'model_name': 'ZLEBert',\n",
    "    'classify':'crf',\n",
    "    'task_name': 'ccks_v1_ZLEBert_crf_1'\n",
    "}\n",
    "\n",
    "# Trainer\n",
    "trainer = NERTrainer(**args)\n",
    "\n",
    "for i in trainer(lr2=1e-2):\n",
    "    a = i"
   ]
  },
  {
   "cell_type": "code",
   "execution_count": 2,
   "metadata": {},
   "outputs": [
    {
     "name": "stdout",
     "output_type": "stream",
     "text": [
      "kwargs parser: {\n",
      "    \"batch_size\": 8,\n",
      "    \"eval_batch_size\": 64,\n",
      "    \"test_batch_size\": 16,\n",
      "    \"word_embedding_file\": \"./data/tencent/word_embedding.txt\",\n",
      "    \"word_vocab_file\": \"./data/tencent/tencent_vocab.txt\",\n",
      "    \"train_file\": \"./data/ccks/subtask1_train.json\",\n",
      "    \"eval_file\": \"./data/ccks/subtask1_test.json\",\n",
      "    \"test_file\": \"./data/ccks/subtask1_test.json\",\n",
      "    \"tag_file\": \"data/ccks/ccks_tags_list.txt\",\n",
      "    \"inter_knowledge_file\": \"./data/tencent/THUOCL_FN_medical.txt\",\n",
      "    \"bert_vocab_file\": \"./model/chinese_wwm_ext/vocab.txt\",\n",
      "    \"output_eval\": true,\n",
      "    \"max_scan_num\": 1000000,\n",
      "    \"inter_max_scan_num\": 20000,\n",
      "    \"add_seq_vocab\": false,\n",
      "    \"max_seq_length\": 150,\n",
      "    \"max_word_num\": 5,\n",
      "    \"default_tag\": \"O\",\n",
      "    \"use_test\": false,\n",
      "    \"do_shuffle\": true,\n",
      "    \"do_predict\": false,\n",
      "    \"task_name\": \"ccks_v1_ZLEBert_crf_2\"\n",
      "}\n"
     ]
    },
    {
     "name": "stderr",
     "output_type": "stream",
     "text": [
      "calculate ./data/ccks/subtask1_train.json etag: 100%|██████████| 4.95M/4.95M [00:00<00:00, 266MB/s]\n",
      "calculate ./data/ccks/subtask1_test.json etag: 100%|██████████| 1.57M/1.57M [00:00<00:00, 344MB/s]\n",
      "calculate ./data/ccks/subtask1_test.json etag: 100%|██████████| 1.57M/1.57M [00:00<00:00, 336MB/s]\n",
      "calculate data/ccks/ccks_tags_list.txt etag: 100%|██████████| 85.0/85.0 [00:00<00:00, 275kB/s]\n"
     ]
    },
    {
     "name": "stdout",
     "output_type": "stream",
     "text": [
      "load cached ./temp/c55a6e9342a983cfaa98d71c0e69617d_cda3479a91a9c4fc8b0c534e972e99e8_cda3479a91a9c4fc8b0c534e972e99e8_9c02c6b5f9f31c0f8b66d34ba80dcf4e/1000000/lexicon_tree\n",
      "load cached ./temp/c55a6e9342a983cfaa98d71c0e69617d_cda3479a91a9c4fc8b0c534e972e99e8_cda3479a91a9c4fc8b0c534e972e99e8_9c02c6b5f9f31c0f8b66d34ba80dcf4e/1000000/matched_words\n",
      "load cached ./temp/c55a6e9342a983cfaa98d71c0e69617d_cda3479a91a9c4fc8b0c534e972e99e8_cda3479a91a9c4fc8b0c534e972e99e8_9c02c6b5f9f31c0f8b66d34ba80dcf4e/1000000/word_vocab\n"
     ]
    },
    {
     "name": "stderr",
     "output_type": "stream",
     "text": [
      "count line size data/ccks/ccks_tags_list.txt: 13L [00:00, 38210.20L/s]\n",
      "build line mapper: 13L [00:00, 31645.94L/s]3 [00:00<?, ?it/s]\n",
      "load vocab from files: 100%|██████████| 13/13 [00:00<00:00, 3509.43it/s]\n",
      "load vocab from list: 100%|██████████| 13/13 [00:00<00:00, 132666.55it/s]"
     ]
    },
    {
     "name": "stdout",
     "output_type": "stream",
     "text": [
      "load cached ./temp/c55a6e9342a983cfaa98d71c0e69617d_cda3479a91a9c4fc8b0c534e972e99e8_cda3479a91a9c4fc8b0c534e972e99e8_9c02c6b5f9f31c0f8b66d34ba80dcf4e/1000000/vocab_embedding\n",
      "load cached ./temp/c55a6e9342a983cfaa98d71c0e69617d_cda3479a91a9c4fc8b0c534e972e99e8_cda3479a91a9c4fc8b0c534e972e99e8_9c02c6b5f9f31c0f8b66d34ba80dcf4e/1000000/inter_lexicon_tree\n"
     ]
    },
    {
     "name": "stderr",
     "output_type": "stream",
     "text": [
      "\n"
     ]
    },
    {
     "name": "stdout",
     "output_type": "stream",
     "text": [
      "load cached ./temp/c55a6e9342a983cfaa98d71c0e69617d_cda3479a91a9c4fc8b0c534e972e99e8_cda3479a91a9c4fc8b0c534e972e99e8_9c02c6b5f9f31c0f8b66d34ba80dcf4e/1000000/inter_matched_words\n",
      "load cached ./temp/c55a6e9342a983cfaa98d71c0e69617d_cda3479a91a9c4fc8b0c534e972e99e8_cda3479a91a9c4fc8b0c534e972e99e8_9c02c6b5f9f31c0f8b66d34ba80dcf4e/1000000/inter_word_vocab\n",
      "load cached ./temp/c55a6e9342a983cfaa98d71c0e69617d_cda3479a91a9c4fc8b0c534e972e99e8_cda3479a91a9c4fc8b0c534e972e99e8_9c02c6b5f9f31c0f8b66d34ba80dcf4e/1000000/inter_embedding\n"
     ]
    },
    {
     "name": "stderr",
     "output_type": "stream",
     "text": [
      "load dataset from ./data/ccks/subtask1_train.json: 100%|██████████| 1000/1000 [00:04<00:00, 238.76it/s]\n",
      "load dataset from ./data/ccks/subtask1_test.json: 100%|██████████| 379/379 [00:01<00:00, 233.25it/s]\n"
     ]
    },
    {
     "name": "stdout",
     "output_type": "stream",
     "text": [
      "Load pretrained embedding from file.........\n"
     ]
    },
    {
     "name": "stderr",
     "output_type": "stream",
     "text": [
      "Some weights of the model checkpoint at ./model/chinese_wwm_ext/pytorch_model.bin were not used when initializing ZLEBertModel: ['cls.seq_relationship.bias', 'cls.predictions.transform.LayerNorm.weight', 'cls.predictions.transform.dense.weight', 'cls.predictions.bias', 'cls.predictions.decoder.weight', 'cls.predictions.transform.LayerNorm.bias', 'cls.predictions.transform.dense.bias', 'cls.seq_relationship.weight']\n",
      "- This IS expected if you are initializing ZLEBertModel from the checkpoint of a model trained on another task or with another architecture (e.g. initializing a BertForSequenceClassification model from a BertForPreTraining model).\n",
      "- This IS NOT expected if you are initializing ZLEBertModel from the checkpoint of a model that you expect to be exactly identical (initializing a BertForSequenceClassification model from a BertForSequenceClassification model).\n",
      "Some weights of ZLEBertModel were not initialized from the model checkpoint at ./model/chinese_wwm_ext/pytorch_model.bin and are newly initialized: ['bert.encoder.layer.0.fuse_layernorm.bias', 'bert.embeddings.position_ids', 'bert.encoder.layer.0.fuse_layernorm.weight', 'inter_word_embeddings.weight', 'bert.encoder.layer.0.word_word_weight.weight', 'bert.encoder.layer.0.word_word_weight.bias', 'bert.encoder.layer.0.word_transform.weight', 'word_embeddings.weight', 'bert.encoder.layer.0.attn_W', 'bert.encoder.layer.0.word_transform.bias']\n",
      "You should probably TRAIN this model on a down-stream task to be able to use it for predictions and inference.\n",
      "Epoch: 1/30 Train: 100%|██████████| 125/125 [00:40<00:00,  3.09it/s, F1=0.287, train_acc=0.761, train_loss=124, train_precision=0.287, train_recall=0.294]        \n",
      "Eval Result: 100%|██████████| 6/6 [00:02<00:00,  2.00it/s, F1=0.685, eval_acc=0.953, eval_loss=23, eval_precision=0.663, eval_recall=0.708]  \n",
      "Epoch: 2/30 Train: 100%|██████████| 125/125 [00:41<00:00,  3.03it/s, F1=0.666, train_acc=0.946, train_loss=19.8, train_precision=0.653, train_recall=0.682]\n",
      "Eval Result: 100%|██████████| 6/6 [00:02<00:00,  2.03it/s, F1=0.767, eval_acc=0.965, eval_loss=14.5, eval_precision=0.743, eval_recall=0.792]\n",
      "Epoch: 3/30 Train: 100%|██████████| 125/125 [00:41<00:00,  3.00it/s, F1=0.76, train_acc=0.96, train_loss=12.5, train_precision=0.752, train_recall=0.769]  \n",
      "Eval Result: 100%|██████████| 6/6 [00:02<00:00,  2.03it/s, F1=0.791, eval_acc=0.966, eval_loss=13.6, eval_precision=0.778, eval_recall=0.804]\n",
      "Epoch: 4/30 Train: 100%|██████████| 125/125 [00:41<00:00,  3.03it/s, F1=0.798, train_acc=0.966, train_loss=9.74, train_precision=0.795, train_recall=0.803]\n",
      "Eval Result: 100%|██████████| 6/6 [00:03<00:00,  1.99it/s, F1=0.778, eval_acc=0.961, eval_loss=15.4, eval_precision=0.774, eval_recall=0.783]\n",
      "Epoch: 5/30 Train: 100%|██████████| 125/125 [00:41<00:00,  3.03it/s, F1=0.829, train_acc=0.971, train_loss=7.84, train_precision=0.827, train_recall=0.832]\n",
      "Eval Result: 100%|██████████| 6/6 [00:03<00:00,  2.00it/s, F1=0.791, eval_acc=0.963, eval_loss=15.1, eval_precision=0.787, eval_recall=0.795]\n",
      "Epoch: 6/30 Train: 100%|██████████| 125/125 [00:42<00:00,  2.96it/s, F1=0.846, train_acc=0.974, train_loss=7.1, train_precision=0.845, train_recall=0.847] \n",
      "Eval Result: 100%|██████████| 6/6 [00:02<00:00,  2.02it/s, F1=0.796, eval_acc=0.965, eval_loss=14.3, eval_precision=0.779, eval_recall=0.813]\n",
      "Epoch: 7/30 Train: 100%|██████████| 125/125 [00:41<00:00,  3.04it/s, F1=0.855, train_acc=0.975, train_loss=6.63, train_precision=0.854, train_recall=0.857]\n",
      "Eval Result: 100%|██████████| 6/6 [00:02<00:00,  2.04it/s, F1=0.809, eval_acc=0.966, eval_loss=13.3, eval_precision=0.796, eval_recall=0.823]\n",
      "Epoch: 8/30 Train: 100%|██████████| 125/125 [00:40<00:00,  3.09it/s, F1=0.874, train_acc=0.978, train_loss=5.31, train_precision=0.874, train_recall=0.875]\n",
      "Eval Result: 100%|██████████| 6/6 [00:02<00:00,  2.06it/s, F1=0.81, eval_acc=0.965, eval_loss=13.2, eval_precision=0.79, eval_recall=0.83]   \n",
      "Epoch: 9/30 Train: 100%|██████████| 125/125 [00:40<00:00,  3.08it/s, F1=0.886, train_acc=0.98, train_loss=4.74, train_precision=0.886, train_recall=0.887]\n",
      "Eval Result: 100%|██████████| 6/6 [00:02<00:00,  2.11it/s, F1=0.796, eval_acc=0.965, eval_loss=16, eval_precision=0.782, eval_recall=0.812]  \n",
      "Epoch: 10/30 Train: 100%|██████████| 125/125 [00:41<00:00,  3.04it/s, F1=0.893, train_acc=0.983, train_loss=4.13, train_precision=0.893, train_recall=0.893]\n",
      "Eval Result: 100%|██████████| 6/6 [00:02<00:00,  2.04it/s, F1=0.791, eval_acc=0.961, eval_loss=16, eval_precision=0.773, eval_recall=0.81]   \n",
      "Epoch: 11/30 Train: 100%|██████████| 125/125 [00:41<00:00,  3.02it/s, F1=0.91, train_acc=0.987, train_loss=3.19, train_precision=0.91, train_recall=0.911]  \n",
      "Eval Result: 100%|██████████| 6/6 [00:02<00:00,  2.04it/s, F1=0.793, eval_acc=0.963, eval_loss=17.3, eval_precision=0.78, eval_recall=0.807] \n",
      "Epoch: 12/30 Train: 100%|██████████| 125/125 [00:40<00:00,  3.09it/s, F1=0.915, train_acc=0.987, train_loss=3.24, train_precision=0.915, train_recall=0.916]\n",
      "Eval Result: 100%|██████████| 6/6 [00:02<00:00,  2.06it/s, F1=0.814, eval_acc=0.968, eval_loss=16.3, eval_precision=0.805, eval_recall=0.823]\n",
      "Epoch: 13/30 Train: 100%|██████████| 125/125 [00:41<00:00,  3.05it/s, F1=0.925, train_acc=0.988, train_loss=2.71, train_precision=0.924, train_recall=0.926]\n",
      "Eval Result: 100%|██████████| 6/6 [00:03<00:00,  1.97it/s, F1=0.818, eval_acc=0.969, eval_loss=15.4, eval_precision=0.815, eval_recall=0.822]\n",
      "Epoch: 14/30 Train: 100%|██████████| 125/125 [00:41<00:00,  3.05it/s, F1=0.936, train_acc=0.991, train_loss=2.11, train_precision=0.935, train_recall=0.938]\n",
      "Eval Result: 100%|██████████| 6/6 [00:02<00:00,  2.04it/s, F1=0.822, eval_acc=0.967, eval_loss=17.4, eval_precision=0.829, eval_recall=0.817]\n",
      "Epoch: 15/30 Train: 100%|██████████| 125/125 [00:41<00:00,  3.05it/s, F1=0.946, train_acc=0.992, train_loss=1.88, train_precision=0.945, train_recall=0.947]\n",
      "Eval Result: 100%|██████████| 6/6 [00:02<00:00,  2.08it/s, F1=0.826, eval_acc=0.969, eval_loss=17.3, eval_precision=0.824, eval_recall=0.828]\n",
      "Epoch: 16/30 Train: 100%|██████████| 125/125 [00:41<00:00,  2.98it/s, F1=0.944, train_acc=0.992, train_loss=2.09, train_precision=0.944, train_recall=0.944]\n",
      "Eval Result: 100%|██████████| 6/6 [00:02<00:00,  2.03it/s, F1=0.82, eval_acc=0.969, eval_loss=17.7, eval_precision=0.816, eval_recall=0.824] \n",
      "Epoch: 17/30 Train: 100%|██████████| 125/125 [00:41<00:00,  3.04it/s, F1=0.948, train_acc=0.992, train_loss=2.14, train_precision=0.947, train_recall=0.95] \n",
      "Eval Result: 100%|██████████| 6/6 [00:02<00:00,  2.04it/s, F1=0.817, eval_acc=0.968, eval_loss=16.1, eval_precision=0.809, eval_recall=0.825]\n",
      "Epoch: 18/30 Train: 100%|██████████| 125/125 [00:41<00:00,  3.04it/s, F1=0.955, train_acc=0.993, train_loss=1.55, train_precision=0.955, train_recall=0.956]\n",
      "Eval Result: 100%|██████████| 6/6 [00:02<00:00,  2.07it/s, F1=0.809, eval_acc=0.966, eval_loss=17.4, eval_precision=0.789, eval_recall=0.83] \n",
      "Epoch: 19/30 Train: 100%|██████████| 125/125 [00:41<00:00,  3.03it/s, F1=0.963, train_acc=0.995, train_loss=1.27, train_precision=0.963, train_recall=0.964]\n",
      "Eval Result: 100%|██████████| 6/6 [00:02<00:00,  2.08it/s, F1=0.813, eval_acc=0.967, eval_loss=18.8, eval_precision=0.807, eval_recall=0.821]\n",
      "Epoch: 20/30 Train: 100%|██████████| 125/125 [00:40<00:00,  3.05it/s, F1=0.962, train_acc=0.994, train_loss=1.44, train_precision=0.962, train_recall=0.963]\n",
      "Eval Result: 100%|██████████| 6/6 [00:02<00:00,  2.08it/s, F1=0.808, eval_acc=0.963, eval_loss=19.8, eval_precision=0.799, eval_recall=0.817]\n",
      "Epoch: 21/30 Train: 100%|██████████| 125/125 [00:40<00:00,  3.09it/s, F1=0.961, train_acc=0.994, train_loss=1.45, train_precision=0.96, train_recall=0.962] \n",
      "Eval Result: 100%|██████████| 6/6 [00:02<00:00,  2.04it/s, F1=0.798, eval_acc=0.961, eval_loss=19.2, eval_precision=0.779, eval_recall=0.817]\n",
      "Epoch: 22/30 Train: 100%|██████████| 125/125 [00:41<00:00,  3.01it/s, F1=0.955, train_acc=0.993, train_loss=1.55, train_precision=0.955, train_recall=0.957]\n",
      "Eval Result: 100%|██████████| 6/6 [00:03<00:00,  1.92it/s, F1=0.793, eval_acc=0.961, eval_loss=19.6, eval_precision=0.791, eval_recall=0.796]\n",
      "Epoch: 23/30 Train: 100%|██████████| 125/125 [00:40<00:00,  3.06it/s, F1=0.954, train_acc=0.993, train_loss=1.97, train_precision=0.954, train_recall=0.954]\n",
      "Eval Result: 100%|██████████| 6/6 [00:02<00:00,  2.03it/s, F1=0.816, eval_acc=0.968, eval_loss=18.8, eval_precision=0.806, eval_recall=0.827]\n",
      "Epoch: 24/30 Train: 100%|██████████| 125/125 [00:40<00:00,  3.07it/s, F1=0.964, train_acc=0.994, train_loss=1.71, train_precision=0.963, train_recall=0.965]\n",
      "Eval Result: 100%|██████████| 6/6 [00:02<00:00,  2.01it/s, F1=0.809, eval_acc=0.966, eval_loss=17.5, eval_precision=0.791, eval_recall=0.827]\n",
      "Epoch: 25/30 Train: 100%|██████████| 125/125 [00:40<00:00,  3.06it/s, F1=0.961, train_acc=0.994, train_loss=1.45, train_precision=0.96, train_recall=0.963] \n",
      "Eval Result: 100%|██████████| 6/6 [00:02<00:00,  2.06it/s, F1=0.806, eval_acc=0.966, eval_loss=19.9, eval_precision=0.789, eval_recall=0.824]\n",
      "Epoch: 26/30 Train: 100%|██████████| 125/125 [00:40<00:00,  3.08it/s, F1=0.97, train_acc=0.995, train_loss=1.06, train_precision=0.97, train_recall=0.97]   \n",
      "Eval Result: 100%|██████████| 6/6 [00:02<00:00,  2.09it/s, F1=0.804, eval_acc=0.963, eval_loss=22.8, eval_precision=0.786, eval_recall=0.824]\n",
      "Epoch: 27/30 Train: 100%|██████████| 125/125 [00:41<00:00,  2.99it/s, F1=0.968, train_acc=0.995, train_loss=1.18, train_precision=0.967, train_recall=0.969]\n",
      "Eval Result: 100%|██████████| 6/6 [00:02<00:00,  2.06it/s, F1=0.809, eval_acc=0.966, eval_loss=21, eval_precision=0.787, eval_recall=0.833]  \n",
      "Epoch: 28/30 Train: 100%|██████████| 125/125 [00:40<00:00,  3.06it/s, F1=0.972, train_acc=0.996, train_loss=1.05, train_precision=0.971, train_recall=0.973]\n",
      "Eval Result: 100%|██████████| 6/6 [00:02<00:00,  2.04it/s, F1=0.808, eval_acc=0.967, eval_loss=21.1, eval_precision=0.786, eval_recall=0.831]\n",
      "Epoch: 29/30 Train: 100%|██████████| 125/125 [00:41<00:00,  3.00it/s, F1=0.974, train_acc=0.996, train_loss=1.02, train_precision=0.974, train_recall=0.975] \n",
      "Eval Result: 100%|██████████| 6/6 [00:02<00:00,  2.07it/s, F1=0.821, eval_acc=0.969, eval_loss=21.3, eval_precision=0.813, eval_recall=0.83] \n",
      "Epoch: 30/30 Train: 100%|██████████| 125/125 [00:41<00:00,  3.01it/s, F1=0.974, train_acc=0.995, train_loss=1.15, train_precision=0.972, train_recall=0.975]\n",
      "Eval Result: 100%|██████████| 6/6 [00:02<00:00,  2.07it/s, F1=0.811, eval_acc=0.965, eval_loss=21.8, eval_precision=0.809, eval_recall=0.814]\n"
     ]
    }
   ],
   "source": [
    "args[\"task_name\"] = \"ccks_v1_ZLEBert_crf_2\"\n",
    "\n",
    "trainer = NERTrainer(**args)\n",
    "\n",
    "for i in trainer(lr2=1e-2):\n",
    "    a = i"
   ]
  },
  {
   "cell_type": "code",
   "execution_count": 3,
   "metadata": {},
   "outputs": [
    {
     "name": "stdout",
     "output_type": "stream",
     "text": [
      "kwargs parser: {\n",
      "    \"batch_size\": 8,\n",
      "    \"eval_batch_size\": 64,\n",
      "    \"test_batch_size\": 16,\n",
      "    \"word_embedding_file\": \"./data/tencent/word_embedding.txt\",\n",
      "    \"word_vocab_file\": \"./data/tencent/tencent_vocab.txt\",\n",
      "    \"train_file\": \"./data/ccks/subtask1_train.json\",\n",
      "    \"eval_file\": \"./data/ccks/subtask1_test.json\",\n",
      "    \"test_file\": \"./data/ccks/subtask1_test.json\",\n",
      "    \"tag_file\": \"data/ccks/ccks_tags_list.txt\",\n",
      "    \"inter_knowledge_file\": \"./data/tencent/THUOCL_FN_medical.txt\",\n",
      "    \"bert_vocab_file\": \"./model/chinese_wwm_ext/vocab.txt\",\n",
      "    \"output_eval\": true,\n",
      "    \"max_scan_num\": 1000000,\n",
      "    \"inter_max_scan_num\": 20000,\n",
      "    \"add_seq_vocab\": false,\n",
      "    \"max_seq_length\": 150,\n",
      "    \"max_word_num\": 5,\n",
      "    \"default_tag\": \"O\",\n",
      "    \"use_test\": false,\n",
      "    \"do_shuffle\": true,\n",
      "    \"do_predict\": false,\n",
      "    \"task_name\": \"ccks_v1_ZLEBert_crf_3\"\n",
      "}\n"
     ]
    },
    {
     "name": "stderr",
     "output_type": "stream",
     "text": [
      "calculate ./data/ccks/subtask1_train.json etag: 100%|██████████| 4.95M/4.95M [00:00<00:00, 290MB/s]\n",
      "calculate ./data/ccks/subtask1_test.json etag: 100%|██████████| 1.57M/1.57M [00:00<00:00, 361MB/s]\n",
      "calculate ./data/ccks/subtask1_test.json etag: 100%|██████████| 1.57M/1.57M [00:00<00:00, 383MB/s]\n",
      "calculate data/ccks/ccks_tags_list.txt etag: 100%|██████████| 85.0/85.0 [00:00<00:00, 262kB/s]\n"
     ]
    },
    {
     "name": "stdout",
     "output_type": "stream",
     "text": [
      "load cached ./temp/c55a6e9342a983cfaa98d71c0e69617d_cda3479a91a9c4fc8b0c534e972e99e8_cda3479a91a9c4fc8b0c534e972e99e8_9c02c6b5f9f31c0f8b66d34ba80dcf4e/1000000/lexicon_tree\n",
      "load cached ./temp/c55a6e9342a983cfaa98d71c0e69617d_cda3479a91a9c4fc8b0c534e972e99e8_cda3479a91a9c4fc8b0c534e972e99e8_9c02c6b5f9f31c0f8b66d34ba80dcf4e/1000000/matched_words\n",
      "load cached ./temp/c55a6e9342a983cfaa98d71c0e69617d_cda3479a91a9c4fc8b0c534e972e99e8_cda3479a91a9c4fc8b0c534e972e99e8_9c02c6b5f9f31c0f8b66d34ba80dcf4e/1000000/word_vocab\n"
     ]
    },
    {
     "name": "stderr",
     "output_type": "stream",
     "text": [
      "count line size data/ccks/ccks_tags_list.txt: 13L [00:00, 34121.37L/s]\n",
      "build line mapper: 13L [00:00, 117766.63L/s] [00:00<?, ?it/s]\n",
      "load vocab from files: 100%|██████████| 13/13 [00:00<00:00, 3819.95it/s]\n",
      "load vocab from list: 100%|██████████| 13/13 [00:00<00:00, 160843.52it/s]"
     ]
    },
    {
     "name": "stdout",
     "output_type": "stream",
     "text": [
      "load cached ./temp/c55a6e9342a983cfaa98d71c0e69617d_cda3479a91a9c4fc8b0c534e972e99e8_cda3479a91a9c4fc8b0c534e972e99e8_9c02c6b5f9f31c0f8b66d34ba80dcf4e/1000000/vocab_embedding\n",
      "load cached ./temp/c55a6e9342a983cfaa98d71c0e69617d_cda3479a91a9c4fc8b0c534e972e99e8_cda3479a91a9c4fc8b0c534e972e99e8_9c02c6b5f9f31c0f8b66d34ba80dcf4e/1000000/inter_lexicon_tree\n"
     ]
    },
    {
     "name": "stderr",
     "output_type": "stream",
     "text": [
      "\n"
     ]
    },
    {
     "name": "stdout",
     "output_type": "stream",
     "text": [
      "load cached ./temp/c55a6e9342a983cfaa98d71c0e69617d_cda3479a91a9c4fc8b0c534e972e99e8_cda3479a91a9c4fc8b0c534e972e99e8_9c02c6b5f9f31c0f8b66d34ba80dcf4e/1000000/inter_matched_words\n",
      "load cached ./temp/c55a6e9342a983cfaa98d71c0e69617d_cda3479a91a9c4fc8b0c534e972e99e8_cda3479a91a9c4fc8b0c534e972e99e8_9c02c6b5f9f31c0f8b66d34ba80dcf4e/1000000/inter_word_vocab\n",
      "load cached ./temp/c55a6e9342a983cfaa98d71c0e69617d_cda3479a91a9c4fc8b0c534e972e99e8_cda3479a91a9c4fc8b0c534e972e99e8_9c02c6b5f9f31c0f8b66d34ba80dcf4e/1000000/inter_embedding\n"
     ]
    },
    {
     "name": "stderr",
     "output_type": "stream",
     "text": [
      "load dataset from ./data/ccks/subtask1_train.json: 100%|██████████| 1000/1000 [00:04<00:00, 238.63it/s]\n",
      "load dataset from ./data/ccks/subtask1_test.json: 100%|██████████| 379/379 [00:01<00:00, 228.82it/s]\n"
     ]
    },
    {
     "name": "stdout",
     "output_type": "stream",
     "text": [
      "Load pretrained embedding from file.........\n"
     ]
    },
    {
     "name": "stderr",
     "output_type": "stream",
     "text": [
      "Some weights of the model checkpoint at ./model/chinese_wwm_ext/pytorch_model.bin were not used when initializing ZLEBertModel: ['cls.seq_relationship.bias', 'cls.predictions.transform.LayerNorm.weight', 'cls.predictions.transform.dense.weight', 'cls.predictions.bias', 'cls.predictions.decoder.weight', 'cls.predictions.transform.LayerNorm.bias', 'cls.predictions.transform.dense.bias', 'cls.seq_relationship.weight']\n",
      "- This IS expected if you are initializing ZLEBertModel from the checkpoint of a model trained on another task or with another architecture (e.g. initializing a BertForSequenceClassification model from a BertForPreTraining model).\n",
      "- This IS NOT expected if you are initializing ZLEBertModel from the checkpoint of a model that you expect to be exactly identical (initializing a BertForSequenceClassification model from a BertForSequenceClassification model).\n",
      "Some weights of ZLEBertModel were not initialized from the model checkpoint at ./model/chinese_wwm_ext/pytorch_model.bin and are newly initialized: ['bert.encoder.layer.0.fuse_layernorm.bias', 'bert.embeddings.position_ids', 'bert.encoder.layer.0.fuse_layernorm.weight', 'inter_word_embeddings.weight', 'bert.encoder.layer.0.word_word_weight.weight', 'bert.encoder.layer.0.word_word_weight.bias', 'bert.encoder.layer.0.word_transform.weight', 'word_embeddings.weight', 'bert.encoder.layer.0.attn_W', 'bert.encoder.layer.0.word_transform.bias']\n",
      "You should probably TRAIN this model on a down-stream task to be able to use it for predictions and inference.\n",
      "Epoch: 1/30 Train: 100%|██████████| 125/125 [00:40<00:00,  3.07it/s, F1=0.206, train_acc=0.761, train_loss=130, train_precision=0.177, train_recall=0.258]       \n",
      "Eval Result: 100%|██████████| 6/6 [00:02<00:00,  2.05it/s, F1=0.627, eval_acc=0.947, eval_loss=23.9, eval_precision=0.608, eval_recall=0.649]\n",
      "Epoch: 2/30 Train: 100%|██████████| 125/125 [00:41<00:00,  3.02it/s, F1=0.596, train_acc=0.943, train_loss=25, train_precision=0.55, train_recall=0.656]   \n",
      "Eval Result: 100%|██████████| 6/6 [00:03<00:00,  2.00it/s, F1=0.694, eval_acc=0.951, eval_loss=19.2, eval_precision=0.687, eval_recall=0.702]\n",
      "Epoch: 3/30 Train: 100%|██████████| 125/125 [00:40<00:00,  3.09it/s, F1=0.734, train_acc=0.961, train_loss=15.2, train_precision=0.712, train_recall=0.76] \n",
      "Eval Result: 100%|██████████| 6/6 [00:02<00:00,  2.05it/s, F1=0.777, eval_acc=0.963, eval_loss=14, eval_precision=0.774, eval_recall=0.779]  \n",
      "Epoch: 4/30 Train: 100%|██████████| 125/125 [00:41<00:00,  3.00it/s, F1=0.79, train_acc=0.966, train_loss=11.6, train_precision=0.781, train_recall=0.801] \n",
      "Eval Result: 100%|██████████| 6/6 [00:02<00:00,  2.01it/s, F1=0.803, eval_acc=0.969, eval_loss=12.5, eval_precision=0.798, eval_recall=0.81] \n",
      "Epoch: 5/30 Train: 100%|██████████| 125/125 [00:41<00:00,  3.01it/s, F1=0.825, train_acc=0.971, train_loss=9.48, train_precision=0.819, train_recall=0.832]\n",
      "Eval Result: 100%|██████████| 6/6 [00:02<00:00,  2.08it/s, F1=0.805, eval_acc=0.966, eval_loss=13.4, eval_precision=0.801, eval_recall=0.81] \n",
      "Epoch: 6/30 Train: 100%|██████████| 125/125 [00:41<00:00,  3.01it/s, F1=0.848, train_acc=0.975, train_loss=7.56, train_precision=0.847, train_recall=0.85] \n",
      "Eval Result: 100%|██████████| 6/6 [00:02<00:00,  2.05it/s, F1=0.799, eval_acc=0.966, eval_loss=14.7, eval_precision=0.797, eval_recall=0.801]\n",
      "Epoch: 7/30 Train: 100%|██████████| 125/125 [00:39<00:00,  3.18it/s, F1=0.865, train_acc=0.978, train_loss=6.48, train_precision=0.864, train_recall=0.868]\n",
      "Eval Result: 100%|██████████| 6/6 [00:02<00:00,  2.12it/s, F1=0.8, eval_acc=0.965, eval_loss=14.8, eval_precision=0.808, eval_recall=0.793]  \n",
      "Epoch: 8/30 Train: 100%|██████████| 125/125 [00:35<00:00,  3.50it/s, F1=0.879, train_acc=0.98, train_loss=5.43, train_precision=0.877, train_recall=0.881]\n",
      "Eval Result: 100%|██████████| 6/6 [00:02<00:00,  2.16it/s, F1=0.808, eval_acc=0.965, eval_loss=15.4, eval_precision=0.814, eval_recall=0.802]\n",
      "Epoch: 9/30 Train: 100%|██████████| 125/125 [00:33<00:00,  3.75it/s, F1=0.885, train_acc=0.982, train_loss=4.54, train_precision=0.884, train_recall=0.886]\n",
      "Eval Result: 100%|██████████| 6/6 [00:02<00:00,  2.23it/s, F1=0.795, eval_acc=0.964, eval_loss=16, eval_precision=0.795, eval_recall=0.796]  \n",
      "Epoch: 10/30 Train: 100%|██████████| 125/125 [00:33<00:00,  3.76it/s, F1=0.891, train_acc=0.983, train_loss=4.37, train_precision=0.891, train_recall=0.893]\n",
      "Eval Result: 100%|██████████| 6/6 [00:02<00:00,  2.24it/s, F1=0.782, eval_acc=0.964, eval_loss=17.5, eval_precision=0.756, eval_recall=0.811]\n",
      "Epoch: 11/30 Train: 100%|██████████| 125/125 [00:33<00:00,  3.77it/s, F1=0.903, train_acc=0.985, train_loss=3.79, train_precision=0.902, train_recall=0.904]\n",
      "Eval Result: 100%|██████████| 6/6 [00:02<00:00,  2.24it/s, F1=0.812, eval_acc=0.966, eval_loss=15.8, eval_precision=0.799, eval_recall=0.826]\n",
      "Epoch: 12/30 Train: 100%|██████████| 125/125 [00:33<00:00,  3.74it/s, F1=0.91, train_acc=0.986, train_loss=3.68, train_precision=0.909, train_recall=0.913] \n",
      "Eval Result: 100%|██████████| 6/6 [00:02<00:00,  2.23it/s, F1=0.811, eval_acc=0.968, eval_loss=15.7, eval_precision=0.809, eval_recall=0.813]\n",
      "Epoch: 13/30 Train: 100%|██████████| 125/125 [00:35<00:00,  3.56it/s, F1=0.905, train_acc=0.985, train_loss=4.1, train_precision=0.901, train_recall=0.909] \n",
      "Eval Result: 100%|██████████| 6/6 [00:02<00:00,  2.23it/s, F1=0.815, eval_acc=0.965, eval_loss=16.2, eval_precision=0.818, eval_recall=0.813]\n",
      "Epoch: 14/30 Train: 100%|██████████| 125/125 [00:34<00:00,  3.61it/s, F1=0.916, train_acc=0.987, train_loss=3.53, train_precision=0.916, train_recall=0.918]\n",
      "Eval Result: 100%|██████████| 6/6 [00:02<00:00,  2.24it/s, F1=0.811, eval_acc=0.965, eval_loss=18.5, eval_precision=0.808, eval_recall=0.815]\n",
      "Epoch: 15/30 Train: 100%|██████████| 125/125 [00:35<00:00,  3.48it/s, F1=0.934, train_acc=0.99, train_loss=2.52, train_precision=0.935, train_recall=0.934]\n",
      "Eval Result: 100%|██████████| 6/6 [00:02<00:00,  2.12it/s, F1=0.794, eval_acc=0.963, eval_loss=19.2, eval_precision=0.774, eval_recall=0.816]\n",
      "Epoch: 16/30 Train: 100%|██████████| 125/125 [00:36<00:00,  3.42it/s, F1=0.94, train_acc=0.991, train_loss=2.46, train_precision=0.938, train_recall=0.942] \n",
      "Eval Result: 100%|██████████| 6/6 [00:02<00:00,  2.24it/s, F1=0.786, eval_acc=0.959, eval_loss=20.2, eval_precision=0.768, eval_recall=0.806]\n",
      "Epoch: 17/30 Train: 100%|██████████| 125/125 [00:33<00:00,  3.77it/s, F1=0.94, train_acc=0.99, train_loss=2.51, train_precision=0.939, train_recall=0.941] \n",
      "Eval Result: 100%|██████████| 6/6 [00:02<00:00,  2.24it/s, F1=0.808, eval_acc=0.966, eval_loss=21, eval_precision=0.791, eval_recall=0.827]  \n",
      "Epoch: 18/30 Train: 100%|██████████| 125/125 [00:33<00:00,  3.73it/s, F1=0.939, train_acc=0.991, train_loss=2.29, train_precision=0.939, train_recall=0.94] \n",
      "Eval Result: 100%|██████████| 6/6 [00:02<00:00,  2.15it/s, F1=0.812, eval_acc=0.967, eval_loss=19.2, eval_precision=0.798, eval_recall=0.828]\n",
      "Epoch: 19/30 Train: 100%|██████████| 125/125 [00:37<00:00,  3.37it/s, F1=0.949, train_acc=0.993, train_loss=2.04, train_precision=0.948, train_recall=0.95] \n",
      "Eval Result: 100%|██████████| 6/6 [00:02<00:00,  2.23it/s, F1=0.808, eval_acc=0.963, eval_loss=20.7, eval_precision=0.793, eval_recall=0.824]\n",
      "Epoch: 20/30 Train: 100%|██████████| 125/125 [00:34<00:00,  3.59it/s, F1=0.957, train_acc=0.994, train_loss=1.64, train_precision=0.957, train_recall=0.958]\n",
      "Eval Result: 100%|██████████| 6/6 [00:02<00:00,  2.24it/s, F1=0.81, eval_acc=0.965, eval_loss=20.6, eval_precision=0.794, eval_recall=0.826] \n",
      "Epoch: 21/30 Train: 100%|██████████| 125/125 [00:34<00:00,  3.64it/s, F1=0.964, train_acc=0.995, train_loss=1.43, train_precision=0.964, train_recall=0.965]\n",
      "Eval Result: 100%|██████████| 6/6 [00:02<00:00,  2.24it/s, F1=0.813, eval_acc=0.966, eval_loss=21.2, eval_precision=0.793, eval_recall=0.834]\n",
      "Epoch: 22/30 Train: 100%|██████████| 125/125 [00:33<00:00,  3.78it/s, F1=0.968, train_acc=0.996, train_loss=1.08, train_precision=0.968, train_recall=0.969]\n",
      "Eval Result: 100%|██████████| 6/6 [00:02<00:00,  2.24it/s, F1=0.818, eval_acc=0.966, eval_loss=21.1, eval_precision=0.806, eval_recall=0.83] \n",
      "Epoch: 23/30 Train: 100%|██████████| 125/125 [00:33<00:00,  3.77it/s, F1=0.967, train_acc=0.995, train_loss=1.37, train_precision=0.968, train_recall=0.967]\n",
      "Eval Result: 100%|██████████| 6/6 [00:02<00:00,  2.23it/s, F1=0.81, eval_acc=0.966, eval_loss=19.4, eval_precision=0.802, eval_recall=0.818] \n",
      "Epoch: 24/30 Train: 100%|██████████| 125/125 [00:33<00:00,  3.70it/s, F1=0.972, train_acc=0.996, train_loss=0.999, train_precision=0.972, train_recall=0.972]\n",
      "Eval Result: 100%|██████████| 6/6 [00:02<00:00,  2.23it/s, F1=0.808, eval_acc=0.964, eval_loss=20.5, eval_precision=0.797, eval_recall=0.819]\n",
      "Epoch: 25/30 Train: 100%|██████████| 125/125 [00:35<00:00,  3.50it/s, F1=0.973, train_acc=0.996, train_loss=1.07, train_precision=0.972, train_recall=0.974]\n",
      "Eval Result: 100%|██████████| 6/6 [00:02<00:00,  2.10it/s, F1=0.82, eval_acc=0.967, eval_loss=20.9, eval_precision=0.81, eval_recall=0.83]   \n",
      "Epoch: 26/30 Train: 100%|██████████| 125/125 [00:36<00:00,  3.39it/s, F1=0.973, train_acc=0.996, train_loss=1.07, train_precision=0.973, train_recall=0.973]\n",
      "Eval Result: 100%|██████████| 6/6 [00:02<00:00,  2.22it/s, F1=0.821, eval_acc=0.967, eval_loss=21.4, eval_precision=0.814, eval_recall=0.828]\n",
      "Epoch: 27/30 Train: 100%|██████████| 125/125 [00:35<00:00,  3.48it/s, F1=0.977, train_acc=0.996, train_loss=0.947, train_precision=0.976, train_recall=0.977]\n",
      "Eval Result: 100%|██████████| 6/6 [00:02<00:00,  2.21it/s, F1=0.818, eval_acc=0.968, eval_loss=21.3, eval_precision=0.806, eval_recall=0.831]\n",
      "Epoch: 28/30 Train: 100%|██████████| 125/125 [00:36<00:00,  3.46it/s, F1=0.966, train_acc=0.995, train_loss=1.31, train_precision=0.966, train_recall=0.966]\n",
      "Eval Result: 100%|██████████| 6/6 [00:02<00:00,  2.12it/s, F1=0.82, eval_acc=0.967, eval_loss=21.9, eval_precision=0.813, eval_recall=0.827] \n",
      "Epoch: 29/30 Train: 100%|██████████| 125/125 [00:35<00:00,  3.51it/s, F1=0.971, train_acc=0.995, train_loss=1.41, train_precision=0.97, train_recall=0.971] \n",
      "Eval Result: 100%|██████████| 6/6 [00:02<00:00,  2.22it/s, F1=0.817, eval_acc=0.964, eval_loss=23.3, eval_precision=0.81, eval_recall=0.825] \n",
      "Epoch: 30/30 Train: 100%|██████████| 125/125 [00:35<00:00,  3.51it/s, F1=0.968, train_acc=0.995, train_loss=1.45, train_precision=0.967, train_recall=0.969]\n",
      "Eval Result: 100%|██████████| 6/6 [00:02<00:00,  2.23it/s, F1=0.818, eval_acc=0.967, eval_loss=21.2, eval_precision=0.818, eval_recall=0.818]\n"
     ]
    }
   ],
   "source": [
    "args[\"task_name\"] = \"ccks_v1_ZLEBert_crf_3\"\n",
    "\n",
    "trainer = NERTrainer(**args)\n",
    "\n",
    "for i in trainer(lr2=1e-2):\n",
    "    a = i"
   ]
  },
  {
   "cell_type": "code",
   "execution_count": 4,
   "metadata": {},
   "outputs": [
    {
     "name": "stdout",
     "output_type": "stream",
     "text": [
      "kwargs parser: {\n",
      "    \"batch_size\": 8,\n",
      "    \"eval_batch_size\": 64,\n",
      "    \"test_batch_size\": 16,\n",
      "    \"word_embedding_file\": \"./data/tencent/word_embedding.txt\",\n",
      "    \"word_vocab_file\": \"./data/tencent/tencent_vocab.txt\",\n",
      "    \"train_file\": \"./data/ccks/subtask1_train.json\",\n",
      "    \"eval_file\": \"./data/ccks/subtask1_test.json\",\n",
      "    \"test_file\": \"./data/ccks/subtask1_test.json\",\n",
      "    \"tag_file\": \"data/ccks/ccks_tags_list.txt\",\n",
      "    \"inter_knowledge_file\": \"./data/tencent/THUOCL_FN_medical.txt\",\n",
      "    \"bert_vocab_file\": \"./model/chinese_wwm_ext/vocab.txt\",\n",
      "    \"output_eval\": true,\n",
      "    \"max_scan_num\": 1000000,\n",
      "    \"inter_max_scan_num\": 20000,\n",
      "    \"add_seq_vocab\": false,\n",
      "    \"max_seq_length\": 150,\n",
      "    \"max_word_num\": 5,\n",
      "    \"default_tag\": \"O\",\n",
      "    \"use_test\": false,\n",
      "    \"do_shuffle\": true,\n",
      "    \"do_predict\": false,\n",
      "    \"task_name\": \"ccks_v1_ZLEBert_crf_4\"\n",
      "}\n"
     ]
    },
    {
     "name": "stderr",
     "output_type": "stream",
     "text": [
      "calculate ./data/ccks/subtask1_train.json etag: 100%|██████████| 4.95M/4.95M [00:00<00:00, 327MB/s]\n",
      "calculate ./data/ccks/subtask1_test.json etag: 100%|██████████| 1.57M/1.57M [00:00<00:00, 369MB/s]\n",
      "calculate ./data/ccks/subtask1_test.json etag: 100%|██████████| 1.57M/1.57M [00:00<00:00, 371MB/s]\n",
      "calculate data/ccks/ccks_tags_list.txt etag: 100%|██████████| 85.0/85.0 [00:00<00:00, 258kB/s]\n"
     ]
    },
    {
     "name": "stdout",
     "output_type": "stream",
     "text": [
      "load cached ./temp/c55a6e9342a983cfaa98d71c0e69617d_cda3479a91a9c4fc8b0c534e972e99e8_cda3479a91a9c4fc8b0c534e972e99e8_9c02c6b5f9f31c0f8b66d34ba80dcf4e/1000000/lexicon_tree\n",
      "load cached ./temp/c55a6e9342a983cfaa98d71c0e69617d_cda3479a91a9c4fc8b0c534e972e99e8_cda3479a91a9c4fc8b0c534e972e99e8_9c02c6b5f9f31c0f8b66d34ba80dcf4e/1000000/matched_words\n",
      "load cached ./temp/c55a6e9342a983cfaa98d71c0e69617d_cda3479a91a9c4fc8b0c534e972e99e8_cda3479a91a9c4fc8b0c534e972e99e8_9c02c6b5f9f31c0f8b66d34ba80dcf4e/1000000/word_vocab\n"
     ]
    },
    {
     "name": "stderr",
     "output_type": "stream",
     "text": [
      "count line size data/ccks/ccks_tags_list.txt: 13L [00:00, 32206.71L/s]\n",
      "build line mapper: 13L [00:00, 19613.65L/s]3 [00:00<?, ?it/s]\n",
      "load vocab from files: 100%|██████████| 13/13 [00:00<00:00, 3227.72it/s]\n",
      "load vocab from list: 100%|██████████| 13/13 [00:00<00:00, 145402.54it/s]"
     ]
    },
    {
     "name": "stdout",
     "output_type": "stream",
     "text": [
      "load cached ./temp/c55a6e9342a983cfaa98d71c0e69617d_cda3479a91a9c4fc8b0c534e972e99e8_cda3479a91a9c4fc8b0c534e972e99e8_9c02c6b5f9f31c0f8b66d34ba80dcf4e/1000000/vocab_embedding\n",
      "load cached ./temp/c55a6e9342a983cfaa98d71c0e69617d_cda3479a91a9c4fc8b0c534e972e99e8_cda3479a91a9c4fc8b0c534e972e99e8_9c02c6b5f9f31c0f8b66d34ba80dcf4e/1000000/inter_lexicon_tree\n"
     ]
    },
    {
     "name": "stderr",
     "output_type": "stream",
     "text": [
      "\n"
     ]
    },
    {
     "name": "stdout",
     "output_type": "stream",
     "text": [
      "load cached ./temp/c55a6e9342a983cfaa98d71c0e69617d_cda3479a91a9c4fc8b0c534e972e99e8_cda3479a91a9c4fc8b0c534e972e99e8_9c02c6b5f9f31c0f8b66d34ba80dcf4e/1000000/inter_matched_words\n",
      "load cached ./temp/c55a6e9342a983cfaa98d71c0e69617d_cda3479a91a9c4fc8b0c534e972e99e8_cda3479a91a9c4fc8b0c534e972e99e8_9c02c6b5f9f31c0f8b66d34ba80dcf4e/1000000/inter_word_vocab\n",
      "load cached ./temp/c55a6e9342a983cfaa98d71c0e69617d_cda3479a91a9c4fc8b0c534e972e99e8_cda3479a91a9c4fc8b0c534e972e99e8_9c02c6b5f9f31c0f8b66d34ba80dcf4e/1000000/inter_embedding\n"
     ]
    },
    {
     "name": "stderr",
     "output_type": "stream",
     "text": [
      "load dataset from ./data/ccks/subtask1_train.json: 100%|██████████| 1000/1000 [00:03<00:00, 315.90it/s]\n",
      "load dataset from ./data/ccks/subtask1_test.json: 100%|██████████| 379/379 [00:01<00:00, 303.52it/s]\n"
     ]
    },
    {
     "name": "stdout",
     "output_type": "stream",
     "text": [
      "Load pretrained embedding from file.........\n"
     ]
    },
    {
     "name": "stderr",
     "output_type": "stream",
     "text": [
      "Some weights of the model checkpoint at ./model/chinese_wwm_ext/pytorch_model.bin were not used when initializing ZLEBertModel: ['cls.seq_relationship.bias', 'cls.predictions.transform.LayerNorm.weight', 'cls.predictions.transform.dense.weight', 'cls.predictions.bias', 'cls.predictions.decoder.weight', 'cls.predictions.transform.LayerNorm.bias', 'cls.predictions.transform.dense.bias', 'cls.seq_relationship.weight']\n",
      "- This IS expected if you are initializing ZLEBertModel from the checkpoint of a model trained on another task or with another architecture (e.g. initializing a BertForSequenceClassification model from a BertForPreTraining model).\n",
      "- This IS NOT expected if you are initializing ZLEBertModel from the checkpoint of a model that you expect to be exactly identical (initializing a BertForSequenceClassification model from a BertForSequenceClassification model).\n",
      "Some weights of ZLEBertModel were not initialized from the model checkpoint at ./model/chinese_wwm_ext/pytorch_model.bin and are newly initialized: ['bert.encoder.layer.0.fuse_layernorm.bias', 'bert.embeddings.position_ids', 'bert.encoder.layer.0.fuse_layernorm.weight', 'inter_word_embeddings.weight', 'bert.encoder.layer.0.word_word_weight.weight', 'bert.encoder.layer.0.word_word_weight.bias', 'bert.encoder.layer.0.word_transform.weight', 'word_embeddings.weight', 'bert.encoder.layer.0.attn_W', 'bert.encoder.layer.0.word_transform.bias']\n",
      "You should probably TRAIN this model on a down-stream task to be able to use it for predictions and inference.\n",
      "Epoch: 1/30 Train: 100%|██████████| 125/125 [00:38<00:00,  3.25it/s, F1=0.251, train_acc=0.75, train_loss=119, train_precision=0.238, train_recall=0.272]         \n",
      "Eval Result: 100%|██████████| 6/6 [00:02<00:00,  2.23it/s, F1=0.646, eval_acc=0.95, eval_loss=19.9, eval_precision=0.625, eval_recall=0.67]  \n",
      "Epoch: 2/30 Train: 100%|██████████| 125/125 [00:35<00:00,  3.47it/s, F1=0.661, train_acc=0.946, train_loss=18.9, train_precision=0.646, train_recall=0.679]\n",
      "Eval Result: 100%|██████████| 6/6 [00:02<00:00,  2.21it/s, F1=0.754, eval_acc=0.962, eval_loss=14.5, eval_precision=0.731, eval_recall=0.778]\n",
      "Epoch: 3/30 Train: 100%|██████████| 125/125 [00:35<00:00,  3.47it/s, F1=0.767, train_acc=0.962, train_loss=12.3, train_precision=0.761, train_recall=0.775]\n",
      "Eval Result: 100%|██████████| 6/6 [00:02<00:00,  2.22it/s, F1=0.789, eval_acc=0.963, eval_loss=13.2, eval_precision=0.774, eval_recall=0.805]\n",
      "Epoch: 4/30 Train: 100%|██████████| 125/125 [00:34<00:00,  3.61it/s, F1=0.801, train_acc=0.965, train_loss=10.2, train_precision=0.799, train_recall=0.805]\n",
      "Eval Result: 100%|██████████| 6/6 [00:02<00:00,  2.22it/s, F1=0.807, eval_acc=0.967, eval_loss=12.4, eval_precision=0.803, eval_recall=0.812]\n",
      "Epoch: 5/30 Train: 100%|██████████| 125/125 [00:36<00:00,  3.42it/s, F1=0.812, train_acc=0.966, train_loss=8.96, train_precision=0.811, train_recall=0.814]\n",
      "Eval Result: 100%|██████████| 6/6 [00:02<00:00,  2.22it/s, F1=0.804, eval_acc=0.965, eval_loss=13.6, eval_precision=0.791, eval_recall=0.818]\n",
      "Epoch: 6/30 Train: 100%|██████████| 125/125 [00:37<00:00,  3.31it/s, F1=0.843, train_acc=0.971, train_loss=7.59, train_precision=0.845, train_recall=0.843]\n",
      "Eval Result: 100%|██████████| 6/6 [00:02<00:00,  2.21it/s, F1=0.818, eval_acc=0.967, eval_loss=13.7, eval_precision=0.812, eval_recall=0.824]\n",
      "Epoch: 7/30 Train: 100%|██████████| 125/125 [00:36<00:00,  3.40it/s, F1=0.863, train_acc=0.975, train_loss=5.8, train_precision=0.863, train_recall=0.864] \n",
      "Eval Result: 100%|██████████| 6/6 [00:02<00:00,  2.22it/s, F1=0.813, eval_acc=0.967, eval_loss=13.6, eval_precision=0.806, eval_recall=0.82] \n",
      "Epoch: 8/30 Train: 100%|██████████| 125/125 [00:37<00:00,  3.36it/s, F1=0.881, train_acc=0.98, train_loss=4.53, train_precision=0.881, train_recall=0.882]\n",
      "Eval Result: 100%|██████████| 6/6 [00:02<00:00,  2.22it/s, F1=0.817, eval_acc=0.967, eval_loss=13.7, eval_precision=0.805, eval_recall=0.829]\n",
      "Epoch: 9/30 Train: 100%|██████████| 125/125 [00:34<00:00,  3.63it/s, F1=0.891, train_acc=0.983, train_loss=4.09, train_precision=0.89, train_recall=0.893] \n",
      "Eval Result: 100%|██████████| 6/6 [00:02<00:00,  2.09it/s, F1=0.814, eval_acc=0.966, eval_loss=14.7, eval_precision=0.826, eval_recall=0.804]\n",
      "Epoch: 10/30 Train: 100%|██████████| 125/125 [00:36<00:00,  3.41it/s, F1=0.903, train_acc=0.985, train_loss=3.43, train_precision=0.903, train_recall=0.904]\n",
      "Eval Result: 100%|██████████| 6/6 [00:02<00:00,  2.10it/s, F1=0.825, eval_acc=0.968, eval_loss=14.7, eval_precision=0.824, eval_recall=0.826]\n",
      "Epoch: 11/30 Train: 100%|██████████| 125/125 [00:36<00:00,  3.39it/s, F1=0.916, train_acc=0.986, train_loss=3.17, train_precision=0.914, train_recall=0.917]\n",
      "Eval Result: 100%|██████████| 6/6 [00:02<00:00,  2.14it/s, F1=0.812, eval_acc=0.965, eval_loss=14.9, eval_precision=0.806, eval_recall=0.819]\n",
      "Epoch: 12/30 Train: 100%|██████████| 125/125 [00:37<00:00,  3.33it/s, F1=0.92, train_acc=0.988, train_loss=2.89, train_precision=0.92, train_recall=0.922]  \n",
      "Eval Result: 100%|██████████| 6/6 [00:02<00:00,  2.05it/s, F1=0.816, eval_acc=0.967, eval_loss=16.5, eval_precision=0.812, eval_recall=0.819]\n",
      "Epoch: 13/30 Train: 100%|██████████| 125/125 [00:41<00:00,  3.03it/s, F1=0.93, train_acc=0.989, train_loss=2.63, train_precision=0.93, train_recall=0.93]   \n",
      "Eval Result: 100%|██████████| 6/6 [00:02<00:00,  2.05it/s, F1=0.814, eval_acc=0.966, eval_loss=17.1, eval_precision=0.81, eval_recall=0.819] \n",
      "Epoch: 14/30 Train: 100%|██████████| 125/125 [00:41<00:00,  3.02it/s, F1=0.929, train_acc=0.99, train_loss=2.45, train_precision=0.929, train_recall=0.928] \n",
      "Eval Result: 100%|██████████| 6/6 [00:02<00:00,  2.06it/s, F1=0.819, eval_acc=0.966, eval_loss=16.5, eval_precision=0.824, eval_recall=0.814]\n",
      "Epoch: 15/30 Train: 100%|██████████| 125/125 [00:40<00:00,  3.07it/s, F1=0.926, train_acc=0.988, train_loss=2.93, train_precision=0.926, train_recall=0.928]\n",
      "Eval Result: 100%|██████████| 6/6 [00:02<00:00,  2.04it/s, F1=0.8, eval_acc=0.962, eval_loss=17.8, eval_precision=0.786, eval_recall=0.815]  \n",
      "Epoch: 16/30 Train: 100%|██████████| 125/125 [00:40<00:00,  3.07it/s, F1=0.931, train_acc=0.989, train_loss=2.74, train_precision=0.929, train_recall=0.934]\n",
      "Eval Result: 100%|██████████| 6/6 [00:02<00:00,  2.06it/s, F1=0.821, eval_acc=0.967, eval_loss=18.4, eval_precision=0.825, eval_recall=0.817]\n",
      "Epoch: 17/30 Train: 100%|██████████| 125/125 [00:41<00:00,  3.00it/s, F1=0.936, train_acc=0.99, train_loss=2.76, train_precision=0.935, train_recall=0.938]\n",
      "Eval Result: 100%|██████████| 6/6 [00:03<00:00,  1.92it/s, F1=0.812, eval_acc=0.966, eval_loss=18.3, eval_precision=0.818, eval_recall=0.807]\n",
      "Epoch: 18/30 Train: 100%|██████████| 125/125 [00:42<00:00,  2.96it/s, F1=0.95, train_acc=0.993, train_loss=1.8, train_precision=0.948, train_recall=0.951]  \n",
      "Eval Result: 100%|██████████| 6/6 [00:03<00:00,  1.93it/s, F1=0.813, eval_acc=0.966, eval_loss=18.3, eval_precision=0.813, eval_recall=0.813]\n",
      "Epoch: 19/30 Train: 100%|██████████| 125/125 [00:40<00:00,  3.06it/s, F1=0.956, train_acc=0.993, train_loss=1.78, train_precision=0.955, train_recall=0.957]\n",
      "Eval Result: 100%|██████████| 6/6 [00:03<00:00,  1.99it/s, F1=0.82, eval_acc=0.969, eval_loss=19.6, eval_precision=0.825, eval_recall=0.815] \n",
      "Epoch: 20/30 Train: 100%|██████████| 125/125 [00:41<00:00,  3.02it/s, F1=0.95, train_acc=0.992, train_loss=1.96, train_precision=0.948, train_recall=0.951] \n",
      "Eval Result: 100%|██████████| 6/6 [00:02<00:00,  2.04it/s, F1=0.822, eval_acc=0.968, eval_loss=16.9, eval_precision=0.816, eval_recall=0.828]\n",
      "Epoch: 21/30 Train: 100%|██████████| 125/125 [00:41<00:00,  3.01it/s, F1=0.959, train_acc=0.994, train_loss=1.54, train_precision=0.959, train_recall=0.96] \n",
      "Eval Result: 100%|██████████| 6/6 [00:02<00:00,  2.04it/s, F1=0.811, eval_acc=0.965, eval_loss=18.7, eval_precision=0.803, eval_recall=0.82] \n",
      "Epoch: 22/30 Train: 100%|██████████| 125/125 [00:39<00:00,  3.14it/s, F1=0.968, train_acc=0.996, train_loss=1.13, train_precision=0.968, train_recall=0.968]\n",
      "Eval Result: 100%|██████████| 6/6 [00:02<00:00,  2.18it/s, F1=0.818, eval_acc=0.966, eval_loss=19.4, eval_precision=0.81, eval_recall=0.825] \n",
      "Epoch: 23/30 Train: 100%|██████████| 125/125 [00:39<00:00,  3.18it/s, F1=0.968, train_acc=0.995, train_loss=1.07, train_precision=0.967, train_recall=0.969]\n",
      "Eval Result: 100%|██████████| 6/6 [00:03<00:00,  1.98it/s, F1=0.815, eval_acc=0.966, eval_loss=20.4, eval_precision=0.812, eval_recall=0.819]\n",
      "Epoch: 24/30 Train: 100%|██████████| 125/125 [00:41<00:00,  2.99it/s, F1=0.968, train_acc=0.995, train_loss=1.13, train_precision=0.967, train_recall=0.969]\n",
      "Eval Result: 100%|██████████| 6/6 [00:02<00:00,  2.01it/s, F1=0.822, eval_acc=0.968, eval_loss=19.6, eval_precision=0.822, eval_recall=0.823]\n",
      "Epoch: 25/30 Train: 100%|██████████| 125/125 [00:41<00:00,  3.04it/s, F1=0.973, train_acc=0.995, train_loss=1.05, train_precision=0.973, train_recall=0.973] \n",
      "Eval Result: 100%|██████████| 6/6 [00:02<00:00,  2.04it/s, F1=0.822, eval_acc=0.967, eval_loss=19.9, eval_precision=0.823, eval_recall=0.822]\n",
      "Epoch: 26/30 Train: 100%|██████████| 125/125 [00:41<00:00,  3.01it/s, F1=0.971, train_acc=0.996, train_loss=0.978, train_precision=0.97, train_recall=0.972] \n",
      "Eval Result: 100%|██████████| 6/6 [00:02<00:00,  2.04it/s, F1=0.82, eval_acc=0.968, eval_loss=20.5, eval_precision=0.816, eval_recall=0.825] \n",
      "Epoch: 27/30 Train: 100%|██████████| 125/125 [00:41<00:00,  2.99it/s, F1=0.974, train_acc=0.996, train_loss=1.05, train_precision=0.973, train_recall=0.975] \n",
      "Eval Result: 100%|██████████| 6/6 [00:03<00:00,  1.97it/s, F1=0.811, eval_acc=0.966, eval_loss=20.5, eval_precision=0.804, eval_recall=0.818]\n",
      "Epoch: 28/30 Train: 100%|██████████| 125/125 [00:40<00:00,  3.08it/s, F1=0.973, train_acc=0.996, train_loss=1.06, train_precision=0.973, train_recall=0.973]\n",
      "Eval Result: 100%|██████████| 6/6 [00:02<00:00,  2.18it/s, F1=0.811, eval_acc=0.966, eval_loss=21.3, eval_precision=0.811, eval_recall=0.812]\n",
      "Epoch: 29/30 Train: 100%|██████████| 125/125 [00:35<00:00,  3.48it/s, F1=0.975, train_acc=0.996, train_loss=1.06, train_precision=0.974, train_recall=0.976]\n",
      "Eval Result: 100%|██████████| 6/6 [00:02<00:00,  2.22it/s, F1=0.818, eval_acc=0.968, eval_loss=21.7, eval_precision=0.813, eval_recall=0.823]\n",
      "Epoch: 30/30 Train: 100%|██████████| 125/125 [00:36<00:00,  3.41it/s, F1=0.978, train_acc=0.996, train_loss=0.856, train_precision=0.977, train_recall=0.978]\n",
      "Eval Result: 100%|██████████| 6/6 [00:02<00:00,  2.22it/s, F1=0.818, eval_acc=0.968, eval_loss=23, eval_precision=0.824, eval_recall=0.813]  \n"
     ]
    }
   ],
   "source": [
    "args[\"task_name\"] = \"ccks_v1_ZLEBert_crf_4\"\n",
    "\n",
    "trainer = NERTrainer(**args)\n",
    "\n",
    "for i in trainer(lr2=1e-2):\n",
    "    a = i"
   ]
  },
  {
   "cell_type": "code",
   "execution_count": 5,
   "metadata": {},
   "outputs": [
    {
     "name": "stdout",
     "output_type": "stream",
     "text": [
      "kwargs parser: {\n",
      "    \"batch_size\": 8,\n",
      "    \"eval_batch_size\": 64,\n",
      "    \"test_batch_size\": 16,\n",
      "    \"word_embedding_file\": \"./data/tencent/word_embedding.txt\",\n",
      "    \"word_vocab_file\": \"./data/tencent/tencent_vocab.txt\",\n",
      "    \"train_file\": \"./data/ccks/subtask1_train.json\",\n",
      "    \"eval_file\": \"./data/ccks/subtask1_test.json\",\n",
      "    \"test_file\": \"./data/ccks/subtask1_test.json\",\n",
      "    \"tag_file\": \"data/ccks/ccks_tags_list.txt\",\n",
      "    \"inter_knowledge_file\": \"./data/tencent/THUOCL_FN_medical.txt\",\n",
      "    \"bert_vocab_file\": \"./model/chinese_wwm_ext/vocab.txt\",\n",
      "    \"output_eval\": true,\n",
      "    \"max_scan_num\": 1000000,\n",
      "    \"inter_max_scan_num\": 20000,\n",
      "    \"add_seq_vocab\": false,\n",
      "    \"max_seq_length\": 150,\n",
      "    \"max_word_num\": 5,\n",
      "    \"default_tag\": \"O\",\n",
      "    \"use_test\": false,\n",
      "    \"do_shuffle\": true,\n",
      "    \"do_predict\": false,\n",
      "    \"task_name\": \"ccks_v1_ZLEBert_crf_5\"\n",
      "}\n"
     ]
    },
    {
     "name": "stderr",
     "output_type": "stream",
     "text": [
      "calculate ./data/ccks/subtask1_train.json etag: 100%|██████████| 4.95M/4.95M [00:00<00:00, 325MB/s]\n",
      "calculate ./data/ccks/subtask1_test.json etag: 100%|██████████| 1.57M/1.57M [00:00<00:00, 348MB/s]\n",
      "calculate ./data/ccks/subtask1_test.json etag: 100%|██████████| 1.57M/1.57M [00:00<00:00, 376MB/s]\n",
      "calculate data/ccks/ccks_tags_list.txt etag: 100%|██████████| 85.0/85.0 [00:00<00:00, 121kB/s]\n"
     ]
    },
    {
     "name": "stdout",
     "output_type": "stream",
     "text": [
      "load cached ./temp/c55a6e9342a983cfaa98d71c0e69617d_cda3479a91a9c4fc8b0c534e972e99e8_cda3479a91a9c4fc8b0c534e972e99e8_9c02c6b5f9f31c0f8b66d34ba80dcf4e/1000000/lexicon_tree\n",
      "load cached ./temp/c55a6e9342a983cfaa98d71c0e69617d_cda3479a91a9c4fc8b0c534e972e99e8_cda3479a91a9c4fc8b0c534e972e99e8_9c02c6b5f9f31c0f8b66d34ba80dcf4e/1000000/matched_words\n",
      "load cached ./temp/c55a6e9342a983cfaa98d71c0e69617d_cda3479a91a9c4fc8b0c534e972e99e8_cda3479a91a9c4fc8b0c534e972e99e8_9c02c6b5f9f31c0f8b66d34ba80dcf4e/1000000/word_vocab\n"
     ]
    },
    {
     "name": "stderr",
     "output_type": "stream",
     "text": [
      "count line size data/ccks/ccks_tags_list.txt: 13L [00:00, 35383.49L/s]\n",
      "build line mapper: 13L [00:00, 33146.48L/s]3 [00:00<?, ?it/s]\n",
      "load vocab from files: 100%|██████████| 13/13 [00:00<00:00, 3567.52it/s]\n",
      "load vocab from list: 100%|██████████| 13/13 [00:00<00:00, 40812.84it/s]"
     ]
    },
    {
     "name": "stdout",
     "output_type": "stream",
     "text": [
      "load cached ./temp/c55a6e9342a983cfaa98d71c0e69617d_cda3479a91a9c4fc8b0c534e972e99e8_cda3479a91a9c4fc8b0c534e972e99e8_9c02c6b5f9f31c0f8b66d34ba80dcf4e/1000000/vocab_embedding\n",
      "load cached ./temp/c55a6e9342a983cfaa98d71c0e69617d_cda3479a91a9c4fc8b0c534e972e99e8_cda3479a91a9c4fc8b0c534e972e99e8_9c02c6b5f9f31c0f8b66d34ba80dcf4e/1000000/inter_lexicon_tree\n"
     ]
    },
    {
     "name": "stderr",
     "output_type": "stream",
     "text": [
      "\n"
     ]
    },
    {
     "name": "stdout",
     "output_type": "stream",
     "text": [
      "load cached ./temp/c55a6e9342a983cfaa98d71c0e69617d_cda3479a91a9c4fc8b0c534e972e99e8_cda3479a91a9c4fc8b0c534e972e99e8_9c02c6b5f9f31c0f8b66d34ba80dcf4e/1000000/inter_matched_words\n",
      "load cached ./temp/c55a6e9342a983cfaa98d71c0e69617d_cda3479a91a9c4fc8b0c534e972e99e8_cda3479a91a9c4fc8b0c534e972e99e8_9c02c6b5f9f31c0f8b66d34ba80dcf4e/1000000/inter_word_vocab\n",
      "load cached ./temp/c55a6e9342a983cfaa98d71c0e69617d_cda3479a91a9c4fc8b0c534e972e99e8_cda3479a91a9c4fc8b0c534e972e99e8_9c02c6b5f9f31c0f8b66d34ba80dcf4e/1000000/inter_embedding\n"
     ]
    },
    {
     "name": "stderr",
     "output_type": "stream",
     "text": [
      "load dataset from ./data/ccks/subtask1_train.json: 100%|██████████| 1000/1000 [00:03<00:00, 309.89it/s]\n",
      "load dataset from ./data/ccks/subtask1_test.json: 100%|██████████| 379/379 [00:01<00:00, 315.80it/s]\n"
     ]
    },
    {
     "name": "stdout",
     "output_type": "stream",
     "text": [
      "Load pretrained embedding from file.........\n"
     ]
    },
    {
     "name": "stderr",
     "output_type": "stream",
     "text": [
      "Some weights of the model checkpoint at ./model/chinese_wwm_ext/pytorch_model.bin were not used when initializing ZLEBertModel: ['cls.seq_relationship.bias', 'cls.predictions.transform.LayerNorm.weight', 'cls.predictions.transform.dense.weight', 'cls.predictions.bias', 'cls.predictions.decoder.weight', 'cls.predictions.transform.LayerNorm.bias', 'cls.predictions.transform.dense.bias', 'cls.seq_relationship.weight']\n",
      "- This IS expected if you are initializing ZLEBertModel from the checkpoint of a model trained on another task or with another architecture (e.g. initializing a BertForSequenceClassification model from a BertForPreTraining model).\n",
      "- This IS NOT expected if you are initializing ZLEBertModel from the checkpoint of a model that you expect to be exactly identical (initializing a BertForSequenceClassification model from a BertForSequenceClassification model).\n",
      "Some weights of ZLEBertModel were not initialized from the model checkpoint at ./model/chinese_wwm_ext/pytorch_model.bin and are newly initialized: ['bert.encoder.layer.0.fuse_layernorm.bias', 'bert.embeddings.position_ids', 'bert.encoder.layer.0.fuse_layernorm.weight', 'inter_word_embeddings.weight', 'bert.encoder.layer.0.word_word_weight.weight', 'bert.encoder.layer.0.word_word_weight.bias', 'bert.encoder.layer.0.word_transform.weight', 'word_embeddings.weight', 'bert.encoder.layer.0.attn_W', 'bert.encoder.layer.0.word_transform.bias']\n",
      "You should probably TRAIN this model on a down-stream task to be able to use it for predictions and inference.\n",
      "Epoch: 1/30 Train: 100%|██████████| 125/125 [00:37<00:00,  3.35it/s, F1=0.24, train_acc=0.766, train_loss=112, train_precision=0.223, train_recall=0.265]         \n",
      "Eval Result: 100%|██████████| 6/6 [00:02<00:00,  2.11it/s, F1=0.662, eval_acc=0.948, eval_loss=21.7, eval_precision=0.662, eval_recall=0.663]\n",
      "Epoch: 2/30 Train: 100%|██████████| 125/125 [00:40<00:00,  3.12it/s, F1=0.646, train_acc=0.943, train_loss=21.7, train_precision=0.629, train_recall=0.667]\n",
      "Eval Result: 100%|██████████| 6/6 [00:02<00:00,  2.03it/s, F1=0.753, eval_acc=0.96, eval_loss=14.2, eval_precision=0.74, eval_recall=0.767]  \n",
      "Epoch: 3/30 Train: 100%|██████████| 125/125 [00:42<00:00,  2.96it/s, F1=0.766, train_acc=0.96, train_loss=13.4, train_precision=0.762, train_recall=0.771] \n",
      "Eval Result: 100%|██████████| 6/6 [00:02<00:00,  2.03it/s, F1=0.779, eval_acc=0.964, eval_loss=12.7, eval_precision=0.763, eval_recall=0.796]\n",
      "Epoch: 4/30 Train: 100%|██████████| 125/125 [00:41<00:00,  2.99it/s, F1=0.805, train_acc=0.966, train_loss=10.3, train_precision=0.802, train_recall=0.809]\n",
      "Eval Result: 100%|██████████| 6/6 [00:03<00:00,  1.96it/s, F1=0.8, eval_acc=0.966, eval_loss=12.2, eval_precision=0.788, eval_recall=0.813]  \n",
      "Epoch: 5/30 Train: 100%|██████████| 125/125 [00:44<00:00,  2.80it/s, F1=0.839, train_acc=0.972, train_loss=7.75, train_precision=0.841, train_recall=0.839]\n",
      "Eval Result: 100%|██████████| 6/6 [00:02<00:00,  2.01it/s, F1=0.793, eval_acc=0.964, eval_loss=12.7, eval_precision=0.778, eval_recall=0.809]\n",
      "Epoch: 6/30 Train: 100%|██████████| 125/125 [00:44<00:00,  2.82it/s, F1=0.852, train_acc=0.975, train_loss=6.81, train_precision=0.853, train_recall=0.853]\n",
      "Eval Result: 100%|██████████| 6/6 [00:03<00:00,  1.96it/s, F1=0.771, eval_acc=0.958, eval_loss=15.9, eval_precision=0.765, eval_recall=0.778]\n",
      "Epoch: 7/30 Train: 100%|██████████| 125/125 [00:40<00:00,  3.07it/s, F1=0.853, train_acc=0.975, train_loss=6.45, train_precision=0.853, train_recall=0.854]\n",
      "Eval Result: 100%|██████████| 6/6 [00:02<00:00,  2.17it/s, F1=0.796, eval_acc=0.964, eval_loss=15.6, eval_precision=0.783, eval_recall=0.81] \n",
      "Epoch: 8/30 Train: 100%|██████████| 125/125 [00:36<00:00,  3.40it/s, F1=0.873, train_acc=0.978, train_loss=5.49, train_precision=0.873, train_recall=0.874]\n",
      "Eval Result: 100%|██████████| 6/6 [00:02<00:00,  2.13it/s, F1=0.789, eval_acc=0.961, eval_loss=15.7, eval_precision=0.782, eval_recall=0.796]\n",
      "Epoch: 9/30 Train: 100%|██████████| 125/125 [00:36<00:00,  3.46it/s, F1=0.879, train_acc=0.98, train_loss=5.21, train_precision=0.878, train_recall=0.882] \n",
      "Eval Result: 100%|██████████| 6/6 [00:02<00:00,  2.21it/s, F1=0.81, eval_acc=0.965, eval_loss=15.1, eval_precision=0.799, eval_recall=0.823] \n",
      "Epoch: 10/30 Train: 100%|██████████| 125/125 [00:37<00:00,  3.36it/s, F1=0.893, train_acc=0.983, train_loss=4.27, train_precision=0.892, train_recall=0.893]\n",
      "Eval Result: 100%|██████████| 6/6 [00:02<00:00,  2.22it/s, F1=0.816, eval_acc=0.967, eval_loss=13.9, eval_precision=0.822, eval_recall=0.81] \n",
      "Epoch: 11/30 Train: 100%|██████████| 125/125 [00:38<00:00,  3.21it/s, F1=0.905, train_acc=0.985, train_loss=3.66, train_precision=0.904, train_recall=0.908]\n",
      "Eval Result: 100%|██████████| 6/6 [00:02<00:00,  2.19it/s, F1=0.82, eval_acc=0.967, eval_loss=15.2, eval_precision=0.814, eval_recall=0.826] \n",
      "Epoch: 12/30 Train: 100%|██████████| 125/125 [00:39<00:00,  3.19it/s, F1=0.911, train_acc=0.987, train_loss=3.16, train_precision=0.91, train_recall=0.912] \n",
      "Eval Result: 100%|██████████| 6/6 [00:02<00:00,  2.03it/s, F1=0.818, eval_acc=0.967, eval_loss=15.9, eval_precision=0.822, eval_recall=0.815]\n",
      "Epoch: 13/30 Train: 100%|██████████| 125/125 [00:45<00:00,  2.77it/s, F1=0.927, train_acc=0.99, train_loss=2.76, train_precision=0.926, train_recall=0.927]\n",
      "Eval Result: 100%|██████████| 6/6 [00:03<00:00,  1.99it/s, F1=0.806, eval_acc=0.967, eval_loss=17.2, eval_precision=0.797, eval_recall=0.816]\n",
      "Epoch: 14/30 Train: 100%|██████████| 125/125 [00:47<00:00,  2.66it/s, F1=0.931, train_acc=0.989, train_loss=2.69, train_precision=0.931, train_recall=0.931]\n",
      "Eval Result: 100%|██████████| 6/6 [00:03<00:00,  1.90it/s, F1=0.816, eval_acc=0.965, eval_loss=18.6, eval_precision=0.807, eval_recall=0.826]\n",
      "Epoch: 15/30 Train: 100%|██████████| 125/125 [00:44<00:00,  2.84it/s, F1=0.93, train_acc=0.99, train_loss=2.56, train_precision=0.93, train_recall=0.931]   \n",
      "Eval Result: 100%|██████████| 6/6 [00:03<00:00,  1.93it/s, F1=0.791, eval_acc=0.964, eval_loss=19.3, eval_precision=0.769, eval_recall=0.815]\n",
      "Epoch: 16/30 Train: 100%|██████████| 125/125 [00:44<00:00,  2.78it/s, F1=0.933, train_acc=0.99, train_loss=2.63, train_precision=0.933, train_recall=0.933] \n",
      "Eval Result: 100%|██████████| 6/6 [00:03<00:00,  1.99it/s, F1=0.777, eval_acc=0.96, eval_loss=23.7, eval_precision=0.746, eval_recall=0.812] \n",
      "Epoch: 17/30 Train: 100%|██████████| 125/125 [00:45<00:00,  2.73it/s, F1=0.942, train_acc=0.992, train_loss=1.89, train_precision=0.94, train_recall=0.943] \n",
      "Eval Result: 100%|██████████| 6/6 [00:03<00:00,  1.89it/s, F1=0.773, eval_acc=0.961, eval_loss=22.4, eval_precision=0.754, eval_recall=0.794]\n",
      "Epoch: 18/30 Train: 100%|██████████| 125/125 [00:44<00:00,  2.82it/s, F1=0.952, train_acc=0.994, train_loss=1.57, train_precision=0.951, train_recall=0.954]\n",
      "Eval Result: 100%|██████████| 6/6 [00:03<00:00,  1.94it/s, F1=0.807, eval_acc=0.967, eval_loss=21.5, eval_precision=0.787, eval_recall=0.83] \n",
      "Epoch: 19/30 Train: 100%|██████████| 125/125 [00:42<00:00,  2.98it/s, F1=0.958, train_acc=0.994, train_loss=1.61, train_precision=0.959, train_recall=0.958]\n",
      "Eval Result: 100%|██████████| 6/6 [00:02<00:00,  2.04it/s, F1=0.808, eval_acc=0.967, eval_loss=20.3, eval_precision=0.796, eval_recall=0.821]\n",
      "Epoch: 20/30 Train: 100%|██████████| 125/125 [00:42<00:00,  2.96it/s, F1=0.962, train_acc=0.995, train_loss=1.22, train_precision=0.962, train_recall=0.962]\n",
      "Eval Result: 100%|██████████| 6/6 [00:02<00:00,  2.04it/s, F1=0.817, eval_acc=0.966, eval_loss=19.2, eval_precision=0.81, eval_recall=0.824] \n",
      "Epoch: 21/30 Train: 100%|██████████| 125/125 [00:41<00:00,  3.02it/s, F1=0.966, train_acc=0.995, train_loss=1.16, train_precision=0.965, train_recall=0.967]\n",
      "Eval Result: 100%|██████████| 6/6 [00:02<00:00,  2.00it/s, F1=0.813, eval_acc=0.967, eval_loss=21.6, eval_precision=0.811, eval_recall=0.816]\n",
      "Epoch: 22/30 Train: 100%|██████████| 125/125 [00:42<00:00,  2.94it/s, F1=0.969, train_acc=0.996, train_loss=1.06, train_precision=0.968, train_recall=0.969]\n",
      "Eval Result: 100%|██████████| 6/6 [00:03<00:00,  1.98it/s, F1=0.825, eval_acc=0.968, eval_loss=19.9, eval_precision=0.822, eval_recall=0.828]\n",
      "Epoch: 23/30 Train: 100%|██████████| 125/125 [00:40<00:00,  3.08it/s, F1=0.967, train_acc=0.995, train_loss=1.21, train_precision=0.967, train_recall=0.967]\n",
      "Eval Result: 100%|██████████| 6/6 [00:02<00:00,  2.11it/s, F1=0.812, eval_acc=0.966, eval_loss=19.3, eval_precision=0.806, eval_recall=0.819]\n",
      "Epoch: 24/30 Train: 100%|██████████| 125/125 [00:40<00:00,  3.09it/s, F1=0.971, train_acc=0.995, train_loss=1.13, train_precision=0.971, train_recall=0.971]\n",
      "Eval Result: 100%|██████████| 6/6 [00:03<00:00,  1.99it/s, F1=0.809, eval_acc=0.964, eval_loss=23.4, eval_precision=0.808, eval_recall=0.81] \n",
      "Epoch: 25/30 Train: 100%|██████████| 125/125 [00:41<00:00,  3.00it/s, F1=0.962, train_acc=0.994, train_loss=1.67, train_precision=0.96, train_recall=0.965] \n",
      "Eval Result: 100%|██████████| 6/6 [00:02<00:00,  2.03it/s, F1=0.807, eval_acc=0.964, eval_loss=21.4, eval_precision=0.8, eval_recall=0.815]  \n",
      "Epoch: 26/30 Train: 100%|██████████| 125/125 [00:41<00:00,  2.99it/s, F1=0.969, train_acc=0.996, train_loss=1.12, train_precision=0.97, train_recall=0.969] \n",
      "Eval Result: 100%|██████████| 6/6 [00:02<00:00,  2.00it/s, F1=0.817, eval_acc=0.967, eval_loss=20.2, eval_precision=0.81, eval_recall=0.826] \n",
      "Epoch: 27/30 Train: 100%|██████████| 125/125 [00:41<00:00,  3.04it/s, F1=0.976, train_acc=0.996, train_loss=0.981, train_precision=0.977, train_recall=0.976]\n",
      "Eval Result: 100%|██████████| 6/6 [00:02<00:00,  2.04it/s, F1=0.797, eval_acc=0.961, eval_loss=24.1, eval_precision=0.798, eval_recall=0.796]\n",
      "Epoch: 28/30 Train: 100%|██████████| 125/125 [00:40<00:00,  3.05it/s, F1=0.975, train_acc=0.997, train_loss=0.941, train_precision=0.974, train_recall=0.976]\n",
      "Eval Result: 100%|██████████| 6/6 [00:03<00:00,  1.99it/s, F1=0.819, eval_acc=0.967, eval_loss=20.6, eval_precision=0.822, eval_recall=0.816]\n",
      "Epoch: 29/30 Train: 100%|██████████| 125/125 [00:41<00:00,  3.03it/s, F1=0.973, train_acc=0.996, train_loss=0.975, train_precision=0.973, train_recall=0.974]\n",
      "Eval Result: 100%|██████████| 6/6 [00:02<00:00,  2.06it/s, F1=0.805, eval_acc=0.965, eval_loss=21.8, eval_precision=0.794, eval_recall=0.817]\n",
      "Epoch: 30/30 Train: 100%|██████████| 125/125 [00:41<00:00,  2.99it/s, F1=0.971, train_acc=0.995, train_loss=1.16, train_precision=0.971, train_recall=0.972]\n",
      "Eval Result: 100%|██████████| 6/6 [00:02<00:00,  2.08it/s, F1=0.812, eval_acc=0.965, eval_loss=21.2, eval_precision=0.806, eval_recall=0.818]\n"
     ]
    }
   ],
   "source": [
    "args[\"task_name\"] = \"ccks_v1_ZLEBert_crf_5\"\n",
    "\n",
    "trainer = NERTrainer(**args)\n",
    "\n",
    "for i in trainer(lr2=1e-2):\n",
    "    a = i"
   ]
  },
  {
   "cell_type": "markdown",
   "metadata": {},
   "source": [
    "### v4"
   ]
  },
  {
   "cell_type": "code",
   "execution_count": null,
   "metadata": {},
   "outputs": [],
   "source": [
    "args[\"model_name\"] = \"ZLEBert_v4\"\n",
    "args[\"task_name\"] = \"ccks_v4_tx_THUOCL_FN20000_1\"\n",
    "\n",
    "trainer = NERTrainer(**args)\n",
    "\n",
    "for i in trainer(lr2=1e-2):\n",
    "    a = i"
   ]
  },
  {
   "cell_type": "code",
   "execution_count": null,
   "metadata": {},
   "outputs": [],
   "source": [
    "args[\"task_name\"] = \"ccks_v4_tx_THUOCL_FN20000_2\"\n",
    "\n",
    "trainer = NERTrainer(**args)\n",
    "\n",
    "for i in trainer(lr2=1e-2):\n",
    "    a = i"
   ]
  },
  {
   "cell_type": "code",
   "execution_count": null,
   "metadata": {},
   "outputs": [],
   "source": [
    "args[\"task_name\"] = \"ccks_v4_tx_THUOCL_FN20000_3\"\n",
    "\n",
    "trainer = NERTrainer(**args)\n",
    "\n",
    "for i in trainer(lr2=1e-2):\n",
    "    a = i"
   ]
  },
  {
   "cell_type": "code",
   "execution_count": null,
   "metadata": {},
   "outputs": [],
   "source": [
    "args[\"task_name\"] = \"ccks_v4_tx_THUOCL_FN20000_4\"\n",
    "\n",
    "trainer = NERTrainer(**args)\n",
    "\n",
    "for i in trainer(lr2=1e-2):\n",
    "    a = i"
   ]
  },
  {
   "cell_type": "code",
   "execution_count": null,
   "metadata": {},
   "outputs": [],
   "source": [
    "args[\"task_name\"] = \"ccks_v4_tx_THUOCL_FN20000_5\"\n",
    "\n",
    "trainer = NERTrainer(**args)\n",
    "\n",
    "for i in trainer(lr2=1e-2):\n",
    "    a = i"
   ]
  }
 ],
 "metadata": {
  "interpreter": {
   "hash": "c9392d1f0914889243d058bb73f0d89e61311fd6d751bbc8fa50e38d7d4ff811"
  },
  "kernelspec": {
   "display_name": "Python 3.7.11 64-bit ('NER': conda)",
   "language": "python",
   "name": "python3"
  },
  "language_info": {
   "codemirror_mode": {
    "name": "ipython",
    "version": 3
   },
   "file_extension": ".py",
   "mimetype": "text/x-python",
   "name": "python",
   "nbconvert_exporter": "python",
   "pygments_lexer": "ipython3",
   "version": "3.7.11"
  },
  "orig_nbformat": 4
 },
 "nbformat": 4,
 "nbformat_minor": 2
}
