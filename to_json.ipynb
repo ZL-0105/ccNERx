{
 "cells": [
  {
   "cell_type": "code",
   "execution_count": 1,
   "metadata": {},
   "outputs": [],
   "source": [
    "from tools.to_json import conll_to_json\n",
    "# conll_to_json('./data/CDD/conll/dev.txt', './data/CDD/dev.json', split_tag='\\n\\n')\n",
    "# conll_to_json('./data/CDD/conll/test.txt', './data/CDD/test.json', split_tag='\\n\\n')\n",
    "conll_to_json('./data/FN/fj_conll/train_400.csv', './data/FN/fj_conll/train_400.json', split_tag='\\n\\n')\n"
   ]
  },
  {
   "cell_type": "code",
   "execution_count": 1,
   "metadata": {},
   "outputs": [],
   "source": [
    "from tools.to_json import conll_to_json\n",
    "conll_to_json('./data/ccks/0.5k/conll/train.txt', './data/ccks/0.5k/train.json', split_tag='\\n\\n')\n",
    "# conll_to_json('./data/ccks/conll/dev.txt', './data/ccks/dev.json', split_tag='\\n\\n')"
   ]
  },
  {
   "cell_type": "code",
   "execution_count": 1,
   "metadata": {},
   "outputs": [],
   "source": [
    "from tools.to_json import conll_to_json\n",
    "conll_to_json('./data/prompt/pro_mul.txt', './data/prompt/pro_mul.json', split_tag='\\n\\n')\n",
    "# conll_to_json('./data/ccks/conll/dev.txt', './data/ccks/dev.json', split_tag='\\n\\n')"
   ]
  },
  {
   "cell_type": "code",
   "execution_count": 1,
   "metadata": {},
   "outputs": [],
   "source": [
    "from tools.to_json import conll_to_json\n",
    "conll_to_json('./data/ccks/daga/bilstm/renet/resnet_drop_bi_2.txt', './data/ccks/daga/bilstm/renet/resnet_drop_bi_2.json', split_tag='\\n\\n')\n",
    "# conll_to_json('./data/ccks/conll/dev.txt', './data/ccks/dev.json', split_tag='\\n\\n')"
   ]
  },
  {
   "cell_type": "code",
   "execution_count": 11,
   "metadata": {},
   "outputs": [],
   "source": [
    "from tools.to_json import conll_to_json\n",
    "# conll_to_json('./data/weibo/weiboNER.conll.dev', './data/weibo/dev.json', split_tag='\\n\\n')\n",
    "conll_to_json('./data/weibo/weiboNER.conll.train', './data/weibo/train.json', split_tag='\\n\\n')\n",
    "# conll_to_json('./data/weibo/weiboNER.conll.test', './data/weibo/test.json', split_tag='\\n\\n')\n"
   ]
  }
 ],
 "metadata": {
  "kernelspec": {
   "display_name": "Python 3.7.11 ('NER')",
   "language": "python",
   "name": "python3"
  },
  "language_info": {
   "codemirror_mode": {
    "name": "ipython",
    "version": 3
   },
   "file_extension": ".py",
   "mimetype": "text/x-python",
   "name": "python",
   "nbconvert_exporter": "python",
   "pygments_lexer": "ipython3",
   "version": "3.7.11"
  },
  "orig_nbformat": 4,
  "vscode": {
   "interpreter": {
    "hash": "c9392d1f0914889243d058bb73f0d89e61311fd6d751bbc8fa50e38d7d4ff811"
   }
  }
 },
 "nbformat": 4,
 "nbformat_minor": 2
}
