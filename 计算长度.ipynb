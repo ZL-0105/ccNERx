{
 "cells": [
  {
   "cell_type": "code",
   "execution_count": 1,
   "metadata": {},
   "outputs": [
    {
     "name": "stdout",
     "output_type": "stream",
     "text": [
      "483294 9394 44380\n",
      "4.724292101341281\n"
     ]
    }
   ],
   "source": [
    "filename = \"./data/CDD/conll/train.txt\"\n",
    "sum = 0\n",
    "sentences = []\n",
    "\n",
    "with open(filename, \"r\", encoding=\"utf-8\") as f:\n",
    "        index = 0\n",
    "        label_count = 0\n",
    "        label_b = 0\n",
    "        for line in f:\n",
    "            if line == '\\n':\n",
    "                continue\n",
    "            else:\n",
    "                line = line.strip().split('\\t')\n",
    "                item, label = line[0],  line[1]\n",
    "            # print(item, label)\n",
    "            if label=='O':\n",
    "                index = index + 1    \n",
    "            else:\n",
    "                label_count = label_count + 1\n",
    "            if label =='B-CHECK':\n",
    "                label_b = label_b + 1\n",
    "print(index, label_b, label_count)\n",
    "print(label_count/label_b)"
   ]
  },
  {
   "cell_type": "code",
   "execution_count": 2,
   "metadata": {},
   "outputs": [
    {
     "name": "stdout",
     "output_type": "stream",
     "text": [
      "73664 2214 9341\n",
      "4.219060523938572\n"
     ]
    }
   ],
   "source": [
    "filename = \"./data/CDD/conll/dev.txt\"\n",
    "sum = 0\n",
    "sentences = []\n",
    "\n",
    "with open(filename, \"r\", encoding=\"utf-8\") as f:\n",
    "        index = 0\n",
    "        label_count = 0\n",
    "        label_b = 0\n",
    "        for line in f:\n",
    "            if line == '\\n':\n",
    "                continue\n",
    "            else:\n",
    "                line = line.strip().split('\\t')\n",
    "                item, label = line[0],  line[1]\n",
    "            # print(item, label)\n",
    "            if label=='O':\n",
    "                index = index + 1    \n",
    "            else:\n",
    "                label_count = label_count + 1\n",
    "            if label =='B-CHECK':\n",
    "                label_b = label_b + 1\n",
    "print(index, label_b, label_count)\n",
    "print(label_count/label_b)"
   ]
  },
  {
   "cell_type": "code",
   "execution_count": 4,
   "metadata": {},
   "outputs": [
    {
     "name": "stdout",
     "output_type": "stream",
     "text": [
      "80385 2262 9893\n",
      "4.373563218390805\n"
     ]
    }
   ],
   "source": [
    "filename = \"./data/CDD/conll/test.txt\"\n",
    "sum = 0\n",
    "sentences = []\n",
    "\n",
    "with open(filename, \"r\", encoding=\"utf-8\") as f:\n",
    "        index = 0\n",
    "        label_count = 0\n",
    "        label_b = 0\n",
    "        for line in f:\n",
    "            if line == '\\n':\n",
    "                continue\n",
    "            else:\n",
    "                line = line.strip().split('\\t')\n",
    "                item, label = line[0],  line[1]\n",
    "            # print(item, label)\n",
    "            if label=='O':\n",
    "                index = index + 1    \n",
    "            else:\n",
    "                label_count = label_count + 1\n",
    "            if label =='B-CHECK':\n",
    "                label_b = label_b + 1\n",
    "print(index, label_b, label_count)\n",
    "print(label_count/label_b)"
   ]
  },
  {
   "cell_type": "code",
   "execution_count": null,
   "metadata": {},
   "outputs": [],
   "source": [
    "# 44380+9341+9893= 63614\n",
    "# 9394+2214+2262 = 13870"
   ]
  }
 ],
 "metadata": {
  "interpreter": {
   "hash": "c9392d1f0914889243d058bb73f0d89e61311fd6d751bbc8fa50e38d7d4ff811"
  },
  "kernelspec": {
   "display_name": "Python 3.7.11 ('NER')",
   "language": "python",
   "name": "python3"
  },
  "language_info": {
   "codemirror_mode": {
    "name": "ipython",
    "version": 3
   },
   "file_extension": ".py",
   "mimetype": "text/x-python",
   "name": "python",
   "nbconvert_exporter": "python",
   "pygments_lexer": "ipython3",
   "version": "3.7.11"
  },
  "orig_nbformat": 4
 },
 "nbformat": 4,
 "nbformat_minor": 2
}
